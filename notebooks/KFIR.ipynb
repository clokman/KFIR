{
 "cells": [
  {
   "cell_type": "markdown",
   "metadata": {},
   "source": [
    "# KFIR"
   ]
  },
  {
   "cell_type": "markdown",
   "metadata": {},
   "source": [
    "# SETUP: DEPENDENCIES AND CREDENTIALS"
   ]
  },
  {
   "cell_type": "markdown",
   "metadata": {},
   "source": [
    "## Working Directory"
   ]
  },
  {
   "cell_type": "markdown",
   "metadata": {},
   "source": [
    "What is the current working directory?:"
   ]
  },
  {
   "cell_type": "code",
   "execution_count": 11,
   "metadata": {
    "scrolled": false
   },
   "outputs": [
    {
     "data": {
      "text/plain": [
       "'C:\\\\Users\\\\Clokman\\\\Google Drive\\\\__Projects__\\\\Code\\\\KFIR\\\\notebooks'"
      ]
     },
     "execution_count": 11,
     "metadata": {},
     "output_type": "execute_result"
    }
   ],
   "source": [
    "import os\n",
    "os.getcwd()"
   ]
  },
  {
   "cell_type": "markdown",
   "metadata": {},
   "source": [
    "Add parent directory to path if necessary:"
   ]
  },
  {
   "cell_type": "code",
   "execution_count": 12,
   "metadata": {
    "scrolled": true
   },
   "outputs": [
    {
     "data": {
      "text/plain": [
       "['',\n",
       " 'C:\\\\ProgramData\\\\Anaconda3\\\\python36.zip',\n",
       " 'C:\\\\ProgramData\\\\Anaconda3\\\\DLLs',\n",
       " 'C:\\\\ProgramData\\\\Anaconda3\\\\lib',\n",
       " 'C:\\\\ProgramData\\\\Anaconda3',\n",
       " 'C:\\\\ProgramData\\\\Anaconda3\\\\lib\\\\site-packages',\n",
       " 'C:\\\\ProgramData\\\\Anaconda3\\\\lib\\\\site-packages\\\\Sphinx-1.5.1-py3.6.egg',\n",
       " 'C:\\\\ProgramData\\\\Anaconda3\\\\lib\\\\site-packages\\\\win32',\n",
       " 'C:\\\\ProgramData\\\\Anaconda3\\\\lib\\\\site-packages\\\\win32\\\\lib',\n",
       " 'C:\\\\ProgramData\\\\Anaconda3\\\\lib\\\\site-packages\\\\Pythonwin',\n",
       " 'C:\\\\ProgramData\\\\Anaconda3\\\\lib\\\\site-packages\\\\setuptools-27.2.0-py3.6.egg',\n",
       " 'C:\\\\ProgramData\\\\Anaconda3\\\\lib\\\\site-packages\\\\IPython\\\\extensions',\n",
       " 'C:\\\\Users\\\\Clokman\\\\.ipython',\n",
       " 'C:\\\\Users\\\\Clokman\\\\Google Drive\\\\__Projects__\\\\Code\\\\KFIR',\n",
       " 'C:\\\\Users\\\\Clokman\\\\Google Drive\\\\__Projects__\\\\Code\\\\KFIR']"
      ]
     },
     "execution_count": 12,
     "metadata": {},
     "output_type": "execute_result"
    }
   ],
   "source": [
    "import sys, os, re\n",
    "\n",
    "working_directory = os.getcwd()\n",
    "if re.search('\\\\\\\\notebooks$', working_directory):\n",
    "    one_directory_up = re.sub('\\\\\\\\notebooks$', '', working_directory)\n",
    "    sys.path.append(one_directory_up)\n",
    "    \n",
    "sys.path"
   ]
  },
  {
   "cell_type": "markdown",
   "metadata": {},
   "source": [
    "## Initialize General Packages"
   ]
  },
  {
   "cell_type": "code",
   "execution_count": 13,
   "metadata": {
    "collapsed": true
   },
   "outputs": [],
   "source": [
    "import pandas\n",
    "import numpy"
   ]
  },
  {
   "cell_type": "markdown",
   "metadata": {},
   "source": [
    "## Initialize Plotly"
   ]
  },
  {
   "cell_type": "markdown",
   "metadata": {},
   "source": [
    "Check current version:"
   ]
  },
  {
   "cell_type": "code",
   "execution_count": 14,
   "metadata": {},
   "outputs": [
    {
     "data": {
      "text/plain": [
       "'2.5.1'"
      ]
     },
     "execution_count": 14,
     "metadata": {},
     "output_type": "execute_result"
    }
   ],
   "source": [
    "from plotly import __version__ as plotly_version\n",
    "plotly_version"
   ]
  },
  {
   "cell_type": "markdown",
   "metadata": {},
   "source": [
    "### Online Plotly"
   ]
  },
  {
   "cell_type": "markdown",
   "metadata": {},
   "source": [
    "Read plotly credentials from file:"
   ]
  },
  {
   "cell_type": "code",
   "execution_count": 15,
   "metadata": {
    "collapsed": true
   },
   "outputs": [],
   "source": [
    "from preprocessor.Text_File import Text_File\n",
    "\n",
    "plotly_file = Text_File('..//private//plotly_credentials')\n",
    "plotly_file = plotly_file.return_content()\n",
    "plotly_credentials = plotly_file.splitlines()\n",
    "\n",
    "plotly_username = plotly_credentials[0]\n",
    "plotly_key = plotly_credentials[1]"
   ]
  },
  {
   "cell_type": "markdown",
   "metadata": {},
   "source": [
    "Set parameters for online usage:"
   ]
  },
  {
   "cell_type": "code",
   "execution_count": 16,
   "metadata": {},
   "outputs": [],
   "source": [
    "import plotly.plotly as plotly_online\n",
    "iplot_online = plotly_online.iplot\n",
    "\n",
    "import plotly.graph_objs as graph_objects\n",
    "from plotly.tools import set_credentials_file\n",
    "\n",
    "set_credentials_file(username=plotly_username, api_key=plotly_key)  # put your own plotly username and api key here "
   ]
  },
  {
   "cell_type": "markdown",
   "metadata": {},
   "source": [
    "### Offline Plotly"
   ]
  },
  {
   "cell_type": "markdown",
   "metadata": {},
   "source": [
    "Setup for offline usage:"
   ]
  },
  {
   "cell_type": "code",
   "execution_count": 17,
   "metadata": {},
   "outputs": [
    {
     "data": {
      "text/html": [
       "<script>requirejs.config({paths: { 'plotly': ['https://cdn.plot.ly/plotly-latest.min']},});if(!window.Plotly) {{require(['plotly'],function(plotly) {window.Plotly=plotly;});}}</script>"
      ],
      "text/vnd.plotly.v1+html": [
       "<script>requirejs.config({paths: { 'plotly': ['https://cdn.plot.ly/plotly-latest.min']},});if(!window.Plotly) {{require(['plotly'],function(plotly) {window.Plotly=plotly;});}}</script>"
      ]
     },
     "metadata": {},
     "output_type": "display_data"
    }
   ],
   "source": [
    "from plotly.offline import download_plotlyjs, init_notebook_mode, plot, iplot\n",
    "init_notebook_mode(connected=True)"
   ]
  },
  {
   "cell_type": "markdown",
   "metadata": {},
   "source": [
    "## Initialize Retriever: Gastrodon_Query"
   ]
  },
  {
   "cell_type": "markdown",
   "metadata": {},
   "source": [
    "Import Gastrodon_Query (for running SPARQL queries in Jupyter):"
   ]
  },
  {
   "cell_type": "code",
   "execution_count": 18,
   "metadata": {
    "collapsed": true
   },
   "outputs": [],
   "source": [
    "from retriever.sparql_tools import Gastrodon_Query"
   ]
  },
  {
   "cell_type": "markdown",
   "metadata": {},
   "source": [
    "Initialize eculture query:"
   ]
  },
  {
   "cell_type": "code",
   "execution_count": 19,
   "metadata": {
    "collapsed": true
   },
   "outputs": [],
   "source": [
    "eculture_query = Gastrodon_Query()"
   ]
  },
  {
   "cell_type": "markdown",
   "metadata": {},
   "source": [
    "Define prefixes:"
   ]
  },
  {
   "cell_type": "code",
   "execution_count": 113,
   "metadata": {
    "collapsed": true
   },
   "outputs": [
    {
     "data": {
      "text/plain": [
       "{rdflib.term.URIRef('http://clokman.com/kfir'): 'kfirGraph',\n",
       " rdflib.term.URIRef('http://clokman.com/kfir/ontology#'): 'kfir',\n",
       " rdflib.term.URIRef('http://clokman.com/test'): 'testGraph',\n",
       " rdflib.term.URIRef('http://clokman.com/wos'): 'wosGraph',\n",
       " rdflib.term.URIRef('http://dbpedia.org/ontology/'): 'dbo',\n",
       " rdflib.term.URIRef('http://wos.risis.eu/resource/'): 'wosres',\n",
       " rdflib.term.URIRef('http://wos.risis.eu/vocabulary/'): 'wos',\n",
       " rdflib.term.URIRef('http://www.w3.org/1999/02/22-rdf-syntax-ns#'): 'rdf',\n",
       " rdflib.term.URIRef('http://www.w3.org/2000/01/rdf-schema#'): 'rdfs',\n",
       " rdflib.term.URIRef('http://www.w3.org/2001/XMLSchema#'): 'xsd',\n",
       " rdflib.term.URIRef('http://www.w3.org/2004/02/skos/core#'): 'skos',\n",
       " rdflib.term.URIRef('http://www.w3.org/XML/1998/namespace'): 'xml',\n",
       " rdflib.term.URIRef('https://github.com/ali1k/ld-reactor/blob/master/vocabulary/index.ttl#'): 'ldr'}"
      ]
     },
     "execution_count": 113,
     "metadata": {},
     "output_type": "execute_result"
    }
   ],
   "source": [
    "eculture_query.set_prefixes(\"\"\"\n",
    "    @prefix rdfs: <http://www.w3.org/2000/01/rdf-schema#> .\n",
    "    @prefix skos: <http://www.w3.org/2004/02/skos/core#> .\n",
    "    @prefix dbo: <http://dbpedia.org/ontology/> .\n",
    "    \n",
    "    @prefix wos: <http://wos.risis.eu/vocabulary/> .\n",
    "    @prefix wosres: <http://wos.risis.eu/resource/> .\n",
    "    @prefix kfir: <http://clokman.com/kfir/ontology#> .\n",
    "    @prefix ldr: <https://github.com/ali1k/ld-reactor/blob/master/vocabulary/index.ttl#> .\n",
    "\n",
    "    @prefix wosGraph: <http://clokman.com/wos> .\n",
    "    @prefix kfirGraph: <http://clokman.com/kfir> .\n",
    "    @prefix testGraph: <http://clokman.com/test> .\n",
    "\"\"\")\n",
    "\n",
    "eculture_query._get_prefixes()"
   ]
  },
  {
   "cell_type": "markdown",
   "metadata": {},
   "source": [
    "Read endpoint from file:"
   ]
  },
  {
   "cell_type": "code",
   "execution_count": 114,
   "metadata": {
    "collapsed": true
   },
   "outputs": [],
   "source": [
    "from preprocessor.Text_File import Text_File\n",
    "\n",
    "# Get endpoint address from file\n",
    "eculture_endpoint_url_file = Text_File('..//private//eculture_virtuoso_endpoint_address')\n",
    "eculture_endpoint_url = eculture_endpoint_url_file.return_content()"
   ]
  },
  {
   "cell_type": "markdown",
   "metadata": {},
   "source": [
    "Define endpoint:"
   ]
  },
  {
   "cell_type": "code",
   "execution_count": 115,
   "metadata": {
    "collapsed": true
   },
   "outputs": [
    {
     "data": {
      "text/plain": [
       "<retriever.sparql_tools.Gastrodon_Query at 0x2ecbde617b8>"
      ]
     },
     "execution_count": 115,
     "metadata": {},
     "output_type": "execute_result"
    }
   ],
   "source": [
    "eculture_query.set_endpoint(eculture_endpoint_url)"
   ]
  },
  {
   "cell_type": "markdown",
   "metadata": {},
   "source": [
    "# QUERIES"
   ]
  },
  {
   "cell_type": "markdown",
   "metadata": {},
   "source": [
    "## Database Statistics"
   ]
  },
  {
   "cell_type": "markdown",
   "metadata": {},
   "source": [
    "Get counts for common fields:"
   ]
  },
  {
   "cell_type": "code",
   "execution_count": 116,
   "metadata": {
    "scrolled": true,
    "slideshow": {
     "slide_type": "-"
    }
   },
   "outputs": [
    {
     "name": "stdout",
     "output_type": "stream",
     "text": [
      "Counting...\n",
      "wos:TI / title :  135985\n",
      "wos:AF / author :  3485320\n",
      "wos:SN / issn :  9627\n",
      "wos:DOI / doi :  123505\n",
      "wos:EM / email :  51997\n",
      "wos:DE / keywords_author :  125552\n",
      "wos:ID / keywords_plus :  156689\n",
      "wos:SC / subject_category :  151\n",
      "wos:WC / web_of_science_category :  2323\n",
      "wos:PY / publication_year :  35\n",
      "wos:CR / has_cited :  2854040\n",
      "wos:NR / has_cited_count :  351\n",
      "wos:Z9 / cited_by_count_universal :  880\n",
      "wos:TC / cited_by_count_local :  852\n",
      "wos:SO / source_publication :  9708\n",
      "wos:PU / publisher :  2354\n",
      "wos:C1 / author_address :  118156\n",
      "ldr:annotations / annotation :  2158243\n",
      "Counting finished.\n"
     ]
    }
   ],
   "source": [
    "wos_mappings = {'wos:TI':  'title', # wos: is defined in prefixes variable\n",
    "                'wos:AF':  'author',\n",
    "                'wos:SN':  'issn',\n",
    "                'wos:DOI': 'doi',\n",
    "                'wos:EM':  'email',\n",
    "                'wos:DE':  'keywords_author',\n",
    "                'wos:ID':  'keywords_plus',\n",
    "                'wos:SC':  'subject_category',\n",
    "                'wos:WC':  'web_of_science_category',\n",
    "                'wos:PY':  'publication_year',\n",
    "                'wos:CR':  'has_cited',\n",
    "                'wos:NR':  'has_cited_count',\n",
    "                'wos:Z9':  'cited_by_count_universal',\n",
    "                'wos:TC':  'cited_by_count_local',\n",
    "                'wos:SO':  'source_publication',\n",
    "                'wos:PU':  'publisher',\n",
    "                'wos:C1':  'author_address',\n",
    "                'ldr:annotations': 'annotation'\n",
    "                }\n",
    "\n",
    "wos_field_counts = {}\n",
    "\n",
    "print('Counting...')\n",
    "for each_wos_field_name_abbreviation, each_field_name in wos_mappings.items():\n",
    "    each_count = eculture_query.send_count_query(each_field_name + \"s\",\"\"\"\n",
    "    SELECT (COUNT(DISTINCT ?%s) as ?%ss) \n",
    "    WHERE{\n",
    "        GRAPH wosGraph: {\n",
    "            ?article a wos:Article .\n",
    "            ?article %s ?%s .\n",
    "        }\n",
    "    }\n",
    "    \"\"\" % (each_field_name, each_field_name, each_wos_field_name_abbreviation, each_field_name))\n",
    "    wos_field_counts[each_field_name] = each_count\n",
    "    print (each_wos_field_name_abbreviation, '/', each_field_name, ': ', each_count)\n",
    "print('Counting finished.')"
   ]
  },
  {
   "cell_type": "markdown",
   "metadata": {},
   "source": [
    "Get number of articles:"
   ]
  },
  {
   "cell_type": "code",
   "execution_count": 117,
   "metadata": {},
   "outputs": [
    {
     "data": {
      "text/plain": [
       "136125"
      ]
     },
     "execution_count": 117,
     "metadata": {},
     "output_type": "execute_result"
    }
   ],
   "source": [
    "article_count = eculture_query.send_count_query('articles', \"\"\"\n",
    "    SELECT (COUNT(DISTINCT ?article) as ?articles) \n",
    "    WHERE{\n",
    "        GRAPH wosGraph: {\n",
    "            ?article a wos:Article .\n",
    "        }\n",
    "    }\n",
    "\"\"\")\n",
    "\n",
    "article_count"
   ]
  },
  {
   "cell_type": "markdown",
   "metadata": {},
   "source": [
    "Add article_count to wos_field_counts:"
   ]
  },
  {
   "cell_type": "code",
   "execution_count": 118,
   "metadata": {},
   "outputs": [
    {
     "data": {
      "text/plain": [
       "{'annotation': 2158243,\n",
       " 'article': 136125,\n",
       " 'author': 3485320,\n",
       " 'author_address': 118156,\n",
       " 'cited_by_count_local': 852,\n",
       " 'cited_by_count_universal': 880,\n",
       " 'doi': 123505,\n",
       " 'email': 51997,\n",
       " 'has_cited': 2854040,\n",
       " 'has_cited_count': 351,\n",
       " 'issn': 9627,\n",
       " 'keywords_author': 125552,\n",
       " 'keywords_plus': 156689,\n",
       " 'publication_year': 35,\n",
       " 'publisher': 2354,\n",
       " 'source_publication': 9708,\n",
       " 'subject_category': 151,\n",
       " 'title': 135985,\n",
       " 'web_of_science_category': 2323}"
      ]
     },
     "execution_count": 118,
     "metadata": {},
     "output_type": "execute_result"
    }
   ],
   "source": [
    "wos_field_counts['article'] = article_count\n",
    "wos_field_counts"
   ]
  },
  {
   "cell_type": "markdown",
   "metadata": {},
   "source": [
    "Put results in a dataframe and sort them:"
   ]
  },
  {
   "cell_type": "code",
   "execution_count": 119,
   "metadata": {
    "scrolled": true
   },
   "outputs": [
    {
     "data": {
      "text/plain": [
       "author                      3485320\n",
       "has_cited                   2854040\n",
       "annotation                  2158243\n",
       "keywords_plus                156689\n",
       "article                      136125\n",
       "title                        135985\n",
       "keywords_author              125552\n",
       "doi                          123505\n",
       "author_address               118156\n",
       "email                         51997\n",
       "source_publication             9708\n",
       "issn                           9627\n",
       "publisher                      2354\n",
       "web_of_science_category        2323\n",
       "cited_by_count_universal        880\n",
       "cited_by_count_local            852\n",
       "has_cited_count                 351\n",
       "subject_category                151\n",
       "publication_year                 35\n",
       "dtype: int64"
      ]
     },
     "execution_count": 119,
     "metadata": {},
     "output_type": "execute_result"
    }
   ],
   "source": [
    "wos_field_counts_dataframe = pandas.Series(wos_field_counts)\n",
    "wos_sorted_counts_dataframe = wos_field_counts_dataframe.sort_values(inplace=True, ascending=False)\n",
    "wos_field_counts_dataframe"
   ]
  },
  {
   "cell_type": "markdown",
   "metadata": {},
   "source": [
    "Plot results:"
   ]
  },
  {
   "cell_type": "code",
   "execution_count": 120,
   "metadata": {},
   "outputs": [
    {
     "data": {
      "text/html": [
       "<iframe id=\"igraph\" scrolling=\"no\" style=\"border:none;\" seamless=\"seamless\" src=\"https://plot.ly/~Clokman/41.embed\" height=\"525px\" width=\"100%\"></iframe>"
      ],
      "text/plain": [
       "<plotly.tools.PlotlyDisplay object>"
      ]
     },
     "execution_count": 120,
     "metadata": {},
     "output_type": "execute_result"
    }
   ],
   "source": [
    "wos_field_counts_labels = list(wos_field_counts_dataframe.keys())\n",
    "wos_field_counts_values = list(wos_field_counts_dataframe)\n",
    "\n",
    "data = [graph_objects.Bar(x=wos_field_counts_labels,\n",
    "                          y=wos_field_counts_values)]\n",
    "\n",
    "iplot_online(data)"
   ]
  },
  {
   "cell_type": "markdown",
   "metadata": {},
   "source": [
    "## Exploring and Mapping the Database"
   ]
  },
  {
   "cell_type": "markdown",
   "metadata": {},
   "source": [
    "A function to retrieve all attributes related to a target property (e.g., author --> author label, author alternative label)"
   ]
  },
  {
   "cell_type": "code",
   "execution_count": 121,
   "metadata": {},
   "outputs": [],
   "source": [
    "def retrieve_all_sub_attributes (target_property_of_articles):    \n",
    "\n",
    "    result = eculture_query.send_select_query(\"\"\"\n",
    "        SELECT DISTINCT ?p\n",
    "        WHERE{\n",
    "            GRAPH wosGraph: {\n",
    "                ?article a wos:Article .\n",
    "                ?article %s ?target_object .\n",
    "                ?target_object ?p ?o .\n",
    "            }\n",
    "        }\n",
    "    \"\"\" % target_property_of_articles)\n",
    "    \n",
    "    return result"
   ]
  },
  {
   "cell_type": "markdown",
   "metadata": {},
   "source": [
    "### Titles"
   ]
  },
  {
   "cell_type": "markdown",
   "metadata": {},
   "source": [
    "Titles have no other properties attached to them:"
   ]
  },
  {
   "cell_type": "code",
   "execution_count": 122,
   "metadata": {},
   "outputs": [
    {
     "data": {
      "text/html": [
       "<div>\n",
       "<table border=\"1\" class=\"dataframe\">\n",
       "  <thead>\n",
       "    <tr style=\"text-align: right;\">\n",
       "      <th></th>\n",
       "      <th>p</th>\n",
       "    </tr>\n",
       "  </thead>\n",
       "  <tbody>\n",
       "  </tbody>\n",
       "</table>\n",
       "</div>"
      ],
      "text/plain": [
       "Empty DataFrame\n",
       "Columns: [p]\n",
       "Index: []"
      ]
     },
     "execution_count": 122,
     "metadata": {},
     "output_type": "execute_result"
    }
   ],
   "source": [
    "retrieve_all_sub_attributes('wos:TI')"
   ]
  },
  {
   "cell_type": "markdown",
   "metadata": {},
   "source": [
    "Display all titles in a table:"
   ]
  },
  {
   "cell_type": "code",
   "execution_count": 144,
   "metadata": {},
   "outputs": [
    {
     "data": {
      "text/html": [
       "<div>\n",
       "<table border=\"1\" class=\"dataframe\">\n",
       "  <thead>\n",
       "    <tr style=\"text-align: right;\">\n",
       "      <th></th>\n",
       "      <th>wosArticleUri</th>\n",
       "      <th>title</th>\n",
       "    </tr>\n",
       "  </thead>\n",
       "  <tbody>\n",
       "    <tr>\n",
       "      <th>0</th>\n",
       "      <td>wosres:WOS_000060208200006</td>\n",
       "      <td>Hollywood Berlin (The popularity of Nazi entertainment films in Germany under Hitler)</td>\n",
       "    </tr>\n",
       "    <tr>\n",
       "      <th>1</th>\n",
       "      <td>wosres:WOS_000070935900005</td>\n",
       "      <td>A randomized trial of anticoagulants versus aspirin after cerebral ischemia of presumed arterial...</td>\n",
       "    </tr>\n",
       "    <tr>\n",
       "      <th>2</th>\n",
       "      <td>wosres:WOS_000070948900005</td>\n",
       "      <td>The strength of numbers: Enumerating communities in India's princely states</td>\n",
       "    </tr>\n",
       "    <tr>\n",
       "      <th>3</th>\n",
       "      <td>wosres:WOS_000070961600011</td>\n",
       "      <td>Some patients with intracranial aneurysms have a reduced type III type I collagen ratio - A case...</td>\n",
       "    </tr>\n",
       "    <tr>\n",
       "      <th>4</th>\n",
       "      <td>wosres:WOS_000070961600033</td>\n",
       "      <td>Improving interobserver variation in reporting gadolinium-enhanced MRI lesions in multiple scler...</td>\n",
       "    </tr>\n",
       "    <tr>\n",
       "      <th>5</th>\n",
       "      <td>wosres:WOS_000070969600003</td>\n",
       "      <td>A physically active lifestyle - public health's best buy?</td>\n",
       "    </tr>\n",
       "    <tr>\n",
       "      <th>6</th>\n",
       "      <td>wosres:WOS_000070970500011</td>\n",
       "      <td>The effect of reciprocal treatments with ozone and ultraviolet-B radiation on photosynthesis and...</td>\n",
       "    </tr>\n",
       "    <tr>\n",
       "      <th>7</th>\n",
       "      <td>wosres:WOS_000070998100010</td>\n",
       "      <td>Compliance in administration of prescribed analgesics</td>\n",
       "    </tr>\n",
       "    <tr>\n",
       "      <th>8</th>\n",
       "      <td>wosres:WOS_000070998900007</td>\n",
       "      <td>Reconstruction of optical pathlength distributions from images obtained by a wide-field differen...</td>\n",
       "    </tr>\n",
       "    <tr>\n",
       "      <th>9</th>\n",
       "      <td>wosres:WOS_000071006900008</td>\n",
       "      <td>Does metformin increase the serum total homocysteine level in non-insulin-dependent diabetes mel...</td>\n",
       "    </tr>\n",
       "  </tbody>\n",
       "</table>\n",
       "</div>"
      ],
      "text/plain": [
       "                wosArticleUri  \\\n",
       "0  wosres:WOS_000060208200006   \n",
       "1  wosres:WOS_000070935900005   \n",
       "2  wosres:WOS_000070948900005   \n",
       "3  wosres:WOS_000070961600011   \n",
       "4  wosres:WOS_000070961600033   \n",
       "5  wosres:WOS_000070969600003   \n",
       "6  wosres:WOS_000070970500011   \n",
       "7  wosres:WOS_000070998100010   \n",
       "8  wosres:WOS_000070998900007   \n",
       "9  wosres:WOS_000071006900008   \n",
       "\n",
       "                                                                                                 title  \n",
       "0                Hollywood Berlin (The popularity of Nazi entertainment films in Germany under Hitler)  \n",
       "1  A randomized trial of anticoagulants versus aspirin after cerebral ischemia of presumed arterial...  \n",
       "2                          The strength of numbers: Enumerating communities in India's princely states  \n",
       "3  Some patients with intracranial aneurysms have a reduced type III type I collagen ratio - A case...  \n",
       "4  Improving interobserver variation in reporting gadolinium-enhanced MRI lesions in multiple scler...  \n",
       "5                                            A physically active lifestyle - public health's best buy?  \n",
       "6  The effect of reciprocal treatments with ozone and ultraviolet-B radiation on photosynthesis and...  \n",
       "7                                                Compliance in administration of prescribed analgesics  \n",
       "8  Reconstruction of optical pathlength distributions from images obtained by a wide-field differen...  \n",
       "9  Does metformin increase the serum total homocysteine level in non-insulin-dependent diabetes mel...  "
      ]
     },
     "execution_count": 144,
     "metadata": {},
     "output_type": "execute_result"
    }
   ],
   "source": [
    "eculture_query.send_select_query(\"\"\"\n",
    "\n",
    "    SELECT (?article AS ?wosArticleUri) ?title\n",
    "    WHERE{\n",
    "        GRAPH wosGraph: {\n",
    "            ?article a wos:Article .\n",
    "            ?article wos:TI ?title .\n",
    "        }\n",
    "    }\n",
    "    LIMIT 10\n",
    "    \n",
    "\"\"\")"
   ]
  },
  {
   "cell_type": "markdown",
   "metadata": {},
   "source": [
    "### Authors"
   ]
  },
  {
   "cell_type": "code",
   "execution_count": 124,
   "metadata": {},
   "outputs": [
    {
     "data": {
      "text/html": [
       "<div>\n",
       "<table border=\"1\" class=\"dataframe\">\n",
       "  <thead>\n",
       "    <tr style=\"text-align: right;\">\n",
       "      <th></th>\n",
       "      <th>p</th>\n",
       "    </tr>\n",
       "  </thead>\n",
       "  <tbody>\n",
       "    <tr>\n",
       "      <th>0</th>\n",
       "      <td>rdf:type</td>\n",
       "    </tr>\n",
       "    <tr>\n",
       "      <th>1</th>\n",
       "      <td>rdfs:label</td>\n",
       "    </tr>\n",
       "    <tr>\n",
       "      <th>2</th>\n",
       "      <td>skos:altLabel</td>\n",
       "    </tr>\n",
       "  </tbody>\n",
       "</table>\n",
       "</div>"
      ],
      "text/plain": [
       "               p\n",
       "0       rdf:type\n",
       "1     rdfs:label\n",
       "2  skos:altLabel"
      ]
     },
     "execution_count": 124,
     "metadata": {},
     "output_type": "execute_result"
    }
   ],
   "source": [
    "retrieve_all_sub_attributes('wos:AF')"
   ]
  },
  {
   "cell_type": "markdown",
   "metadata": {},
   "source": [
    "Display all attributes related to authors in a table:"
   ]
  },
  {
   "cell_type": "code",
   "execution_count": 149,
   "metadata": {},
   "outputs": [
    {
     "data": {
      "text/html": [
       "<div>\n",
       "<table border=\"1\" class=\"dataframe\">\n",
       "  <thead>\n",
       "    <tr style=\"text-align: right;\">\n",
       "      <th></th>\n",
       "      <th>isAuthorOf_wosArticleUri</th>\n",
       "      <th>wosAuthorCompoundUri</th>\n",
       "      <th>authorName</th>\n",
       "      <th>authorAltName</th>\n",
       "    </tr>\n",
       "  </thead>\n",
       "  <tbody>\n",
       "    <tr>\n",
       "      <th>0</th>\n",
       "      <td>wosres:WOS_000060208200006</td>\n",
       "      <td>wosres:WOS_000060208200006_Elsaesser_T</td>\n",
       "      <td>Elsaesser, T</td>\n",
       "      <td>Elsaesser, T</td>\n",
       "    </tr>\n",
       "    <tr>\n",
       "      <th>1</th>\n",
       "      <td>wosres:WOS_000070998900007</td>\n",
       "      <td>wosres:WOS_000070998900007_Aten_JA</td>\n",
       "      <td>Aten, JA</td>\n",
       "      <td>Aten, JA</td>\n",
       "    </tr>\n",
       "    <tr>\n",
       "      <th>2</th>\n",
       "      <td>wosres:WOS_000070998900007</td>\n",
       "      <td>wosres:WOS_000070998900007_Van_Munster_EB</td>\n",
       "      <td>Van Munster, EB</td>\n",
       "      <td>Van Munster, EB</td>\n",
       "    </tr>\n",
       "    <tr>\n",
       "      <th>3</th>\n",
       "      <td>wosres:WOS_000070998900007</td>\n",
       "      <td>wosres:WOS_000070998900007_Van_Vliet_LJ</td>\n",
       "      <td>Van Vliet, LJ</td>\n",
       "      <td>Van Vliet, LJ</td>\n",
       "    </tr>\n",
       "    <tr>\n",
       "      <th>4</th>\n",
       "      <td>wosres:WOS_000071084600009</td>\n",
       "      <td>wosres:WOS_000071084600009_de_Beer_K</td>\n",
       "      <td>de Beer, K</td>\n",
       "      <td>de Beer, K</td>\n",
       "    </tr>\n",
       "    <tr>\n",
       "      <th>5</th>\n",
       "      <td>wosres:WOS_000071084600009</td>\n",
       "      <td>wosres:WOS_000071084600009_de_Voogt_P</td>\n",
       "      <td>de Voogt, P</td>\n",
       "      <td>de Voogt, P</td>\n",
       "    </tr>\n",
       "    <tr>\n",
       "      <th>6</th>\n",
       "      <td>wosres:WOS_000071084600009</td>\n",
       "      <td>wosres:WOS_000071084600009_van_der_Wielen_F</td>\n",
       "      <td>van der Wielen, F</td>\n",
       "      <td>van der Wielen, F</td>\n",
       "    </tr>\n",
       "    <tr>\n",
       "      <th>7</th>\n",
       "      <td>wosres:WOS_000071167500005</td>\n",
       "      <td>wosres:WOS_000071167500005_Faas_BHW</td>\n",
       "      <td>Faas, BHW</td>\n",
       "      <td>Faas, BHW</td>\n",
       "    </tr>\n",
       "    <tr>\n",
       "      <th>8</th>\n",
       "      <td>wosres:WOS_000071167500005</td>\n",
       "      <td>wosres:WOS_000071167500005_Ligthart_PC</td>\n",
       "      <td>Ligthart, PC</td>\n",
       "      <td>Ligthart, PC</td>\n",
       "    </tr>\n",
       "    <tr>\n",
       "      <th>9</th>\n",
       "      <td>wosres:WOS_000071167500005</td>\n",
       "      <td>wosres:WOS_000071167500005_Lomas-Francis_C</td>\n",
       "      <td>Lomas-Francis, C</td>\n",
       "      <td>Lomas-Francis, C</td>\n",
       "    </tr>\n",
       "  </tbody>\n",
       "</table>\n",
       "</div>"
      ],
      "text/plain": [
       "     isAuthorOf_wosArticleUri                         wosAuthorCompoundUri         authorName      authorAltName\n",
       "0  wosres:WOS_000060208200006       wosres:WOS_000060208200006_Elsaesser_T       Elsaesser, T       Elsaesser, T\n",
       "1  wosres:WOS_000070998900007           wosres:WOS_000070998900007_Aten_JA           Aten, JA           Aten, JA\n",
       "2  wosres:WOS_000070998900007    wosres:WOS_000070998900007_Van_Munster_EB    Van Munster, EB    Van Munster, EB\n",
       "3  wosres:WOS_000070998900007      wosres:WOS_000070998900007_Van_Vliet_LJ      Van Vliet, LJ      Van Vliet, LJ\n",
       "4  wosres:WOS_000071084600009         wosres:WOS_000071084600009_de_Beer_K         de Beer, K         de Beer, K\n",
       "5  wosres:WOS_000071084600009        wosres:WOS_000071084600009_de_Voogt_P        de Voogt, P        de Voogt, P\n",
       "6  wosres:WOS_000071084600009  wosres:WOS_000071084600009_van_der_Wielen_F  van der Wielen, F  van der Wielen, F\n",
       "7  wosres:WOS_000071167500005          wosres:WOS_000071167500005_Faas_BHW          Faas, BHW          Faas, BHW\n",
       "8  wosres:WOS_000071167500005       wosres:WOS_000071167500005_Ligthart_PC       Ligthart, PC       Ligthart, PC\n",
       "9  wosres:WOS_000071167500005   wosres:WOS_000071167500005_Lomas-Francis_C   Lomas-Francis, C   Lomas-Francis, C"
      ]
     },
     "execution_count": 149,
     "metadata": {},
     "output_type": "execute_result"
    }
   ],
   "source": [
    "eculture_query.send_select_query(\"\"\"\n",
    "\n",
    "    SELECT (?article AS ?isAuthorOf_wosArticleUri) (?author AS ?wosAuthorCompoundUri) ?authorName ?authorAltName\n",
    "    WHERE{\n",
    "        GRAPH wosGraph: {\n",
    "            ?article a wos:Article .\n",
    "            ?article wos:AF ?author .\n",
    "            ?author rdfs:label ?authorName .\n",
    "            ?author skos:altLabel ?authorAltName .\n",
    "        }\n",
    "    }\n",
    "    LIMIT 10\n",
    "\n",
    "\"\"\")"
   ]
  },
  {
   "cell_type": "markdown",
   "metadata": {},
   "source": [
    "### Keywords (by Authors)"
   ]
  },
  {
   "cell_type": "markdown",
   "metadata": {},
   "source": [
    "Keywords has no other properties attached to them:"
   ]
  },
  {
   "cell_type": "code",
   "execution_count": 154,
   "metadata": {},
   "outputs": [
    {
     "data": {
      "text/html": [
       "<div>\n",
       "<table border=\"1\" class=\"dataframe\">\n",
       "  <thead>\n",
       "    <tr style=\"text-align: right;\">\n",
       "      <th></th>\n",
       "      <th>p</th>\n",
       "    </tr>\n",
       "  </thead>\n",
       "  <tbody>\n",
       "  </tbody>\n",
       "</table>\n",
       "</div>"
      ],
      "text/plain": [
       "Empty DataFrame\n",
       "Columns: [p]\n",
       "Index: []"
      ]
     },
     "execution_count": 154,
     "metadata": {},
     "output_type": "execute_result"
    }
   ],
   "source": [
    "retrieve_all_sub_attributes('wos:DE')"
   ]
  },
  {
   "cell_type": "code",
   "execution_count": 204,
   "metadata": {},
   "outputs": [
    {
     "data": {
      "text/html": [
       "<div>\n",
       "<table border=\"1\" class=\"dataframe\">\n",
       "  <thead>\n",
       "    <tr style=\"text-align: right;\">\n",
       "      <th></th>\n",
       "      <th>wosArticleUri</th>\n",
       "      <th>keywords</th>\n",
       "    </tr>\n",
       "  </thead>\n",
       "  <tbody>\n",
       "    <tr>\n",
       "      <th>0</th>\n",
       "      <td>wosres:WOS_000070970500011</td>\n",
       "      <td>Elymus athericus; growth; photosynthesis; ozone; UV-B radiation</td>\n",
       "    </tr>\n",
       "    <tr>\n",
       "      <th>1</th>\n",
       "      <td>wosres:WOS_000070998100010</td>\n",
       "      <td>pain, postoperative; analgesics, prescribing</td>\n",
       "    </tr>\n",
       "    <tr>\n",
       "      <th>2</th>\n",
       "      <td>wosres:WOS_000070998900007</td>\n",
       "      <td>DIC; Nomarski; interference; microscopy; CCD; image processing;</td>\n",
       "    </tr>\n",
       "    <tr>\n",
       "      <th>3</th>\n",
       "      <td>wosres:WOS_000070998900007</td>\n",
       "      <td>analysis; reconstruction; optical pathlength; phase; transparent; living</td>\n",
       "    </tr>\n",
       "    <tr>\n",
       "      <th>4</th>\n",
       "      <td>wosres:WOS_000071006900008</td>\n",
       "      <td>atherosclerosis; homocysteine; metformin; vitamin B-12</td>\n",
       "    </tr>\n",
       "    <tr>\n",
       "      <th>5</th>\n",
       "      <td>wosres:WOS_000071013000007</td>\n",
       "      <td>policy; household economics</td>\n",
       "    </tr>\n",
       "    <tr>\n",
       "      <th>6</th>\n",
       "      <td>wosres:WOS_000071013000007</td>\n",
       "      <td>sub-Saharan Africa; Swaziland; labor migration; food security; labor</td>\n",
       "    </tr>\n",
       "    <tr>\n",
       "      <th>7</th>\n",
       "      <td>wosres:WOS_000071021600006</td>\n",
       "      <td>nitric oxide radical; NO scavenging; thiol; S-nitrosothiol</td>\n",
       "    </tr>\n",
       "    <tr>\n",
       "      <th>8</th>\n",
       "      <td>wosres:WOS_000071021600006</td>\n",
       "      <td>(electrochemical); NO sensing</td>\n",
       "    </tr>\n",
       "    <tr>\n",
       "      <th>9</th>\n",
       "      <td>wosres:WOS_000071040300005</td>\n",
       "      <td>lumbar spine; vertebra; trabecular bone; Wolff's Law; intervertebral</td>\n",
       "    </tr>\n",
       "  </tbody>\n",
       "</table>\n",
       "</div>"
      ],
      "text/plain": [
       "                wosArticleUri                                                                  keywords\n",
       "0  wosres:WOS_000070970500011           Elymus athericus; growth; photosynthesis; ozone; UV-B radiation\n",
       "1  wosres:WOS_000070998100010                              pain, postoperative; analgesics, prescribing\n",
       "2  wosres:WOS_000070998900007           DIC; Nomarski; interference; microscopy; CCD; image processing;\n",
       "3  wosres:WOS_000070998900007  analysis; reconstruction; optical pathlength; phase; transparent; living\n",
       "4  wosres:WOS_000071006900008                    atherosclerosis; homocysteine; metformin; vitamin B-12\n",
       "5  wosres:WOS_000071013000007                                               policy; household economics\n",
       "6  wosres:WOS_000071013000007      sub-Saharan Africa; Swaziland; labor migration; food security; labor\n",
       "7  wosres:WOS_000071021600006                nitric oxide radical; NO scavenging; thiol; S-nitrosothiol\n",
       "8  wosres:WOS_000071021600006                                             (electrochemical); NO sensing\n",
       "9  wosres:WOS_000071040300005      lumbar spine; vertebra; trabecular bone; Wolff's Law; intervertebral"
      ]
     },
     "execution_count": 204,
     "metadata": {},
     "output_type": "execute_result"
    }
   ],
   "source": [
    "articles_and_keywords_dataframe = eculture_query.send_select_query(\"\"\"\n",
    "\n",
    "    SELECT (?article AS ?wosArticleUri) ?keywords\n",
    "    WHERE{\n",
    "        GRAPH wosGraph: {\n",
    "            ?article a wos:Article;\n",
    "                     wos:DE ?keywords .\n",
    "        }\n",
    "    }\n",
    "    LIMIT 10\n",
    "\n",
    "\"\"\")\n",
    "\n",
    "articles_and_keywords_dataframe"
   ]
  },
  {
   "cell_type": "code",
   "execution_count": 224,
   "metadata": {},
   "outputs": [
    {
     "name": "stdout",
     "output_type": "stream",
     "text": [
      "wosres:WOS_000070970500011 ['Elymus athericus', 'growth', 'photosynthesis', 'ozone', 'UV-B radiation']\n",
      "wosres:WOS_000070998100010 ['pain, postoperative', 'analgesics, prescribing']\n",
      "wosres:WOS_000070998900007 ['DIC', 'Nomarski', 'interference', 'microscopy', 'CCD', 'image processing;']\n",
      "wosres:WOS_000070998900007 ['analysis', 'reconstruction', 'optical pathlength', 'phase', 'transparent', 'living']\n",
      "wosres:WOS_000071006900008 ['atherosclerosis', 'homocysteine', 'metformin', 'vitamin B-12']\n",
      "wosres:WOS_000071013000007 ['policy', 'household economics']\n",
      "wosres:WOS_000071013000007 ['sub-Saharan Africa', 'Swaziland', 'labor migration', 'food security', 'labor']\n",
      "wosres:WOS_000071021600006 ['nitric oxide radical', 'NO scavenging', 'thiol', 'S-nitrosothiol']\n",
      "wosres:WOS_000071021600006 ['(electrochemical)', 'NO sensing']\n",
      "wosres:WOS_000071040300005 ['lumbar spine', 'vertebra', 'trabecular bone', \"Wolff's Law\", 'intervertebral']\n"
     ]
    }
   ],
   "source": [
    "articles_and_keywords_dictionary = articles_and_keywords_dataframe.to_dict('split')\n",
    "\n",
    "for each_entry in articles_and_keywords_dictionary['data']:\n",
    "    \n",
    "    each_article_id = each_entry[0]\n",
    "    each_keywords_string = each_entry[1]\n",
    "    \n",
    "    each_keywords_list = each_keywords_string.split('; ')\n",
    "    print(each_article_id, each_keywords_list)\n",
    "\n",
    "# TODO: Each keyword will be inserted as a new articleId-keyword pair to the wos triple store"
   ]
  },
  {
   "cell_type": "code",
   "execution_count": null,
   "metadata": {},
   "outputs": [],
   "source": []
  },
  {
   "cell_type": "code",
   "execution_count": null,
   "metadata": {},
   "outputs": [],
   "source": []
  },
  {
   "cell_type": "code",
   "execution_count": 87,
   "metadata": {},
   "outputs": [
    {
     "data": {
      "text/plain": [
       "<bound method Gastrodon_Query.send_update_query of <retriever.sparql_tools.Gastrodon_Query object at 0x000002ECBDE617B8>>"
      ]
     },
     "execution_count": 87,
     "metadata": {},
     "output_type": "execute_result"
    }
   ],
   "source": [
    "eculture_query.send_update_query"
   ]
  },
  {
   "cell_type": "code",
   "execution_count": null,
   "metadata": {},
   "outputs": [],
   "source": []
  }
 ],
 "metadata": {
  "kernelspec": {
   "display_name": "Python 3",
   "language": "python",
   "name": "python3"
  },
  "language_info": {
   "codemirror_mode": {
    "name": "ipython",
    "version": 3
   },
   "file_extension": ".py",
   "mimetype": "text/x-python",
   "name": "python",
   "nbconvert_exporter": "python",
   "pygments_lexer": "ipython3",
   "version": "3.6.1"
  }
 },
 "nbformat": 4,
 "nbformat_minor": 2
}
