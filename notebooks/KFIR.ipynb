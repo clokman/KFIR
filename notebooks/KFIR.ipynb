{
 "cells": [
  {
   "cell_type": "markdown",
   "metadata": {},
   "source": [
    "# KFIR"
   ]
  },
  {
   "cell_type": "markdown",
   "metadata": {},
   "source": [
    "## SETUP: DEPENDENCIES AND CREDENTIALS"
   ]
  },
  {
   "cell_type": "markdown",
   "metadata": {},
   "source": [
    "### Working Directory"
   ]
  },
  {
   "cell_type": "markdown",
   "metadata": {},
   "source": [
    "What is the current working directory?:"
   ]
  },
  {
   "cell_type": "code",
   "execution_count": 1,
   "metadata": {
    "scrolled": false
   },
   "outputs": [
    {
     "data": {
      "text/plain": [
       "'C:\\\\Users\\\\Clokman\\\\Google Drive\\\\__Projects__\\\\Code\\\\KFIR\\\\notebooks'"
      ]
     },
     "execution_count": 1,
     "metadata": {},
     "output_type": "execute_result"
    }
   ],
   "source": [
    "import os\n",
    "os.getcwd()"
   ]
  },
  {
   "cell_type": "markdown",
   "metadata": {},
   "source": [
    "Add parent directory to path if necessary:"
   ]
  },
  {
   "cell_type": "code",
   "execution_count": 2,
   "metadata": {
    "scrolled": true
   },
   "outputs": [
    {
     "data": {
      "text/plain": [
       "['',\n",
       " 'C:\\\\ProgramData\\\\Anaconda3\\\\python36.zip',\n",
       " 'C:\\\\ProgramData\\\\Anaconda3\\\\DLLs',\n",
       " 'C:\\\\ProgramData\\\\Anaconda3\\\\lib',\n",
       " 'C:\\\\ProgramData\\\\Anaconda3',\n",
       " 'C:\\\\ProgramData\\\\Anaconda3\\\\lib\\\\site-packages',\n",
       " 'C:\\\\ProgramData\\\\Anaconda3\\\\lib\\\\site-packages\\\\Sphinx-1.5.1-py3.6.egg',\n",
       " 'C:\\\\ProgramData\\\\Anaconda3\\\\lib\\\\site-packages\\\\win32',\n",
       " 'C:\\\\ProgramData\\\\Anaconda3\\\\lib\\\\site-packages\\\\win32\\\\lib',\n",
       " 'C:\\\\ProgramData\\\\Anaconda3\\\\lib\\\\site-packages\\\\Pythonwin',\n",
       " 'C:\\\\ProgramData\\\\Anaconda3\\\\lib\\\\site-packages\\\\setuptools-27.2.0-py3.6.egg',\n",
       " 'C:\\\\ProgramData\\\\Anaconda3\\\\lib\\\\site-packages\\\\IPython\\\\extensions',\n",
       " 'C:\\\\Users\\\\Clokman\\\\.ipython',\n",
       " 'C:\\\\Users\\\\Clokman\\\\Google Drive\\\\__Projects__\\\\Code\\\\KFIR']"
      ]
     },
     "execution_count": 2,
     "metadata": {},
     "output_type": "execute_result"
    }
   ],
   "source": [
    "import sys, os, re\n",
    "\n",
    "working_directory = os.getcwd()\n",
    "if re.search('\\\\\\\\notebooks$', working_directory):\n",
    "    one_directory_up = re.sub('\\\\\\\\notebooks$', '', working_directory)\n",
    "    sys.path.append(one_directory_up)\n",
    "    \n",
    "sys.path"
   ]
  },
  {
   "cell_type": "markdown",
   "metadata": {},
   "source": [
    "### Initialize General Packages"
   ]
  },
  {
   "cell_type": "code",
   "execution_count": 3,
   "metadata": {
    "collapsed": true
   },
   "outputs": [],
   "source": [
    "import pandas\n",
    "import numpy"
   ]
  },
  {
   "cell_type": "markdown",
   "metadata": {},
   "source": [
    "### Initialize Plotly"
   ]
  },
  {
   "cell_type": "markdown",
   "metadata": {},
   "source": [
    "Check current version:"
   ]
  },
  {
   "cell_type": "code",
   "execution_count": 4,
   "metadata": {},
   "outputs": [
    {
     "data": {
      "text/plain": [
       "'2.5.1'"
      ]
     },
     "execution_count": 4,
     "metadata": {},
     "output_type": "execute_result"
    }
   ],
   "source": [
    "from plotly import __version__ as plotly_version\n",
    "plotly_version"
   ]
  },
  {
   "cell_type": "markdown",
   "metadata": {},
   "source": [
    "#### Online Plotly"
   ]
  },
  {
   "cell_type": "markdown",
   "metadata": {},
   "source": [
    "Read plotly credentials from file:"
   ]
  },
  {
   "cell_type": "code",
   "execution_count": 5,
   "metadata": {
    "collapsed": true
   },
   "outputs": [],
   "source": [
    "from preprocessor.Text_File import Text_File\n",
    "\n",
    "plotly_file = Text_File('..//private//plotly_credentials')\n",
    "plotly_file = plotly_file.return_content()\n",
    "plotly_credentials = plotly_file.splitlines()\n",
    "\n",
    "plotly_username = plotly_credentials[0]\n",
    "plotly_key = plotly_credentials[1]"
   ]
  },
  {
   "cell_type": "markdown",
   "metadata": {},
   "source": [
    "Set parameters for online usage:"
   ]
  },
  {
   "cell_type": "code",
   "execution_count": 6,
   "metadata": {},
   "outputs": [],
   "source": [
    "import plotly.plotly as plotly_online\n",
    "iplot_online = plotly_online.iplot\n",
    "\n",
    "import plotly.graph_objs as graph_objects\n",
    "from plotly.tools import set_credentials_file\n",
    "\n",
    "set_credentials_file(username=plotly_username, api_key=plotly_key)  # put your own plotly username and api key here "
   ]
  },
  {
   "cell_type": "markdown",
   "metadata": {},
   "source": [
    "#### Offline Plotly"
   ]
  },
  {
   "cell_type": "markdown",
   "metadata": {},
   "source": [
    "Setup for offline usage:"
   ]
  },
  {
   "cell_type": "code",
   "execution_count": 7,
   "metadata": {},
   "outputs": [
    {
     "data": {
      "text/html": [
       "<script>requirejs.config({paths: { 'plotly': ['https://cdn.plot.ly/plotly-latest.min']},});if(!window.Plotly) {{require(['plotly'],function(plotly) {window.Plotly=plotly;});}}</script>"
      ],
      "text/vnd.plotly.v1+html": [
       "<script>requirejs.config({paths: { 'plotly': ['https://cdn.plot.ly/plotly-latest.min']},});if(!window.Plotly) {{require(['plotly'],function(plotly) {window.Plotly=plotly;});}}</script>"
      ]
     },
     "metadata": {},
     "output_type": "display_data"
    }
   ],
   "source": [
    "from plotly.offline import download_plotlyjs, init_notebook_mode, plot, iplot\n",
    "init_notebook_mode(connected=True)"
   ]
  },
  {
   "cell_type": "markdown",
   "metadata": {},
   "source": [
    "### Initialize Retriever: Gastrodon_Query"
   ]
  },
  {
   "cell_type": "markdown",
   "metadata": {},
   "source": [
    "Import Gastrodon_Query (for running SPARQL queries in Jupyter):"
   ]
  },
  {
   "cell_type": "code",
   "execution_count": 8,
   "metadata": {
    "collapsed": true
   },
   "outputs": [],
   "source": [
    "from retriever.sparql_tools import Gastrodon_Query"
   ]
  },
  {
   "cell_type": "markdown",
   "metadata": {},
   "source": [
    "Initialize eculture query:"
   ]
  },
  {
   "cell_type": "code",
   "execution_count": 9,
   "metadata": {
    "collapsed": true
   },
   "outputs": [],
   "source": [
    "eculture_query = Gastrodon_Query()"
   ]
  },
  {
   "cell_type": "markdown",
   "metadata": {},
   "source": [
    "Define prefixes:"
   ]
  },
  {
   "cell_type": "code",
   "execution_count": 10,
   "metadata": {
    "collapsed": true
   },
   "outputs": [
    {
     "data": {
      "text/plain": [
       "{rdflib.term.URIRef('http://clokman.com/kfir'): 'kfirGraph',\n",
       " rdflib.term.URIRef('http://clokman.com/kfir/ontology#'): 'kfir',\n",
       " rdflib.term.URIRef('http://clokman.com/test'): 'testGraph',\n",
       " rdflib.term.URIRef('http://clokman.com/wos'): 'wosGraph',\n",
       " rdflib.term.URIRef('http://dbpedia.org/ontology/'): 'dbo',\n",
       " rdflib.term.URIRef('http://wos.risis.eu/vocabulary/'): 'wos',\n",
       " rdflib.term.URIRef('http://www.w3.org/1999/02/22-rdf-syntax-ns#'): 'rdf',\n",
       " rdflib.term.URIRef('http://www.w3.org/2000/01/rdf-schema#'): 'rdfs',\n",
       " rdflib.term.URIRef('http://www.w3.org/2001/XMLSchema#'): 'xsd',\n",
       " rdflib.term.URIRef('http://www.w3.org/XML/1998/namespace'): 'xml',\n",
       " rdflib.term.URIRef('https://github.com/ali1k/ld-reactor/blob/master/vocabulary/index.ttl#'): 'ldr'}"
      ]
     },
     "execution_count": 10,
     "metadata": {},
     "output_type": "execute_result"
    }
   ],
   "source": [
    "eculture_query.set_prefixes(\"\"\"\n",
    "    @prefix wos: <http://wos.risis.eu/vocabulary/> .\n",
    "    @prefix kfir: <http://clokman.com/kfir/ontology#> .\n",
    "    @prefix ldr: <https://github.com/ali1k/ld-reactor/blob/master/vocabulary/index.ttl#> .\n",
    "    @prefix rdfs: <http://www.w3.org/2000/01/rdf-schema#> .\n",
    "    @prefix wosGraph: <http://clokman.com/wos> .\n",
    "    @prefix kfirGraph: <http://clokman.com/kfir> .\n",
    "    @prefix testGraph: <http://clokman.com/test> .\n",
    "    \n",
    "    @prefix dbo: <http://dbpedia.org/ontology/> .\n",
    "\"\"\")\n",
    "\n",
    "eculture_query.get_prefixes()"
   ]
  },
  {
   "cell_type": "markdown",
   "metadata": {},
   "source": [
    "Read endpoint from file:"
   ]
  },
  {
   "cell_type": "code",
   "execution_count": 11,
   "metadata": {
    "collapsed": true
   },
   "outputs": [],
   "source": [
    "from preprocessor.Text_File import Text_File\n",
    "\n",
    "# Get endpoint address from file\n",
    "eculture_endpoint_url_file = Text_File('..//private//eculture_virtuoso_endpoint_address')\n",
    "eculture_endpoint_url = eculture_endpoint_url_file.return_content()"
   ]
  },
  {
   "cell_type": "markdown",
   "metadata": {},
   "source": [
    "Define endpoint:"
   ]
  },
  {
   "cell_type": "code",
   "execution_count": 12,
   "metadata": {
    "collapsed": true
   },
   "outputs": [
    {
     "data": {
      "text/plain": [
       "<retriever.sparql_tools.Gastrodon_Query at 0x21156df8c18>"
      ]
     },
     "execution_count": 12,
     "metadata": {},
     "output_type": "execute_result"
    }
   ],
   "source": [
    "eculture_query.set_endpoint(eculture_endpoint_url)"
   ]
  },
  {
   "cell_type": "markdown",
   "metadata": {},
   "source": [
    "## QUERIES"
   ]
  },
  {
   "cell_type": "markdown",
   "metadata": {},
   "source": [
    "### Database Statistics"
   ]
  },
  {
   "cell_type": "markdown",
   "metadata": {},
   "source": [
    "Get counts for common fields:"
   ]
  },
  {
   "cell_type": "code",
   "execution_count": 13,
   "metadata": {
    "scrolled": true,
    "slideshow": {
     "slide_type": "-"
    }
   },
   "outputs": [
    {
     "name": "stdout",
     "output_type": "stream",
     "text": [
      "Counting...\n",
      "wos:TI / title :  135985\n",
      "wos:AF / author :  3485320\n",
      "wos:SN / issn :  9627\n",
      "wos:DOI / doi :  123505\n",
      "wos:EM / email :  51997\n",
      "wos:DE / keywords_author :  125552\n",
      "wos:ID / keywords_plus :  156689\n",
      "wos:SC / subject_category :  151\n",
      "wos:WC / web_of_science_category :  2323\n",
      "wos:PY / publication_year :  35\n",
      "wos:CR / has_cited :  2854040\n",
      "wos:NR / has_cited_count :  351\n",
      "wos:Z9 / cited_by_count_universal :  880\n",
      "wos:TC / cited_by_count_local :  852\n",
      "wos:SO / source_publication :  9708\n",
      "wos:PU / publisher :  2354\n",
      "wos:C1 / author_address :  118156\n",
      "ldr:annotations / annotation :  2158243\n",
      "Counting finished.\n"
     ]
    }
   ],
   "source": [
    "wos_mappings = {'wos:TI':  'title', # wos: is defined in prefixes variable\n",
    "                'wos:AF':  'author',\n",
    "                'wos:SN':  'issn',\n",
    "                'wos:DOI': 'doi',\n",
    "                'wos:EM':  'email',\n",
    "                'wos:DE':  'keywords_author',\n",
    "                'wos:ID':  'keywords_plus',\n",
    "                'wos:SC':  'subject_category',\n",
    "                'wos:WC':  'web_of_science_category',\n",
    "                'wos:PY':  'publication_year',\n",
    "                'wos:CR':  'has_cited',\n",
    "                'wos:NR':  'has_cited_count',\n",
    "                'wos:Z9':  'cited_by_count_universal',\n",
    "                'wos:TC':  'cited_by_count_local',\n",
    "                'wos:SO':  'source_publication',\n",
    "                'wos:PU':  'publisher',\n",
    "                'wos:C1':  'author_address',\n",
    "                'ldr:annotations': 'annotation'\n",
    "                }\n",
    "\n",
    "wos_field_counts = {}\n",
    "\n",
    "print('Counting...')\n",
    "for each_wos_field_name_abbreviation, each_field_name in wos_mappings.items():\n",
    "    each_count = eculture_query.send_count_query(each_field_name + \"s\",\"\"\"\n",
    "    SELECT (COUNT(DISTINCT ?%s) as ?%ss) \n",
    "    WHERE{\n",
    "        GRAPH wosGraph: {\n",
    "            ?article a wos:Article .\n",
    "            ?article %s ?%s .\n",
    "        }\n",
    "    }\n",
    "    \"\"\" % (each_field_name, each_field_name, each_wos_field_name_abbreviation, each_field_name))\n",
    "    wos_field_counts[each_field_name] = each_count\n",
    "    print (each_wos_field_name_abbreviation, '/', each_field_name, ': ', each_count)\n",
    "print('Counting finished.')"
   ]
  },
  {
   "cell_type": "markdown",
   "metadata": {},
   "source": [
    "Get number of articles:"
   ]
  },
  {
   "cell_type": "code",
   "execution_count": 30,
   "metadata": {},
   "outputs": [
    {
     "name": "stderr",
     "output_type": "stream",
     "text": [
      "C:\\ProgramData\\Anaconda3\\lib\\site-packages\\SPARQLWrapper\\Wrapper.py:878: RuntimeWarning:\n",
      "\n",
      "unknown response content type 'text/html; charset=utf-8' returning raw response...\n",
      "\n",
      "ERROR:root:An unexpected error occurred while tokenizing input\n",
      "The following traceback may be corrupted or invalid\n",
      "The error message is: ('EOF in multi-line string', (1, 0))\n",
      "\n"
     ]
    },
    {
     "ename": "TypeError",
     "evalue": "byte indices must be integers or slices, not str",
     "output_type": "error",
     "traceback": [
      "\u001b[0;31m---------------------------------------------------------------------------\u001b[0m",
      "\u001b[0;31mTypeError\u001b[0m                                 Traceback (most recent call last)",
      "\u001b[0;32m<ipython-input-30-b339bd1a8f4e>\u001b[0m in \u001b[0;36m<module>\u001b[0;34m()\u001b[0m\n\u001b[1;32m      6\u001b[0m         }\n\u001b[1;32m      7\u001b[0m     }\n\u001b[0;32m----> 8\u001b[0;31m \"\"\")\n\u001b[0m\u001b[1;32m      9\u001b[0m \u001b[1;33m\u001b[0m\u001b[0m\n\u001b[1;32m     10\u001b[0m \u001b[0marticle_count\u001b[0m\u001b[1;33m\u001b[0m\u001b[0m\n",
      "\u001b[0;32mC:\\Users\\Clokman\\Google Drive\\__Projects__\\Code\\KFIR\\retriever\\sparql_tools.py\u001b[0m in \u001b[0;36msend_count_query\u001b[0;34m(self, variable_that_holds_count_results, query)\u001b[0m\n\u001b[1;32m    513\u001b[0m             \u001b[1;36m4\u001b[0m\u001b[1;33m\u001b[0m\u001b[0m\n\u001b[1;32m    514\u001b[0m         \"\"\"\n\u001b[0;32m--> 515\u001b[0;31m         \u001b[0mresult\u001b[0m \u001b[1;33m=\u001b[0m \u001b[0mself\u001b[0m\u001b[1;33m.\u001b[0m\u001b[0msend_select_query\u001b[0m\u001b[1;33m(\u001b[0m\u001b[0mquery\u001b[0m\u001b[1;33m=\u001b[0m\u001b[0mquery\u001b[0m\u001b[1;33m)\u001b[0m\u001b[1;33m.\u001b[0m\u001b[0mat\u001b[0m\u001b[1;33m[\u001b[0m\u001b[1;36m0\u001b[0m\u001b[1;33m,\u001b[0m \u001b[0mvariable_that_holds_count_results\u001b[0m\u001b[1;33m]\u001b[0m\u001b[1;33m\u001b[0m\u001b[0m\n\u001b[0m\u001b[1;32m    516\u001b[0m         \u001b[1;32mreturn\u001b[0m \u001b[0mresult\u001b[0m\u001b[1;33m\u001b[0m\u001b[0m\n\u001b[1;32m    517\u001b[0m \u001b[1;33m\u001b[0m\u001b[0m\n",
      "\u001b[0;32mC:\\Users\\Clokman\\Google Drive\\__Projects__\\Code\\KFIR\\retriever\\sparql_tools.py\u001b[0m in \u001b[0;36msend_select_query\u001b[0;34m(self, query)\u001b[0m\n\u001b[1;32m    490\u001b[0m         result = self.endpoint_object.select(\"\"\"\n\u001b[1;32m    491\u001b[0m             \u001b[1;33m%\u001b[0m\u001b[0ms\u001b[0m\u001b[1;33m\u001b[0m\u001b[0m\n\u001b[0;32m--> 492\u001b[0;31m         \"\"\" % query)\n\u001b[0m\u001b[1;32m    493\u001b[0m         \u001b[1;32mreturn\u001b[0m \u001b[0mresult\u001b[0m\u001b[1;33m\u001b[0m\u001b[0m\n\u001b[1;32m    494\u001b[0m \u001b[1;33m\u001b[0m\u001b[0m\n",
      "\u001b[0;32mC:\\ProgramData\\Anaconda3\\lib\\site-packages\\gastrodon\\__init__.py\u001b[0m in \u001b[0;36mselect\u001b[0;34m(self, sparql, **kwargs)\u001b[0m\n\u001b[1;32m    499\u001b[0m         \u001b[1;33m:\u001b[0m\u001b[1;32mreturn\u001b[0m\u001b[1;33m:\u001b[0m \u001b[0mSELECT\u001b[0m \u001b[0mresult\u001b[0m \u001b[1;32mas\u001b[0m \u001b[0ma\u001b[0m \u001b[0mPandas\u001b[0m \u001b[0mDataFrame\u001b[0m\u001b[1;33m\u001b[0m\u001b[0m\n\u001b[1;32m    500\u001b[0m         \"\"\"\n\u001b[0;32m--> 501\u001b[0;31m         \u001b[0mresult\u001b[0m \u001b[1;33m=\u001b[0m \u001b[0mself\u001b[0m\u001b[1;33m.\u001b[0m\u001b[0mselect_raw\u001b[0m\u001b[1;33m(\u001b[0m\u001b[0msparql\u001b[0m\u001b[1;33m,\u001b[0m\u001b[0m_user_frame\u001b[0m\u001b[1;33m=\u001b[0m\u001b[1;36m3\u001b[0m\u001b[1;33m,\u001b[0m\u001b[1;33m**\u001b[0m\u001b[0mkwargs\u001b[0m\u001b[1;33m)\u001b[0m\u001b[1;33m\u001b[0m\u001b[0m\n\u001b[0m\u001b[1;32m    502\u001b[0m         \u001b[0mframe\u001b[0m\u001b[1;33m=\u001b[0m\u001b[0mself\u001b[0m\u001b[1;33m.\u001b[0m\u001b[0m_dataframe\u001b[0m\u001b[1;33m(\u001b[0m\u001b[0mresult\u001b[0m\u001b[1;33m)\u001b[0m\u001b[1;33m\u001b[0m\u001b[0m\n\u001b[1;32m    503\u001b[0m         \u001b[0mcolumnNames\u001b[0m \u001b[1;33m=\u001b[0m \u001b[1;33m{\u001b[0m\u001b[0mstr\u001b[0m\u001b[1;33m(\u001b[0m\u001b[0mx\u001b[0m\u001b[1;33m)\u001b[0m \u001b[1;32mfor\u001b[0m \u001b[0mx\u001b[0m \u001b[1;32min\u001b[0m \u001b[0mresult\u001b[0m\u001b[1;33m.\u001b[0m\u001b[0mvars\u001b[0m\u001b[1;33m}\u001b[0m\u001b[1;33m\u001b[0m\u001b[0m\n",
      "\u001b[0;32mC:\\ProgramData\\Anaconda3\\lib\\site-packages\\gastrodon\\__init__.py\u001b[0m in \u001b[0;36mselect_raw\u001b[0;34m(self, sparql, _user_frame, **kwargs)\u001b[0m\n\u001b[1;32m    519\u001b[0m         \u001b[1;33m:\u001b[0m\u001b[1;32mreturn\u001b[0m\u001b[1;33m:\u001b[0m \u001b[0mresult\u001b[0m \u001b[1;32mas\u001b[0m \u001b[0ma\u001b[0m \u001b[0mSPARQLResult\u001b[0m\u001b[1;33m\u001b[0m\u001b[0m\n\u001b[1;32m    520\u001b[0m         \"\"\"\n\u001b[0;32m--> 521\u001b[0;31m         \u001b[1;32mreturn\u001b[0m \u001b[0mself\u001b[0m\u001b[1;33m.\u001b[0m\u001b[0m_exec_raw\u001b[0m\u001b[1;33m(\u001b[0m\u001b[0msparql\u001b[0m\u001b[1;33m,\u001b[0m\u001b[0mself\u001b[0m\u001b[1;33m.\u001b[0m\u001b[0m_select\u001b[0m\u001b[1;33m,\u001b[0m\u001b[0m_user_frame\u001b[0m\u001b[1;33m,\u001b[0m\u001b[1;33m**\u001b[0m\u001b[0mkwargs\u001b[0m\u001b[1;33m)\u001b[0m\u001b[1;33m\u001b[0m\u001b[0m\n\u001b[0m\u001b[1;32m    522\u001b[0m \u001b[1;33m\u001b[0m\u001b[0m\n\u001b[1;32m    523\u001b[0m     \u001b[1;32mdef\u001b[0m \u001b[0mconstruct\u001b[0m\u001b[1;33m(\u001b[0m\u001b[0mself\u001b[0m\u001b[1;33m,\u001b[0m\u001b[0msparql\u001b[0m\u001b[1;33m:\u001b[0m\u001b[0mstr\u001b[0m\u001b[1;33m,\u001b[0m\u001b[0m_user_frame\u001b[0m\u001b[1;33m=\u001b[0m\u001b[1;36m2\u001b[0m\u001b[1;33m,\u001b[0m\u001b[1;33m**\u001b[0m\u001b[0mkwargs\u001b[0m\u001b[1;33m)\u001b[0m\u001b[1;33m:\u001b[0m\u001b[1;33m\u001b[0m\u001b[0m\n",
      "\u001b[0;32mC:\\ProgramData\\Anaconda3\\lib\\site-packages\\gastrodon\\__init__.py\u001b[0m in \u001b[0;36m_exec_raw\u001b[0;34m(self, sparql, operation, _user_frame, **kwargs)\u001b[0m\n\u001b[1;32m    555\u001b[0m             \u001b[1;32mif\u001b[0m \u001b[1;34m\"_inject_post_substitute_fault\"\u001b[0m \u001b[1;32min\u001b[0m \u001b[0mkwargs\u001b[0m\u001b[1;33m:\u001b[0m\u001b[1;33m\u001b[0m\u001b[0m\n\u001b[1;32m    556\u001b[0m                 \u001b[0msparql\u001b[0m\u001b[1;33m=\u001b[0m\u001b[0mkwargs\u001b[0m\u001b[1;33m[\u001b[0m\u001b[1;34m\"_inject_post_substitute_fault\"\u001b[0m\u001b[1;33m]\u001b[0m\u001b[1;33m\u001b[0m\u001b[0m\n\u001b[0;32m--> 557\u001b[0;31m             \u001b[0mresult\u001b[0m \u001b[1;33m=\u001b[0m \u001b[0moperation\u001b[0m\u001b[1;33m(\u001b[0m\u001b[0msparql\u001b[0m\u001b[1;33m,\u001b[0m \u001b[1;33m**\u001b[0m\u001b[0mkwargs\u001b[0m\u001b[1;33m)\u001b[0m\u001b[1;33m\u001b[0m\u001b[0m\n\u001b[0m\u001b[1;32m    558\u001b[0m         \u001b[1;32mexcept\u001b[0m \u001b[0mParseException\u001b[0m \u001b[1;32mas\u001b[0m \u001b[0mx\u001b[0m\u001b[1;33m:\u001b[0m\u001b[1;33m\u001b[0m\u001b[0m\n\u001b[1;32m    559\u001b[0m             \u001b[0mlines\u001b[0m\u001b[1;33m=\u001b[0m \u001b[0mself\u001b[0m\u001b[1;33m.\u001b[0m\u001b[0m_error_header\u001b[0m\u001b[1;33m(\u001b[0m\u001b[1;33m)\u001b[0m\u001b[1;33m\u001b[0m\u001b[0m\n",
      "\u001b[0;32mC:\\ProgramData\\Anaconda3\\lib\\site-packages\\gastrodon\\__init__.py\u001b[0m in \u001b[0;36m_select\u001b[0;34m(self, sparql, **kwargs)\u001b[0m\n\u001b[1;32m    748\u001b[0m         \u001b[0mres\u001b[0m\u001b[1;33m=\u001b[0m\u001b[1;33m{\u001b[0m\u001b[1;33m}\u001b[0m\u001b[1;33m\u001b[0m\u001b[0m\n\u001b[1;32m    749\u001b[0m         \u001b[0mres\u001b[0m\u001b[1;33m[\u001b[0m\u001b[1;34m\"type_\"\u001b[0m\u001b[1;33m]\u001b[0m \u001b[1;33m=\u001b[0m \u001b[1;34m\"SELECT\"\u001b[0m\u001b[1;33m\u001b[0m\u001b[0m\n\u001b[0;32m--> 750\u001b[0;31m         \u001b[0mres\u001b[0m\u001b[1;33m[\u001b[0m\u001b[1;34m\"vars_\"\u001b[0m\u001b[1;33m]\u001b[0m \u001b[1;33m=\u001b[0m \u001b[1;33m[\u001b[0m\u001b[0mVariable\u001b[0m\u001b[1;33m(\u001b[0m\u001b[0mv\u001b[0m\u001b[1;33m)\u001b[0m \u001b[1;32mfor\u001b[0m \u001b[0mv\u001b[0m \u001b[1;32min\u001b[0m \u001b[0mjson_result\u001b[0m\u001b[1;33m[\u001b[0m\u001b[1;34m\"head\"\u001b[0m\u001b[1;33m]\u001b[0m\u001b[1;33m[\u001b[0m\u001b[1;34m\"vars\"\u001b[0m\u001b[1;33m]\u001b[0m\u001b[1;33m]\u001b[0m\u001b[1;33m\u001b[0m\u001b[0m\n\u001b[0m\u001b[1;32m    751\u001b[0m         \u001b[0mcolumn\u001b[0m \u001b[1;33m=\u001b[0m \u001b[0mOrderedDict\u001b[0m\u001b[1;33m(\u001b[0m\u001b[1;33m)\u001b[0m\u001b[1;33m\u001b[0m\u001b[0m\n\u001b[1;32m    752\u001b[0m         \u001b[0mbindings\u001b[0m\u001b[1;33m=\u001b[0m\u001b[1;33m[\u001b[0m\u001b[1;33m]\u001b[0m\u001b[1;33m\u001b[0m\u001b[0m\n",
      "\u001b[0;31mTypeError\u001b[0m: byte indices must be integers or slices, not str"
     ]
    }
   ],
   "source": [
    "article_count = eculture_query.send_count_query('articles', \"\"\"\n",
    "    SELECT (COUNT(DISTINCT ?article) as ?articles) \n",
    "    WHERE{\n",
    "        GRAPH wosGraph: {\n",
    "            ?article a wos:Article .\n",
    "        }\n",
    "    }\n",
    "\"\"\")\n",
    "\n",
    "article_count"
   ]
  },
  {
   "cell_type": "markdown",
   "metadata": {},
   "source": [
    "Add article_count to wos_field_counts:"
   ]
  },
  {
   "cell_type": "code",
   "execution_count": 15,
   "metadata": {},
   "outputs": [
    {
     "data": {
      "text/plain": [
       "{'annotation': 2158243,\n",
       " 'article': 136125,\n",
       " 'author': 3485320,\n",
       " 'author_address': 118156,\n",
       " 'cited_by_count_local': 852,\n",
       " 'cited_by_count_universal': 880,\n",
       " 'doi': 123505,\n",
       " 'email': 51997,\n",
       " 'has_cited': 2854040,\n",
       " 'has_cited_count': 351,\n",
       " 'issn': 9627,\n",
       " 'keywords_author': 125552,\n",
       " 'keywords_plus': 156689,\n",
       " 'publication_year': 35,\n",
       " 'publisher': 2354,\n",
       " 'source_publication': 9708,\n",
       " 'subject_category': 151,\n",
       " 'title': 135985,\n",
       " 'web_of_science_category': 2323}"
      ]
     },
     "execution_count": 15,
     "metadata": {},
     "output_type": "execute_result"
    }
   ],
   "source": [
    "wos_field_counts['article'] = article_count\n",
    "wos_field_counts"
   ]
  },
  {
   "cell_type": "markdown",
   "metadata": {},
   "source": [
    "Put results in a dataframe and sort them:"
   ]
  },
  {
   "cell_type": "code",
   "execution_count": 16,
   "metadata": {
    "scrolled": true
   },
   "outputs": [
    {
     "data": {
      "text/plain": [
       "author                      3485320\n",
       "has_cited                   2854040\n",
       "annotation                  2158243\n",
       "keywords_plus                156689\n",
       "article                      136125\n",
       "title                        135985\n",
       "keywords_author              125552\n",
       "doi                          123505\n",
       "author_address               118156\n",
       "email                         51997\n",
       "source_publication             9708\n",
       "issn                           9627\n",
       "publisher                      2354\n",
       "web_of_science_category        2323\n",
       "cited_by_count_universal        880\n",
       "cited_by_count_local            852\n",
       "has_cited_count                 351\n",
       "subject_category                151\n",
       "publication_year                 35\n",
       "dtype: int64"
      ]
     },
     "execution_count": 16,
     "metadata": {},
     "output_type": "execute_result"
    }
   ],
   "source": [
    "wos_field_counts_dataframe = pandas.Series(wos_field_counts)\n",
    "wos_sorted_counts_dataframe = wos_field_counts_dataframe.sort_values(inplace=True, ascending=False)\n",
    "wos_field_counts_dataframe"
   ]
  },
  {
   "cell_type": "markdown",
   "metadata": {},
   "source": [
    "Plot results:"
   ]
  },
  {
   "cell_type": "code",
   "execution_count": 17,
   "metadata": {},
   "outputs": [
    {
     "data": {
      "text/html": [
       "<iframe id=\"igraph\" scrolling=\"no\" style=\"border:none;\" seamless=\"seamless\" src=\"https://plot.ly/~Clokman/27.embed\" height=\"525px\" width=\"100%\"></iframe>"
      ],
      "text/plain": [
       "<plotly.tools.PlotlyDisplay object>"
      ]
     },
     "execution_count": 17,
     "metadata": {},
     "output_type": "execute_result"
    }
   ],
   "source": [
    "wos_field_counts_labels = list(wos_field_counts_dataframe.keys())\n",
    "wos_field_counts_values = list(wos_field_counts_dataframe)\n",
    "\n",
    "data = [graph_objects.Bar(x=wos_field_counts_labels,\n",
    "                          y=wos_field_counts_values)]\n",
    "\n",
    "iplot_online(data)"
   ]
  },
  {
   "cell_type": "markdown",
   "metadata": {},
   "source": [
    "### Updading the Database"
   ]
  },
  {
   "cell_type": "code",
   "execution_count": 29,
   "metadata": {},
   "outputs": [
    {
     "ename": "GastrodonException",
     "evalue": "Error parsing SPARQL query",
     "output_type": "error",
     "traceback": [
      "*** ERROR ***",
      "",
      "Failure parsing SPARQL query supplied by caller;  this is either a user error",
      "or an error in a function that generated this query.  Query text follows:",
      "",
      "",
      "            ",
      "    CONSTRUCT {<a> <b> <c>}",
      "",
      "        ",
      "        ^",
      "Error at line 5 and column 9"
     ]
    }
   ],
   "source": [
    "eculture_query.send_construct_query(\"\"\"\n",
    "    CONSTRUCT {<a> <b> <c>}\n",
    "\"\"\")\n"
   ]
  },
  {
   "cell_type": "code",
   "execution_count": null,
   "metadata": {},
   "outputs": [],
   "source": [
    "eculture_query.send_update_query"
   ]
  }
 ],
 "metadata": {
  "kernelspec": {
   "display_name": "Python 3",
   "language": "python",
   "name": "python3"
  },
  "language_info": {
   "codemirror_mode": {
    "name": "ipython",
    "version": 3
   },
   "file_extension": ".py",
   "mimetype": "text/x-python",
   "name": "python",
   "nbconvert_exporter": "python",
   "pygments_lexer": "ipython3",
   "version": "3.6.1"
  }
 },
 "nbformat": 4,
 "nbformat_minor": 2
}
