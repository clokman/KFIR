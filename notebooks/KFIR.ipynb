{
 "cells": [
  {
   "cell_type": "markdown",
   "metadata": {},
   "source": [
    "# KFIR"
   ]
  },
  {
   "cell_type": "markdown",
   "metadata": {},
   "source": [
    "# SETUP: DEPENDENCIES AND CREDENTIALS"
   ]
  },
  {
   "cell_type": "markdown",
   "metadata": {},
   "source": [
    "## Working Directory"
   ]
  },
  {
   "cell_type": "markdown",
   "metadata": {},
   "source": [
    "What is the current working directory?:"
   ]
  },
  {
   "cell_type": "code",
   "execution_count": 202,
   "metadata": {
    "scrolled": false
   },
   "outputs": [
    {
     "data": {
      "text/plain": [
       "'C:\\\\Users\\\\Clokman\\\\Google Drive\\\\__Projects__\\\\Code\\\\KFIR\\\\notebooks'"
      ]
     },
     "execution_count": 202,
     "metadata": {},
     "output_type": "execute_result"
    }
   ],
   "source": [
    "import os\n",
    "os.getcwd()"
   ]
  },
  {
   "cell_type": "markdown",
   "metadata": {},
   "source": [
    "Add parent directory to path if necessary:"
   ]
  },
  {
   "cell_type": "code",
   "execution_count": 203,
   "metadata": {
    "scrolled": true
   },
   "outputs": [
    {
     "data": {
      "text/plain": [
       "['',\n",
       " 'C:\\\\ProgramData\\\\Anaconda3\\\\python36.zip',\n",
       " 'C:\\\\ProgramData\\\\Anaconda3\\\\DLLs',\n",
       " 'C:\\\\ProgramData\\\\Anaconda3\\\\lib',\n",
       " 'C:\\\\ProgramData\\\\Anaconda3',\n",
       " 'C:\\\\ProgramData\\\\Anaconda3\\\\lib\\\\site-packages',\n",
       " 'C:\\\\ProgramData\\\\Anaconda3\\\\lib\\\\site-packages\\\\Sphinx-1.5.1-py3.6.egg',\n",
       " 'C:\\\\ProgramData\\\\Anaconda3\\\\lib\\\\site-packages\\\\win32',\n",
       " 'C:\\\\ProgramData\\\\Anaconda3\\\\lib\\\\site-packages\\\\win32\\\\lib',\n",
       " 'C:\\\\ProgramData\\\\Anaconda3\\\\lib\\\\site-packages\\\\Pythonwin',\n",
       " 'C:\\\\ProgramData\\\\Anaconda3\\\\lib\\\\site-packages\\\\setuptools-27.2.0-py3.6.egg',\n",
       " 'C:\\\\ProgramData\\\\Anaconda3\\\\lib\\\\site-packages\\\\IPython\\\\extensions',\n",
       " 'C:\\\\Users\\\\Clokman\\\\.ipython',\n",
       " 'C:\\\\Users\\\\Clokman\\\\Google Drive\\\\__Projects__\\\\Code\\\\KFIR',\n",
       " 'C:\\\\Users\\\\Clokman\\\\Google Drive\\\\__Projects__\\\\Code\\\\KFIR']"
      ]
     },
     "execution_count": 203,
     "metadata": {},
     "output_type": "execute_result"
    }
   ],
   "source": [
    "import sys, os, re\n",
    "\n",
    "working_directory = os.getcwd()\n",
    "if re.search('\\\\\\\\notebooks$', working_directory):\n",
    "    one_directory_up = re.sub('\\\\\\\\notebooks$', '', working_directory)\n",
    "    sys.path.append(one_directory_up)\n",
    "    \n",
    "sys.path"
   ]
  },
  {
   "cell_type": "markdown",
   "metadata": {},
   "source": [
    "## Initialize General Packages"
   ]
  },
  {
   "cell_type": "code",
   "execution_count": 204,
   "metadata": {
    "collapsed": true
   },
   "outputs": [],
   "source": [
    "import pandas\n",
    "import numpy"
   ]
  },
  {
   "cell_type": "markdown",
   "metadata": {},
   "source": [
    "## Initialize Plotly"
   ]
  },
  {
   "cell_type": "markdown",
   "metadata": {},
   "source": [
    "Check current version:"
   ]
  },
  {
   "cell_type": "code",
   "execution_count": 205,
   "metadata": {},
   "outputs": [
    {
     "data": {
      "text/plain": [
       "'2.5.1'"
      ]
     },
     "execution_count": 205,
     "metadata": {},
     "output_type": "execute_result"
    }
   ],
   "source": [
    "from plotly import __version__ as plotly_version\n",
    "plotly_version"
   ]
  },
  {
   "cell_type": "markdown",
   "metadata": {},
   "source": [
    "### Online Plotly"
   ]
  },
  {
   "cell_type": "markdown",
   "metadata": {},
   "source": [
    "Read plotly credentials from file:"
   ]
  },
  {
   "cell_type": "code",
   "execution_count": 206,
   "metadata": {
    "collapsed": true
   },
   "outputs": [],
   "source": [
    "from preprocessor.Text_File import Text_File\n",
    "\n",
    "plotly_file = Text_File('..//private//plotly_credentials')\n",
    "plotly_file = plotly_file.return_content()\n",
    "plotly_credentials = plotly_file.splitlines()\n",
    "\n",
    "plotly_username = plotly_credentials[0]\n",
    "plotly_key = plotly_credentials[1]"
   ]
  },
  {
   "cell_type": "markdown",
   "metadata": {},
   "source": [
    "Set parameters for online usage:"
   ]
  },
  {
   "cell_type": "code",
   "execution_count": 207,
   "metadata": {},
   "outputs": [],
   "source": [
    "import plotly.plotly as plotly_online\n",
    "iplot_online = plotly_online.iplot\n",
    "\n",
    "import plotly.graph_objs as graph_objects\n",
    "from plotly.tools import set_credentials_file\n",
    "\n",
    "set_credentials_file(username=plotly_username, api_key=plotly_key)  # put your own plotly username and api key here "
   ]
  },
  {
   "cell_type": "markdown",
   "metadata": {},
   "source": [
    "### Offline Plotly"
   ]
  },
  {
   "cell_type": "markdown",
   "metadata": {},
   "source": [
    "Setup for offline usage:"
   ]
  },
  {
   "cell_type": "code",
   "execution_count": 208,
   "metadata": {},
   "outputs": [
    {
     "data": {
      "text/html": [
       "<script>requirejs.config({paths: { 'plotly': ['https://cdn.plot.ly/plotly-latest.min']},});if(!window.Plotly) {{require(['plotly'],function(plotly) {window.Plotly=plotly;});}}</script>"
      ],
      "text/vnd.plotly.v1+html": [
       "<script>requirejs.config({paths: { 'plotly': ['https://cdn.plot.ly/plotly-latest.min']},});if(!window.Plotly) {{require(['plotly'],function(plotly) {window.Plotly=plotly;});}}</script>"
      ]
     },
     "metadata": {},
     "output_type": "display_data"
    }
   ],
   "source": [
    "from plotly.offline import download_plotlyjs, init_notebook_mode, plot, iplot\n",
    "init_notebook_mode(connected=True)"
   ]
  },
  {
   "cell_type": "markdown",
   "metadata": {},
   "source": [
    "## Initialize Retriever: Gastrodon_Query"
   ]
  },
  {
   "cell_type": "markdown",
   "metadata": {},
   "source": [
    "Import Gastrodon_Query (for running SPARQL queries in Jupyter):"
   ]
  },
  {
   "cell_type": "code",
   "execution_count": 209,
   "metadata": {
    "collapsed": true
   },
   "outputs": [],
   "source": [
    "from retriever.sparql_tools import Gastrodon_Query"
   ]
  },
  {
   "cell_type": "markdown",
   "metadata": {},
   "source": [
    "Initialize eculture query:"
   ]
  },
  {
   "cell_type": "code",
   "execution_count": 210,
   "metadata": {
    "collapsed": true
   },
   "outputs": [],
   "source": [
    "eculture_query = Gastrodon_Query()"
   ]
  },
  {
   "cell_type": "markdown",
   "metadata": {},
   "source": [
    "Define prefixes:"
   ]
  },
  {
   "cell_type": "code",
   "execution_count": 211,
   "metadata": {
    "collapsed": true
   },
   "outputs": [
    {
     "data": {
      "text/plain": [
       "{rdflib.term.URIRef('http://clokman.com/kfir'): 'kfirGraph',\n",
       " rdflib.term.URIRef('http://clokman.com/kfir/ontology#'): 'kfir',\n",
       " rdflib.term.URIRef('http://clokman.com/test'): 'testGraph',\n",
       " rdflib.term.URIRef('http://clokman.com/wos'): 'wosGraph',\n",
       " rdflib.term.URIRef('http://dbpedia.org/ontology/'): 'dbo',\n",
       " rdflib.term.URIRef('http://wos.risis.eu/resource/'): 'wosres',\n",
       " rdflib.term.URIRef('http://wos.risis.eu/vocabulary/'): 'wos',\n",
       " rdflib.term.URIRef('http://www.w3.org/1999/02/22-rdf-syntax-ns#'): 'rdf',\n",
       " rdflib.term.URIRef('http://www.w3.org/2000/01/rdf-schema#'): 'rdfs',\n",
       " rdflib.term.URIRef('http://www.w3.org/2001/XMLSchema#'): 'xsd',\n",
       " rdflib.term.URIRef('http://www.w3.org/2004/02/skos/core#'): 'skos',\n",
       " rdflib.term.URIRef('http://www.w3.org/XML/1998/namespace'): 'xml',\n",
       " rdflib.term.URIRef('https://github.com/ali1k/ld-reactor/blob/master/vocabulary/index.ttl#'): 'ldr'}"
      ]
     },
     "execution_count": 211,
     "metadata": {},
     "output_type": "execute_result"
    }
   ],
   "source": [
    "eculture_query.set_prefixes(\"\"\"\n",
    "    @prefix rdfs: <http://www.w3.org/2000/01/rdf-schema#> .\n",
    "    @prefix skos: <http://www.w3.org/2004/02/skos/core#> .\n",
    "    @prefix dbo: <http://dbpedia.org/ontology/> .\n",
    "    \n",
    "    @prefix wos: <http://wos.risis.eu/vocabulary/> .\n",
    "    @prefix wosres: <http://wos.risis.eu/resource/> .\n",
    "    @prefix kfir: <http://clokman.com/kfir/ontology#> .\n",
    "    @prefix ldr: <https://github.com/ali1k/ld-reactor/blob/master/vocabulary/index.ttl#> .\n",
    "\n",
    "    @prefix wosGraph: <http://clokman.com/wos> .\n",
    "    @prefix kfirGraph: <http://clokman.com/kfir> .\n",
    "    @prefix testGraph: <http://clokman.com/test> .\n",
    "\"\"\")\n",
    "\n",
    "eculture_query._get_prefixes()"
   ]
  },
  {
   "cell_type": "markdown",
   "metadata": {},
   "source": [
    "Read endpoint from file:"
   ]
  },
  {
   "cell_type": "code",
   "execution_count": 212,
   "metadata": {
    "collapsed": true
   },
   "outputs": [],
   "source": [
    "from preprocessor.Text_File import Text_File\n",
    "\n",
    "# Get endpoint address from file\n",
    "eculture_endpoint_url_file = Text_File('..//private//eculture_virtuoso_endpoint_address')\n",
    "eculture_endpoint_url = eculture_endpoint_url_file.return_content()"
   ]
  },
  {
   "cell_type": "markdown",
   "metadata": {},
   "source": [
    "Define endpoint:"
   ]
  },
  {
   "cell_type": "code",
   "execution_count": 213,
   "metadata": {
    "collapsed": true
   },
   "outputs": [
    {
     "data": {
      "text/plain": [
       "<retriever.sparql_tools.Gastrodon_Query at 0x24aa9c51080>"
      ]
     },
     "execution_count": 213,
     "metadata": {},
     "output_type": "execute_result"
    }
   ],
   "source": [
    "eculture_query.set_endpoint(eculture_endpoint_url)"
   ]
  },
  {
   "cell_type": "markdown",
   "metadata": {},
   "source": [
    "# QUERIES"
   ]
  },
  {
   "cell_type": "markdown",
   "metadata": {},
   "source": [
    "## Database Statistics"
   ]
  },
  {
   "cell_type": "markdown",
   "metadata": {},
   "source": [
    "Get counts for common fields:"
   ]
  },
  {
   "cell_type": "code",
   "execution_count": 214,
   "metadata": {
    "scrolled": true,
    "slideshow": {
     "slide_type": "-"
    }
   },
   "outputs": [
    {
     "name": "stdout",
     "output_type": "stream",
     "text": [
      "Counting...\n",
      "wos:TI / title :  135985\n",
      "wos:AF / author :  3485320\n",
      "wos:SN / issn :  9627\n",
      "wos:DOI / doi :  123505\n",
      "wos:EM / email :  51997\n",
      "wos:DE / keywords_author :  125552\n",
      "wos:ID / keywords_plus :  156689\n",
      "wos:SC / subject_category :  151\n",
      "wos:WC / web_of_science_category :  2323\n",
      "wos:PY / publication_year :  35\n",
      "wos:CR / has_cited :  2854040\n",
      "wos:NR / has_cited_count :  351\n",
      "wos:Z9 / cited_by_count_universal :  880\n",
      "wos:TC / cited_by_count_local :  852\n",
      "wos:SO / source_publication :  9708\n",
      "wos:PU / publisher :  2354\n",
      "wos:C1 / author_address :  118156\n",
      "ldr:annotations / annotation :  2158243\n",
      "Counting finished.\n"
     ]
    }
   ],
   "source": [
    "wos_mappings = {'wos:TI':  'title', # wos: is defined in prefixes variable\n",
    "                'wos:AF':  'author',\n",
    "                'wos:SN':  'issn',\n",
    "                'wos:DOI': 'doi',\n",
    "                'wos:EM':  'email',\n",
    "                'wos:DE':  'keywords_author',\n",
    "                'wos:ID':  'keywords_plus',\n",
    "                'wos:SC':  'subject_category',\n",
    "                'wos:WC':  'web_of_science_category',\n",
    "                'wos:PY':  'publication_year',\n",
    "                'wos:CR':  'has_cited',\n",
    "                'wos:NR':  'has_cited_count',\n",
    "                'wos:Z9':  'cited_by_count_universal',\n",
    "                'wos:TC':  'cited_by_count_local',\n",
    "                'wos:SO':  'source_publication',\n",
    "                'wos:PU':  'publisher',\n",
    "                'wos:C1':  'author_address',\n",
    "                'ldr:annotations': 'annotation'\n",
    "                }\n",
    "\n",
    "wos_field_counts = {}\n",
    "\n",
    "print('Counting...')\n",
    "for each_wos_field_name_abbreviation, each_field_name in wos_mappings.items():\n",
    "    each_count = eculture_query.send_count_query(each_field_name + \"s\",\"\"\"\n",
    "    SELECT (COUNT(DISTINCT ?%s) as ?%ss) \n",
    "    WHERE{\n",
    "        GRAPH wosGraph: {\n",
    "            ?article a wos:Article .\n",
    "            ?article %s ?%s .\n",
    "        }\n",
    "    }\n",
    "    \"\"\" % (each_field_name, each_field_name, each_wos_field_name_abbreviation, each_field_name))\n",
    "    wos_field_counts[each_field_name] = each_count\n",
    "    print (each_wos_field_name_abbreviation, '/', each_field_name, ': ', each_count)\n",
    "print('Counting finished.')"
   ]
  },
  {
   "cell_type": "markdown",
   "metadata": {},
   "source": [
    "Get number of articles:"
   ]
  },
  {
   "cell_type": "code",
   "execution_count": 215,
   "metadata": {},
   "outputs": [
    {
     "data": {
      "text/plain": [
       "136125"
      ]
     },
     "execution_count": 215,
     "metadata": {},
     "output_type": "execute_result"
    }
   ],
   "source": [
    "article_count = eculture_query.send_count_query('articles', \"\"\"\n",
    "    SELECT (COUNT(DISTINCT ?article) as ?articles) \n",
    "    WHERE{\n",
    "        GRAPH wosGraph: {\n",
    "            ?article a wos:Article .\n",
    "        }\n",
    "    }\n",
    "\"\"\")\n",
    "\n",
    "article_count"
   ]
  },
  {
   "cell_type": "markdown",
   "metadata": {},
   "source": [
    "Add article_count to wos_field_counts:"
   ]
  },
  {
   "cell_type": "code",
   "execution_count": 216,
   "metadata": {},
   "outputs": [
    {
     "data": {
      "text/plain": [
       "{'annotation': 2158243,\n",
       " 'article': 136125,\n",
       " 'author': 3485320,\n",
       " 'author_address': 118156,\n",
       " 'cited_by_count_local': 852,\n",
       " 'cited_by_count_universal': 880,\n",
       " 'doi': 123505,\n",
       " 'email': 51997,\n",
       " 'has_cited': 2854040,\n",
       " 'has_cited_count': 351,\n",
       " 'issn': 9627,\n",
       " 'keywords_author': 125552,\n",
       " 'keywords_plus': 156689,\n",
       " 'publication_year': 35,\n",
       " 'publisher': 2354,\n",
       " 'source_publication': 9708,\n",
       " 'subject_category': 151,\n",
       " 'title': 135985,\n",
       " 'web_of_science_category': 2323}"
      ]
     },
     "execution_count": 216,
     "metadata": {},
     "output_type": "execute_result"
    }
   ],
   "source": [
    "wos_field_counts['article'] = article_count\n",
    "wos_field_counts"
   ]
  },
  {
   "cell_type": "markdown",
   "metadata": {},
   "source": [
    "Put results in a dataframe and sort them:"
   ]
  },
  {
   "cell_type": "code",
   "execution_count": 217,
   "metadata": {
    "scrolled": true
   },
   "outputs": [
    {
     "data": {
      "text/plain": [
       "author                      3485320\n",
       "has_cited                   2854040\n",
       "annotation                  2158243\n",
       "keywords_plus                156689\n",
       "article                      136125\n",
       "title                        135985\n",
       "keywords_author              125552\n",
       "doi                          123505\n",
       "author_address               118156\n",
       "email                         51997\n",
       "source_publication             9708\n",
       "issn                           9627\n",
       "publisher                      2354\n",
       "web_of_science_category        2323\n",
       "cited_by_count_universal        880\n",
       "cited_by_count_local            852\n",
       "has_cited_count                 351\n",
       "subject_category                151\n",
       "publication_year                 35\n",
       "dtype: int64"
      ]
     },
     "execution_count": 217,
     "metadata": {},
     "output_type": "execute_result"
    }
   ],
   "source": [
    "wos_field_counts_dataframe = pandas.Series(wos_field_counts)\n",
    "wos_sorted_counts_dataframe = wos_field_counts_dataframe.sort_values(inplace=True, ascending=False)\n",
    "wos_field_counts_dataframe"
   ]
  },
  {
   "cell_type": "markdown",
   "metadata": {},
   "source": [
    "Plot results:"
   ]
  },
  {
   "cell_type": "code",
   "execution_count": 221,
   "metadata": {},
   "outputs": [
    {
     "data": {
      "text/html": [
       "<iframe id=\"igraph\" scrolling=\"no\" style=\"border:none;\" seamless=\"seamless\" src=\"https://plot.ly/~Clokman/55.embed\" height=\"525px\" width=\"100%\"></iframe>"
      ],
      "text/plain": [
       "<plotly.tools.PlotlyDisplay object>"
      ]
     },
     "execution_count": 221,
     "metadata": {},
     "output_type": "execute_result"
    }
   ],
   "source": [
    "wos_field_counts_labels = list(wos_field_counts_dataframe.keys())\n",
    "wos_field_counts_values = list(wos_field_counts_dataframe)\n",
    "\n",
    "data = [graph_objects.Bar(x=wos_field_counts_labels,\n",
    "                          y=wos_field_counts_values)]\n",
    "\n",
    "iplot_online(data)"
   ]
  },
  {
   "cell_type": "markdown",
   "metadata": {},
   "source": [
    "## Mapping and Transforming the Database"
   ]
  },
  {
   "cell_type": "markdown",
   "metadata": {},
   "source": [
    "A function to retrieve all attributes related to a target property (e.g., author --> author label, author alternative label)"
   ]
  },
  {
   "cell_type": "code",
   "execution_count": 219,
   "metadata": {},
   "outputs": [],
   "source": [
    "def retrieve_all_sub_attributes (target_property_of_articles):    \n",
    "\n",
    "    result = eculture_query.send_select_query(\"\"\"\n",
    "        SELECT DISTINCT ?p\n",
    "        WHERE{\n",
    "            GRAPH wosGraph: {\n",
    "                ?article a wos:Article .\n",
    "                ?article %s ?target_object .\n",
    "                ?target_object ?p ?o .\n",
    "            }\n",
    "        }\n",
    "    \"\"\" % target_property_of_articles)\n",
    "    \n",
    "    return result"
   ]
  },
  {
   "cell_type": "markdown",
   "metadata": {},
   "source": [
    "### Titles"
   ]
  },
  {
   "cell_type": "markdown",
   "metadata": {},
   "source": [
    "Titles have no other properties attached to them:"
   ]
  },
  {
   "cell_type": "code",
   "execution_count": 220,
   "metadata": {},
   "outputs": [
    {
     "data": {
      "text/html": [
       "<div>\n",
       "<table border=\"1\" class=\"dataframe\">\n",
       "  <thead>\n",
       "    <tr style=\"text-align: right;\">\n",
       "      <th></th>\n",
       "      <th>p</th>\n",
       "    </tr>\n",
       "  </thead>\n",
       "  <tbody>\n",
       "  </tbody>\n",
       "</table>\n",
       "</div>"
      ],
      "text/plain": [
       "Empty DataFrame\n",
       "Columns: [p]\n",
       "Index: []"
      ]
     },
     "execution_count": 220,
     "metadata": {},
     "output_type": "execute_result"
    }
   ],
   "source": [
    "retrieve_all_sub_attributes('wos:TI')"
   ]
  },
  {
   "cell_type": "markdown",
   "metadata": {},
   "source": [
    "Display titles in a table:"
   ]
  },
  {
   "cell_type": "code",
   "execution_count": 159,
   "metadata": {},
   "outputs": [
    {
     "data": {
      "text/html": [
       "<div>\n",
       "<table border=\"1\" class=\"dataframe\">\n",
       "  <thead>\n",
       "    <tr style=\"text-align: right;\">\n",
       "      <th></th>\n",
       "      <th>wosArticleUri</th>\n",
       "      <th>title</th>\n",
       "    </tr>\n",
       "  </thead>\n",
       "  <tbody>\n",
       "    <tr>\n",
       "      <th>0</th>\n",
       "      <td>wosres:WOS_000060208200006</td>\n",
       "      <td>Hollywood Berlin (The popularity of Nazi entertainment films in Germany under Hitler)</td>\n",
       "    </tr>\n",
       "    <tr>\n",
       "      <th>1</th>\n",
       "      <td>wosres:WOS_000070935900005</td>\n",
       "      <td>A randomized trial of anticoagulants versus aspirin after cerebral ischemia of presumed arterial...</td>\n",
       "    </tr>\n",
       "    <tr>\n",
       "      <th>2</th>\n",
       "      <td>wosres:WOS_000070948900005</td>\n",
       "      <td>The strength of numbers: Enumerating communities in India's princely states</td>\n",
       "    </tr>\n",
       "    <tr>\n",
       "      <th>3</th>\n",
       "      <td>wosres:WOS_000070961600011</td>\n",
       "      <td>Some patients with intracranial aneurysms have a reduced type III type I collagen ratio - A case...</td>\n",
       "    </tr>\n",
       "    <tr>\n",
       "      <th>4</th>\n",
       "      <td>wosres:WOS_000070961600033</td>\n",
       "      <td>Improving interobserver variation in reporting gadolinium-enhanced MRI lesions in multiple scler...</td>\n",
       "    </tr>\n",
       "    <tr>\n",
       "      <th>5</th>\n",
       "      <td>wosres:WOS_000070969600003</td>\n",
       "      <td>A physically active lifestyle - public health's best buy?</td>\n",
       "    </tr>\n",
       "    <tr>\n",
       "      <th>6</th>\n",
       "      <td>wosres:WOS_000070970500011</td>\n",
       "      <td>The effect of reciprocal treatments with ozone and ultraviolet-B radiation on photosynthesis and...</td>\n",
       "    </tr>\n",
       "    <tr>\n",
       "      <th>7</th>\n",
       "      <td>wosres:WOS_000070998100010</td>\n",
       "      <td>Compliance in administration of prescribed analgesics</td>\n",
       "    </tr>\n",
       "    <tr>\n",
       "      <th>8</th>\n",
       "      <td>wosres:WOS_000070998900007</td>\n",
       "      <td>Reconstruction of optical pathlength distributions from images obtained by a wide-field differen...</td>\n",
       "    </tr>\n",
       "    <tr>\n",
       "      <th>9</th>\n",
       "      <td>wosres:WOS_000071006900008</td>\n",
       "      <td>Does metformin increase the serum total homocysteine level in non-insulin-dependent diabetes mel...</td>\n",
       "    </tr>\n",
       "  </tbody>\n",
       "</table>\n",
       "</div>"
      ],
      "text/plain": [
       "                wosArticleUri  \\\n",
       "0  wosres:WOS_000060208200006   \n",
       "1  wosres:WOS_000070935900005   \n",
       "2  wosres:WOS_000070948900005   \n",
       "3  wosres:WOS_000070961600011   \n",
       "4  wosres:WOS_000070961600033   \n",
       "5  wosres:WOS_000070969600003   \n",
       "6  wosres:WOS_000070970500011   \n",
       "7  wosres:WOS_000070998100010   \n",
       "8  wosres:WOS_000070998900007   \n",
       "9  wosres:WOS_000071006900008   \n",
       "\n",
       "                                                                                                 title  \n",
       "0                Hollywood Berlin (The popularity of Nazi entertainment films in Germany under Hitler)  \n",
       "1  A randomized trial of anticoagulants versus aspirin after cerebral ischemia of presumed arterial...  \n",
       "2                          The strength of numbers: Enumerating communities in India's princely states  \n",
       "3  Some patients with intracranial aneurysms have a reduced type III type I collagen ratio - A case...  \n",
       "4  Improving interobserver variation in reporting gadolinium-enhanced MRI lesions in multiple scler...  \n",
       "5                                            A physically active lifestyle - public health's best buy?  \n",
       "6  The effect of reciprocal treatments with ozone and ultraviolet-B radiation on photosynthesis and...  \n",
       "7                                                Compliance in administration of prescribed analgesics  \n",
       "8  Reconstruction of optical pathlength distributions from images obtained by a wide-field differen...  \n",
       "9  Does metformin increase the serum total homocysteine level in non-insulin-dependent diabetes mel...  "
      ]
     },
     "execution_count": 159,
     "metadata": {},
     "output_type": "execute_result"
    }
   ],
   "source": [
    "eculture_query.send_select_query(\"\"\"\n",
    "\n",
    "    SELECT DISTINCT (?article AS ?wosArticleUri) ?title\n",
    "    WHERE{\n",
    "        GRAPH wosGraph: {\n",
    "            ?article a wos:Article .\n",
    "            ?article wos:TI ?title .\n",
    "        }\n",
    "    }\n",
    "    LIMIT 10\n",
    "    \n",
    "\"\"\")"
   ]
  },
  {
   "cell_type": "markdown",
   "metadata": {},
   "source": [
    "### Authors"
   ]
  },
  {
   "cell_type": "code",
   "execution_count": 160,
   "metadata": {},
   "outputs": [
    {
     "data": {
      "text/html": [
       "<div>\n",
       "<table border=\"1\" class=\"dataframe\">\n",
       "  <thead>\n",
       "    <tr style=\"text-align: right;\">\n",
       "      <th></th>\n",
       "      <th>p</th>\n",
       "    </tr>\n",
       "  </thead>\n",
       "  <tbody>\n",
       "    <tr>\n",
       "      <th>0</th>\n",
       "      <td>rdf:type</td>\n",
       "    </tr>\n",
       "    <tr>\n",
       "      <th>1</th>\n",
       "      <td>rdfs:label</td>\n",
       "    </tr>\n",
       "    <tr>\n",
       "      <th>2</th>\n",
       "      <td>skos:altLabel</td>\n",
       "    </tr>\n",
       "  </tbody>\n",
       "</table>\n",
       "</div>"
      ],
      "text/plain": [
       "               p\n",
       "0       rdf:type\n",
       "1     rdfs:label\n",
       "2  skos:altLabel"
      ]
     },
     "execution_count": 160,
     "metadata": {},
     "output_type": "execute_result"
    }
   ],
   "source": [
    "retrieve_all_sub_attributes('wos:AF')"
   ]
  },
  {
   "cell_type": "markdown",
   "metadata": {},
   "source": [
    "Display all attributes related to authors in a table:"
   ]
  },
  {
   "cell_type": "code",
   "execution_count": 201,
   "metadata": {},
   "outputs": [
    {
     "data": {
      "text/html": [
       "<div>\n",
       "<table border=\"1\" class=\"dataframe\">\n",
       "  <thead>\n",
       "    <tr style=\"text-align: right;\">\n",
       "      <th></th>\n",
       "      <th>wosArticleUri</th>\n",
       "      <th>wosAuthorCompoundUri</th>\n",
       "      <th>authorName</th>\n",
       "      <th>authorAltName</th>\n",
       "    </tr>\n",
       "  </thead>\n",
       "  <tbody>\n",
       "    <tr>\n",
       "      <th>0</th>\n",
       "      <td>wosres:WOS_000060208200006</td>\n",
       "      <td>wosres:WOS_000060208200006_Elsaesser_T</td>\n",
       "      <td>Elsaesser, T</td>\n",
       "      <td>Elsaesser, T</td>\n",
       "    </tr>\n",
       "    <tr>\n",
       "      <th>1</th>\n",
       "      <td>wosres:WOS_000070998900007</td>\n",
       "      <td>wosres:WOS_000070998900007_Aten_JA</td>\n",
       "      <td>Aten, JA</td>\n",
       "      <td>Aten, JA</td>\n",
       "    </tr>\n",
       "    <tr>\n",
       "      <th>2</th>\n",
       "      <td>wosres:WOS_000070998900007</td>\n",
       "      <td>wosres:WOS_000070998900007_Van_Munster_EB</td>\n",
       "      <td>Van Munster, EB</td>\n",
       "      <td>Van Munster, EB</td>\n",
       "    </tr>\n",
       "    <tr>\n",
       "      <th>3</th>\n",
       "      <td>wosres:WOS_000070998900007</td>\n",
       "      <td>wosres:WOS_000070998900007_Van_Vliet_LJ</td>\n",
       "      <td>Van Vliet, LJ</td>\n",
       "      <td>Van Vliet, LJ</td>\n",
       "    </tr>\n",
       "    <tr>\n",
       "      <th>4</th>\n",
       "      <td>wosres:WOS_000071084600009</td>\n",
       "      <td>wosres:WOS_000071084600009_de_Beer_K</td>\n",
       "      <td>de Beer, K</td>\n",
       "      <td>de Beer, K</td>\n",
       "    </tr>\n",
       "    <tr>\n",
       "      <th>5</th>\n",
       "      <td>wosres:WOS_000071084600009</td>\n",
       "      <td>wosres:WOS_000071084600009_de_Voogt_P</td>\n",
       "      <td>de Voogt, P</td>\n",
       "      <td>de Voogt, P</td>\n",
       "    </tr>\n",
       "    <tr>\n",
       "      <th>6</th>\n",
       "      <td>wosres:WOS_000071084600009</td>\n",
       "      <td>wosres:WOS_000071084600009_van_der_Wielen_F</td>\n",
       "      <td>van der Wielen, F</td>\n",
       "      <td>van der Wielen, F</td>\n",
       "    </tr>\n",
       "    <tr>\n",
       "      <th>7</th>\n",
       "      <td>wosres:WOS_000071167500005</td>\n",
       "      <td>wosres:WOS_000071167500005_Faas_BHW</td>\n",
       "      <td>Faas, BHW</td>\n",
       "      <td>Faas, BHW</td>\n",
       "    </tr>\n",
       "    <tr>\n",
       "      <th>8</th>\n",
       "      <td>wosres:WOS_000071167500005</td>\n",
       "      <td>wosres:WOS_000071167500005_Ligthart_PC</td>\n",
       "      <td>Ligthart, PC</td>\n",
       "      <td>Ligthart, PC</td>\n",
       "    </tr>\n",
       "    <tr>\n",
       "      <th>9</th>\n",
       "      <td>wosres:WOS_000071167500005</td>\n",
       "      <td>wosres:WOS_000071167500005_Lomas-Francis_C</td>\n",
       "      <td>Lomas-Francis, C</td>\n",
       "      <td>Lomas-Francis, C</td>\n",
       "    </tr>\n",
       "  </tbody>\n",
       "</table>\n",
       "</div>"
      ],
      "text/plain": [
       "                wosArticleUri                         wosAuthorCompoundUri         authorName      authorAltName\n",
       "0  wosres:WOS_000060208200006       wosres:WOS_000060208200006_Elsaesser_T       Elsaesser, T       Elsaesser, T\n",
       "1  wosres:WOS_000070998900007           wosres:WOS_000070998900007_Aten_JA           Aten, JA           Aten, JA\n",
       "2  wosres:WOS_000070998900007    wosres:WOS_000070998900007_Van_Munster_EB    Van Munster, EB    Van Munster, EB\n",
       "3  wosres:WOS_000070998900007      wosres:WOS_000070998900007_Van_Vliet_LJ      Van Vliet, LJ      Van Vliet, LJ\n",
       "4  wosres:WOS_000071084600009         wosres:WOS_000071084600009_de_Beer_K         de Beer, K         de Beer, K\n",
       "5  wosres:WOS_000071084600009        wosres:WOS_000071084600009_de_Voogt_P        de Voogt, P        de Voogt, P\n",
       "6  wosres:WOS_000071084600009  wosres:WOS_000071084600009_van_der_Wielen_F  van der Wielen, F  van der Wielen, F\n",
       "7  wosres:WOS_000071167500005          wosres:WOS_000071167500005_Faas_BHW          Faas, BHW          Faas, BHW\n",
       "8  wosres:WOS_000071167500005       wosres:WOS_000071167500005_Ligthart_PC       Ligthart, PC       Ligthart, PC\n",
       "9  wosres:WOS_000071167500005   wosres:WOS_000071167500005_Lomas-Francis_C   Lomas-Francis, C   Lomas-Francis, C"
      ]
     },
     "execution_count": 201,
     "metadata": {},
     "output_type": "execute_result"
    }
   ],
   "source": [
    "eculture_query.send_select_query(\"\"\"\n",
    "\n",
    "    SELECT DISTINCT (?article AS ?wosArticleUri) (?author AS ?wosAuthorCompoundUri) ?authorName ?authorAltName\n",
    "    WHERE{\n",
    "        GRAPH wosGraph: {\n",
    "            ?article a wos:Article .\n",
    "            ?article wos:AF ?author .\n",
    "            ?author rdfs:label ?authorName .\n",
    "            ?author skos:altLabel ?authorAltName .\n",
    "        }\n",
    "    }\n",
    "    LIMIT 10\n",
    "\n",
    "\"\"\")"
   ]
  },
  {
   "cell_type": "markdown",
   "metadata": {},
   "source": [
    "### Keywords (by Authors)"
   ]
  },
  {
   "cell_type": "markdown",
   "metadata": {},
   "source": [
    "Keywords has no other properties attached to them:"
   ]
  },
  {
   "cell_type": "code",
   "execution_count": 162,
   "metadata": {},
   "outputs": [
    {
     "data": {
      "text/html": [
       "<div>\n",
       "<table border=\"1\" class=\"dataframe\">\n",
       "  <thead>\n",
       "    <tr style=\"text-align: right;\">\n",
       "      <th></th>\n",
       "      <th>p</th>\n",
       "    </tr>\n",
       "  </thead>\n",
       "  <tbody>\n",
       "  </tbody>\n",
       "</table>\n",
       "</div>"
      ],
      "text/plain": [
       "Empty DataFrame\n",
       "Columns: [p]\n",
       "Index: []"
      ]
     },
     "execution_count": 162,
     "metadata": {},
     "output_type": "execute_result"
    }
   ],
   "source": [
    "retrieve_all_sub_attributes('wos:DE')"
   ]
  },
  {
   "cell_type": "markdown",
   "metadata": {},
   "source": [
    "#### Build the Keyword Processing Pipeline and Test it on Part of the WoS Graph"
   ]
  },
  {
   "cell_type": "markdown",
   "metadata": {},
   "source": [
    "(1) Retrieve a test dataset (using LIMIT ...) containing article ids and associated keywords:"
   ]
  },
  {
   "cell_type": "code",
   "execution_count": 163,
   "metadata": {},
   "outputs": [
    {
     "data": {
      "text/html": [
       "<div>\n",
       "<table border=\"1\" class=\"dataframe\">\n",
       "  <thead>\n",
       "    <tr style=\"text-align: right;\">\n",
       "      <th></th>\n",
       "      <th>wosArticleUri</th>\n",
       "      <th>keywords</th>\n",
       "    </tr>\n",
       "  </thead>\n",
       "  <tbody>\n",
       "    <tr>\n",
       "      <th>0</th>\n",
       "      <td>wosres:WOS_000070970500011</td>\n",
       "      <td>Elymus athericus; growth; photosynthesis; ozone; UV-B radiation</td>\n",
       "    </tr>\n",
       "    <tr>\n",
       "      <th>1</th>\n",
       "      <td>wosres:WOS_000070998100010</td>\n",
       "      <td>pain, postoperative; analgesics, prescribing</td>\n",
       "    </tr>\n",
       "    <tr>\n",
       "      <th>2</th>\n",
       "      <td>wosres:WOS_000070998900007</td>\n",
       "      <td>DIC; Nomarski; interference; microscopy; CCD; image processing;</td>\n",
       "    </tr>\n",
       "    <tr>\n",
       "      <th>3</th>\n",
       "      <td>wosres:WOS_000070998900007</td>\n",
       "      <td>analysis; reconstruction; optical pathlength; phase; transparent; living</td>\n",
       "    </tr>\n",
       "    <tr>\n",
       "      <th>4</th>\n",
       "      <td>wosres:WOS_000071006900008</td>\n",
       "      <td>atherosclerosis; homocysteine; metformin; vitamin B-12</td>\n",
       "    </tr>\n",
       "    <tr>\n",
       "      <th>5</th>\n",
       "      <td>wosres:WOS_000071013000007</td>\n",
       "      <td>policy; household economics</td>\n",
       "    </tr>\n",
       "    <tr>\n",
       "      <th>6</th>\n",
       "      <td>wosres:WOS_000071013000007</td>\n",
       "      <td>sub-Saharan Africa; Swaziland; labor migration; food security; labor</td>\n",
       "    </tr>\n",
       "    <tr>\n",
       "      <th>7</th>\n",
       "      <td>wosres:WOS_000071021600006</td>\n",
       "      <td>nitric oxide radical; NO scavenging; thiol; S-nitrosothiol</td>\n",
       "    </tr>\n",
       "    <tr>\n",
       "      <th>8</th>\n",
       "      <td>wosres:WOS_000071021600006</td>\n",
       "      <td>(electrochemical); NO sensing</td>\n",
       "    </tr>\n",
       "    <tr>\n",
       "      <th>9</th>\n",
       "      <td>wosres:WOS_000071040300005</td>\n",
       "      <td>lumbar spine; vertebra; trabecular bone; Wolff's Law; intervertebral</td>\n",
       "    </tr>\n",
       "  </tbody>\n",
       "</table>\n",
       "</div>"
      ],
      "text/plain": [
       "                wosArticleUri                                                                  keywords\n",
       "0  wosres:WOS_000070970500011           Elymus athericus; growth; photosynthesis; ozone; UV-B radiation\n",
       "1  wosres:WOS_000070998100010                              pain, postoperative; analgesics, prescribing\n",
       "2  wosres:WOS_000070998900007           DIC; Nomarski; interference; microscopy; CCD; image processing;\n",
       "3  wosres:WOS_000070998900007  analysis; reconstruction; optical pathlength; phase; transparent; living\n",
       "4  wosres:WOS_000071006900008                    atherosclerosis; homocysteine; metformin; vitamin B-12\n",
       "5  wosres:WOS_000071013000007                                               policy; household economics\n",
       "6  wosres:WOS_000071013000007      sub-Saharan Africa; Swaziland; labor migration; food security; labor\n",
       "7  wosres:WOS_000071021600006                nitric oxide radical; NO scavenging; thiol; S-nitrosothiol\n",
       "8  wosres:WOS_000071021600006                                             (electrochemical); NO sensing\n",
       "9  wosres:WOS_000071040300005      lumbar spine; vertebra; trabecular bone; Wolff's Law; intervertebral"
      ]
     },
     "execution_count": 163,
     "metadata": {},
     "output_type": "execute_result"
    }
   ],
   "source": [
    "def retrieve_articles_and_keyword_lists_as_dataframe(limit=None):\n",
    "    \"\"\"\n",
    "    Args:\n",
    "        limit(int)\n",
    "    Returns:\n",
    "        pandas dataframe\n",
    "    \"\"\"\n",
    "    if limit == None:\n",
    "        limit_statement_in_query = ''\n",
    "    else:\n",
    "        limit_statement_in_query = 'LIMIT %d' % limit\n",
    "    \n",
    "    articles_vs_keywords_dataframe = eculture_query.send_select_query(\"\"\"\n",
    "        SELECT DISTINCT (?article AS ?wosArticleUri) ?keywords\n",
    "        WHERE{\n",
    "            GRAPH wosGraph: {\n",
    "                ?article a wos:Article;\n",
    "                         wos:DE ?keywords .\n",
    "            }\n",
    "        }\n",
    "        %s\n",
    "    \"\"\" % limit_statement_in_query)\n",
    "    \n",
    "    return articles_vs_keywords_dataframe\n",
    "\n",
    "articles_vs_keywords_dataframe = retrieve_articles_and_keyword_lists_as_dataframe(10)\n",
    "articles_vs_keywords_dataframe"
   ]
  },
  {
   "cell_type": "markdown",
   "metadata": {},
   "source": [
    "(2) Because keywords are in a semicolon-separated list, they need to be tokenized:"
   ]
  },
  {
   "cell_type": "code",
   "execution_count": 164,
   "metadata": {},
   "outputs": [
    {
     "name": "stdout",
     "output_type": "stream",
     "text": [
      "{'wosres:WOS_000070970500011': ['Elymus athericus',\n",
      "                                'growth',\n",
      "                                'photosynthesis',\n",
      "                                'ozone',\n",
      "                                'UV-B radiation'],\n",
      " 'wosres:WOS_000070998100010': ['pain, postoperative',\n",
      "                                'analgesics, prescribing'],\n",
      " 'wosres:WOS_000070998900007': ['analysis',\n",
      "                                'reconstruction',\n",
      "                                'optical pathlength',\n",
      "                                'phase',\n",
      "                                'transparent',\n",
      "                                'living'],\n",
      " 'wosres:WOS_000071006900008': ['atherosclerosis',\n",
      "                                'homocysteine',\n",
      "                                'metformin',\n",
      "                                'vitamin B-12'],\n",
      " 'wosres:WOS_000071013000007': ['sub-Saharan Africa',\n",
      "                                'Swaziland',\n",
      "                                'labor migration',\n",
      "                                'food security',\n",
      "                                'labor'],\n",
      " 'wosres:WOS_000071021600006': ['(electrochemical)', 'NO sensing'],\n",
      " 'wosres:WOS_000071040300005': ['lumbar spine',\n",
      "                                'vertebra',\n",
      "                                'trabecular bone',\n",
      "                                \"Wolff's Law\",\n",
      "                                'intervertebral']}\n"
     ]
    }
   ],
   "source": [
    "def convert_articles_vs_keywords_dataframe_to_dictionary(articles_vs_keywords_dataframe):\n",
    "    \"\"\"\n",
    "    Args:\n",
    "        articles_vs_keywords_dataframe(pandas.dataframe)\n",
    "    Returns:\n",
    "        dict\n",
    "    \"\"\"\n",
    "    \n",
    "    raw_articles_vs_keywords_dictionary = articles_vs_keywords_dataframe.to_dict('split')\n",
    "\n",
    "    indexed_dictionary = {}    \n",
    "    for each_entry in raw_articles_vs_keywords_dictionary['data']:\n",
    "\n",
    "        each_article_id = each_entry[0]\n",
    "        each_keywords_string = each_entry[1]\n",
    "\n",
    "        each_keywords_list = each_keywords_string.split('; ')\n",
    "        \n",
    "        indexed_dictionary[each_article_id] = each_keywords_list\n",
    "    return indexed_dictionary\n",
    "\n",
    "id_vs_keyword_dictionary = convert_articles_vs_keywords_dataframe_to_dictionary(articles_vs_keywords_dataframe)\n",
    "\n",
    "from pprint import pprint\n",
    "pprint(id_vs_keyword_dictionary)"
   ]
  },
  {
   "cell_type": "markdown",
   "metadata": {},
   "source": [
    "(3) Tokenized keywords contain items such as \"Wolff's Law\" and \"(electrochemical)\". They need to be cleaned from special characters:"
   ]
  },
  {
   "cell_type": "code",
   "execution_count": 166,
   "metadata": {},
   "outputs": [
    {
     "name": "stdout",
     "output_type": "stream",
     "text": [
      "{'wosres:WOS_000070970500011': ['Elymus athericus',\n",
      "                                'growth',\n",
      "                                'photosynthesis',\n",
      "                                'ozone',\n",
      "                                'UV-B radiation'],\n",
      " 'wosres:WOS_000070998100010': ['pain postoperative', 'analgesics prescribing'],\n",
      " 'wosres:WOS_000070998900007': ['analysis',\n",
      "                                'reconstruction',\n",
      "                                'optical pathlength',\n",
      "                                'phase',\n",
      "                                'transparent',\n",
      "                                'living'],\n",
      " 'wosres:WOS_000071006900008': ['atherosclerosis',\n",
      "                                'homocysteine',\n",
      "                                'metformin',\n",
      "                                'vitamin B-12'],\n",
      " 'wosres:WOS_000071013000007': ['sub-Saharan Africa',\n",
      "                                'Swaziland',\n",
      "                                'labor migration',\n",
      "                                'food security',\n",
      "                                'labor'],\n",
      " 'wosres:WOS_000071021600006': ['electrochemical', 'NO sensing'],\n",
      " 'wosres:WOS_000071040300005': ['lumbar spine',\n",
      "                                'vertebra',\n",
      "                                'trabecular bone',\n",
      "                                'Wolffs Law',\n",
      "                                'intervertebral']}\n"
     ]
    }
   ],
   "source": [
    "# !pip install unidecode\n",
    "from preprocessor.string_tools import String\n",
    "\n",
    "def clean_id_vs_keyword_dictionary(id_vs_keyword_dictionary):\n",
    "    \"\"\"\n",
    "    Args: \n",
    "        id_vs_keyword_dictionary(dict)\n",
    "    Returns:\n",
    "        dict\n",
    "    \"\"\"\n",
    "\n",
    "    cleaned_id_vs_keyword_dictionary = {}\n",
    "    each_cleaned_keywords_list = []\n",
    "\n",
    "    for each_id, each_keywords_list in id_vs_keyword_dictionary.items():\n",
    "        \n",
    "        for each_keyword in each_keywords_list:\n",
    "            each_cleaned_keyword = String(each_keyword)\n",
    "            each_cleaned_keyword.purify(\n",
    "                clean_from_non_ascii_characters=True, \n",
    "                remove_problematic_patterns=True,\n",
    "                clean_newline_characters=True\n",
    "            )\n",
    "            each_cleaned_keyword.replace_patterns({'\\(|\\)|,':''})\n",
    "            \n",
    "            each_cleaned_keywords_list.append(each_cleaned_keyword)\n",
    "        \n",
    "        cleaned_id_vs_keyword_dictionary[each_id] = each_cleaned_keywords_list\n",
    "        each_cleaned_keywords_list = []\n",
    "        \n",
    "    return cleaned_id_vs_keyword_dictionary\n",
    "\n",
    "cleaned_id_vs_keyword_dictionary = clean_id_vs_keyword_dictionary(id_vs_keyword_dictionary)\n",
    "pprint(cleaned_id_vs_keyword_dictionary)"
   ]
  },
  {
   "cell_type": "markdown",
   "metadata": {},
   "source": [
    "(4) Prepare strings to be later passed on to VALUES keyword in Gastrodon_Query:<br>\n",
    "(This alleviates the need to send one SPARQL query per keyword, and instead, will be used to group keywords per article ID using the VALUES keyword)"
   ]
  },
  {
   "cell_type": "code",
   "execution_count": 167,
   "metadata": {},
   "outputs": [
    {
     "name": "stdout",
     "output_type": "stream",
     "text": [
      "{'wosres:WOS_000070970500011': ' \"Elymus athericus\" \"growth\" \"photosynthesis\" '\n",
      "                               '\"ozone\" \"UV-B radiation\"',\n",
      " 'wosres:WOS_000070998100010': ' \"pain postoperative\" \"analgesics prescribing\"',\n",
      " 'wosres:WOS_000070998900007': ' \"analysis\" \"reconstruction\" \"optical '\n",
      "                               'pathlength\" \"phase\" \"transparent\" \"living\"',\n",
      " 'wosres:WOS_000071006900008': ' \"atherosclerosis\" \"homocysteine\" \"metformin\" '\n",
      "                               '\"vitamin B-12\"',\n",
      " 'wosres:WOS_000071013000007': ' \"sub-Saharan Africa\" \"Swaziland\" \"labor '\n",
      "                               'migration\" \"food security\" \"labor\"',\n",
      " 'wosres:WOS_000071021600006': ' \"electrochemical\" \"NO sensing\"',\n",
      " 'wosres:WOS_000071040300005': ' \"lumbar spine\" \"vertebra\" \"trabecular bone\" '\n",
      "                               '\"Wolffs Law\" \"intervertebral\"'}\n"
     ]
    }
   ],
   "source": [
    "def convert_cleaned_id_vs_keyword_dictionary_to_values_strings_dictionary(cleaned_id_vs_keyword_dictionary):\n",
    "    \"\"\"\n",
    "    Args:\n",
    "        cleaned_id_vs_keyword_dictionary: must be cleaned, as strings that contain \" or ' characters may cause problems \n",
    "            due to output being dynamically wrapped in one of the characters as well (i.e., to wrap them as a string to \n",
    "            pass as VALUES parameter)\n",
    "    Returns:\n",
    "        dict\n",
    "    \"\"\"\n",
    "    parameterised_id_vs_keyword_dictionary = {}\n",
    "    for each_article_id, each_keywords_list in cleaned_id_vs_keyword_dictionary.items():\n",
    "\n",
    "        keywords_string_for_values_parameters = ''\n",
    "        for each_keyword in each_keywords_list:\n",
    "            keywords_string_for_values_parameters = keywords_string_for_values_parameters + ' \"%s\"' % each_keyword\n",
    "            \n",
    "        parameterised_id_vs_keyword_dictionary[each_article_id] = keywords_string_for_values_parameters\n",
    "\n",
    "    return parameterised_id_vs_keyword_dictionary\n",
    "\n",
    "parameterised_id_vs_keyword_dictionary = convert_cleaned_id_vs_keyword_dictionary_to_values_strings_dictionary(cleaned_id_vs_keyword_dictionary)\n",
    "pprint(parameterised_id_vs_keyword_dictionary)"
   ]
  },
  {
   "cell_type": "markdown",
   "metadata": {},
   "source": [
    "(5) Update the test graph using the parameterised keywords:"
   ]
  },
  {
   "cell_type": "code",
   "execution_count": 168,
   "metadata": {},
   "outputs": [
    {
     "name": "stdout",
     "output_type": "stream",
     "text": [
      "wosres:WOS_000070970500011 kfir:hasAuthorKeyword  \"Elymus athericus\" \"growth\" \"photosynthesis\" \"ozone\" \"UV-B radiation\"\n",
      "wosres:WOS_000070998100010 kfir:hasAuthorKeyword  \"pain postoperative\" \"analgesics prescribing\"\n",
      "wosres:WOS_000070998900007 kfir:hasAuthorKeyword  \"analysis\" \"reconstruction\" \"optical pathlength\" \"phase\" \"transparent\" \"living\"\n",
      "wosres:WOS_000071006900008 kfir:hasAuthorKeyword  \"atherosclerosis\" \"homocysteine\" \"metformin\" \"vitamin B-12\"\n",
      "wosres:WOS_000071013000007 kfir:hasAuthorKeyword  \"sub-Saharan Africa\" \"Swaziland\" \"labor migration\" \"food security\" \"labor\"\n",
      "wosres:WOS_000071021600006 kfir:hasAuthorKeyword  \"electrochemical\" \"NO sensing\"\n",
      "wosres:WOS_000071040300005 kfir:hasAuthorKeyword  \"lumbar spine\" \"vertebra\" \"trabecular bone\" \"Wolffs Law\" \"intervertebral\"\n"
     ]
    }
   ],
   "source": [
    "# TODO: Each keyword will be inserted as a new articleId-keyword pair to the wos triple store\n",
    "def update_graph_with_parameterised_id_vs_keyword_dictionary(parameterised_id_vs_keyword_dictionary, graph_to_insert_into, show_progress=False):\n",
    "    \n",
    "    connecting_property = 'kfir:hasAuthorKeyword'  # arbitrary name, can use prefix if previously defined in Gastrodon_Query endpoint\n",
    "\n",
    "    for each_article_id, each_values_parameter_string in parameterised_id_vs_keyword_dictionary.items():\n",
    "\n",
    "        if show_progress:\n",
    "            print (each_article_id, connecting_property, each_values_parameter_string)\n",
    "\n",
    "        eculture_query.send_update_query(query=\"\"\"\n",
    "            INSERT {\n",
    "                   GRAPH %s {\n",
    "                       %s %s ?keyword .\n",
    "                   }\n",
    "               }\n",
    "            WHERE{\n",
    "                VALUES ?keyword {%s}\n",
    "            }\n",
    "            \"\"\" % (graph_to_insert_into, each_article_id, connecting_property, each_values_parameter_string)                            \n",
    "        )\n",
    "                                            \n",
    "update_graph_with_parameterised_id_vs_keyword_dictionary(parameterised_id_vs_keyword_dictionary, 'testGraph:', show_progress=True)"
   ]
  },
  {
   "cell_type": "code",
   "execution_count": 169,
   "metadata": {},
   "outputs": [
    {
     "data": {
      "text/html": [
       "<div>\n",
       "<table border=\"1\" class=\"dataframe\">\n",
       "  <thead>\n",
       "    <tr style=\"text-align: right;\">\n",
       "      <th></th>\n",
       "      <th>s</th>\n",
       "      <th>p</th>\n",
       "      <th>o</th>\n",
       "    </tr>\n",
       "  </thead>\n",
       "  <tbody>\n",
       "    <tr>\n",
       "      <th>0</th>\n",
       "      <td>wosres:WOS_000070970500011</td>\n",
       "      <td>kfir:hasAuthorKeyword</td>\n",
       "      <td>photosynthesis</td>\n",
       "    </tr>\n",
       "    <tr>\n",
       "      <th>1</th>\n",
       "      <td>wosres:WOS_000070970500011</td>\n",
       "      <td>kfir:hasAuthorKeyword</td>\n",
       "      <td>ozone</td>\n",
       "    </tr>\n",
       "    <tr>\n",
       "      <th>2</th>\n",
       "      <td>wosres:WOS_000070970500011</td>\n",
       "      <td>kfir:hasAuthorKeyword</td>\n",
       "      <td>UV-B radiation</td>\n",
       "    </tr>\n",
       "    <tr>\n",
       "      <th>3</th>\n",
       "      <td>wosres:WOS_000070970500011</td>\n",
       "      <td>kfir:hasAuthorKeyword</td>\n",
       "      <td>growth</td>\n",
       "    </tr>\n",
       "    <tr>\n",
       "      <th>4</th>\n",
       "      <td>wosres:WOS_000070970500011</td>\n",
       "      <td>kfir:hasAuthorKeyword</td>\n",
       "      <td>Elymus athericus</td>\n",
       "    </tr>\n",
       "    <tr>\n",
       "      <th>5</th>\n",
       "      <td>wosres:WOS_000070998100010</td>\n",
       "      <td>kfir:hasAuthorKeyword</td>\n",
       "      <td>pain postoperative</td>\n",
       "    </tr>\n",
       "    <tr>\n",
       "      <th>6</th>\n",
       "      <td>wosres:WOS_000070998100010</td>\n",
       "      <td>kfir:hasAuthorKeyword</td>\n",
       "      <td>analgesics prescribing</td>\n",
       "    </tr>\n",
       "    <tr>\n",
       "      <th>7</th>\n",
       "      <td>wosres:WOS_000070998900007</td>\n",
       "      <td>kfir:hasAuthorKeyword</td>\n",
       "      <td>analysis</td>\n",
       "    </tr>\n",
       "    <tr>\n",
       "      <th>8</th>\n",
       "      <td>wosres:WOS_000070998900007</td>\n",
       "      <td>kfir:hasAuthorKeyword</td>\n",
       "      <td>living</td>\n",
       "    </tr>\n",
       "    <tr>\n",
       "      <th>9</th>\n",
       "      <td>wosres:WOS_000070998900007</td>\n",
       "      <td>kfir:hasAuthorKeyword</td>\n",
       "      <td>reconstruction</td>\n",
       "    </tr>\n",
       "    <tr>\n",
       "      <th>10</th>\n",
       "      <td>wosres:WOS_000070998900007</td>\n",
       "      <td>kfir:hasAuthorKeyword</td>\n",
       "      <td>phase</td>\n",
       "    </tr>\n",
       "    <tr>\n",
       "      <th>11</th>\n",
       "      <td>wosres:WOS_000070998900007</td>\n",
       "      <td>kfir:hasAuthorKeyword</td>\n",
       "      <td>optical pathlength</td>\n",
       "    </tr>\n",
       "    <tr>\n",
       "      <th>12</th>\n",
       "      <td>wosres:WOS_000070998900007</td>\n",
       "      <td>kfir:hasAuthorKeyword</td>\n",
       "      <td>transparent</td>\n",
       "    </tr>\n",
       "    <tr>\n",
       "      <th>13</th>\n",
       "      <td>wosres:WOS_000071006900008</td>\n",
       "      <td>kfir:hasAuthorKeyword</td>\n",
       "      <td>atherosclerosis</td>\n",
       "    </tr>\n",
       "    <tr>\n",
       "      <th>14</th>\n",
       "      <td>wosres:WOS_000071006900008</td>\n",
       "      <td>kfir:hasAuthorKeyword</td>\n",
       "      <td>homocysteine</td>\n",
       "    </tr>\n",
       "    <tr>\n",
       "      <th>15</th>\n",
       "      <td>wosres:WOS_000071006900008</td>\n",
       "      <td>kfir:hasAuthorKeyword</td>\n",
       "      <td>metformin</td>\n",
       "    </tr>\n",
       "    <tr>\n",
       "      <th>16</th>\n",
       "      <td>wosres:WOS_000071006900008</td>\n",
       "      <td>kfir:hasAuthorKeyword</td>\n",
       "      <td>vitamin B-12</td>\n",
       "    </tr>\n",
       "    <tr>\n",
       "      <th>17</th>\n",
       "      <td>wosres:WOS_000071013000007</td>\n",
       "      <td>kfir:hasAuthorKeyword</td>\n",
       "      <td>Swaziland</td>\n",
       "    </tr>\n",
       "    <tr>\n",
       "      <th>18</th>\n",
       "      <td>wosres:WOS_000071013000007</td>\n",
       "      <td>kfir:hasAuthorKeyword</td>\n",
       "      <td>food security</td>\n",
       "    </tr>\n",
       "    <tr>\n",
       "      <th>19</th>\n",
       "      <td>wosres:WOS_000071013000007</td>\n",
       "      <td>kfir:hasAuthorKeyword</td>\n",
       "      <td>sub-Saharan Africa</td>\n",
       "    </tr>\n",
       "    <tr>\n",
       "      <th>20</th>\n",
       "      <td>wosres:WOS_000071013000007</td>\n",
       "      <td>kfir:hasAuthorKeyword</td>\n",
       "      <td>labor</td>\n",
       "    </tr>\n",
       "    <tr>\n",
       "      <th>21</th>\n",
       "      <td>wosres:WOS_000071013000007</td>\n",
       "      <td>kfir:hasAuthorKeyword</td>\n",
       "      <td>labor migration</td>\n",
       "    </tr>\n",
       "    <tr>\n",
       "      <th>22</th>\n",
       "      <td>wosres:WOS_000071021600006</td>\n",
       "      <td>kfir:hasAuthorKeyword</td>\n",
       "      <td>electrochemical</td>\n",
       "    </tr>\n",
       "    <tr>\n",
       "      <th>23</th>\n",
       "      <td>wosres:WOS_000071021600006</td>\n",
       "      <td>kfir:hasAuthorKeyword</td>\n",
       "      <td>NO sensing</td>\n",
       "    </tr>\n",
       "    <tr>\n",
       "      <th>24</th>\n",
       "      <td>wosres:WOS_000071040300005</td>\n",
       "      <td>kfir:hasAuthorKeyword</td>\n",
       "      <td>trabecular bone</td>\n",
       "    </tr>\n",
       "    <tr>\n",
       "      <th>25</th>\n",
       "      <td>wosres:WOS_000071040300005</td>\n",
       "      <td>kfir:hasAuthorKeyword</td>\n",
       "      <td>lumbar spine</td>\n",
       "    </tr>\n",
       "    <tr>\n",
       "      <th>26</th>\n",
       "      <td>wosres:WOS_000071040300005</td>\n",
       "      <td>kfir:hasAuthorKeyword</td>\n",
       "      <td>vertebra</td>\n",
       "    </tr>\n",
       "    <tr>\n",
       "      <th>27</th>\n",
       "      <td>wosres:WOS_000071040300005</td>\n",
       "      <td>kfir:hasAuthorKeyword</td>\n",
       "      <td>intervertebral</td>\n",
       "    </tr>\n",
       "    <tr>\n",
       "      <th>28</th>\n",
       "      <td>wosres:WOS_000071040300005</td>\n",
       "      <td>kfir:hasAuthorKeyword</td>\n",
       "      <td>Wolffs Law</td>\n",
       "    </tr>\n",
       "  </tbody>\n",
       "</table>\n",
       "</div>"
      ],
      "text/plain": [
       "                             s                      p                       o\n",
       "0   wosres:WOS_000070970500011  kfir:hasAuthorKeyword          photosynthesis\n",
       "1   wosres:WOS_000070970500011  kfir:hasAuthorKeyword                   ozone\n",
       "2   wosres:WOS_000070970500011  kfir:hasAuthorKeyword          UV-B radiation\n",
       "3   wosres:WOS_000070970500011  kfir:hasAuthorKeyword                  growth\n",
       "4   wosres:WOS_000070970500011  kfir:hasAuthorKeyword        Elymus athericus\n",
       "5   wosres:WOS_000070998100010  kfir:hasAuthorKeyword      pain postoperative\n",
       "6   wosres:WOS_000070998100010  kfir:hasAuthorKeyword  analgesics prescribing\n",
       "7   wosres:WOS_000070998900007  kfir:hasAuthorKeyword                analysis\n",
       "8   wosres:WOS_000070998900007  kfir:hasAuthorKeyword                  living\n",
       "9   wosres:WOS_000070998900007  kfir:hasAuthorKeyword          reconstruction\n",
       "10  wosres:WOS_000070998900007  kfir:hasAuthorKeyword                   phase\n",
       "11  wosres:WOS_000070998900007  kfir:hasAuthorKeyword      optical pathlength\n",
       "12  wosres:WOS_000070998900007  kfir:hasAuthorKeyword             transparent\n",
       "13  wosres:WOS_000071006900008  kfir:hasAuthorKeyword         atherosclerosis\n",
       "14  wosres:WOS_000071006900008  kfir:hasAuthorKeyword            homocysteine\n",
       "15  wosres:WOS_000071006900008  kfir:hasAuthorKeyword               metformin\n",
       "16  wosres:WOS_000071006900008  kfir:hasAuthorKeyword            vitamin B-12\n",
       "17  wosres:WOS_000071013000007  kfir:hasAuthorKeyword               Swaziland\n",
       "18  wosres:WOS_000071013000007  kfir:hasAuthorKeyword           food security\n",
       "19  wosres:WOS_000071013000007  kfir:hasAuthorKeyword      sub-Saharan Africa\n",
       "20  wosres:WOS_000071013000007  kfir:hasAuthorKeyword                   labor\n",
       "21  wosres:WOS_000071013000007  kfir:hasAuthorKeyword         labor migration\n",
       "22  wosres:WOS_000071021600006  kfir:hasAuthorKeyword         electrochemical\n",
       "23  wosres:WOS_000071021600006  kfir:hasAuthorKeyword              NO sensing\n",
       "24  wosres:WOS_000071040300005  kfir:hasAuthorKeyword         trabecular bone\n",
       "25  wosres:WOS_000071040300005  kfir:hasAuthorKeyword            lumbar spine\n",
       "26  wosres:WOS_000071040300005  kfir:hasAuthorKeyword                vertebra\n",
       "27  wosres:WOS_000071040300005  kfir:hasAuthorKeyword          intervertebral\n",
       "28  wosres:WOS_000071040300005  kfir:hasAuthorKeyword              Wolffs Law"
      ]
     },
     "execution_count": 169,
     "metadata": {},
     "output_type": "execute_result"
    }
   ],
   "source": [
    "eculture_query.send_select_query(\"\"\"\n",
    "    SELECT DISTINCT * \n",
    "    WHERE { \n",
    "        GRAPH testGraph: {\n",
    "            ?s ?p ?o .\n",
    "        } \n",
    "    }\n",
    "\"\"\")"
   ]
  },
  {
   "cell_type": "markdown",
   "metadata": {},
   "source": [
    "#### Use the Keywords Pipeline on the Entire WoS Graph"
   ]
  },
  {
   "cell_type": "markdown",
   "metadata": {},
   "source": [
    "This separates and cleans all keywords in WoS Graph, and updates the graph with these processed keywords using the following structure: <br> *?article_id--kfir:hasAuthorKeyword-->?cleaned_keyword* structure."
   ]
  },
  {
   "cell_type": "markdown",
   "metadata": {},
   "source": [
    "(0) **CLEAN** KFIR Graph:"
   ]
  },
  {
   "cell_type": "markdown",
   "metadata": {},
   "source": [
    "Delete all triples in the kfirGraph:"
   ]
  },
  {
   "cell_type": "code",
   "execution_count": 181,
   "metadata": {},
   "outputs": [],
   "source": [
    "# Must be run on server (otherwise causes timeouts)\n",
    "# CLEAR GRAPH kfirGraph:"
   ]
  },
  {
   "cell_type": "markdown",
   "metadata": {},
   "source": [
    "Confirm deletions:"
   ]
  },
  {
   "cell_type": "code",
   "execution_count": 187,
   "metadata": {},
   "outputs": [
    {
     "data": {
      "text/html": [
       "<div>\n",
       "<table border=\"1\" class=\"dataframe\">\n",
       "  <thead>\n",
       "    <tr style=\"text-align: right;\">\n",
       "      <th></th>\n",
       "      <th>s</th>\n",
       "      <th>p</th>\n",
       "      <th>o</th>\n",
       "    </tr>\n",
       "  </thead>\n",
       "  <tbody>\n",
       "  </tbody>\n",
       "</table>\n",
       "</div>"
      ],
      "text/plain": [
       "Empty DataFrame\n",
       "Columns: [s, p, o]\n",
       "Index: []"
      ]
     },
     "execution_count": 187,
     "metadata": {},
     "output_type": "execute_result"
    }
   ],
   "source": [
    "eculture_query.send_select_query(query=\"\"\"\n",
    "    SELECT DISTINCT * {\n",
    "        GRAPH kfirGraph:{\n",
    "            ?s ?p ?o .\n",
    "        }\n",
    "    }\n",
    " \n",
    "\"\"\")"
   ]
  },
  {
   "cell_type": "markdown",
   "metadata": {},
   "source": [
    "(1) Retrieve all articles from wosGraph: and their corresponding keyword list:"
   ]
  },
  {
   "cell_type": "code",
   "execution_count": 184,
   "metadata": {},
   "outputs": [
    {
     "name": "stdout",
     "output_type": "stream",
     "text": [
      "10000\n"
     ]
    }
   ],
   "source": [
    "articles_vs_keywords_dataframe = retrieve_articles_and_keyword_lists_as_dataframe()\n",
    "print(len(articles_vs_keywords_dataframe))"
   ]
  },
  {
   "cell_type": "markdown",
   "metadata": {},
   "source": [
    "(2) Convert results (which are in pandas dataframe format) to a dictionary:"
   ]
  },
  {
   "cell_type": "code",
   "execution_count": 185,
   "metadata": {},
   "outputs": [
    {
     "name": "stdout",
     "output_type": "stream",
     "text": [
      "10000\n"
     ]
    }
   ],
   "source": [
    "id_vs_keyword_dictionary = convert_articles_vs_keywords_dataframe_to_dictionary(articles_vs_keywords_dataframe)\n",
    "print(len(articles_vs_keywords_dataframe))"
   ]
  },
  {
   "cell_type": "markdown",
   "metadata": {},
   "source": [
    "(3) Clean the dictionary:"
   ]
  },
  {
   "cell_type": "code",
   "execution_count": 186,
   "metadata": {},
   "outputs": [
    {
     "name": "stdout",
     "output_type": "stream",
     "text": [
      "5934\n"
     ]
    }
   ],
   "source": [
    "cleaned_id_vs_keyword_dictionary = clean_id_vs_keyword_dictionary(id_vs_keyword_dictionary)\n",
    "print(len(cleaned_id_vs_keyword_dictionary))"
   ]
  },
  {
   "cell_type": "markdown",
   "metadata": {},
   "source": [
    "(4) Parameterize the dictionary for usage in VALUES keyword:"
   ]
  },
  {
   "cell_type": "code",
   "execution_count": 188,
   "metadata": {},
   "outputs": [
    {
     "name": "stdout",
     "output_type": "stream",
     "text": [
      "5934\n"
     ]
    }
   ],
   "source": [
    "parameterised_id_vs_keyword_dictionary = convert_cleaned_id_vs_keyword_dictionary_to_values_strings_dictionary(cleaned_id_vs_keyword_dictionary)\n",
    "print(len(parameterised_id_vs_keyword_dictionary))"
   ]
  },
  {
   "cell_type": "markdown",
   "metadata": {},
   "source": [
    "(5) **UPDATE** kfirGraph with the tokenized and cleaned keywords: <br>\n",
    "(Takes a few minutes)"
   ]
  },
  {
   "cell_type": "code",
   "execution_count": 191,
   "metadata": {},
   "outputs": [],
   "source": [
    "# first run may return error, and it may take more than one time to fully update \n",
    "# (run this snipped multiple times even if it returns error. Each run will be faster due to already added items from previous runs.)\n",
    "update_graph_with_parameterised_id_vs_keyword_dictionary(parameterised_id_vs_keyword_dictionary, 'kfirGraph:')"
   ]
  },
  {
   "cell_type": "markdown",
   "metadata": {},
   "source": [
    "Confirm that the kfirGraph: is updated:"
   ]
  },
  {
   "cell_type": "code",
   "execution_count": 193,
   "metadata": {},
   "outputs": [
    {
     "data": {
      "text/html": [
       "<div>\n",
       "<table border=\"1\" class=\"dataframe\">\n",
       "  <thead>\n",
       "    <tr style=\"text-align: right;\">\n",
       "      <th></th>\n",
       "      <th>wosArticleUri</th>\n",
       "      <th>authorKeyword</th>\n",
       "    </tr>\n",
       "  </thead>\n",
       "  <tbody>\n",
       "    <tr>\n",
       "      <th>0</th>\n",
       "      <td>wosres:WOS_000168368500006</td>\n",
       "      <td>P</td>\n",
       "    </tr>\n",
       "    <tr>\n",
       "      <th>1</th>\n",
       "      <td>wosres:WOS_000080162700011</td>\n",
       "      <td>Africa</td>\n",
       "    </tr>\n",
       "    <tr>\n",
       "      <th>2</th>\n",
       "      <td>wosres:WOS_000165719300016</td>\n",
       "      <td>Africa</td>\n",
       "    </tr>\n",
       "    <tr>\n",
       "      <th>3</th>\n",
       "      <td>wosres:WOS_000169902800011</td>\n",
       "      <td>Africa</td>\n",
       "    </tr>\n",
       "    <tr>\n",
       "      <th>4</th>\n",
       "      <td>wosres:WOS_000174993500042</td>\n",
       "      <td>Africa</td>\n",
       "    </tr>\n",
       "    <tr>\n",
       "      <th>5</th>\n",
       "      <td>wosres:WOS_000176751200010</td>\n",
       "      <td>Africa</td>\n",
       "    </tr>\n",
       "    <tr>\n",
       "      <th>6</th>\n",
       "      <td>wosres:WOS_000166595300001</td>\n",
       "      <td>Albania</td>\n",
       "    </tr>\n",
       "    <tr>\n",
       "      <th>7</th>\n",
       "      <td>wosres:WOS_000167615300010</td>\n",
       "      <td>Albania</td>\n",
       "    </tr>\n",
       "    <tr>\n",
       "      <th>8</th>\n",
       "      <td>wosres:WOS_000088328200008</td>\n",
       "      <td>Alberta</td>\n",
       "    </tr>\n",
       "    <tr>\n",
       "      <th>9</th>\n",
       "      <td>wosres:WOS_000074619300006</td>\n",
       "      <td>Amazonas</td>\n",
       "    </tr>\n",
       "    <tr>\n",
       "      <th>10</th>\n",
       "      <td>wosres:WOS_000085554300005</td>\n",
       "      <td>Antarctica</td>\n",
       "    </tr>\n",
       "    <tr>\n",
       "      <th>11</th>\n",
       "      <td>wosres:WOS_000165320800013</td>\n",
       "      <td>Asia</td>\n",
       "    </tr>\n",
       "    <tr>\n",
       "      <th>12</th>\n",
       "      <td>wosres:WOS_000168358700008</td>\n",
       "      <td>Asia</td>\n",
       "    </tr>\n",
       "    <tr>\n",
       "      <th>13</th>\n",
       "      <td>wosres:WOS_000169902800011</td>\n",
       "      <td>Asia</td>\n",
       "    </tr>\n",
       "    <tr>\n",
       "      <th>14</th>\n",
       "      <td>wosres:WOS_000176370700011</td>\n",
       "      <td>Bahamas</td>\n",
       "    </tr>\n",
       "    <tr>\n",
       "      <th>15</th>\n",
       "      <td>wosres:WOS_000167607300003</td>\n",
       "      <td>Belgium</td>\n",
       "    </tr>\n",
       "    <tr>\n",
       "      <th>16</th>\n",
       "      <td>wosres:WOS_000081808200001</td>\n",
       "      <td>Belize</td>\n",
       "    </tr>\n",
       "    <tr>\n",
       "      <th>17</th>\n",
       "      <td>wosres:WOS_000071534300008</td>\n",
       "      <td>Brazil</td>\n",
       "    </tr>\n",
       "    <tr>\n",
       "      <th>18</th>\n",
       "      <td>wosres:WOS_000168116100009</td>\n",
       "      <td>Brazil</td>\n",
       "    </tr>\n",
       "    <tr>\n",
       "      <th>19</th>\n",
       "      <td>wosres:WOS_000089316400003</td>\n",
       "      <td>Bulgaria</td>\n",
       "    </tr>\n",
       "    <tr>\n",
       "      <th>20</th>\n",
       "      <td>wosres:WOS_000088581400012</td>\n",
       "      <td>Chile</td>\n",
       "    </tr>\n",
       "    <tr>\n",
       "      <th>21</th>\n",
       "      <td>wosres:WOS_000167607300003</td>\n",
       "      <td>China</td>\n",
       "    </tr>\n",
       "    <tr>\n",
       "      <th>22</th>\n",
       "      <td>wosres:WOS_000168630900007</td>\n",
       "      <td>China</td>\n",
       "    </tr>\n",
       "    <tr>\n",
       "      <th>23</th>\n",
       "      <td>wosres:WOS_000173883600003</td>\n",
       "      <td>China</td>\n",
       "    </tr>\n",
       "    <tr>\n",
       "      <th>24</th>\n",
       "      <td>wosres:WOS_000178163000007</td>\n",
       "      <td>China</td>\n",
       "    </tr>\n",
       "    <tr>\n",
       "      <th>25</th>\n",
       "      <td>wosres:WOS_000071668300002</td>\n",
       "      <td>Colombia</td>\n",
       "    </tr>\n",
       "    <tr>\n",
       "      <th>26</th>\n",
       "      <td>wosres:WOS_000089808000007</td>\n",
       "      <td>Colombia</td>\n",
       "    </tr>\n",
       "    <tr>\n",
       "      <th>27</th>\n",
       "      <td>wosres:WOS_000177435600014</td>\n",
       "      <td>Colombia</td>\n",
       "    </tr>\n",
       "    <tr>\n",
       "      <th>28</th>\n",
       "      <td>wosres:WOS_000088581400004</td>\n",
       "      <td>Czech Republic</td>\n",
       "    </tr>\n",
       "    <tr>\n",
       "      <th>29</th>\n",
       "      <td>wosres:WOS_000174310000010</td>\n",
       "      <td>DOM</td>\n",
       "    </tr>\n",
       "    <tr>\n",
       "      <th>...</th>\n",
       "      <td>...</td>\n",
       "      <td>...</td>\n",
       "    </tr>\n",
       "    <tr>\n",
       "      <th>9970</th>\n",
       "      <td>wosres:WOS_000079002400018</td>\n",
       "      <td>clodronate</td>\n",
       "    </tr>\n",
       "    <tr>\n",
       "      <th>9971</th>\n",
       "      <td>wosres:WOS_000081535200038</td>\n",
       "      <td>clodronate</td>\n",
       "    </tr>\n",
       "    <tr>\n",
       "      <th>9972</th>\n",
       "      <td>wosres:WOS_000085140100006</td>\n",
       "      <td>clodronate</td>\n",
       "    </tr>\n",
       "    <tr>\n",
       "      <th>9973</th>\n",
       "      <td>wosres:WOS_000167393700007</td>\n",
       "      <td>clodronate</td>\n",
       "    </tr>\n",
       "    <tr>\n",
       "      <th>9974</th>\n",
       "      <td>wosres:WOS_000176100000026</td>\n",
       "      <td>close</td>\n",
       "    </tr>\n",
       "    <tr>\n",
       "      <th>9975</th>\n",
       "      <td>wosres:WOS_000078275700003</td>\n",
       "      <td>clusters</td>\n",
       "    </tr>\n",
       "    <tr>\n",
       "      <th>9976</th>\n",
       "      <td>wosres:WOS_000177851700013</td>\n",
       "      <td>clusters</td>\n",
       "    </tr>\n",
       "    <tr>\n",
       "      <th>9977</th>\n",
       "      <td>wosres:WOS_000083431600012</td>\n",
       "      <td>coefficient</td>\n",
       "    </tr>\n",
       "    <tr>\n",
       "      <th>9978</th>\n",
       "      <td>wosres:WOS_000082012900002</td>\n",
       "      <td>cognitive functioning</td>\n",
       "    </tr>\n",
       "    <tr>\n",
       "      <th>9979</th>\n",
       "      <td>wosres:WOS_000087154000005</td>\n",
       "      <td>cognitive functioning</td>\n",
       "    </tr>\n",
       "    <tr>\n",
       "      <th>9980</th>\n",
       "      <td>wosres:WOS_000178250300005</td>\n",
       "      <td>cognitive functioning</td>\n",
       "    </tr>\n",
       "    <tr>\n",
       "      <th>9981</th>\n",
       "      <td>wosres:WOS_000168291100016</td>\n",
       "      <td>colliculus</td>\n",
       "    </tr>\n",
       "    <tr>\n",
       "      <th>9982</th>\n",
       "      <td>wosres:WOS_000075104100009</td>\n",
       "      <td>combination therapy</td>\n",
       "    </tr>\n",
       "    <tr>\n",
       "      <th>9983</th>\n",
       "      <td>wosres:WOS_000165746400005</td>\n",
       "      <td>combination therapy</td>\n",
       "    </tr>\n",
       "    <tr>\n",
       "      <th>9984</th>\n",
       "      <td>wosres:WOS_000079461300005</td>\n",
       "      <td>community mental health</td>\n",
       "    </tr>\n",
       "    <tr>\n",
       "      <th>9985</th>\n",
       "      <td>wosres:WOS_000176385600006</td>\n",
       "      <td>competitiveness</td>\n",
       "    </tr>\n",
       "    <tr>\n",
       "      <th>9986</th>\n",
       "      <td>wosres:WOS_000082152400012</td>\n",
       "      <td>complementarities</td>\n",
       "    </tr>\n",
       "    <tr>\n",
       "      <th>9987</th>\n",
       "      <td>wosres:WOS_000172649400002</td>\n",
       "      <td>complex</td>\n",
       "    </tr>\n",
       "    <tr>\n",
       "      <th>9988</th>\n",
       "      <td>wosres:WOS_000073890200004</td>\n",
       "      <td>compliance</td>\n",
       "    </tr>\n",
       "    <tr>\n",
       "      <th>9989</th>\n",
       "      <td>wosres:WOS_000081288900009</td>\n",
       "      <td>compliance</td>\n",
       "    </tr>\n",
       "    <tr>\n",
       "      <th>9990</th>\n",
       "      <td>wosres:WOS_000165420500006</td>\n",
       "      <td>compliance</td>\n",
       "    </tr>\n",
       "    <tr>\n",
       "      <th>9991</th>\n",
       "      <td>wosres:WOS_000083821500006</td>\n",
       "      <td>complication</td>\n",
       "    </tr>\n",
       "    <tr>\n",
       "      <th>9992</th>\n",
       "      <td>wosres:WOS_000082600900012</td>\n",
       "      <td>complications</td>\n",
       "    </tr>\n",
       "    <tr>\n",
       "      <th>9993</th>\n",
       "      <td>wosres:WOS_000085477500013</td>\n",
       "      <td>complications</td>\n",
       "    </tr>\n",
       "    <tr>\n",
       "      <th>9994</th>\n",
       "      <td>wosres:WOS_000168714800017</td>\n",
       "      <td>complications</td>\n",
       "    </tr>\n",
       "    <tr>\n",
       "      <th>9995</th>\n",
       "      <td>wosres:WOS_000171226600018</td>\n",
       "      <td>complications</td>\n",
       "    </tr>\n",
       "    <tr>\n",
       "      <th>9996</th>\n",
       "      <td>wosres:WOS_000086174000021</td>\n",
       "      <td>compression</td>\n",
       "    </tr>\n",
       "    <tr>\n",
       "      <th>9997</th>\n",
       "      <td>wosres:WOS_000170501300012</td>\n",
       "      <td>compression</td>\n",
       "    </tr>\n",
       "    <tr>\n",
       "      <th>9998</th>\n",
       "      <td>wosres:WOS_000176947900007</td>\n",
       "      <td>compression</td>\n",
       "    </tr>\n",
       "    <tr>\n",
       "      <th>9999</th>\n",
       "      <td>wosres:WOS_000079532600005</td>\n",
       "      <td>concentrations</td>\n",
       "    </tr>\n",
       "  </tbody>\n",
       "</table>\n",
       "<p>10000 rows × 2 columns</p>\n",
       "</div>"
      ],
      "text/plain": [
       "                   wosArticleUri            authorKeyword\n",
       "0     wosres:WOS_000168368500006                        P\n",
       "1     wosres:WOS_000080162700011                   Africa\n",
       "2     wosres:WOS_000165719300016                   Africa\n",
       "3     wosres:WOS_000169902800011                   Africa\n",
       "4     wosres:WOS_000174993500042                   Africa\n",
       "5     wosres:WOS_000176751200010                   Africa\n",
       "6     wosres:WOS_000166595300001                  Albania\n",
       "7     wosres:WOS_000167615300010                  Albania\n",
       "8     wosres:WOS_000088328200008                  Alberta\n",
       "9     wosres:WOS_000074619300006                 Amazonas\n",
       "10    wosres:WOS_000085554300005               Antarctica\n",
       "11    wosres:WOS_000165320800013                     Asia\n",
       "12    wosres:WOS_000168358700008                     Asia\n",
       "13    wosres:WOS_000169902800011                     Asia\n",
       "14    wosres:WOS_000176370700011                  Bahamas\n",
       "15    wosres:WOS_000167607300003                  Belgium\n",
       "16    wosres:WOS_000081808200001                   Belize\n",
       "17    wosres:WOS_000071534300008                   Brazil\n",
       "18    wosres:WOS_000168116100009                   Brazil\n",
       "19    wosres:WOS_000089316400003                 Bulgaria\n",
       "20    wosres:WOS_000088581400012                    Chile\n",
       "21    wosres:WOS_000167607300003                    China\n",
       "22    wosres:WOS_000168630900007                    China\n",
       "23    wosres:WOS_000173883600003                    China\n",
       "24    wosres:WOS_000178163000007                    China\n",
       "25    wosres:WOS_000071668300002                 Colombia\n",
       "26    wosres:WOS_000089808000007                 Colombia\n",
       "27    wosres:WOS_000177435600014                 Colombia\n",
       "28    wosres:WOS_000088581400004           Czech Republic\n",
       "29    wosres:WOS_000174310000010                      DOM\n",
       "...                          ...                      ...\n",
       "9970  wosres:WOS_000079002400018               clodronate\n",
       "9971  wosres:WOS_000081535200038               clodronate\n",
       "9972  wosres:WOS_000085140100006               clodronate\n",
       "9973  wosres:WOS_000167393700007               clodronate\n",
       "9974  wosres:WOS_000176100000026                    close\n",
       "9975  wosres:WOS_000078275700003                 clusters\n",
       "9976  wosres:WOS_000177851700013                 clusters\n",
       "9977  wosres:WOS_000083431600012              coefficient\n",
       "9978  wosres:WOS_000082012900002    cognitive functioning\n",
       "9979  wosres:WOS_000087154000005    cognitive functioning\n",
       "9980  wosres:WOS_000178250300005    cognitive functioning\n",
       "9981  wosres:WOS_000168291100016               colliculus\n",
       "9982  wosres:WOS_000075104100009      combination therapy\n",
       "9983  wosres:WOS_000165746400005      combination therapy\n",
       "9984  wosres:WOS_000079461300005  community mental health\n",
       "9985  wosres:WOS_000176385600006          competitiveness\n",
       "9986  wosres:WOS_000082152400012        complementarities\n",
       "9987  wosres:WOS_000172649400002                  complex\n",
       "9988  wosres:WOS_000073890200004               compliance\n",
       "9989  wosres:WOS_000081288900009               compliance\n",
       "9990  wosres:WOS_000165420500006               compliance\n",
       "9991  wosres:WOS_000083821500006             complication\n",
       "9992  wosres:WOS_000082600900012            complications\n",
       "9993  wosres:WOS_000085477500013            complications\n",
       "9994  wosres:WOS_000168714800017            complications\n",
       "9995  wosres:WOS_000171226600018            complications\n",
       "9996  wosres:WOS_000086174000021              compression\n",
       "9997  wosres:WOS_000170501300012              compression\n",
       "9998  wosres:WOS_000176947900007              compression\n",
       "9999  wosres:WOS_000079532600005           concentrations\n",
       "\n",
       "[10000 rows x 2 columns]"
      ]
     },
     "execution_count": 193,
     "metadata": {},
     "output_type": "execute_result"
    }
   ],
   "source": [
    "eculture_query.send_select_query(\"\"\"\n",
    "    SELECT DISTINCT (?article AS ?wosArticleUri) ?authorKeyword\n",
    "    WHERE { \n",
    "        GRAPH kfirGraph: {\n",
    "            ?article kfir:hasAuthorKeyword ?authorKeyword .\n",
    "        } \n",
    "    }\n",
    "\"\"\")"
   ]
  },
  {
   "cell_type": "markdown",
   "metadata": {},
   "source": [
    "### DOI"
   ]
  },
  {
   "cell_type": "code",
   "execution_count": 194,
   "metadata": {},
   "outputs": [
    {
     "data": {
      "text/html": [
       "<div>\n",
       "<table border=\"1\" class=\"dataframe\">\n",
       "  <thead>\n",
       "    <tr style=\"text-align: right;\">\n",
       "      <th></th>\n",
       "      <th>p</th>\n",
       "    </tr>\n",
       "  </thead>\n",
       "  <tbody>\n",
       "    <tr>\n",
       "      <th>0</th>\n",
       "      <td>rdf:type</td>\n",
       "    </tr>\n",
       "    <tr>\n",
       "      <th>1</th>\n",
       "      <td>rdfs:label</td>\n",
       "    </tr>\n",
       "    <tr>\n",
       "      <th>2</th>\n",
       "      <td>wos:DOI</td>\n",
       "    </tr>\n",
       "  </tbody>\n",
       "</table>\n",
       "</div>"
      ],
      "text/plain": [
       "            p\n",
       "0    rdf:type\n",
       "1  rdfs:label\n",
       "2     wos:DOI"
      ]
     },
     "execution_count": 194,
     "metadata": {},
     "output_type": "execute_result"
    }
   ],
   "source": [
    "retrieve_all_sub_attributes('wos:DOI')"
   ]
  },
  {
   "cell_type": "markdown",
   "metadata": {},
   "source": [
    "Display all attributes related to DOI in a table:"
   ]
  },
  {
   "cell_type": "code",
   "execution_count": 195,
   "metadata": {},
   "outputs": [
    {
     "data": {
      "text/html": [
       "<div>\n",
       "<table border=\"1\" class=\"dataframe\">\n",
       "  <thead>\n",
       "    <tr style=\"text-align: right;\">\n",
       "      <th></th>\n",
       "      <th>article</th>\n",
       "      <th>doi</th>\n",
       "      <th>doiLabel</th>\n",
       "      <th>doiDoi</th>\n",
       "      <th>doiType</th>\n",
       "    </tr>\n",
       "  </thead>\n",
       "  <tbody>\n",
       "    <tr>\n",
       "      <th>0</th>\n",
       "      <td>wosres:WOS_000070998900007</td>\n",
       "      <td>http://dx.doi.org/10.1046%2Fj.1365-2818.1997.2570815.x</td>\n",
       "      <td>Van Munster EB, 1997, J MICROSC-OXFORD, V188, P149, DOI 10.1046/j.1365-2818.1997.2570815.x</td>\n",
       "      <td>http://dx.doi.org/10.1046%2Fj.1365-2818.1997.2570815.x</td>\n",
       "      <td>wos:CitedPublication</td>\n",
       "    </tr>\n",
       "    <tr>\n",
       "      <th>1</th>\n",
       "      <td>wosres:WOS_000071636500010</td>\n",
       "      <td>http://dx.doi.org/10.1002%2F(SICI)1096-9896(199801)184%3A1%3C53%3A%3AAID-PATH6%3E3.0.CO%3B2-7</td>\n",
       "      <td>De Jong JS, 1998, J PATHOL, V184, P53, DOI 10.1002/(SICI)1096-9896(199801)184:1&lt;53::AID-PATH6&gt;3....</td>\n",
       "      <td>http://dx.doi.org/10.1002%2F(SICI)1096-9896(199801)184%3A1%3C53%3A%3AAID-PATH6%3E3.0.CO%3B2-7</td>\n",
       "      <td>wos:CitedPublication</td>\n",
       "    </tr>\n",
       "    <tr>\n",
       "      <th>2</th>\n",
       "      <td>wosres:WOS_000072954400012</td>\n",
       "      <td>http://dx.doi.org/10.1002%2Fana.410430413</td>\n",
       "      <td>van den Berg JSP, 1998, ANN NEUROL, V43, P494, DOI 10.1002/ana.410430413</td>\n",
       "      <td>http://dx.doi.org/10.1002%2Fana.410430413</td>\n",
       "      <td>wos:CitedPublication</td>\n",
       "    </tr>\n",
       "    <tr>\n",
       "      <th>3</th>\n",
       "      <td>wosres:WOS_000071179700013</td>\n",
       "      <td>http://dx.doi.org/10.1006%2Fexer.1997.0396</td>\n",
       "      <td>Broekhuyse RM, 1997, EXP EYE RES, V65, P841, DOI 10.1006/exer.1997.0396</td>\n",
       "      <td>http://dx.doi.org/10.1006%2Fexer.1997.0396</td>\n",
       "      <td>wos:CitedPublication</td>\n",
       "    </tr>\n",
       "    <tr>\n",
       "      <th>4</th>\n",
       "      <td>wosres:WOS_000071912700002</td>\n",
       "      <td>http://dx.doi.org/10.1006%2Fgcen.1997.7001</td>\n",
       "      <td>de Lange RPJ, 1998, GEN COMP ENDOCR, V109, P166, DOI 10.1006/gcen.1997.7001</td>\n",
       "      <td>http://dx.doi.org/10.1006%2Fgcen.1997.7001</td>\n",
       "      <td>wos:CitedPublication</td>\n",
       "    </tr>\n",
       "    <tr>\n",
       "      <th>5</th>\n",
       "      <td>wosres:WOS_000074708500005</td>\n",
       "      <td>http://dx.doi.org/10.1006%2Fjdeq.1998.3428</td>\n",
       "      <td>Gohberg I, 1998, J DIFFER EQUATIONS, V146, P375, DOI 10.1006/jdeq.1998.3428</td>\n",
       "      <td>http://dx.doi.org/10.1006%2Fjdeq.1998.3428</td>\n",
       "      <td>wos:CitedPublication</td>\n",
       "    </tr>\n",
       "    <tr>\n",
       "      <th>6</th>\n",
       "      <td>wosres:WOS_000073621000010</td>\n",
       "      <td>http://dx.doi.org/10.1007%2Fs002210050380</td>\n",
       "      <td>Toussaint HM, 1998, EXP BRAIN RES, V120, P85, DOI 10.1007/s002210050380</td>\n",
       "      <td>http://dx.doi.org/10.1007%2Fs002210050380</td>\n",
       "      <td>wos:CitedPublication</td>\n",
       "    </tr>\n",
       "    <tr>\n",
       "      <th>7</th>\n",
       "      <td>wosres:WOS_000073621900004</td>\n",
       "      <td>http://dx.doi.org/10.1007%2Fs002510050382</td>\n",
       "      <td>Bouma G, 1998, IMMUNOGENETICS, V47, P451, DOI 10.1007/s002510050382</td>\n",
       "      <td>http://dx.doi.org/10.1007%2Fs002510050382</td>\n",
       "      <td>wos:CitedPublication</td>\n",
       "    </tr>\n",
       "    <tr>\n",
       "      <th>8</th>\n",
       "      <td>wosres:WOS_000071074300003</td>\n",
       "      <td>http://dx.doi.org/10.1007%2Fs004320050111</td>\n",
       "      <td>van der Wilt CL, 1997, J CANCER RES CLIN, V123, P595, DOI 10.1007/s004320050111</td>\n",
       "      <td>http://dx.doi.org/10.1007%2Fs004320050111</td>\n",
       "      <td>wos:CitedPublication</td>\n",
       "    </tr>\n",
       "    <tr>\n",
       "      <th>9</th>\n",
       "      <td>wosres:WOS_000074171100014</td>\n",
       "      <td>http://dx.doi.org/10.1007%2Fs004390050745</td>\n",
       "      <td>Collee JM, 1998, HUM GENET, V102, P587, DOI 10.1007/s004390050745</td>\n",
       "      <td>http://dx.doi.org/10.1007%2Fs004390050745</td>\n",
       "      <td>wos:CitedPublication</td>\n",
       "    </tr>\n",
       "  </tbody>\n",
       "</table>\n",
       "</div>"
      ],
      "text/plain": [
       "                      article  \\\n",
       "0  wosres:WOS_000070998900007   \n",
       "1  wosres:WOS_000071636500010   \n",
       "2  wosres:WOS_000072954400012   \n",
       "3  wosres:WOS_000071179700013   \n",
       "4  wosres:WOS_000071912700002   \n",
       "5  wosres:WOS_000074708500005   \n",
       "6  wosres:WOS_000073621000010   \n",
       "7  wosres:WOS_000073621900004   \n",
       "8  wosres:WOS_000071074300003   \n",
       "9  wosres:WOS_000074171100014   \n",
       "\n",
       "                                                                                             doi  \\\n",
       "0                                         http://dx.doi.org/10.1046%2Fj.1365-2818.1997.2570815.x   \n",
       "1  http://dx.doi.org/10.1002%2F(SICI)1096-9896(199801)184%3A1%3C53%3A%3AAID-PATH6%3E3.0.CO%3B2-7   \n",
       "2                                                      http://dx.doi.org/10.1002%2Fana.410430413   \n",
       "3                                                     http://dx.doi.org/10.1006%2Fexer.1997.0396   \n",
       "4                                                     http://dx.doi.org/10.1006%2Fgcen.1997.7001   \n",
       "5                                                     http://dx.doi.org/10.1006%2Fjdeq.1998.3428   \n",
       "6                                                      http://dx.doi.org/10.1007%2Fs002210050380   \n",
       "7                                                      http://dx.doi.org/10.1007%2Fs002510050382   \n",
       "8                                                      http://dx.doi.org/10.1007%2Fs004320050111   \n",
       "9                                                      http://dx.doi.org/10.1007%2Fs004390050745   \n",
       "\n",
       "                                                                                              doiLabel  \\\n",
       "0           Van Munster EB, 1997, J MICROSC-OXFORD, V188, P149, DOI 10.1046/j.1365-2818.1997.2570815.x   \n",
       "1  De Jong JS, 1998, J PATHOL, V184, P53, DOI 10.1002/(SICI)1096-9896(199801)184:1<53::AID-PATH6>3....   \n",
       "2                             van den Berg JSP, 1998, ANN NEUROL, V43, P494, DOI 10.1002/ana.410430413   \n",
       "3                              Broekhuyse RM, 1997, EXP EYE RES, V65, P841, DOI 10.1006/exer.1997.0396   \n",
       "4                          de Lange RPJ, 1998, GEN COMP ENDOCR, V109, P166, DOI 10.1006/gcen.1997.7001   \n",
       "5                          Gohberg I, 1998, J DIFFER EQUATIONS, V146, P375, DOI 10.1006/jdeq.1998.3428   \n",
       "6                              Toussaint HM, 1998, EXP BRAIN RES, V120, P85, DOI 10.1007/s002210050380   \n",
       "7                                  Bouma G, 1998, IMMUNOGENETICS, V47, P451, DOI 10.1007/s002510050382   \n",
       "8                      van der Wilt CL, 1997, J CANCER RES CLIN, V123, P595, DOI 10.1007/s004320050111   \n",
       "9                                    Collee JM, 1998, HUM GENET, V102, P587, DOI 10.1007/s004390050745   \n",
       "\n",
       "                                                                                          doiDoi               doiType  \n",
       "0                                         http://dx.doi.org/10.1046%2Fj.1365-2818.1997.2570815.x  wos:CitedPublication  \n",
       "1  http://dx.doi.org/10.1002%2F(SICI)1096-9896(199801)184%3A1%3C53%3A%3AAID-PATH6%3E3.0.CO%3B2-7  wos:CitedPublication  \n",
       "2                                                      http://dx.doi.org/10.1002%2Fana.410430413  wos:CitedPublication  \n",
       "3                                                     http://dx.doi.org/10.1006%2Fexer.1997.0396  wos:CitedPublication  \n",
       "4                                                     http://dx.doi.org/10.1006%2Fgcen.1997.7001  wos:CitedPublication  \n",
       "5                                                     http://dx.doi.org/10.1006%2Fjdeq.1998.3428  wos:CitedPublication  \n",
       "6                                                      http://dx.doi.org/10.1007%2Fs002210050380  wos:CitedPublication  \n",
       "7                                                      http://dx.doi.org/10.1007%2Fs002510050382  wos:CitedPublication  \n",
       "8                                                      http://dx.doi.org/10.1007%2Fs004320050111  wos:CitedPublication  \n",
       "9                                                      http://dx.doi.org/10.1007%2Fs004390050745  wos:CitedPublication  "
      ]
     },
     "execution_count": 195,
     "metadata": {},
     "output_type": "execute_result"
    }
   ],
   "source": [
    "eculture_query.send_select_query(\"\"\"\n",
    "\n",
    "    SELECT DISTINCT *\n",
    "    WHERE{\n",
    "        GRAPH wosGraph: {\n",
    "            ?article a wos:Article ;\n",
    "                     wos:DOI ?doi .\n",
    "                     \n",
    "            ?doi rdfs:label ?doiLabel ;\n",
    "                          wos:DOI ?doiDoi ;\n",
    "                          a       ?doiType .\n",
    "        }\n",
    "    }\n",
    "    LIMIT 10\n",
    "\n",
    "\"\"\")"
   ]
  },
  {
   "cell_type": "markdown",
   "metadata": {},
   "source": [
    "Display only the attributes of interest:"
   ]
  },
  {
   "cell_type": "code",
   "execution_count": 197,
   "metadata": {},
   "outputs": [
    {
     "data": {
      "text/html": [
       "<div>\n",
       "<table border=\"1\" class=\"dataframe\">\n",
       "  <thead>\n",
       "    <tr style=\"text-align: right;\">\n",
       "      <th></th>\n",
       "      <th>wosArticleUri</th>\n",
       "      <th>doi</th>\n",
       "    </tr>\n",
       "  </thead>\n",
       "  <tbody>\n",
       "    <tr>\n",
       "      <th>0</th>\n",
       "      <td>wosres:WOS_000070998900007</td>\n",
       "      <td>http://dx.doi.org/10.1046%2Fj.1365-2818.1997.2570815.x</td>\n",
       "    </tr>\n",
       "    <tr>\n",
       "      <th>1</th>\n",
       "      <td>wosres:WOS_000071636500010</td>\n",
       "      <td>http://dx.doi.org/10.1002%2F(SICI)1096-9896(199801)184%3A1%3C53%3A%3AAID-PATH6%3E3.0.CO%3B2-7</td>\n",
       "    </tr>\n",
       "    <tr>\n",
       "      <th>2</th>\n",
       "      <td>wosres:WOS_000072954400012</td>\n",
       "      <td>http://dx.doi.org/10.1002%2Fana.410430413</td>\n",
       "    </tr>\n",
       "    <tr>\n",
       "      <th>3</th>\n",
       "      <td>wosres:WOS_000071179700013</td>\n",
       "      <td>http://dx.doi.org/10.1006%2Fexer.1997.0396</td>\n",
       "    </tr>\n",
       "    <tr>\n",
       "      <th>4</th>\n",
       "      <td>wosres:WOS_000071912700002</td>\n",
       "      <td>http://dx.doi.org/10.1006%2Fgcen.1997.7001</td>\n",
       "    </tr>\n",
       "    <tr>\n",
       "      <th>5</th>\n",
       "      <td>wosres:WOS_000074708500005</td>\n",
       "      <td>http://dx.doi.org/10.1006%2Fjdeq.1998.3428</td>\n",
       "    </tr>\n",
       "    <tr>\n",
       "      <th>6</th>\n",
       "      <td>wosres:WOS_000073621000010</td>\n",
       "      <td>http://dx.doi.org/10.1007%2Fs002210050380</td>\n",
       "    </tr>\n",
       "    <tr>\n",
       "      <th>7</th>\n",
       "      <td>wosres:WOS_000073621900004</td>\n",
       "      <td>http://dx.doi.org/10.1007%2Fs002510050382</td>\n",
       "    </tr>\n",
       "    <tr>\n",
       "      <th>8</th>\n",
       "      <td>wosres:WOS_000071074300003</td>\n",
       "      <td>http://dx.doi.org/10.1007%2Fs004320050111</td>\n",
       "    </tr>\n",
       "    <tr>\n",
       "      <th>9</th>\n",
       "      <td>wosres:WOS_000074171100014</td>\n",
       "      <td>http://dx.doi.org/10.1007%2Fs004390050745</td>\n",
       "    </tr>\n",
       "  </tbody>\n",
       "</table>\n",
       "</div>"
      ],
      "text/plain": [
       "                wosArticleUri  \\\n",
       "0  wosres:WOS_000070998900007   \n",
       "1  wosres:WOS_000071636500010   \n",
       "2  wosres:WOS_000072954400012   \n",
       "3  wosres:WOS_000071179700013   \n",
       "4  wosres:WOS_000071912700002   \n",
       "5  wosres:WOS_000074708500005   \n",
       "6  wosres:WOS_000073621000010   \n",
       "7  wosres:WOS_000073621900004   \n",
       "8  wosres:WOS_000071074300003   \n",
       "9  wosres:WOS_000074171100014   \n",
       "\n",
       "                                                                                             doi  \n",
       "0                                         http://dx.doi.org/10.1046%2Fj.1365-2818.1997.2570815.x  \n",
       "1  http://dx.doi.org/10.1002%2F(SICI)1096-9896(199801)184%3A1%3C53%3A%3AAID-PATH6%3E3.0.CO%3B2-7  \n",
       "2                                                      http://dx.doi.org/10.1002%2Fana.410430413  \n",
       "3                                                     http://dx.doi.org/10.1006%2Fexer.1997.0396  \n",
       "4                                                     http://dx.doi.org/10.1006%2Fgcen.1997.7001  \n",
       "5                                                     http://dx.doi.org/10.1006%2Fjdeq.1998.3428  \n",
       "6                                                      http://dx.doi.org/10.1007%2Fs002210050380  \n",
       "7                                                      http://dx.doi.org/10.1007%2Fs002510050382  \n",
       "8                                                      http://dx.doi.org/10.1007%2Fs004320050111  \n",
       "9                                                      http://dx.doi.org/10.1007%2Fs004390050745  "
      ]
     },
     "execution_count": 197,
     "metadata": {},
     "output_type": "execute_result"
    }
   ],
   "source": [
    "eculture_query.send_select_query(\"\"\"\n",
    "\n",
    "    SELECT DISTINCT (?article AS ?wosArticleUri) (?doiDoi as ?doi)\n",
    "    WHERE{\n",
    "        GRAPH wosGraph: {\n",
    "            ?article a wos:Article ;\n",
    "                     wos:DOI ?doi .\n",
    "                     \n",
    "            ?doi rdfs:label ?doiLabel ;\n",
    "                          wos:DOI ?doiDoi ;\n",
    "                          a       ?doiType .\n",
    "        }\n",
    "    }\n",
    "    LIMIT 10\n",
    "\n",
    "\"\"\")"
   ]
  },
  {
   "cell_type": "markdown",
   "metadata": {},
   "source": [
    "### 'Has Cited'"
   ]
  },
  {
   "cell_type": "code",
   "execution_count": 198,
   "metadata": {},
   "outputs": [
    {
     "data": {
      "text/html": [
       "<div>\n",
       "<table border=\"1\" class=\"dataframe\">\n",
       "  <thead>\n",
       "    <tr style=\"text-align: right;\">\n",
       "      <th></th>\n",
       "      <th>p</th>\n",
       "    </tr>\n",
       "  </thead>\n",
       "  <tbody>\n",
       "    <tr>\n",
       "      <th>0</th>\n",
       "      <td>rdf:type</td>\n",
       "    </tr>\n",
       "    <tr>\n",
       "      <th>1</th>\n",
       "      <td>rdfs:label</td>\n",
       "    </tr>\n",
       "    <tr>\n",
       "      <th>2</th>\n",
       "      <td>wos:DOI</td>\n",
       "    </tr>\n",
       "  </tbody>\n",
       "</table>\n",
       "</div>"
      ],
      "text/plain": [
       "            p\n",
       "0    rdf:type\n",
       "1  rdfs:label\n",
       "2     wos:DOI"
      ]
     },
     "execution_count": 198,
     "metadata": {},
     "output_type": "execute_result"
    }
   ],
   "source": [
    "retrieve_all_sub_attributes('wos:CR')"
   ]
  },
  {
   "cell_type": "markdown",
   "metadata": {},
   "source": [
    "Display all attributes related to has_cite in a table:"
   ]
  },
  {
   "cell_type": "code",
   "execution_count": 199,
   "metadata": {},
   "outputs": [
    {
     "data": {
      "text/html": [
       "<div>\n",
       "<table border=\"1\" class=\"dataframe\">\n",
       "  <thead>\n",
       "    <tr style=\"text-align: right;\">\n",
       "      <th></th>\n",
       "      <th>article</th>\n",
       "      <th>citedArticle</th>\n",
       "      <th>citedArticleTitle</th>\n",
       "      <th>citedArticleDoi</th>\n",
       "      <th>citedArticleType</th>\n",
       "    </tr>\n",
       "  </thead>\n",
       "  <tbody>\n",
       "    <tr>\n",
       "      <th>0</th>\n",
       "      <td>wosres:WOS_000403097000001</td>\n",
       "      <td>http://dx.doi.org/%5B10.1002%2F14651858.CD000088.pub3</td>\n",
       "      <td>Pharoah F, 2010, COCHRANE DB SYST REV, DOI [10.1002/14651858.CD000088.pub3, 10.1002/14651858.CD0...</td>\n",
       "      <td>http://dx.doi.org/%5B10.1002%2F14651858.CD000088.pub3</td>\n",
       "      <td>wos:CitedPublication</td>\n",
       "    </tr>\n",
       "    <tr>\n",
       "      <th>1</th>\n",
       "      <td>wosres:WOS_000305753900001</td>\n",
       "      <td>http://dx.doi.org/%5B10.1007%2Fs10709-006-9012-x</td>\n",
       "      <td>Latta RG, 2007, GENETICA, V129, P167, DOI [10.1007/s10709-006-9012-x, 10.1007/s10706-006-9012-x]</td>\n",
       "      <td>http://dx.doi.org/%5B10.1007%2Fs10709-006-9012-x</td>\n",
       "      <td>wos:CitedPublication</td>\n",
       "    </tr>\n",
       "    <tr>\n",
       "      <th>2</th>\n",
       "      <td>wosres:WOS_000319349400001</td>\n",
       "      <td>http://dx.doi.org/%5B10.1007%2Fs10709-006-9012-x</td>\n",
       "      <td>Latta RG, 2007, GENETICA, V129, P167, DOI [10.1007/s10709-006-9012-x, 10.1007/s10706-006-9012-x]</td>\n",
       "      <td>http://dx.doi.org/%5B10.1007%2Fs10709-006-9012-x</td>\n",
       "      <td>wos:CitedPublication</td>\n",
       "    </tr>\n",
       "    <tr>\n",
       "      <th>3</th>\n",
       "      <td>wosres:WOS_000308466000009</td>\n",
       "      <td>http://dx.doi.org/%5B10.1007%2Fs10709-006-9012-x</td>\n",
       "      <td>Latta RG, 2007, GENETICA, V129, P167, DOI [10.1007/s10709-006-9012-x, 10.1007/s10706-006-9012-x]</td>\n",
       "      <td>http://dx.doi.org/%5B10.1007%2Fs10709-006-9012-x</td>\n",
       "      <td>wos:CitedPublication</td>\n",
       "    </tr>\n",
       "    <tr>\n",
       "      <th>4</th>\n",
       "      <td>wosres:WOS_000231565800007</td>\n",
       "      <td>http://dx.doi.org/%5B10.1016%2FS0091-6749(03)01942-0</td>\n",
       "      <td>Pastorello EA, 2003, J ALLERGY CLIN IMMUN, V112, P775, DOI [10.1016/S0091-6749(03)01942-0, 10.10...</td>\n",
       "      <td>http://dx.doi.org/%5B10.1016%2FS0091-6749(03)01942-0</td>\n",
       "      <td>wos:CitedPublication</td>\n",
       "    </tr>\n",
       "    <tr>\n",
       "      <th>5</th>\n",
       "      <td>wosres:WOS_000324765100020</td>\n",
       "      <td>http://dx.doi.org/%5B10.1016%2FS0140-6736(08)61698-0</td>\n",
       "      <td>Garnett GP, 2009, LANCET, V373, P9, DOI [10.1016/S0140-6736(08)61698-0, 10.1016/S01406736(08)616...</td>\n",
       "      <td>http://dx.doi.org/%5B10.1016%2FS0140-6736(08)61698-0</td>\n",
       "      <td>wos:CitedPublication</td>\n",
       "    </tr>\n",
       "    <tr>\n",
       "      <th>6</th>\n",
       "      <td>wosres:WOS_000332113800001</td>\n",
       "      <td>http://dx.doi.org/%5B10.1016%2FS0140-6736(11)61105-7</td>\n",
       "      <td>Kim Y, 2011, LANCET, V378, P317, DOI [10.1016/S0140-6736(11)61105-7, 10.1016/S0140-6736(11)61169-0]</td>\n",
       "      <td>http://dx.doi.org/%5B10.1016%2FS0140-6736(11)61105-7</td>\n",
       "      <td>wos:CitedPublication</td>\n",
       "    </tr>\n",
       "    <tr>\n",
       "      <th>7</th>\n",
       "      <td>wosres:WOS_000383255900176</td>\n",
       "      <td>http://dx.doi.org/%5B10.1016%2FS0140-6736(13)62223-0</td>\n",
       "      <td>Garcia-Basteiro AL, 2014, LANCET, V383, P215, DOI [10.1016/S0140-6736(13)62223-0, 10.1016/S0140-...</td>\n",
       "      <td>http://dx.doi.org/%5B10.1016%2FS0140-6736(13)62223-0</td>\n",
       "      <td>wos:CitedPublication</td>\n",
       "    </tr>\n",
       "    <tr>\n",
       "      <th>8</th>\n",
       "      <td>wosres:WOS_000376720800001</td>\n",
       "      <td>http://dx.doi.org/%5B10.1016%2FS0140-6736(13)62223-0</td>\n",
       "      <td>Garcia-Basteiro AL, 2014, LANCET, V383, P215, DOI [10.1016/S0140-6736(13)62223-0, 10.1016/S0140-...</td>\n",
       "      <td>http://dx.doi.org/%5B10.1016%2FS0140-6736(13)62223-0</td>\n",
       "      <td>wos:CitedPublication</td>\n",
       "    </tr>\n",
       "    <tr>\n",
       "      <th>9</th>\n",
       "      <td>wosres:WOS_000279537600003</td>\n",
       "      <td>http://dx.doi.org/%5B10.1016%2FS0301-4215(03)00134-4</td>\n",
       "      <td>Kamp LM, 2004, ENERG POLICY, V32, P1625, DOI [10.1016/S0301-4215(03)00134-4, 10.1016/80301-4215(...</td>\n",
       "      <td>http://dx.doi.org/%5B10.1016%2FS0301-4215(03)00134-4</td>\n",
       "      <td>wos:CitedPublication</td>\n",
       "    </tr>\n",
       "  </tbody>\n",
       "</table>\n",
       "</div>"
      ],
      "text/plain": [
       "                      article                                           citedArticle  \\\n",
       "0  wosres:WOS_000403097000001  http://dx.doi.org/%5B10.1002%2F14651858.CD000088.pub3   \n",
       "1  wosres:WOS_000305753900001       http://dx.doi.org/%5B10.1007%2Fs10709-006-9012-x   \n",
       "2  wosres:WOS_000319349400001       http://dx.doi.org/%5B10.1007%2Fs10709-006-9012-x   \n",
       "3  wosres:WOS_000308466000009       http://dx.doi.org/%5B10.1007%2Fs10709-006-9012-x   \n",
       "4  wosres:WOS_000231565800007   http://dx.doi.org/%5B10.1016%2FS0091-6749(03)01942-0   \n",
       "5  wosres:WOS_000324765100020   http://dx.doi.org/%5B10.1016%2FS0140-6736(08)61698-0   \n",
       "6  wosres:WOS_000332113800001   http://dx.doi.org/%5B10.1016%2FS0140-6736(11)61105-7   \n",
       "7  wosres:WOS_000383255900176   http://dx.doi.org/%5B10.1016%2FS0140-6736(13)62223-0   \n",
       "8  wosres:WOS_000376720800001   http://dx.doi.org/%5B10.1016%2FS0140-6736(13)62223-0   \n",
       "9  wosres:WOS_000279537600003   http://dx.doi.org/%5B10.1016%2FS0301-4215(03)00134-4   \n",
       "\n",
       "                                                                                     citedArticleTitle  \\\n",
       "0  Pharoah F, 2010, COCHRANE DB SYST REV, DOI [10.1002/14651858.CD000088.pub3, 10.1002/14651858.CD0...   \n",
       "1     Latta RG, 2007, GENETICA, V129, P167, DOI [10.1007/s10709-006-9012-x, 10.1007/s10706-006-9012-x]   \n",
       "2     Latta RG, 2007, GENETICA, V129, P167, DOI [10.1007/s10709-006-9012-x, 10.1007/s10706-006-9012-x]   \n",
       "3     Latta RG, 2007, GENETICA, V129, P167, DOI [10.1007/s10709-006-9012-x, 10.1007/s10706-006-9012-x]   \n",
       "4  Pastorello EA, 2003, J ALLERGY CLIN IMMUN, V112, P775, DOI [10.1016/S0091-6749(03)01942-0, 10.10...   \n",
       "5  Garnett GP, 2009, LANCET, V373, P9, DOI [10.1016/S0140-6736(08)61698-0, 10.1016/S01406736(08)616...   \n",
       "6  Kim Y, 2011, LANCET, V378, P317, DOI [10.1016/S0140-6736(11)61105-7, 10.1016/S0140-6736(11)61169-0]   \n",
       "7  Garcia-Basteiro AL, 2014, LANCET, V383, P215, DOI [10.1016/S0140-6736(13)62223-0, 10.1016/S0140-...   \n",
       "8  Garcia-Basteiro AL, 2014, LANCET, V383, P215, DOI [10.1016/S0140-6736(13)62223-0, 10.1016/S0140-...   \n",
       "9  Kamp LM, 2004, ENERG POLICY, V32, P1625, DOI [10.1016/S0301-4215(03)00134-4, 10.1016/80301-4215(...   \n",
       "\n",
       "                                         citedArticleDoi      citedArticleType  \n",
       "0  http://dx.doi.org/%5B10.1002%2F14651858.CD000088.pub3  wos:CitedPublication  \n",
       "1       http://dx.doi.org/%5B10.1007%2Fs10709-006-9012-x  wos:CitedPublication  \n",
       "2       http://dx.doi.org/%5B10.1007%2Fs10709-006-9012-x  wos:CitedPublication  \n",
       "3       http://dx.doi.org/%5B10.1007%2Fs10709-006-9012-x  wos:CitedPublication  \n",
       "4   http://dx.doi.org/%5B10.1016%2FS0091-6749(03)01942-0  wos:CitedPublication  \n",
       "5   http://dx.doi.org/%5B10.1016%2FS0140-6736(08)61698-0  wos:CitedPublication  \n",
       "6   http://dx.doi.org/%5B10.1016%2FS0140-6736(11)61105-7  wos:CitedPublication  \n",
       "7   http://dx.doi.org/%5B10.1016%2FS0140-6736(13)62223-0  wos:CitedPublication  \n",
       "8   http://dx.doi.org/%5B10.1016%2FS0140-6736(13)62223-0  wos:CitedPublication  \n",
       "9   http://dx.doi.org/%5B10.1016%2FS0301-4215(03)00134-4  wos:CitedPublication  "
      ]
     },
     "execution_count": 199,
     "metadata": {},
     "output_type": "execute_result"
    }
   ],
   "source": [
    "eculture_query.send_select_query(\"\"\"\n",
    "\n",
    "    SELECT DISTINCT *\n",
    "    WHERE{\n",
    "        GRAPH wosGraph: {\n",
    "            ?article a wos:Article .\n",
    "            ?article wos:CR ?citedArticle .\n",
    "            ?citedArticle rdfs:label ?citedArticleTitle ;\n",
    "                          wos:DOI ?citedArticleDoi ;\n",
    "                          rdf:type ?citedArticleType .\n",
    "        }\n",
    "    }\n",
    "    LIMIT 10\n",
    "\n",
    "\"\"\")"
   ]
  },
  {
   "cell_type": "markdown",
   "metadata": {},
   "source": [
    "Display only the attributes of interest:"
   ]
  },
  {
   "cell_type": "code",
   "execution_count": 200,
   "metadata": {},
   "outputs": [
    {
     "data": {
      "text/html": [
       "<div>\n",
       "<table border=\"1\" class=\"dataframe\">\n",
       "  <thead>\n",
       "    <tr style=\"text-align: right;\">\n",
       "      <th></th>\n",
       "      <th>wosArticleUri</th>\n",
       "      <th>hasCitedArticle_withDoi</th>\n",
       "    </tr>\n",
       "  </thead>\n",
       "  <tbody>\n",
       "    <tr>\n",
       "      <th>0</th>\n",
       "      <td>wosres:WOS_000070998900007</td>\n",
       "      <td>http://dx.doi.org/10.1038%2F169366b0</td>\n",
       "    </tr>\n",
       "    <tr>\n",
       "      <th>1</th>\n",
       "      <td>wosres:WOS_000070998900007</td>\n",
       "      <td>http://dx.doi.org/10.1111%2Fj.1365-2818.1992.tb04307.x</td>\n",
       "    </tr>\n",
       "    <tr>\n",
       "      <th>2</th>\n",
       "      <td>wosres:WOS_000071006900008</td>\n",
       "      <td>http://dx.doi.org/10.1002%2Fajh.2830340205</td>\n",
       "    </tr>\n",
       "    <tr>\n",
       "      <th>3</th>\n",
       "      <td>wosres:WOS_000071077500014</td>\n",
       "      <td>http://dx.doi.org/10.1002%2Fcne.903240409</td>\n",
       "    </tr>\n",
       "    <tr>\n",
       "      <th>4</th>\n",
       "      <td>wosres:WOS_000071092900005</td>\n",
       "      <td>http://dx.doi.org/10.1006%2Fabio.1994.1208</td>\n",
       "    </tr>\n",
       "    <tr>\n",
       "      <th>5</th>\n",
       "      <td>wosres:WOS_000071074300003</td>\n",
       "      <td>http://dx.doi.org/10.1007%2FBF00685670</td>\n",
       "    </tr>\n",
       "    <tr>\n",
       "      <th>6</th>\n",
       "      <td>wosres:WOS_000071053800004</td>\n",
       "      <td>http://dx.doi.org/10.1016%2F0003-4916(70)90025-4</td>\n",
       "    </tr>\n",
       "    <tr>\n",
       "      <th>7</th>\n",
       "      <td>wosres:WOS_000071006900008</td>\n",
       "      <td>http://dx.doi.org/10.1016%2F0021-9150(93)90258-V</td>\n",
       "    </tr>\n",
       "    <tr>\n",
       "      <th>8</th>\n",
       "      <td>wosres:WOS_000071071800034</td>\n",
       "      <td>http://dx.doi.org/10.1016%2F0039-6028(96)00070-2</td>\n",
       "    </tr>\n",
       "    <tr>\n",
       "      <th>9</th>\n",
       "      <td>wosres:WOS_000071077500024</td>\n",
       "      <td>http://dx.doi.org/10.1016%2F0165-0173(95)00011-9</td>\n",
       "    </tr>\n",
       "  </tbody>\n",
       "</table>\n",
       "</div>"
      ],
      "text/plain": [
       "                wosArticleUri                                 hasCitedArticle_withDoi\n",
       "0  wosres:WOS_000070998900007                    http://dx.doi.org/10.1038%2F169366b0\n",
       "1  wosres:WOS_000070998900007  http://dx.doi.org/10.1111%2Fj.1365-2818.1992.tb04307.x\n",
       "2  wosres:WOS_000071006900008              http://dx.doi.org/10.1002%2Fajh.2830340205\n",
       "3  wosres:WOS_000071077500014               http://dx.doi.org/10.1002%2Fcne.903240409\n",
       "4  wosres:WOS_000071092900005              http://dx.doi.org/10.1006%2Fabio.1994.1208\n",
       "5  wosres:WOS_000071074300003                  http://dx.doi.org/10.1007%2FBF00685670\n",
       "6  wosres:WOS_000071053800004        http://dx.doi.org/10.1016%2F0003-4916(70)90025-4\n",
       "7  wosres:WOS_000071006900008        http://dx.doi.org/10.1016%2F0021-9150(93)90258-V\n",
       "8  wosres:WOS_000071071800034        http://dx.doi.org/10.1016%2F0039-6028(96)00070-2\n",
       "9  wosres:WOS_000071077500024        http://dx.doi.org/10.1016%2F0165-0173(95)00011-9"
      ]
     },
     "execution_count": 200,
     "metadata": {},
     "output_type": "execute_result"
    }
   ],
   "source": [
    "eculture_query.send_select_query(\"\"\"\n",
    "\n",
    "    SELECT DISTINCT (?article AS ?wosArticleUri) (?citedArticleDoi AS ?hasCitedArticle_withDoi)\n",
    "    WHERE{\n",
    "        GRAPH wosGraph: {\n",
    "            ?article a wos:Article .\n",
    "            ?article wos:CR ?citedArticle .\n",
    "            ?citedArticle rdfs:label ?citedArticleTitle ;\n",
    "                          wos:DOI ?citedArticleDoi ;\n",
    "                          rdf:type ?citedArticleType .\n",
    "        }\n",
    "    }\n",
    "    LIMIT 10\n",
    "\n",
    "\"\"\")"
   ]
  }
 ],
 "metadata": {
  "kernelspec": {
   "display_name": "Python 3",
   "language": "python",
   "name": "python3"
  },
  "language_info": {
   "codemirror_mode": {
    "name": "ipython",
    "version": 3
   },
   "file_extension": ".py",
   "mimetype": "text/x-python",
   "name": "python",
   "nbconvert_exporter": "python",
   "pygments_lexer": "ipython3",
   "version": "3.6.1"
  }
 },
 "nbformat": 4,
 "nbformat_minor": 2
}
