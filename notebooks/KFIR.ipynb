{
 "cells": [
  {
   "cell_type": "markdown",
   "metadata": {},
   "source": [
    "# KFIR"
   ]
  },
  {
   "cell_type": "markdown",
   "metadata": {},
   "source": [
    "## SETUP: DEPENDENCIES AND CREDENTIALS"
   ]
  },
  {
   "cell_type": "markdown",
   "metadata": {},
   "source": [
    "### Working Directory"
   ]
  },
  {
   "cell_type": "markdown",
   "metadata": {},
   "source": [
    "What is the current working directory?:"
   ]
  },
  {
   "cell_type": "code",
   "execution_count": 2,
   "metadata": {
    "scrolled": false
   },
   "outputs": [
    {
     "data": {
      "text/plain": [
       "'U:\\\\PortableApps\\\\WinPython-32bit-3.6.1.0Qt5\\\\notebooks\\\\KFIR\\\\notebooks'"
      ]
     },
     "execution_count": 2,
     "metadata": {},
     "output_type": "execute_result"
    }
   ],
   "source": [
    "import os\n",
    "os.getcwd()"
   ]
  },
  {
   "cell_type": "markdown",
   "metadata": {},
   "source": [
    "Add parent directory to path if necessary:"
   ]
  },
  {
   "cell_type": "code",
   "execution_count": 3,
   "metadata": {
    "scrolled": true
   },
   "outputs": [
    {
     "data": {
      "text/plain": [
       "['',\n",
       " 'U:\\\\PortableApps\\\\WinPython-32bit-3.6.1.0Qt5\\\\python-3.6.1\\\\python36.zip',\n",
       " 'U:\\\\PortableApps\\\\WinPython-32bit-3.6.1.0Qt5\\\\python-3.6.1\\\\DLLs',\n",
       " 'U:\\\\PortableApps\\\\WinPython-32bit-3.6.1.0Qt5\\\\python-3.6.1\\\\lib',\n",
       " 'U:\\\\PortableApps\\\\WinPython-32bit-3.6.1.0Qt5\\\\python-3.6.1',\n",
       " 'U:\\\\PortableApps\\\\WinPython-32bit-3.6.1.0Qt5\\\\python-3.6.1\\\\lib\\\\site-packages',\n",
       " 'U:\\\\PortableApps\\\\WinPython-32bit-3.6.1.0Qt5\\\\python-3.6.1\\\\lib\\\\site-packages\\\\win32',\n",
       " 'U:\\\\PortableApps\\\\WinPython-32bit-3.6.1.0Qt5\\\\python-3.6.1\\\\lib\\\\site-packages\\\\win32\\\\lib',\n",
       " 'U:\\\\PortableApps\\\\WinPython-32bit-3.6.1.0Qt5\\\\python-3.6.1\\\\lib\\\\site-packages\\\\Pythonwin',\n",
       " 'U:\\\\PortableApps\\\\WinPython-32bit-3.6.1.0Qt5\\\\python-3.6.1\\\\lib\\\\site-packages\\\\IPython\\\\extensions',\n",
       " 'U:\\\\PortableApps\\\\WinPython-32bit-3.6.1.0Qt5\\\\settings\\\\.ipython',\n",
       " 'U:\\\\PortableApps\\\\WinPython-32bit-3.6.1.0Qt5\\\\notebooks\\\\KFIR']"
      ]
     },
     "execution_count": 3,
     "metadata": {},
     "output_type": "execute_result"
    }
   ],
   "source": [
    "import sys, os, re\n",
    "\n",
    "working_directory = os.getcwd()\n",
    "if re.search('\\\\\\\\notebooks$', working_directory):\n",
    "    one_directory_up = re.sub('\\\\\\\\notebooks$', '', working_directory)\n",
    "    sys.path.append(one_directory_up)\n",
    "    \n",
    "sys.path"
   ]
  },
  {
   "cell_type": "markdown",
   "metadata": {},
   "source": [
    "### Plotly"
   ]
  },
  {
   "cell_type": "markdown",
   "metadata": {},
   "source": [
    "Read plotly credentials from file:"
   ]
  },
  {
   "cell_type": "code",
   "execution_count": 4,
   "metadata": {},
   "outputs": [],
   "source": [
    "from preprocessor.Text_File import Text_File\n",
    "\n",
    "plotly_file = Text_File('..//private//plotly_credentials')\n",
    "plotly_file = plotly_file.return_content()\n",
    "plotly_credentials = plotly_file.splitlines()\n",
    "\n",
    "plotly_username = plotly_credentials[0]\n",
    "plotly_key = plotly_credentials[1]"
   ]
  },
  {
   "cell_type": "markdown",
   "metadata": {},
   "source": [
    "Import plotly:"
   ]
  },
  {
   "cell_type": "code",
   "execution_count": 5,
   "metadata": {
    "collapsed": true
   },
   "outputs": [],
   "source": [
    "import plotly.plotly as py\n",
    "from plotly.graph_objs import *\n",
    "from plotly.tools import set_credentials_file\n",
    "\n",
    "set_credentials_file(username=plotly_username, api_key=plotly_key)  # put your own plotly username and api key here "
   ]
  },
  {
   "cell_type": "markdown",
   "metadata": {},
   "source": [
    "### Gastrodon"
   ]
  },
  {
   "cell_type": "markdown",
   "metadata": {},
   "source": [
    "For usage examples of Gastrodon, see [example dbpedia notebook](https://github.com/paulhoule/gastrodon/blob/master/notebooks/remote/Querying%20DBpedia.ipynb)."
   ]
  },
  {
   "cell_type": "markdown",
   "metadata": {},
   "source": [
    "Import gastrodon (for running SPARQL queries in Jupyter):"
   ]
  },
  {
   "cell_type": "code",
   "execution_count": 6,
   "metadata": {
    "collapsed": true
   },
   "outputs": [],
   "source": [
    "from gastrodon import RemoteEndpoint,QName,ttl,URIRef,inline\n",
    "import pandas as pd\n",
    "pd.options.display.width=120\n",
    "pd.options.display.max_colwidth=100"
   ]
  },
  {
   "cell_type": "markdown",
   "metadata": {},
   "source": [
    "Define prefixes:"
   ]
  },
  {
   "cell_type": "code",
   "execution_count": 7,
   "metadata": {
    "collapsed": true
   },
   "outputs": [],
   "source": [
    "prefixes=inline(\"\"\"\n",
    "    @prefix wos: <http://wos.risis.eu/vocabulary/> .\n",
    "    @prefix kfir: <http://clokman.com/kfir/ontology#> .\n",
    "    @prefix ldr: <https://github.com/ali1k/ld-reactor/blob/master/vocabulary/index.ttl#> .\n",
    "    @prefix rdfs: <http://www.w3.org/2000/01/rdf-schema#> .\n",
    "    @prefix wosGraph: <http://clokman.com/wos> .\n",
    "    @prefix kfirGraph: <http://clokman.com/kfir> .\n",
    "    \n",
    "    @prefix dbo: <http://dbpedia.org/ontology/> .\n",
    "\"\"\").graph"
   ]
  },
  {
   "cell_type": "markdown",
   "metadata": {},
   "source": [
    "Read endpoint from file:"
   ]
  },
  {
   "cell_type": "code",
   "execution_count": 8,
   "metadata": {},
   "outputs": [],
   "source": [
    "from preprocessor.Text_File import Text_File\n",
    "\n",
    "# Get endpoint address from file\n",
    "eculture_endpoint_url_file = Text_File('..//private//eculture_virtuoso_endpoint_address')\n",
    "eculture_endpoint_url = eculture_endpoint_url_file.return_content()"
   ]
  },
  {
   "cell_type": "markdown",
   "metadata": {},
   "source": [
    "Define endpoint:"
   ]
  },
  {
   "cell_type": "code",
   "execution_count": 9,
   "metadata": {
    "collapsed": true
   },
   "outputs": [],
   "source": [
    "eculture=RemoteEndpoint(\n",
    "    url=eculture_endpoint_url,\n",
    "    default_graph=None,\n",
    "    prefixes=prefixes\n",
    ")"
   ]
  },
  {
   "cell_type": "markdown",
   "metadata": {},
   "source": [
    "## QUERIES"
   ]
  },
  {
   "cell_type": "markdown",
   "metadata": {},
   "source": [
    "### Database Statistics"
   ]
  },
  {
   "cell_type": "markdown",
   "metadata": {},
   "source": [
    "Get number of articles:"
   ]
  },
  {
   "cell_type": "code",
   "execution_count": 10,
   "metadata": {},
   "outputs": [
    {
     "name": "stdout",
     "output_type": "stream",
     "text": [
      "136125\n"
     ]
    }
   ],
   "source": [
    "article_count=eculture.select(\"\"\"\n",
    "    SELECT (COUNT(DISTINCT ?article) as ?articles) \n",
    "    WHERE{\n",
    "        GRAPH wosGraph: {\n",
    "            ?article a wos:Article .\n",
    "        }\n",
    "    }\n",
    "    \"\"\"\n",
    ").at[0,'articles']\n",
    "print(article_count)"
   ]
  },
  {
   "cell_type": "markdown",
   "metadata": {},
   "source": [
    "Get counts for common fields:"
   ]
  },
  {
   "cell_type": "code",
   "execution_count": 11,
   "metadata": {
    "scrolled": true,
    "slideshow": {
     "slide_type": "-"
    }
   },
   "outputs": [
    {
     "name": "stdout",
     "output_type": "stream",
     "text": [
      "Counting...\n",
      "wos:TI / title :  135985\n",
      "wos:AF / author :  3485320\n",
      "wos:SN / issn :  9627\n",
      "wos:DOI / doi :  123505\n",
      "wos:EM / email :  51997\n",
      "wos:DE / keywords_author :  125552\n",
      "wos:ID / keywords_plus :  156689\n",
      "wos:SC / subject_category :  151\n",
      "wos:WC / web_of_science_category :  2323\n",
      "wos:PY / publication_year :  35\n",
      "wos:CR / has_cited :  2854040\n",
      "wos:NR / has_cited_count :  351\n",
      "wos:Z9 / cited_by_count_universal :  880\n",
      "wos:TC / cited_by_count_local :  852\n",
      "wos:SO / source_publication :  9708\n",
      "wos:PU / publisher :  2354\n",
      "wos:C1 / author_address :  118156\n",
      "ldr:annotations / annotation :  2158243\n",
      "Counting finished.\n"
     ]
    }
   ],
   "source": [
    "wos_mappings = {'wos:TI':  'title', # wos: is defined in prefixes variable\n",
    "                'wos:AF':  'author',\n",
    "                'wos:SN':  'issn',\n",
    "                'wos:DOI': 'doi',\n",
    "                'wos:EM':  'email',\n",
    "                'wos:DE':  'keywords_author',\n",
    "                'wos:ID':  'keywords_plus',\n",
    "                'wos:SC':  'subject_category',\n",
    "                'wos:WC':  'web_of_science_category',\n",
    "                'wos:PY':  'publication_year',\n",
    "                'wos:CR':  'has_cited',\n",
    "                'wos:NR':  'has_cited_count',\n",
    "                'wos:Z9':  'cited_by_count_universal',\n",
    "                'wos:TC':  'cited_by_count_local',\n",
    "                'wos:SO':  'source_publication',\n",
    "                'wos:PU':  'publisher',\n",
    "                'wos:C1':  'author_address',\n",
    "                'ldr:annotations': 'annotation'\n",
    "                }\n",
    "\n",
    "wos_field_counts = {}\n",
    "\n",
    "print('Counting...')\n",
    "for each_wos_field_name_abbreviation, each_field_name in wos_mappings.items():\n",
    "    count=eculture.select(\"\"\"\n",
    "    SELECT (COUNT(DISTINCT ?%s) as ?%ss) \n",
    "    WHERE{\n",
    "        GRAPH wosGraph: {\n",
    "            ?article a wos:Article .\n",
    "            ?article %s ?%s .\n",
    "        }\n",
    "    }\n",
    "    \"\"\" % (each_field_name, each_field_name, each_wos_field_name_abbreviation, each_field_name)).at[0,\"%ss\" % each_field_name]\n",
    "    wos_field_counts[each_field_name] = count\n",
    "    print (each_wos_field_name_abbreviation, '/', each_field_name, ': ',count)\n",
    "print('Counting finished.')"
   ]
  },
  {
   "cell_type": "markdown",
   "metadata": {},
   "source": [
    "Visualize statistics:"
   ]
  },
  {
   "cell_type": "code",
   "execution_count": 12,
   "metadata": {
    "scrolled": false
   },
   "outputs": [
    {
     "data": {
      "text/html": [
       "<iframe id=\"igraph\" scrolling=\"no\" style=\"border:none;\" seamless=\"seamless\" src=\"https://plot.ly/~Clokman/11.embed\" height=\"525px\" width=\"100%\"></iframe>"
      ],
      "text/plain": [
       "<plotly.tools.PlotlyDisplay object>"
      ]
     },
     "execution_count": 12,
     "metadata": {},
     "output_type": "execute_result"
    }
   ],
   "source": [
    "columns = [] \n",
    "values = []\n",
    "for each_key, each_value in wos_field_counts.items():\n",
    "    columns.append(each_key)\n",
    "    values.append(each_value)\n",
    "\n",
    "columns.append('article')\n",
    "values.append(article_count)\n",
    "    \n",
    "data = [Bar(x=columns,\n",
    "            y=values)]\n",
    "\n",
    "py.iplot(data, filename='wos_stats')"
   ]
  },
  {
   "cell_type": "code",
   "execution_count": null,
   "metadata": {
    "collapsed": true
   },
   "outputs": [],
   "source": []
  }
 ],
 "metadata": {
  "kernelspec": {
   "display_name": "Python 3",
   "language": "python",
   "name": "python3"
  },
  "language_info": {
   "codemirror_mode": {
    "name": "ipython",
    "version": 3
   },
   "file_extension": ".py",
   "mimetype": "text/x-python",
   "name": "python",
   "nbconvert_exporter": "python",
   "pygments_lexer": "ipython3",
   "version": "3.6.1"
  }
 },
 "nbformat": 4,
 "nbformat_minor": 2
}
