{
 "cells": [
  {
   "cell_type": "markdown",
   "metadata": {
    "toc": true
   },
   "source": [
    "<h1>Table of Contents<span class=\"tocSkip\"></span></h1>\n",
    "<div class=\"toc\"><ul class=\"toc-item\"><li><span><a href=\"#Notebook-Setup\" data-toc-modified-id=\"Notebook-Setup-1\"><span class=\"toc-item-num\">1&nbsp;&nbsp;</span>Notebook Setup</a></span><ul class=\"toc-item\"><li><span><a href=\"#Working-Directory\" data-toc-modified-id=\"Working-Directory-1.1\"><span class=\"toc-item-num\">1.1&nbsp;&nbsp;</span>Working Directory</a></span></li><li><span><a href=\"#Packages\" data-toc-modified-id=\"Packages-1.2\"><span class=\"toc-item-num\">1.2&nbsp;&nbsp;</span>Packages</a></span></li><li><span><a href=\"#Core-packages\" data-toc-modified-id=\"Core-packages-1.3\"><span class=\"toc-item-num\">1.3&nbsp;&nbsp;</span>Core packages</a></span><ul class=\"toc-item\"><li><span><a href=\"#Plotly\" data-toc-modified-id=\"Plotly-1.3.1\"><span class=\"toc-item-num\">1.3.1&nbsp;&nbsp;</span>Plotly</a></span><ul class=\"toc-item\"><li><span><a href=\"#Online-Plotly\" data-toc-modified-id=\"Online-Plotly-1.3.1.1\"><span class=\"toc-item-num\">1.3.1.1&nbsp;&nbsp;</span>Online Plotly</a></span></li><li><span><a href=\"#Offline-Plotly\" data-toc-modified-id=\"Offline-Plotly-1.3.1.2\"><span class=\"toc-item-num\">1.3.1.2&nbsp;&nbsp;</span>Offline Plotly</a></span></li></ul></li></ul></li></ul></li><li><span><a href=\"#Graph-Components\" data-toc-modified-id=\"Graph-Components-2\"><span class=\"toc-item-num\">2&nbsp;&nbsp;</span>Graph Components</a></span><ul class=\"toc-item\"><li><span><a href=\"#KeywordPlus-subgraph\" data-toc-modified-id=\"KeywordPlus-subgraph-2.1\"><span class=\"toc-item-num\">2.1&nbsp;&nbsp;</span>KeywordPlus subgraph</a></span></li><li><span><a href=\"#AuthorKeyword-subgraph\" data-toc-modified-id=\"AuthorKeyword-subgraph-2.2\"><span class=\"toc-item-num\">2.2&nbsp;&nbsp;</span>AuthorKeyword subgraph</a></span></li><li><span><a href=\"#Annotation-subgraph\" data-toc-modified-id=\"Annotation-subgraph-2.3\"><span class=\"toc-item-num\">2.3&nbsp;&nbsp;</span>Annotation subgraph</a></span></li><li><span><a href=\"#Subject-category-subgraph\" data-toc-modified-id=\"Subject-category-subgraph-2.4\"><span class=\"toc-item-num\">2.4&nbsp;&nbsp;</span>Subject category subgraph</a></span></li><li><span><a href=\"#Web-of-Science-category-subgraph\" data-toc-modified-id=\"Web-of-Science-category-subgraph-2.5\"><span class=\"toc-item-num\">2.5&nbsp;&nbsp;</span>Web of Science category subgraph</a></span></li></ul></li><li><span><a href=\"#Betweenness-Centrality\" data-toc-modified-id=\"Betweenness-Centrality-3\"><span class=\"toc-item-num\">3&nbsp;&nbsp;</span>Betweenness Centrality</a></span><ul class=\"toc-item\"><li><span><a href=\"#Keywords-plus\" data-toc-modified-id=\"Keywords-plus-3.1\"><span class=\"toc-item-num\">3.1&nbsp;&nbsp;</span>Keywords plus</a></span><ul class=\"toc-item\"><li><span><a href=\"#Import-and-view-centrality-data\" data-toc-modified-id=\"Import-and-view-centrality-data-3.1.1\"><span class=\"toc-item-num\">3.1.1&nbsp;&nbsp;</span>Import and view centrality data</a></span></li><li><span><a href=\"#Detect-and-treat-outliers\" data-toc-modified-id=\"Detect-and-treat-outliers-3.1.2\"><span class=\"toc-item-num\">3.1.2&nbsp;&nbsp;</span>Detect and treat outliers</a></span></li></ul></li><li><span><a href=\"#Author-keywords\" data-toc-modified-id=\"Author-keywords-3.2\"><span class=\"toc-item-num\">3.2&nbsp;&nbsp;</span>Author keywords</a></span><ul class=\"toc-item\"><li><span><a href=\"#Import-and-view-centrality-data\" data-toc-modified-id=\"Import-and-view-centrality-data-3.2.1\"><span class=\"toc-item-num\">3.2.1&nbsp;&nbsp;</span>Import and view centrality data</a></span></li><li><span><a href=\"#Detect-and-treat-outliers\" data-toc-modified-id=\"Detect-and-treat-outliers-3.2.2\"><span class=\"toc-item-num\">3.2.2&nbsp;&nbsp;</span>Detect and treat outliers</a></span></li></ul></li><li><span><a href=\"#Annotations\" data-toc-modified-id=\"Annotations-3.3\"><span class=\"toc-item-num\">3.3&nbsp;&nbsp;</span>Annotations</a></span><ul class=\"toc-item\"><li><span><a href=\"#Import-and-view-centrality-data\" data-toc-modified-id=\"Import-and-view-centrality-data-3.3.1\"><span class=\"toc-item-num\">3.3.1&nbsp;&nbsp;</span>Import and view centrality data</a></span></li><li><span><a href=\"#Detect-and-treat-outliers\" data-toc-modified-id=\"Detect-and-treat-outliers-3.3.2\"><span class=\"toc-item-num\">3.3.2&nbsp;&nbsp;</span>Detect and treat outliers</a></span></li></ul></li><li><span><a href=\"#Subject-categories\" data-toc-modified-id=\"Subject-categories-3.4\"><span class=\"toc-item-num\">3.4&nbsp;&nbsp;</span>Subject categories</a></span><ul class=\"toc-item\"><li><span><a href=\"#Import-and-view-centrality-data\" data-toc-modified-id=\"Import-and-view-centrality-data-3.4.1\"><span class=\"toc-item-num\">3.4.1&nbsp;&nbsp;</span>Import and view centrality data</a></span></li><li><span><a href=\"#Detect-and-treat-outliers\" data-toc-modified-id=\"Detect-and-treat-outliers-3.4.2\"><span class=\"toc-item-num\">3.4.2&nbsp;&nbsp;</span>Detect and treat outliers</a></span></li></ul></li><li><span><a href=\"#Web-of-Science-categories\" data-toc-modified-id=\"Web-of-Science-categories-3.5\"><span class=\"toc-item-num\">3.5&nbsp;&nbsp;</span>Web of Science categories</a></span><ul class=\"toc-item\"><li><span><a href=\"#Import-and-view-centrality-data\" data-toc-modified-id=\"Import-and-view-centrality-data-3.5.1\"><span class=\"toc-item-num\">3.5.1&nbsp;&nbsp;</span>Import and view centrality data</a></span></li><li><span><a href=\"#Detect-and-treat-outliers\" data-toc-modified-id=\"Detect-and-treat-outliers-3.5.2\"><span class=\"toc-item-num\">3.5.2&nbsp;&nbsp;</span>Detect and treat outliers</a></span></li></ul></li></ul></li><li><span><a href=\"#Appendix\" data-toc-modified-id=\"Appendix-4\"><span class=\"toc-item-num\">4&nbsp;&nbsp;</span>Appendix</a></span><ul class=\"toc-item\"><li><span><a href=\"#Normalization\" data-toc-modified-id=\"Normalization-4.1\"><span class=\"toc-item-num\">4.1&nbsp;&nbsp;</span>Normalization</a></span></li></ul></li></ul></div>"
   ]
  },
  {
   "cell_type": "markdown",
   "metadata": {},
   "source": [
    "# Notebook Setup"
   ]
  },
  {
   "cell_type": "markdown",
   "metadata": {},
   "source": [
    "## Working Directory"
   ]
  },
  {
   "cell_type": "markdown",
   "metadata": {},
   "source": [
    "What is the current working directory?:"
   ]
  },
  {
   "cell_type": "code",
   "execution_count": 5,
   "metadata": {
    "scrolled": false
   },
   "outputs": [
    {
     "data": {
      "text/plain": [
       "'/home/clokman/Projects/KFIR/notebooks'"
      ]
     },
     "execution_count": 5,
     "metadata": {},
     "output_type": "execute_result"
    }
   ],
   "source": [
    "import os\n",
    "os.getcwd()"
   ]
  },
  {
   "cell_type": "markdown",
   "metadata": {},
   "source": [
    "Add parent directory to path if necessary:"
   ]
  },
  {
   "cell_type": "code",
   "execution_count": 6,
   "metadata": {
    "scrolled": true
   },
   "outputs": [
    {
     "data": {
      "text/plain": [
       "['',\n",
       " '/usr/lib/python36.zip',\n",
       " '/usr/lib/python3.6',\n",
       " '/usr/lib/python3.6/lib-dynload',\n",
       " '/home/clokman/.local/lib/python3.6/site-packages',\n",
       " '/usr/local/lib/python3.6/dist-packages',\n",
       " '/usr/lib/python3/dist-packages',\n",
       " '/home/clokman/.local/lib/python3.6/site-packages/IPython/extensions',\n",
       " '/home/clokman/.ipython',\n",
       " '/home/clokman/Projects/KFIR']"
      ]
     },
     "execution_count": 6,
     "metadata": {},
     "output_type": "execute_result"
    }
   ],
   "source": [
    "import sys, os, re\n",
    "\n",
    "working_directory = os.getcwd()\n",
    "\n",
    "# for Linux\n",
    "if re.search('/notebooks$', working_directory):\n",
    "    one_directory_up = re.sub('/notebooks$', '', working_directory)\n",
    "    sys.path.append(one_directory_up)\n",
    "\n",
    "# for Windows\n",
    "if re.search('\\\\\\\\notebooks$', working_directory):\n",
    "    one_directory_up = re.sub('\\\\\\\\notebooks$', '', working_directory)\n",
    "    sys.path.append(one_directory_up)\n",
    "\n",
    "sys.path # ../Projects/KFIR' must have been added to path variable"
   ]
  },
  {
   "cell_type": "markdown",
   "metadata": {},
   "source": [
    "## Packages"
   ]
  },
  {
   "cell_type": "markdown",
   "metadata": {},
   "source": [
    "## Core packages"
   ]
  },
  {
   "cell_type": "code",
   "execution_count": 7,
   "metadata": {},
   "outputs": [],
   "source": [
    "import numpy as np\n",
    "import pandas as pd"
   ]
  },
  {
   "cell_type": "markdown",
   "metadata": {},
   "source": [
    "### Plotly"
   ]
  },
  {
   "cell_type": "markdown",
   "metadata": {},
   "source": [
    "Check current version:"
   ]
  },
  {
   "cell_type": "code",
   "execution_count": 4,
   "metadata": {},
   "outputs": [
    {
     "data": {
      "text/plain": [
       "'3.2.1'"
      ]
     },
     "execution_count": 4,
     "metadata": {},
     "output_type": "execute_result"
    }
   ],
   "source": [
    "from plotly import __version__ as plotly_version\n",
    "plotly_version"
   ]
  },
  {
   "cell_type": "markdown",
   "metadata": {},
   "source": [
    "#### Online Plotly"
   ]
  },
  {
   "cell_type": "markdown",
   "metadata": {},
   "source": [
    "Read plotly credentials from file:"
   ]
  },
  {
   "cell_type": "code",
   "execution_count": 5,
   "metadata": {},
   "outputs": [],
   "source": [
    "from preprocessor.Text_File import Text_File\n",
    "\n",
    "plotly_file = Text_File('..//private//plotly_credentials')\n",
    "plotly_file = plotly_file.return_content()\n",
    "plotly_credentials = plotly_file.splitlines()\n",
    "\n",
    "plotly_username = plotly_credentials[0]\n",
    "plotly_key = plotly_credentials[1]"
   ]
  },
  {
   "cell_type": "markdown",
   "metadata": {},
   "source": [
    "Set parameters for online usage:"
   ]
  },
  {
   "cell_type": "code",
   "execution_count": 6,
   "metadata": {},
   "outputs": [],
   "source": [
    "import plotly.plotly as plotly_online\n",
    "iplot_online = plotly_online.iplot\n",
    "\n",
    "import plotly.graph_objs as graph_objects\n",
    "from plotly.tools import set_credentials_file\n",
    "\n",
    "set_credentials_file(username=plotly_username, api_key=plotly_key)  # put your own plotly username and api key here "
   ]
  },
  {
   "cell_type": "markdown",
   "metadata": {},
   "source": [
    "#### Offline Plotly"
   ]
  },
  {
   "cell_type": "markdown",
   "metadata": {},
   "source": [
    "Setup for offline usage:"
   ]
  },
  {
   "cell_type": "code",
   "execution_count": 7,
   "metadata": {},
   "outputs": [
    {
     "data": {
      "text/html": [
       "<script>requirejs.config({paths: { 'plotly': ['https://cdn.plot.ly/plotly-latest.min']},});if(!window.Plotly) {{require(['plotly'],function(plotly) {window.Plotly=plotly;});}}</script>"
      ],
      "text/vnd.plotly.v1+html": [
       "<script>requirejs.config({paths: { 'plotly': ['https://cdn.plot.ly/plotly-latest.min']},});if(!window.Plotly) {{require(['plotly'],function(plotly) {window.Plotly=plotly;});}}</script>"
      ]
     },
     "metadata": {},
     "output_type": "display_data"
    }
   ],
   "source": [
    "from plotly.offline import download_plotlyjs, init_notebook_mode, plot, iplot\n",
    "from plotly import graph_objs\n",
    "init_notebook_mode(connected=True)"
   ]
  },
  {
   "cell_type": "markdown",
   "metadata": {},
   "source": [
    "# Graph Components"
   ]
  },
  {
   "cell_type": "markdown",
   "metadata": {},
   "source": [
    "## KeywordPlus subgraph"
   ]
  },
  {
   "cell_type": "markdown",
   "metadata": {},
   "source": [
    "Read and view components:"
   ]
  },
  {
   "cell_type": "code",
   "execution_count": 8,
   "metadata": {},
   "outputs": [],
   "source": [
    "keywordPlus_graph_components = pd.read_csv('data//subgraph-components-vs-keywordPlusses.csv')"
   ]
  },
  {
   "cell_type": "code",
   "execution_count": 9,
   "metadata": {},
   "outputs": [
    {
     "data": {
      "text/html": [
       "<div>\n",
       "<style scoped>\n",
       "    .dataframe tbody tr th:only-of-type {\n",
       "        vertical-align: middle;\n",
       "    }\n",
       "\n",
       "    .dataframe tbody tr th {\n",
       "        vertical-align: top;\n",
       "    }\n",
       "\n",
       "    .dataframe thead th {\n",
       "        text-align: right;\n",
       "    }\n",
       "</style>\n",
       "<table border=\"1\" class=\"dataframe\">\n",
       "  <thead>\n",
       "    <tr style=\"text-align: right;\">\n",
       "      <th></th>\n",
       "      <th>keywordPlus</th>\n",
       "      <th>setId</th>\n",
       "    </tr>\n",
       "  </thead>\n",
       "  <tbody>\n",
       "    <tr>\n",
       "      <th>0</th>\n",
       "      <td>Disease</td>\n",
       "      <td>82571</td>\n",
       "    </tr>\n",
       "    <tr>\n",
       "      <th>1</th>\n",
       "      <td>Therapy</td>\n",
       "      <td>82571</td>\n",
       "    </tr>\n",
       "    <tr>\n",
       "      <th>2</th>\n",
       "      <td>Acute myocardial-infarction</td>\n",
       "      <td>82571</td>\n",
       "    </tr>\n",
       "    <tr>\n",
       "      <th>3</th>\n",
       "      <td>Stroke patients</td>\n",
       "      <td>82571</td>\n",
       "    </tr>\n",
       "    <tr>\n",
       "      <th>4</th>\n",
       "      <td>Handicap</td>\n",
       "      <td>82571</td>\n",
       "    </tr>\n",
       "  </tbody>\n",
       "</table>\n",
       "</div>"
      ],
      "text/plain": [
       "                   keywordPlus  setId\n",
       "0                      Disease  82571\n",
       "1                      Therapy  82571\n",
       "2  Acute myocardial-infarction  82571\n",
       "3              Stroke patients  82571\n",
       "4                     Handicap  82571"
      ]
     },
     "execution_count": 9,
     "metadata": {},
     "output_type": "execute_result"
    }
   ],
   "source": [
    "keywordPlus_graph_components.head()"
   ]
  },
  {
   "cell_type": "markdown",
   "metadata": {},
   "source": [
    "Get a histogram of values occurring in subgraph:"
   ]
  },
  {
   "cell_type": "code",
   "execution_count": 11,
   "metadata": {
    "scrolled": true
   },
   "outputs": [
    {
     "data": {
      "text/plain": [
       "array([[<matplotlib.axes._subplots.AxesSubplot object at 0x0ABEB810>]],\n",
       "      dtype=object)"
      ]
     },
     "execution_count": 11,
     "metadata": {},
     "output_type": "execute_result"
    },
    {
     "data": {
      "image/png": "[encoded data removed]",
      "text/plain": [
       "<Figure size 432x288 with 1 Axes>"
      ]
     },
     "metadata": {
      "needs_background": "light"
     },
     "output_type": "display_data"
    }
   ],
   "source": [
    "keywordPlus_graph_components.hist(column='setId', bins=100)"
   ]
  },
  {
   "cell_type": "markdown",
   "metadata": {},
   "source": [
    "View the largest component:\n",
    "\n",
    "(i.e., the most commonly occuring component `setId`):"
   ]
  },
  {
   "cell_type": "code",
   "execution_count": 9,
   "metadata": {
    "scrolled": true
   },
   "outputs": [
    {
     "data": {
      "text/plain": [
       "82571     155796\n",
       "22228         10\n",
       "148375         6\n",
       "139231         4\n",
       "82278          4\n",
       "88796          4\n",
       "130759         4\n",
       "130270         4\n",
       "98750          4\n",
       "138769         3\n",
       "142362         3\n",
       "15084          3\n",
       "24727          3\n",
       "142992         3\n",
       "85149          3\n",
       "Name: setId, dtype: int64"
      ]
     },
     "execution_count": 9,
     "metadata": {},
     "output_type": "execute_result"
    }
   ],
   "source": [
    "keywordPlus_graph_components['setId'].value_counts().head(15)"
   ]
  },
  {
   "cell_type": "code",
   "execution_count": 10,
   "metadata": {},
   "outputs": [
    {
     "data": {
      "text/html": [
       "<div>\n",
       "<style scoped>\n",
       "    .dataframe tbody tr th:only-of-type {\n",
       "        vertical-align: middle;\n",
       "    }\n",
       "\n",
       "    .dataframe tbody tr th {\n",
       "        vertical-align: top;\n",
       "    }\n",
       "\n",
       "    .dataframe thead th {\n",
       "        text-align: right;\n",
       "    }\n",
       "</style>\n",
       "<table border=\"1\" class=\"dataframe\">\n",
       "  <thead>\n",
       "    <tr style=\"text-align: right;\">\n",
       "      <th></th>\n",
       "      <th>keywordPlus</th>\n",
       "      <th>setId</th>\n",
       "    </tr>\n",
       "  </thead>\n",
       "  <tbody>\n",
       "    <tr>\n",
       "      <th>0</th>\n",
       "      <td>Disease</td>\n",
       "      <td>82571</td>\n",
       "    </tr>\n",
       "    <tr>\n",
       "      <th>1</th>\n",
       "      <td>Therapy</td>\n",
       "      <td>82571</td>\n",
       "    </tr>\n",
       "    <tr>\n",
       "      <th>2</th>\n",
       "      <td>Acute myocardial-infarction</td>\n",
       "      <td>82571</td>\n",
       "    </tr>\n",
       "    <tr>\n",
       "      <th>3</th>\n",
       "      <td>Stroke patients</td>\n",
       "      <td>82571</td>\n",
       "    </tr>\n",
       "    <tr>\n",
       "      <th>4</th>\n",
       "      <td>Handicap</td>\n",
       "      <td>82571</td>\n",
       "    </tr>\n",
       "    <tr>\n",
       "      <th>5</th>\n",
       "      <td>Interobserver agreement</td>\n",
       "      <td>82571</td>\n",
       "    </tr>\n",
       "    <tr>\n",
       "      <th>6</th>\n",
       "      <td>Intracerebral hemorrhage</td>\n",
       "      <td>82571</td>\n",
       "    </tr>\n",
       "    <tr>\n",
       "      <th>7</th>\n",
       "      <td>Bleeding complications</td>\n",
       "      <td>82571</td>\n",
       "    </tr>\n",
       "    <tr>\n",
       "      <th>8</th>\n",
       "      <td>Optimal intensity</td>\n",
       "      <td>82571</td>\n",
       "    </tr>\n",
       "    <tr>\n",
       "      <th>9</th>\n",
       "      <td>Warfarin</td>\n",
       "      <td>82571</td>\n",
       "    </tr>\n",
       "  </tbody>\n",
       "</table>\n",
       "</div>"
      ],
      "text/plain": [
       "                   keywordPlus  setId\n",
       "0                      Disease  82571\n",
       "1                      Therapy  82571\n",
       "2  Acute myocardial-infarction  82571\n",
       "3              Stroke patients  82571\n",
       "4                     Handicap  82571\n",
       "5      Interobserver agreement  82571\n",
       "6     Intracerebral hemorrhage  82571\n",
       "7       Bleeding complications  82571\n",
       "8            Optimal intensity  82571\n",
       "9                     Warfarin  82571"
      ]
     },
     "execution_count": 10,
     "metadata": {},
     "output_type": "execute_result"
    }
   ],
   "source": [
    "largest_component = keywordPlus_graph_components.loc[keywordPlus_graph_components['setId'] == 82571, :]\n",
    "largest_component.head(10)"
   ]
  },
  {
   "cell_type": "markdown",
   "metadata": {},
   "source": [
    "View other components:"
   ]
  },
  {
   "cell_type": "code",
   "execution_count": 11,
   "metadata": {},
   "outputs": [
    {
     "data": {
      "text/html": [
       "<div>\n",
       "<style scoped>\n",
       "    .dataframe tbody tr th:only-of-type {\n",
       "        vertical-align: middle;\n",
       "    }\n",
       "\n",
       "    .dataframe tbody tr th {\n",
       "        vertical-align: top;\n",
       "    }\n",
       "\n",
       "    .dataframe thead th {\n",
       "        text-align: right;\n",
       "    }\n",
       "</style>\n",
       "<table border=\"1\" class=\"dataframe\">\n",
       "  <thead>\n",
       "    <tr style=\"text-align: right;\">\n",
       "      <th></th>\n",
       "      <th>keywordPlus</th>\n",
       "      <th>setId</th>\n",
       "    </tr>\n",
       "  </thead>\n",
       "  <tbody>\n",
       "    <tr>\n",
       "      <th>670</th>\n",
       "      <td>Extension problems</td>\n",
       "      <td>670</td>\n",
       "    </tr>\n",
       "    <tr>\n",
       "      <th>1339</th>\n",
       "      <td>Small observation noise</td>\n",
       "      <td>12011</td>\n",
       "    </tr>\n",
       "    <tr>\n",
       "      <th>1423</th>\n",
       "      <td>A decarboxylase deficiency</td>\n",
       "      <td>1423</td>\n",
       "    </tr>\n",
       "    <tr>\n",
       "      <th>1834</th>\n",
       "      <td>General dental practice</td>\n",
       "      <td>1834</td>\n",
       "    </tr>\n",
       "    <tr>\n",
       "      <th>2115</th>\n",
       "      <td>Triptycene</td>\n",
       "      <td>2115</td>\n",
       "    </tr>\n",
       "    <tr>\n",
       "      <th>3738</th>\n",
       "      <td>Mistreatment</td>\n",
       "      <td>3738</td>\n",
       "    </tr>\n",
       "    <tr>\n",
       "      <th>4091</th>\n",
       "      <td>Biodegradable implants</td>\n",
       "      <td>4091</td>\n",
       "    </tr>\n",
       "    <tr>\n",
       "      <th>4440</th>\n",
       "      <td>Oral involvement</td>\n",
       "      <td>4440</td>\n",
       "    </tr>\n",
       "    <tr>\n",
       "      <th>4486</th>\n",
       "      <td>Cp(x)</td>\n",
       "      <td>4487</td>\n",
       "    </tr>\n",
       "    <tr>\n",
       "      <th>4487</th>\n",
       "      <td>Topological classification</td>\n",
       "      <td>4487</td>\n",
       "    </tr>\n",
       "  </tbody>\n",
       "</table>\n",
       "</div>"
      ],
      "text/plain": [
       "                     keywordPlus  setId\n",
       "670           Extension problems    670\n",
       "1339     Small observation noise  12011\n",
       "1423  A decarboxylase deficiency   1423\n",
       "1834     General dental practice   1834\n",
       "2115                  Triptycene   2115\n",
       "3738                Mistreatment   3738\n",
       "4091      Biodegradable implants   4091\n",
       "4440            Oral involvement   4440\n",
       "4486                       Cp(x)   4487\n",
       "4487  Topological classification   4487"
      ]
     },
     "execution_count": 11,
     "metadata": {},
     "output_type": "execute_result"
    }
   ],
   "source": [
    "disconnected_components = keywordPlus_graph_components.loc[keywordPlus_graph_components['setId'] != 82571, :]\n",
    "disconnected_components.head(10)"
   ]
  },
  {
   "cell_type": "markdown",
   "metadata": {},
   "source": [
    "Compare the **size of the largest component and other components**:"
   ]
  },
  {
   "cell_type": "code",
   "execution_count": 12,
   "metadata": {},
   "outputs": [
    {
     "data": {
      "text/plain": [
       "155796"
      ]
     },
     "execution_count": 12,
     "metadata": {},
     "output_type": "execute_result"
    }
   ],
   "source": [
    "number_of_nodes_in_largest_component = largest_component.count()['keywordPlus']\n",
    "number_of_nodes_in_largest_component"
   ]
  },
  {
   "cell_type": "code",
   "execution_count": 13,
   "metadata": {},
   "outputs": [
    {
     "data": {
      "text/plain": [
       "893"
      ]
     },
     "execution_count": 13,
     "metadata": {},
     "output_type": "execute_result"
    }
   ],
   "source": [
    "number_of_nodes_in_other_components = disconnected_components.count()['keywordPlus']\n",
    "number_of_nodes_in_other_components"
   ]
  },
  {
   "cell_type": "code",
   "execution_count": 14,
   "metadata": {},
   "outputs": [
    {
     "data": {
      "image/png": "[encoded data removed]",
      "text/plain": [
       "<Figure size 432x288 with 1 Axes>"
      ]
     },
     "metadata": {
      "needs_background": "light"
     },
     "output_type": "display_data"
    }
   ],
   "source": [
    "df = pd.DataFrame({'labels':['Nodes in the largest component', 'Nodes in other components'], 'values':[number_of_nodes_in_largest_component, number_of_nodes_in_other_components]})\n",
    "ax = df.plot.bar(x='labels', y='values', rot=0)"
   ]
  },
  {
   "cell_type": "markdown",
   "metadata": {},
   "source": [
    "## AuthorKeyword subgraph"
   ]
  },
  {
   "cell_type": "markdown",
   "metadata": {},
   "source": [
    "Read and view components:"
   ]
  },
  {
   "cell_type": "code",
   "execution_count": 15,
   "metadata": {},
   "outputs": [],
   "source": [
    "authorKeyword_graph_components = pd.read_csv('data//subgraph-components-vs-authorKeywords.csv')"
   ]
  },
  {
   "cell_type": "code",
   "execution_count": 5,
   "metadata": {},
   "outputs": [
    {
     "data": {
      "text/html": [
       "<div>\n",
       "<style scoped>\n",
       "    .dataframe tbody tr th:only-of-type {\n",
       "        vertical-align: middle;\n",
       "    }\n",
       "\n",
       "    .dataframe tbody tr th {\n",
       "        vertical-align: top;\n",
       "    }\n",
       "\n",
       "    .dataframe thead th {\n",
       "        text-align: right;\n",
       "    }\n",
       "</style>\n",
       "<table border=\"1\" class=\"dataframe\">\n",
       "  <thead>\n",
       "    <tr style=\"text-align: right;\">\n",
       "      <th></th>\n",
       "      <th>authorKeyword</th>\n",
       "      <th>setId</th>\n",
       "    </tr>\n",
       "  </thead>\n",
       "  <tbody>\n",
       "    <tr>\n",
       "      <th>0</th>\n",
       "      <td>photosynthesis</td>\n",
       "      <td>98756</td>\n",
       "    </tr>\n",
       "    <tr>\n",
       "      <th>1</th>\n",
       "      <td>ozone</td>\n",
       "      <td>98756</td>\n",
       "    </tr>\n",
       "    <tr>\n",
       "      <th>2</th>\n",
       "      <td>UV-B radiation</td>\n",
       "      <td>98756</td>\n",
       "    </tr>\n",
       "    <tr>\n",
       "      <th>3</th>\n",
       "      <td>growth</td>\n",
       "      <td>98756</td>\n",
       "    </tr>\n",
       "    <tr>\n",
       "      <th>4</th>\n",
       "      <td>Elymus athericus</td>\n",
       "      <td>98756</td>\n",
       "    </tr>\n",
       "    <tr>\n",
       "      <th>5</th>\n",
       "      <td>pain, postoperative</td>\n",
       "      <td>28602</td>\n",
       "    </tr>\n",
       "    <tr>\n",
       "      <th>6</th>\n",
       "      <td>analgesics, prescribing</td>\n",
       "      <td>28602</td>\n",
       "    </tr>\n",
       "    <tr>\n",
       "      <th>7</th>\n",
       "      <td>CCD</td>\n",
       "      <td>98756</td>\n",
       "    </tr>\n",
       "    <tr>\n",
       "      <th>8</th>\n",
       "      <td>image processing</td>\n",
       "      <td>98756</td>\n",
       "    </tr>\n",
       "    <tr>\n",
       "      <th>9</th>\n",
       "      <td>microscopy</td>\n",
       "      <td>98756</td>\n",
       "    </tr>\n",
       "    <tr>\n",
       "      <th>10</th>\n",
       "      <td>analysis</td>\n",
       "      <td>98756</td>\n",
       "    </tr>\n",
       "    <tr>\n",
       "      <th>11</th>\n",
       "      <td>living</td>\n",
       "      <td>98756</td>\n",
       "    </tr>\n",
       "    <tr>\n",
       "      <th>12</th>\n",
       "      <td>reconstruction</td>\n",
       "      <td>98756</td>\n",
       "    </tr>\n",
       "    <tr>\n",
       "      <th>13</th>\n",
       "      <td>phase</td>\n",
       "      <td>98756</td>\n",
       "    </tr>\n",
       "    <tr>\n",
       "      <th>14</th>\n",
       "      <td>interference</td>\n",
       "      <td>98756</td>\n",
       "    </tr>\n",
       "    <tr>\n",
       "      <th>15</th>\n",
       "      <td>optical pathlength</td>\n",
       "      <td>98756</td>\n",
       "    </tr>\n",
       "    <tr>\n",
       "      <th>16</th>\n",
       "      <td>transparent</td>\n",
       "      <td>98756</td>\n",
       "    </tr>\n",
       "    <tr>\n",
       "      <th>17</th>\n",
       "      <td>DIC</td>\n",
       "      <td>98756</td>\n",
       "    </tr>\n",
       "    <tr>\n",
       "      <th>18</th>\n",
       "      <td>Nomarski</td>\n",
       "      <td>98756</td>\n",
       "    </tr>\n",
       "    <tr>\n",
       "      <th>19</th>\n",
       "      <td>atherosclerosis</td>\n",
       "      <td>98756</td>\n",
       "    </tr>\n",
       "    <tr>\n",
       "      <th>20</th>\n",
       "      <td>homocysteine</td>\n",
       "      <td>98756</td>\n",
       "    </tr>\n",
       "    <tr>\n",
       "      <th>21</th>\n",
       "      <td>metformin</td>\n",
       "      <td>98756</td>\n",
       "    </tr>\n",
       "    <tr>\n",
       "      <th>22</th>\n",
       "      <td>vitamin B-12</td>\n",
       "      <td>98756</td>\n",
       "    </tr>\n",
       "    <tr>\n",
       "      <th>23</th>\n",
       "      <td>Swaziland</td>\n",
       "      <td>98756</td>\n",
       "    </tr>\n",
       "    <tr>\n",
       "      <th>24</th>\n",
       "      <td>food security</td>\n",
       "      <td>98756</td>\n",
       "    </tr>\n",
       "  </tbody>\n",
       "</table>\n",
       "</div>"
      ],
      "text/plain": [
       "              authorKeyword  setId\n",
       "0            photosynthesis  98756\n",
       "1                     ozone  98756\n",
       "2            UV-B radiation  98756\n",
       "3                    growth  98756\n",
       "4          Elymus athericus  98756\n",
       "5       pain, postoperative  28602\n",
       "6   analgesics, prescribing  28602\n",
       "7                       CCD  98756\n",
       "8          image processing  98756\n",
       "9                microscopy  98756\n",
       "10                 analysis  98756\n",
       "11                   living  98756\n",
       "12           reconstruction  98756\n",
       "13                    phase  98756\n",
       "14             interference  98756\n",
       "15       optical pathlength  98756\n",
       "16              transparent  98756\n",
       "17                      DIC  98756\n",
       "18                 Nomarski  98756\n",
       "19          atherosclerosis  98756\n",
       "20             homocysteine  98756\n",
       "21                metformin  98756\n",
       "22             vitamin B-12  98756\n",
       "23                Swaziland  98756\n",
       "24            food security  98756"
      ]
     },
     "execution_count": 5,
     "metadata": {},
     "output_type": "execute_result"
    }
   ],
   "source": [
    "authorKeyword_graph_components.head(25)"
   ]
  },
  {
   "cell_type": "markdown",
   "metadata": {},
   "source": [
    "Get a histogram of values occurring in subgraph:"
   ]
  },
  {
   "cell_type": "code",
   "execution_count": 7,
   "metadata": {
    "scrolled": true
   },
   "outputs": [
    {
     "data": {
      "text/plain": [
       "array([[<matplotlib.axes._subplots.AxesSubplot object at 0x07689C90>]],\n",
       "      dtype=object)"
      ]
     },
     "execution_count": 7,
     "metadata": {},
     "output_type": "execute_result"
    },
    {
     "data": {
      "image/png": "[encoded data removed]",
      "text/plain": [
       "<Figure size 432x288 with 1 Axes>"
      ]
     },
     "metadata": {
      "needs_background": "light"
     },
     "output_type": "display_data"
    }
   ],
   "source": [
    "authorKeyword_graph_components.hist(column='setId', bins=100)"
   ]
  },
  {
   "cell_type": "markdown",
   "metadata": {},
   "source": [
    "View the largest component:\n",
    "\n",
    "(i.e., the most commonly occuring component `setId`):"
   ]
  },
  {
   "cell_type": "code",
   "execution_count": 8,
   "metadata": {
    "scrolled": true
   },
   "outputs": [
    {
     "data": {
      "text/plain": [
       "98756     167354\n",
       "84848         38\n",
       "76205         32\n",
       "174909        24\n",
       "174192        20\n",
       "107806        15\n",
       "174932        15\n",
       "174591        14\n",
       "98567         14\n",
       "165073        13\n",
       "173848        13\n",
       "97642         12\n",
       "175171        12\n",
       "148925        12\n",
       "92691         11\n",
       "Name: setId, dtype: int64"
      ]
     },
     "execution_count": 8,
     "metadata": {},
     "output_type": "execute_result"
    }
   ],
   "source": [
    "authorKeyword_graph_components['setId'].value_counts().head(15)"
   ]
  },
  {
   "cell_type": "code",
   "execution_count": 10,
   "metadata": {},
   "outputs": [
    {
     "data": {
      "text/html": [
       "<div>\n",
       "<style scoped>\n",
       "    .dataframe tbody tr th:only-of-type {\n",
       "        vertical-align: middle;\n",
       "    }\n",
       "\n",
       "    .dataframe tbody tr th {\n",
       "        vertical-align: top;\n",
       "    }\n",
       "\n",
       "    .dataframe thead th {\n",
       "        text-align: right;\n",
       "    }\n",
       "</style>\n",
       "<table border=\"1\" class=\"dataframe\">\n",
       "  <thead>\n",
       "    <tr style=\"text-align: right;\">\n",
       "      <th></th>\n",
       "      <th>authorKeyword</th>\n",
       "      <th>setId</th>\n",
       "    </tr>\n",
       "  </thead>\n",
       "  <tbody>\n",
       "    <tr>\n",
       "      <th>0</th>\n",
       "      <td>photosynthesis</td>\n",
       "      <td>98756</td>\n",
       "    </tr>\n",
       "    <tr>\n",
       "      <th>1</th>\n",
       "      <td>ozone</td>\n",
       "      <td>98756</td>\n",
       "    </tr>\n",
       "    <tr>\n",
       "      <th>2</th>\n",
       "      <td>UV-B radiation</td>\n",
       "      <td>98756</td>\n",
       "    </tr>\n",
       "    <tr>\n",
       "      <th>3</th>\n",
       "      <td>growth</td>\n",
       "      <td>98756</td>\n",
       "    </tr>\n",
       "    <tr>\n",
       "      <th>4</th>\n",
       "      <td>Elymus athericus</td>\n",
       "      <td>98756</td>\n",
       "    </tr>\n",
       "    <tr>\n",
       "      <th>7</th>\n",
       "      <td>CCD</td>\n",
       "      <td>98756</td>\n",
       "    </tr>\n",
       "    <tr>\n",
       "      <th>8</th>\n",
       "      <td>image processing</td>\n",
       "      <td>98756</td>\n",
       "    </tr>\n",
       "    <tr>\n",
       "      <th>9</th>\n",
       "      <td>microscopy</td>\n",
       "      <td>98756</td>\n",
       "    </tr>\n",
       "    <tr>\n",
       "      <th>10</th>\n",
       "      <td>analysis</td>\n",
       "      <td>98756</td>\n",
       "    </tr>\n",
       "    <tr>\n",
       "      <th>11</th>\n",
       "      <td>living</td>\n",
       "      <td>98756</td>\n",
       "    </tr>\n",
       "  </tbody>\n",
       "</table>\n",
       "</div>"
      ],
      "text/plain": [
       "       authorKeyword  setId\n",
       "0     photosynthesis  98756\n",
       "1              ozone  98756\n",
       "2     UV-B radiation  98756\n",
       "3             growth  98756\n",
       "4   Elymus athericus  98756\n",
       "7                CCD  98756\n",
       "8   image processing  98756\n",
       "9         microscopy  98756\n",
       "10          analysis  98756\n",
       "11            living  98756"
      ]
     },
     "execution_count": 10,
     "metadata": {},
     "output_type": "execute_result"
    }
   ],
   "source": [
    "largest_component = authorKeyword_graph_components.loc[authorKeyword_graph_components['setId'] == 98756, :]\n",
    "largest_component.head(10)"
   ]
  },
  {
   "cell_type": "markdown",
   "metadata": {},
   "source": [
    "View other components:"
   ]
  },
  {
   "cell_type": "code",
   "execution_count": 11,
   "metadata": {},
   "outputs": [
    {
     "data": {
      "text/html": [
       "<div>\n",
       "<style scoped>\n",
       "    .dataframe tbody tr th:only-of-type {\n",
       "        vertical-align: middle;\n",
       "    }\n",
       "\n",
       "    .dataframe tbody tr th {\n",
       "        vertical-align: top;\n",
       "    }\n",
       "\n",
       "    .dataframe thead th {\n",
       "        text-align: right;\n",
       "    }\n",
       "</style>\n",
       "<table border=\"1\" class=\"dataframe\">\n",
       "  <thead>\n",
       "    <tr style=\"text-align: right;\">\n",
       "      <th></th>\n",
       "      <th>authorKeyword</th>\n",
       "      <th>setId</th>\n",
       "    </tr>\n",
       "  </thead>\n",
       "  <tbody>\n",
       "    <tr>\n",
       "      <th>5</th>\n",
       "      <td>pain, postoperative</td>\n",
       "      <td>28602</td>\n",
       "    </tr>\n",
       "    <tr>\n",
       "      <th>6</th>\n",
       "      <td>analgesics, prescribing</td>\n",
       "      <td>28602</td>\n",
       "    </tr>\n",
       "    <tr>\n",
       "      <th>57</th>\n",
       "      <td>photon beams</td>\n",
       "      <td>14460</td>\n",
       "    </tr>\n",
       "    <tr>\n",
       "      <th>58</th>\n",
       "      <td>head scatter</td>\n",
       "      <td>14460</td>\n",
       "    </tr>\n",
       "    <tr>\n",
       "      <th>59</th>\n",
       "      <td>wedge factor</td>\n",
       "      <td>14460</td>\n",
       "    </tr>\n",
       "    <tr>\n",
       "      <th>60</th>\n",
       "      <td>mini-phantom</td>\n",
       "      <td>14460</td>\n",
       "    </tr>\n",
       "    <tr>\n",
       "      <th>61</th>\n",
       "      <td>build-up cap</td>\n",
       "      <td>14460</td>\n",
       "    </tr>\n",
       "    <tr>\n",
       "      <th>94</th>\n",
       "      <td>properties, coronary dilation, in vitro and in...</td>\n",
       "      <td>98</td>\n",
       "    </tr>\n",
       "    <tr>\n",
       "      <th>95</th>\n",
       "      <td>CAS 140890-71-7</td>\n",
       "      <td>98</td>\n",
       "    </tr>\n",
       "    <tr>\n",
       "      <th>96</th>\n",
       "      <td>VUF 8929, anti-ischaemic</td>\n",
       "      <td>98</td>\n",
       "    </tr>\n",
       "    <tr>\n",
       "      <th>97</th>\n",
       "      <td>diphenylalkylamines</td>\n",
       "      <td>98</td>\n",
       "    </tr>\n",
       "    <tr>\n",
       "      <th>98</th>\n",
       "      <td>N-2-bisp-fluorophenylmethoxyethyl-2-phenylethy...</td>\n",
       "      <td>98</td>\n",
       "    </tr>\n",
       "    <tr>\n",
       "      <th>121</th>\n",
       "      <td>sigma-organolithiums</td>\n",
       "      <td>126</td>\n",
       "    </tr>\n",
       "    <tr>\n",
       "      <th>122</th>\n",
       "      <td>trigonal-bipyramidal structures</td>\n",
       "      <td>126</td>\n",
       "    </tr>\n",
       "    <tr>\n",
       "      <th>123</th>\n",
       "      <td>stereomutation</td>\n",
       "      <td>126</td>\n",
       "    </tr>\n",
       "  </tbody>\n",
       "</table>\n",
       "</div>"
      ],
      "text/plain": [
       "                                         authorKeyword  setId\n",
       "5                                  pain, postoperative  28602\n",
       "6                              analgesics, prescribing  28602\n",
       "57                                        photon beams  14460\n",
       "58                                        head scatter  14460\n",
       "59                                        wedge factor  14460\n",
       "60                                        mini-phantom  14460\n",
       "61                                        build-up cap  14460\n",
       "94   properties, coronary dilation, in vitro and in...     98\n",
       "95                                     CAS 140890-71-7     98\n",
       "96                            VUF 8929, anti-ischaemic     98\n",
       "97                                 diphenylalkylamines     98\n",
       "98   N-2-bisp-fluorophenylmethoxyethyl-2-phenylethy...     98\n",
       "121                               sigma-organolithiums    126\n",
       "122                    trigonal-bipyramidal structures    126\n",
       "123                                     stereomutation    126"
      ]
     },
     "execution_count": 11,
     "metadata": {},
     "output_type": "execute_result"
    }
   ],
   "source": [
    "disconnected_components = authorKeyword_graph_components.loc[authorKeyword_graph_components['setId'] != 98756, :]\n",
    "disconnected_components.head(15)"
   ]
  },
  {
   "cell_type": "markdown",
   "metadata": {},
   "source": [
    "Compare the **size of the largest component and other components**:"
   ]
  },
  {
   "cell_type": "code",
   "execution_count": 12,
   "metadata": {},
   "outputs": [
    {
     "data": {
      "text/plain": [
       "167353"
      ]
     },
     "execution_count": 12,
     "metadata": {},
     "output_type": "execute_result"
    }
   ],
   "source": [
    "number_of_nodes_in_largest_component = largest_component.count()['authorKeyword']\n",
    "number_of_nodes_in_largest_component"
   ]
  },
  {
   "cell_type": "code",
   "execution_count": 13,
   "metadata": {},
   "outputs": [
    {
     "data": {
      "text/plain": [
       "8492"
      ]
     },
     "execution_count": 13,
     "metadata": {},
     "output_type": "execute_result"
    }
   ],
   "source": [
    "number_of_nodes_in_other_components = disconnected_components.count()['authorKeyword']\n",
    "number_of_nodes_in_other_components"
   ]
  },
  {
   "cell_type": "code",
   "execution_count": 14,
   "metadata": {},
   "outputs": [
    {
     "data": {
      "image/png": "[encoded data removed]",
      "text/plain": [
       "<Figure size 432x288 with 1 Axes>"
      ]
     },
     "metadata": {
      "needs_background": "light"
     },
     "output_type": "display_data"
    }
   ],
   "source": [
    "df = pd.DataFrame({'labels':['Nodes in the largest component', 'Nodes in other components'], 'values':[number_of_nodes_in_largest_component, number_of_nodes_in_other_components]})\n",
    "ax = df.plot.bar(x='labels', y='values', rot=0)"
   ]
  },
  {
   "cell_type": "markdown",
   "metadata": {},
   "source": [
    "## Annotation subgraph"
   ]
  },
  {
   "cell_type": "markdown",
   "metadata": {},
   "source": [
    "Read and view components:"
   ]
  },
  {
   "cell_type": "code",
   "execution_count": 16,
   "metadata": {},
   "outputs": [],
   "source": [
    "annotation_graph_components = pd.read_csv('data//subgraph-components-vs-annotations.csv')"
   ]
  },
  {
   "cell_type": "code",
   "execution_count": 17,
   "metadata": {},
   "outputs": [
    {
     "data": {
      "text/html": [
       "<div>\n",
       "<style scoped>\n",
       "    .dataframe tbody tr th:only-of-type {\n",
       "        vertical-align: middle;\n",
       "    }\n",
       "\n",
       "    .dataframe tbody tr th {\n",
       "        vertical-align: top;\n",
       "    }\n",
       "\n",
       "    .dataframe thead th {\n",
       "        text-align: right;\n",
       "    }\n",
       "</style>\n",
       "<table border=\"1\" class=\"dataframe\">\n",
       "  <thead>\n",
       "    <tr style=\"text-align: right;\">\n",
       "      <th></th>\n",
       "      <th>annotation</th>\n",
       "      <th>setId</th>\n",
       "    </tr>\n",
       "  </thead>\n",
       "  <tbody>\n",
       "    <tr>\n",
       "      <th>0</th>\n",
       "      <td>blood group</td>\n",
       "      <td>50898</td>\n",
       "    </tr>\n",
       "    <tr>\n",
       "      <th>1</th>\n",
       "      <td>surfactants</td>\n",
       "      <td>50898</td>\n",
       "    </tr>\n",
       "    <tr>\n",
       "      <th>2</th>\n",
       "      <td>image processing</td>\n",
       "      <td>50898</td>\n",
       "    </tr>\n",
       "    <tr>\n",
       "      <th>3</th>\n",
       "      <td>lateral shift</td>\n",
       "      <td>50898</td>\n",
       "    </tr>\n",
       "    <tr>\n",
       "      <th>4</th>\n",
       "      <td>DNA</td>\n",
       "      <td>50898</td>\n",
       "    </tr>\n",
       "    <tr>\n",
       "      <th>5</th>\n",
       "      <td>microscope</td>\n",
       "      <td>50898</td>\n",
       "    </tr>\n",
       "    <tr>\n",
       "      <th>6</th>\n",
       "      <td>Serologic</td>\n",
       "      <td>50898</td>\n",
       "    </tr>\n",
       "    <tr>\n",
       "      <th>7</th>\n",
       "      <td>signal-to-noise ratio</td>\n",
       "      <td>50898</td>\n",
       "    </tr>\n",
       "    <tr>\n",
       "      <th>8</th>\n",
       "      <td>phenotype</td>\n",
       "      <td>50898</td>\n",
       "    </tr>\n",
       "    <tr>\n",
       "      <th>9</th>\n",
       "      <td>expression</td>\n",
       "      <td>50898</td>\n",
       "    </tr>\n",
       "    <tr>\n",
       "      <th>10</th>\n",
       "      <td>The advantage</td>\n",
       "      <td>50898</td>\n",
       "    </tr>\n",
       "    <tr>\n",
       "      <th>11</th>\n",
       "      <td>cDNA</td>\n",
       "      <td>50898</td>\n",
       "    </tr>\n",
       "    <tr>\n",
       "      <th>12</th>\n",
       "      <td>interferometric</td>\n",
       "      <td>50898</td>\n",
       "    </tr>\n",
       "    <tr>\n",
       "      <th>13</th>\n",
       "      <td>mutation</td>\n",
       "      <td>50898</td>\n",
       "    </tr>\n",
       "    <tr>\n",
       "      <th>14</th>\n",
       "      <td>exon</td>\n",
       "      <td>50898</td>\n",
       "    </tr>\n",
       "    <tr>\n",
       "      <th>15</th>\n",
       "      <td>allele</td>\n",
       "      <td>50898</td>\n",
       "    </tr>\n",
       "    <tr>\n",
       "      <th>16</th>\n",
       "      <td>primer</td>\n",
       "      <td>50898</td>\n",
       "    </tr>\n",
       "    <tr>\n",
       "      <th>17</th>\n",
       "      <td>algorithm</td>\n",
       "      <td>50898</td>\n",
       "    </tr>\n",
       "    <tr>\n",
       "      <th>18</th>\n",
       "      <td>antigens</td>\n",
       "      <td>50898</td>\n",
       "    </tr>\n",
       "    <tr>\n",
       "      <th>19</th>\n",
       "      <td>alkylphenol</td>\n",
       "      <td>50898</td>\n",
       "    </tr>\n",
       "    <tr>\n",
       "      <th>20</th>\n",
       "      <td>polymerase</td>\n",
       "      <td>50898</td>\n",
       "    </tr>\n",
       "    <tr>\n",
       "      <th>21</th>\n",
       "      <td>chain reaction</td>\n",
       "      <td>50898</td>\n",
       "    </tr>\n",
       "    <tr>\n",
       "      <th>22</th>\n",
       "      <td>polymorphism</td>\n",
       "      <td>50898</td>\n",
       "    </tr>\n",
       "    <tr>\n",
       "      <th>23</th>\n",
       "      <td>nucleotide</td>\n",
       "      <td>50898</td>\n",
       "    </tr>\n",
       "    <tr>\n",
       "      <th>24</th>\n",
       "      <td>acid</td>\n",
       "      <td>50898</td>\n",
       "    </tr>\n",
       "  </tbody>\n",
       "</table>\n",
       "</div>"
      ],
      "text/plain": [
       "               annotation  setId\n",
       "0             blood group  50898\n",
       "1             surfactants  50898\n",
       "2        image processing  50898\n",
       "3           lateral shift  50898\n",
       "4                     DNA  50898\n",
       "5              microscope  50898\n",
       "6               Serologic  50898\n",
       "7   signal-to-noise ratio  50898\n",
       "8               phenotype  50898\n",
       "9              expression  50898\n",
       "10          The advantage  50898\n",
       "11                   cDNA  50898\n",
       "12        interferometric  50898\n",
       "13               mutation  50898\n",
       "14                   exon  50898\n",
       "15                 allele  50898\n",
       "16                 primer  50898\n",
       "17              algorithm  50898\n",
       "18               antigens  50898\n",
       "19            alkylphenol  50898\n",
       "20             polymerase  50898\n",
       "21         chain reaction  50898\n",
       "22           polymorphism  50898\n",
       "23             nucleotide  50898\n",
       "24                   acid  50898"
      ]
     },
     "execution_count": 17,
     "metadata": {},
     "output_type": "execute_result"
    }
   ],
   "source": [
    "annotation_graph_components.head(25)"
   ]
  },
  {
   "cell_type": "markdown",
   "metadata": {},
   "source": [
    "Get a histogram of values occurring in subgraph:"
   ]
  },
  {
   "cell_type": "code",
   "execution_count": 18,
   "metadata": {
    "scrolled": true
   },
   "outputs": [
    {
     "data": {
      "text/plain": [
       "array([[<matplotlib.axes._subplots.AxesSubplot object at 0x0AF9DAF0>]],\n",
       "      dtype=object)"
      ]
     },
     "execution_count": 18,
     "metadata": {},
     "output_type": "execute_result"
    },
    {
     "data": {
      "image/png": "[encoded data removed]",
      "text/plain": [
       "<Figure size 432x288 with 1 Axes>"
      ]
     },
     "metadata": {
      "needs_background": "light"
     },
     "output_type": "display_data"
    }
   ],
   "source": [
    "annotation_graph_components.hist(column='setId', bins=100)"
   ]
  },
  {
   "cell_type": "markdown",
   "metadata": {},
   "source": [
    "View the largest component:\n",
    "\n",
    "(i.e., the most commonly occuring component `setId`):"
   ]
  },
  {
   "cell_type": "code",
   "execution_count": 20,
   "metadata": {
    "scrolled": true
   },
   "outputs": [
    {
     "data": {
      "text/plain": [
       "50898    100153\n",
       "98961         4\n",
       "97169         4\n",
       "89439         3\n",
       "78431         3\n",
       "24546         3\n",
       "14051         3\n",
       "74754         2\n",
       "68992         2\n",
       "84438         2\n",
       "88457         2\n",
       "47666         2\n",
       "92495         2\n",
       "22947         2\n",
       "62983         2\n",
       "Name: setId, dtype: int64"
      ]
     },
     "execution_count": 20,
     "metadata": {},
     "output_type": "execute_result"
    }
   ],
   "source": [
    "annotation_graph_components['setId'].value_counts().head(15)"
   ]
  },
  {
   "cell_type": "code",
   "execution_count": 23,
   "metadata": {},
   "outputs": [
    {
     "data": {
      "text/html": [
       "<div>\n",
       "<style scoped>\n",
       "    .dataframe tbody tr th:only-of-type {\n",
       "        vertical-align: middle;\n",
       "    }\n",
       "\n",
       "    .dataframe tbody tr th {\n",
       "        vertical-align: top;\n",
       "    }\n",
       "\n",
       "    .dataframe thead th {\n",
       "        text-align: right;\n",
       "    }\n",
       "</style>\n",
       "<table border=\"1\" class=\"dataframe\">\n",
       "  <thead>\n",
       "    <tr style=\"text-align: right;\">\n",
       "      <th></th>\n",
       "      <th>annotation</th>\n",
       "      <th>setId</th>\n",
       "    </tr>\n",
       "  </thead>\n",
       "  <tbody>\n",
       "    <tr>\n",
       "      <th>0</th>\n",
       "      <td>blood group</td>\n",
       "      <td>50898</td>\n",
       "    </tr>\n",
       "    <tr>\n",
       "      <th>1</th>\n",
       "      <td>surfactants</td>\n",
       "      <td>50898</td>\n",
       "    </tr>\n",
       "    <tr>\n",
       "      <th>2</th>\n",
       "      <td>image processing</td>\n",
       "      <td>50898</td>\n",
       "    </tr>\n",
       "    <tr>\n",
       "      <th>3</th>\n",
       "      <td>lateral shift</td>\n",
       "      <td>50898</td>\n",
       "    </tr>\n",
       "    <tr>\n",
       "      <th>4</th>\n",
       "      <td>DNA</td>\n",
       "      <td>50898</td>\n",
       "    </tr>\n",
       "    <tr>\n",
       "      <th>5</th>\n",
       "      <td>microscope</td>\n",
       "      <td>50898</td>\n",
       "    </tr>\n",
       "    <tr>\n",
       "      <th>6</th>\n",
       "      <td>Serologic</td>\n",
       "      <td>50898</td>\n",
       "    </tr>\n",
       "    <tr>\n",
       "      <th>7</th>\n",
       "      <td>signal-to-noise ratio</td>\n",
       "      <td>50898</td>\n",
       "    </tr>\n",
       "    <tr>\n",
       "      <th>8</th>\n",
       "      <td>phenotype</td>\n",
       "      <td>50898</td>\n",
       "    </tr>\n",
       "    <tr>\n",
       "      <th>9</th>\n",
       "      <td>expression</td>\n",
       "      <td>50898</td>\n",
       "    </tr>\n",
       "  </tbody>\n",
       "</table>\n",
       "</div>"
      ],
      "text/plain": [
       "              annotation  setId\n",
       "0            blood group  50898\n",
       "1            surfactants  50898\n",
       "2       image processing  50898\n",
       "3          lateral shift  50898\n",
       "4                    DNA  50898\n",
       "5             microscope  50898\n",
       "6              Serologic  50898\n",
       "7  signal-to-noise ratio  50898\n",
       "8              phenotype  50898\n",
       "9             expression  50898"
      ]
     },
     "execution_count": 23,
     "metadata": {},
     "output_type": "execute_result"
    }
   ],
   "source": [
    "largest_component = annotation_graph_components.loc[annotation_graph_components['setId'] == 50898, :]\n",
    "largest_component.head(10)"
   ]
  },
  {
   "cell_type": "markdown",
   "metadata": {},
   "source": [
    "View other components:"
   ]
  },
  {
   "cell_type": "code",
   "execution_count": 25,
   "metadata": {},
   "outputs": [
    {
     "data": {
      "text/html": [
       "<div>\n",
       "<style scoped>\n",
       "    .dataframe tbody tr th:only-of-type {\n",
       "        vertical-align: middle;\n",
       "    }\n",
       "\n",
       "    .dataframe tbody tr th {\n",
       "        vertical-align: top;\n",
       "    }\n",
       "\n",
       "    .dataframe thead th {\n",
       "        text-align: right;\n",
       "    }\n",
       "</style>\n",
       "<table border=\"1\" class=\"dataframe\">\n",
       "  <thead>\n",
       "    <tr style=\"text-align: right;\">\n",
       "      <th></th>\n",
       "      <th>annotation</th>\n",
       "      <th>setId</th>\n",
       "    </tr>\n",
       "  </thead>\n",
       "  <tbody>\n",
       "    <tr>\n",
       "      <th>557</th>\n",
       "      <td>salutogenesis</td>\n",
       "      <td>557</td>\n",
       "    </tr>\n",
       "    <tr>\n",
       "      <th>755</th>\n",
       "      <td>World Anti-Doping Code</td>\n",
       "      <td>14051</td>\n",
       "    </tr>\n",
       "    <tr>\n",
       "      <th>876</th>\n",
       "      <td>anarchists</td>\n",
       "      <td>13982</td>\n",
       "    </tr>\n",
       "    <tr>\n",
       "      <th>1720</th>\n",
       "      <td>Hammersmith</td>\n",
       "      <td>1720</td>\n",
       "    </tr>\n",
       "    <tr>\n",
       "      <th>2869</th>\n",
       "      <td>Direct Instruction</td>\n",
       "      <td>2869</td>\n",
       "    </tr>\n",
       "    <tr>\n",
       "      <th>2931</th>\n",
       "      <td>cybersecurity</td>\n",
       "      <td>11631</td>\n",
       "    </tr>\n",
       "    <tr>\n",
       "      <th>3227</th>\n",
       "      <td>Foreground-Background</td>\n",
       "      <td>11029</td>\n",
       "    </tr>\n",
       "    <tr>\n",
       "      <th>3228</th>\n",
       "      <td>male contraceptive</td>\n",
       "      <td>3228</td>\n",
       "    </tr>\n",
       "    <tr>\n",
       "      <th>11029</th>\n",
       "      <td>scheduling discipline</td>\n",
       "      <td>11029</td>\n",
       "    </tr>\n",
       "    <tr>\n",
       "      <th>11367</th>\n",
       "      <td>ASSER</td>\n",
       "      <td>14051</td>\n",
       "    </tr>\n",
       "    <tr>\n",
       "      <th>11631</th>\n",
       "      <td>vitalist</td>\n",
       "      <td>11631</td>\n",
       "    </tr>\n",
       "    <tr>\n",
       "      <th>13982</th>\n",
       "      <td>philosophical anarchist</td>\n",
       "      <td>13982</td>\n",
       "    </tr>\n",
       "    <tr>\n",
       "      <th>14051</th>\n",
       "      <td>WADC</td>\n",
       "      <td>14051</td>\n",
       "    </tr>\n",
       "    <tr>\n",
       "      <th>18502</th>\n",
       "      <td>open format</td>\n",
       "      <td>18502</td>\n",
       "    </tr>\n",
       "    <tr>\n",
       "      <th>18730</th>\n",
       "      <td>Lesson Study</td>\n",
       "      <td>18730</td>\n",
       "    </tr>\n",
       "  </tbody>\n",
       "</table>\n",
       "</div>"
      ],
      "text/plain": [
       "                    annotation  setId\n",
       "557              salutogenesis    557\n",
       "755     World Anti-Doping Code  14051\n",
       "876                 anarchists  13982\n",
       "1720               Hammersmith   1720\n",
       "2869        Direct Instruction   2869\n",
       "2931             cybersecurity  11631\n",
       "3227     Foreground-Background  11029\n",
       "3228        male contraceptive   3228\n",
       "11029    scheduling discipline  11029\n",
       "11367                    ASSER  14051\n",
       "11631                 vitalist  11631\n",
       "13982  philosophical anarchist  13982\n",
       "14051                     WADC  14051\n",
       "18502              open format  18502\n",
       "18730             Lesson Study  18730"
      ]
     },
     "execution_count": 25,
     "metadata": {},
     "output_type": "execute_result"
    }
   ],
   "source": [
    "disconnected_components = annotation_graph_components.loc[annotation_graph_components['setId'] != 50898, :]\n",
    "disconnected_components.head(15)"
   ]
  },
  {
   "cell_type": "markdown",
   "metadata": {},
   "source": [
    "Compare the **size of the largest component and other components**:"
   ]
  },
  {
   "cell_type": "code",
   "execution_count": 26,
   "metadata": {},
   "outputs": [
    {
     "data": {
      "text/plain": [
       "100152"
      ]
     },
     "execution_count": 26,
     "metadata": {},
     "output_type": "execute_result"
    }
   ],
   "source": [
    "number_of_nodes_in_largest_component = largest_component.count()['annotation']\n",
    "number_of_nodes_in_largest_component"
   ]
  },
  {
   "cell_type": "code",
   "execution_count": 27,
   "metadata": {},
   "outputs": [
    {
     "data": {
      "text/plain": [
       "267"
      ]
     },
     "execution_count": 27,
     "metadata": {},
     "output_type": "execute_result"
    }
   ],
   "source": [
    "number_of_nodes_in_other_components = disconnected_components.count()['annotation']\n",
    "number_of_nodes_in_other_components"
   ]
  },
  {
   "cell_type": "code",
   "execution_count": 28,
   "metadata": {},
   "outputs": [
    {
     "data": {
      "image/png": "[encoded data removed]",
      "text/plain": [
       "<Figure size 432x288 with 1 Axes>"
      ]
     },
     "metadata": {
      "needs_background": "light"
     },
     "output_type": "display_data"
    }
   ],
   "source": [
    "df = pd.DataFrame({'labels':['Nodes in the largest component', 'Nodes in other components'], 'values':[number_of_nodes_in_largest_component, number_of_nodes_in_other_components]})\n",
    "ax = df.plot.bar(x='labels', y='values', rot=0)"
   ]
  },
  {
   "cell_type": "markdown",
   "metadata": {},
   "source": [
    "## Subject category subgraph"
   ]
  },
  {
   "cell_type": "markdown",
   "metadata": {},
   "source": [
    "Read and view components:"
   ]
  },
  {
   "cell_type": "code",
   "execution_count": 46,
   "metadata": {},
   "outputs": [],
   "source": [
    "subjectCategory_graph_components = pd.read_csv('data//subgraph-components-vs-subjectCategories.csv')"
   ]
  },
  {
   "cell_type": "code",
   "execution_count": 34,
   "metadata": {},
   "outputs": [
    {
     "data": {
      "text/html": [
       "<div>\n",
       "<style scoped>\n",
       "    .dataframe tbody tr th:only-of-type {\n",
       "        vertical-align: middle;\n",
       "    }\n",
       "\n",
       "    .dataframe tbody tr th {\n",
       "        vertical-align: top;\n",
       "    }\n",
       "\n",
       "    .dataframe thead th {\n",
       "        text-align: right;\n",
       "    }\n",
       "</style>\n",
       "<table border=\"1\" class=\"dataframe\">\n",
       "  <thead>\n",
       "    <tr style=\"text-align: right;\">\n",
       "      <th></th>\n",
       "      <th>subjectCategory</th>\n",
       "      <th>setId</th>\n",
       "    </tr>\n",
       "  </thead>\n",
       "  <tbody>\n",
       "    <tr>\n",
       "      <th>0</th>\n",
       "      <td>Film, Radio &amp; Television</td>\n",
       "      <td>1</td>\n",
       "    </tr>\n",
       "    <tr>\n",
       "      <th>1</th>\n",
       "      <td>Neurosciences &amp; Neurology</td>\n",
       "      <td>1</td>\n",
       "    </tr>\n",
       "    <tr>\n",
       "      <th>2</th>\n",
       "      <td>Asian Studies</td>\n",
       "      <td>1</td>\n",
       "    </tr>\n",
       "    <tr>\n",
       "      <th>3</th>\n",
       "      <td>Sport Sciences</td>\n",
       "      <td>1</td>\n",
       "    </tr>\n",
       "    <tr>\n",
       "      <th>4</th>\n",
       "      <td>Environmental Sciences &amp; Ecology</td>\n",
       "      <td>1</td>\n",
       "    </tr>\n",
       "    <tr>\n",
       "      <th>5</th>\n",
       "      <td>Anesthesiology</td>\n",
       "      <td>1</td>\n",
       "    </tr>\n",
       "    <tr>\n",
       "      <th>6</th>\n",
       "      <td>Microscopy</td>\n",
       "      <td>1</td>\n",
       "    </tr>\n",
       "    <tr>\n",
       "      <th>7</th>\n",
       "      <td>General &amp; Internal Medicine</td>\n",
       "      <td>1</td>\n",
       "    </tr>\n",
       "    <tr>\n",
       "      <th>8</th>\n",
       "      <td>Public Administration</td>\n",
       "      <td>1</td>\n",
       "    </tr>\n",
       "    <tr>\n",
       "      <th>9</th>\n",
       "      <td>Business &amp; Economics</td>\n",
       "      <td>1</td>\n",
       "    </tr>\n",
       "  </tbody>\n",
       "</table>\n",
       "</div>"
      ],
      "text/plain": [
       "                    subjectCategory  setId\n",
       "0          Film, Radio & Television      1\n",
       "1         Neurosciences & Neurology      1\n",
       "2                     Asian Studies      1\n",
       "3                    Sport Sciences      1\n",
       "4  Environmental Sciences & Ecology      1\n",
       "5                    Anesthesiology      1\n",
       "6                        Microscopy      1\n",
       "7       General & Internal Medicine      1\n",
       "8             Public Administration      1\n",
       "9              Business & Economics      1"
      ]
     },
     "execution_count": 34,
     "metadata": {},
     "output_type": "execute_result"
    }
   ],
   "source": [
    "subjectCategory_graph_components.head(10)"
   ]
  },
  {
   "cell_type": "markdown",
   "metadata": {},
   "source": [
    "Get a histogram of values occurring in subgraph:"
   ]
  },
  {
   "cell_type": "code",
   "execution_count": 35,
   "metadata": {
    "scrolled": true
   },
   "outputs": [
    {
     "data": {
      "text/plain": [
       "array([[<matplotlib.axes._subplots.AxesSubplot object at 0x0B9AC430>]],\n",
       "      dtype=object)"
      ]
     },
     "execution_count": 35,
     "metadata": {},
     "output_type": "execute_result"
    },
    {
     "data": {
      "image/png": "[encoded data removed]",
      "text/plain": [
       "<Figure size 432x288 with 1 Axes>"
      ]
     },
     "metadata": {
      "needs_background": "light"
     },
     "output_type": "display_data"
    }
   ],
   "source": [
    "subjectCategory_graph_components.hist(column='setId', bins=100)"
   ]
  },
  {
   "cell_type": "markdown",
   "metadata": {},
   "source": [
    "View the largest component:\n",
    "\n",
    "(i.e., the most commonly occuring component `setId`):"
   ]
  },
  {
   "cell_type": "code",
   "execution_count": 37,
   "metadata": {
    "scrolled": true
   },
   "outputs": [
    {
     "data": {
      "text/plain": [
       "1      150\n",
       "145      1\n",
       "Name: setId, dtype: int64"
      ]
     },
     "execution_count": 37,
     "metadata": {},
     "output_type": "execute_result"
    }
   ],
   "source": [
    "subjectCategory_graph_components['setId'].value_counts().head(15)"
   ]
  },
  {
   "cell_type": "code",
   "execution_count": 38,
   "metadata": {},
   "outputs": [
    {
     "data": {
      "text/html": [
       "<div>\n",
       "<style scoped>\n",
       "    .dataframe tbody tr th:only-of-type {\n",
       "        vertical-align: middle;\n",
       "    }\n",
       "\n",
       "    .dataframe tbody tr th {\n",
       "        vertical-align: top;\n",
       "    }\n",
       "\n",
       "    .dataframe thead th {\n",
       "        text-align: right;\n",
       "    }\n",
       "</style>\n",
       "<table border=\"1\" class=\"dataframe\">\n",
       "  <thead>\n",
       "    <tr style=\"text-align: right;\">\n",
       "      <th></th>\n",
       "      <th>subjectCategory</th>\n",
       "      <th>setId</th>\n",
       "    </tr>\n",
       "  </thead>\n",
       "  <tbody>\n",
       "    <tr>\n",
       "      <th>0</th>\n",
       "      <td>Film, Radio &amp; Television</td>\n",
       "      <td>1</td>\n",
       "    </tr>\n",
       "    <tr>\n",
       "      <th>1</th>\n",
       "      <td>Neurosciences &amp; Neurology</td>\n",
       "      <td>1</td>\n",
       "    </tr>\n",
       "    <tr>\n",
       "      <th>2</th>\n",
       "      <td>Asian Studies</td>\n",
       "      <td>1</td>\n",
       "    </tr>\n",
       "    <tr>\n",
       "      <th>3</th>\n",
       "      <td>Sport Sciences</td>\n",
       "      <td>1</td>\n",
       "    </tr>\n",
       "    <tr>\n",
       "      <th>4</th>\n",
       "      <td>Environmental Sciences &amp; Ecology</td>\n",
       "      <td>1</td>\n",
       "    </tr>\n",
       "    <tr>\n",
       "      <th>5</th>\n",
       "      <td>Anesthesiology</td>\n",
       "      <td>1</td>\n",
       "    </tr>\n",
       "    <tr>\n",
       "      <th>6</th>\n",
       "      <td>Microscopy</td>\n",
       "      <td>1</td>\n",
       "    </tr>\n",
       "    <tr>\n",
       "      <th>7</th>\n",
       "      <td>General &amp; Internal Medicine</td>\n",
       "      <td>1</td>\n",
       "    </tr>\n",
       "    <tr>\n",
       "      <th>8</th>\n",
       "      <td>Public Administration</td>\n",
       "      <td>1</td>\n",
       "    </tr>\n",
       "    <tr>\n",
       "      <th>9</th>\n",
       "      <td>Business &amp; Economics</td>\n",
       "      <td>1</td>\n",
       "    </tr>\n",
       "  </tbody>\n",
       "</table>\n",
       "</div>"
      ],
      "text/plain": [
       "                    subjectCategory  setId\n",
       "0          Film, Radio & Television      1\n",
       "1         Neurosciences & Neurology      1\n",
       "2                     Asian Studies      1\n",
       "3                    Sport Sciences      1\n",
       "4  Environmental Sciences & Ecology      1\n",
       "5                    Anesthesiology      1\n",
       "6                        Microscopy      1\n",
       "7       General & Internal Medicine      1\n",
       "8             Public Administration      1\n",
       "9              Business & Economics      1"
      ]
     },
     "execution_count": 38,
     "metadata": {},
     "output_type": "execute_result"
    }
   ],
   "source": [
    "largest_component = subjectCategory_graph_components.loc[subjectCategory_graph_components['setId'] == 1, :]\n",
    "largest_component.head(10)"
   ]
  },
  {
   "cell_type": "markdown",
   "metadata": {},
   "source": [
    "View other components:"
   ]
  },
  {
   "cell_type": "code",
   "execution_count": 39,
   "metadata": {},
   "outputs": [
    {
     "data": {
      "text/html": [
       "<div>\n",
       "<style scoped>\n",
       "    .dataframe tbody tr th:only-of-type {\n",
       "        vertical-align: middle;\n",
       "    }\n",
       "\n",
       "    .dataframe tbody tr th {\n",
       "        vertical-align: top;\n",
       "    }\n",
       "\n",
       "    .dataframe thead th {\n",
       "        text-align: right;\n",
       "    }\n",
       "</style>\n",
       "<table border=\"1\" class=\"dataframe\">\n",
       "  <thead>\n",
       "    <tr style=\"text-align: right;\">\n",
       "      <th></th>\n",
       "      <th>subjectCategory</th>\n",
       "      <th>setId</th>\n",
       "    </tr>\n",
       "  </thead>\n",
       "  <tbody>\n",
       "    <tr>\n",
       "      <th>145</th>\n",
       "      <td>Dance</td>\n",
       "      <td>145</td>\n",
       "    </tr>\n",
       "  </tbody>\n",
       "</table>\n",
       "</div>"
      ],
      "text/plain": [
       "    subjectCategory  setId\n",
       "145           Dance    145"
      ]
     },
     "execution_count": 39,
     "metadata": {},
     "output_type": "execute_result"
    }
   ],
   "source": [
    "disconnected_components = subjectCategory_graph_components.loc[subjectCategory_graph_components['setId'] != 1, :]\n",
    "disconnected_components.head(15)"
   ]
  },
  {
   "cell_type": "markdown",
   "metadata": {},
   "source": [
    "Compare the **size of the largest component and other components**:"
   ]
  },
  {
   "cell_type": "code",
   "execution_count": 40,
   "metadata": {},
   "outputs": [
    {
     "data": {
      "text/plain": [
       "150"
      ]
     },
     "execution_count": 40,
     "metadata": {},
     "output_type": "execute_result"
    }
   ],
   "source": [
    "number_of_nodes_in_largest_component = largest_component.count()['subjectCategory']\n",
    "number_of_nodes_in_largest_component"
   ]
  },
  {
   "cell_type": "code",
   "execution_count": 41,
   "metadata": {},
   "outputs": [
    {
     "data": {
      "text/plain": [
       "1"
      ]
     },
     "execution_count": 41,
     "metadata": {},
     "output_type": "execute_result"
    }
   ],
   "source": [
    "number_of_nodes_in_other_components = disconnected_components.count()['subjectCategory']\n",
    "number_of_nodes_in_other_components"
   ]
  },
  {
   "cell_type": "code",
   "execution_count": 42,
   "metadata": {},
   "outputs": [
    {
     "data": {
      "image/png": "[encoded data removed]",
      "text/plain": [
       "<Figure size 432x288 with 1 Axes>"
      ]
     },
     "metadata": {
      "needs_background": "light"
     },
     "output_type": "display_data"
    }
   ],
   "source": [
    "df = pd.DataFrame({'labels':['Nodes in the largest component', 'Nodes in other components'], 'values':[number_of_nodes_in_largest_component, number_of_nodes_in_other_components]})\n",
    "ax = df.plot.bar(x='labels', y='values', rot=0)"
   ]
  },
  {
   "cell_type": "markdown",
   "metadata": {},
   "source": [
    "## Web of Science category subgraph"
   ]
  },
  {
   "cell_type": "markdown",
   "metadata": {},
   "source": [
    "Read and view components:"
   ]
  },
  {
   "cell_type": "code",
   "execution_count": 47,
   "metadata": {},
   "outputs": [],
   "source": [
    "wosCategory_graph_components = pd.read_csv('data//subgraph-components-vs-wosCategories.csv')"
   ]
  },
  {
   "cell_type": "code",
   "execution_count": 48,
   "metadata": {},
   "outputs": [
    {
     "data": {
      "text/html": [
       "<div>\n",
       "<style scoped>\n",
       "    .dataframe tbody tr th:only-of-type {\n",
       "        vertical-align: middle;\n",
       "    }\n",
       "\n",
       "    .dataframe tbody tr th {\n",
       "        vertical-align: top;\n",
       "    }\n",
       "\n",
       "    .dataframe thead th {\n",
       "        text-align: right;\n",
       "    }\n",
       "</style>\n",
       "<table border=\"1\" class=\"dataframe\">\n",
       "  <thead>\n",
       "    <tr style=\"text-align: right;\">\n",
       "      <th></th>\n",
       "      <th>wosCategory</th>\n",
       "      <th>setId</th>\n",
       "    </tr>\n",
       "  </thead>\n",
       "  <tbody>\n",
       "    <tr>\n",
       "      <th>0</th>\n",
       "      <td>Film, Radio, Television</td>\n",
       "      <td>3</td>\n",
       "    </tr>\n",
       "    <tr>\n",
       "      <th>1</th>\n",
       "      <td>Clinical Neurology</td>\n",
       "      <td>3</td>\n",
       "    </tr>\n",
       "    <tr>\n",
       "      <th>2</th>\n",
       "      <td>Neurosciences</td>\n",
       "      <td>3</td>\n",
       "    </tr>\n",
       "    <tr>\n",
       "      <th>3</th>\n",
       "      <td>Asian Studies</td>\n",
       "      <td>3</td>\n",
       "    </tr>\n",
       "    <tr>\n",
       "      <th>4</th>\n",
       "      <td>Sport Sciences</td>\n",
       "      <td>3</td>\n",
       "    </tr>\n",
       "    <tr>\n",
       "      <th>5</th>\n",
       "      <td>Environmental Sciences</td>\n",
       "      <td>3</td>\n",
       "    </tr>\n",
       "    <tr>\n",
       "      <th>6</th>\n",
       "      <td>Anesthesiology</td>\n",
       "      <td>3</td>\n",
       "    </tr>\n",
       "    <tr>\n",
       "      <th>7</th>\n",
       "      <td>Microscopy</td>\n",
       "      <td>3</td>\n",
       "    </tr>\n",
       "    <tr>\n",
       "      <th>8</th>\n",
       "      <td>General &amp; Internal Medicine</td>\n",
       "      <td>3</td>\n",
       "    </tr>\n",
       "    <tr>\n",
       "      <th>9</th>\n",
       "      <td>Economics</td>\n",
       "      <td>3</td>\n",
       "    </tr>\n",
       "  </tbody>\n",
       "</table>\n",
       "</div>"
      ],
      "text/plain": [
       "                   wosCategory  setId\n",
       "0      Film, Radio, Television      3\n",
       "1           Clinical Neurology      3\n",
       "2                Neurosciences      3\n",
       "3                Asian Studies      3\n",
       "4               Sport Sciences      3\n",
       "5       Environmental Sciences      3\n",
       "6               Anesthesiology      3\n",
       "7                   Microscopy      3\n",
       "8  General & Internal Medicine      3\n",
       "9                    Economics      3"
      ]
     },
     "execution_count": 48,
     "metadata": {},
     "output_type": "execute_result"
    }
   ],
   "source": [
    "wosCategory_graph_components.head(10)"
   ]
  },
  {
   "cell_type": "markdown",
   "metadata": {},
   "source": [
    "Get a histogram of values occurring in subgraph:"
   ]
  },
  {
   "cell_type": "code",
   "execution_count": 50,
   "metadata": {
    "scrolled": true
   },
   "outputs": [
    {
     "data": {
      "text/plain": [
       "array([[<matplotlib.axes._subplots.AxesSubplot object at 0x0B1E5E10>]],\n",
       "      dtype=object)"
      ]
     },
     "execution_count": 50,
     "metadata": {},
     "output_type": "execute_result"
    },
    {
     "data": {
      "image/png": "[encoded data removed]",
      "text/plain": [
       "<Figure size 432x288 with 1 Axes>"
      ]
     },
     "metadata": {
      "needs_background": "light"
     },
     "output_type": "display_data"
    }
   ],
   "source": [
    "wosCategory_graph_components.hist(column='setId', bins=100)"
   ]
  },
  {
   "cell_type": "markdown",
   "metadata": {},
   "source": [
    "View the largest component:\n",
    "\n",
    "(i.e., the most commonly occuring component `setId`):"
   ]
  },
  {
   "cell_type": "code",
   "execution_count": 51,
   "metadata": {
    "scrolled": true
   },
   "outputs": [
    {
     "data": {
      "text/plain": [
       "3      360\n",
       "358      1\n",
       "350      1\n",
       "283      1\n",
       "245      1\n",
       "240      1\n",
       "Name: setId, dtype: int64"
      ]
     },
     "execution_count": 51,
     "metadata": {},
     "output_type": "execute_result"
    }
   ],
   "source": [
    "wosCategory_graph_components['setId'].value_counts().head(15)"
   ]
  },
  {
   "cell_type": "code",
   "execution_count": 53,
   "metadata": {},
   "outputs": [
    {
     "data": {
      "text/html": [
       "<div>\n",
       "<style scoped>\n",
       "    .dataframe tbody tr th:only-of-type {\n",
       "        vertical-align: middle;\n",
       "    }\n",
       "\n",
       "    .dataframe tbody tr th {\n",
       "        vertical-align: top;\n",
       "    }\n",
       "\n",
       "    .dataframe thead th {\n",
       "        text-align: right;\n",
       "    }\n",
       "</style>\n",
       "<table border=\"1\" class=\"dataframe\">\n",
       "  <thead>\n",
       "    <tr style=\"text-align: right;\">\n",
       "      <th></th>\n",
       "      <th>wosCategory</th>\n",
       "      <th>setId</th>\n",
       "    </tr>\n",
       "  </thead>\n",
       "  <tbody>\n",
       "    <tr>\n",
       "      <th>0</th>\n",
       "      <td>Film, Radio, Television</td>\n",
       "      <td>3</td>\n",
       "    </tr>\n",
       "    <tr>\n",
       "      <th>1</th>\n",
       "      <td>Clinical Neurology</td>\n",
       "      <td>3</td>\n",
       "    </tr>\n",
       "    <tr>\n",
       "      <th>2</th>\n",
       "      <td>Neurosciences</td>\n",
       "      <td>3</td>\n",
       "    </tr>\n",
       "    <tr>\n",
       "      <th>3</th>\n",
       "      <td>Asian Studies</td>\n",
       "      <td>3</td>\n",
       "    </tr>\n",
       "    <tr>\n",
       "      <th>4</th>\n",
       "      <td>Sport Sciences</td>\n",
       "      <td>3</td>\n",
       "    </tr>\n",
       "    <tr>\n",
       "      <th>5</th>\n",
       "      <td>Environmental Sciences</td>\n",
       "      <td>3</td>\n",
       "    </tr>\n",
       "    <tr>\n",
       "      <th>6</th>\n",
       "      <td>Anesthesiology</td>\n",
       "      <td>3</td>\n",
       "    </tr>\n",
       "    <tr>\n",
       "      <th>7</th>\n",
       "      <td>Microscopy</td>\n",
       "      <td>3</td>\n",
       "    </tr>\n",
       "    <tr>\n",
       "      <th>8</th>\n",
       "      <td>General &amp; Internal Medicine</td>\n",
       "      <td>3</td>\n",
       "    </tr>\n",
       "    <tr>\n",
       "      <th>9</th>\n",
       "      <td>Economics</td>\n",
       "      <td>3</td>\n",
       "    </tr>\n",
       "  </tbody>\n",
       "</table>\n",
       "</div>"
      ],
      "text/plain": [
       "                   wosCategory  setId\n",
       "0      Film, Radio, Television      3\n",
       "1           Clinical Neurology      3\n",
       "2                Neurosciences      3\n",
       "3                Asian Studies      3\n",
       "4               Sport Sciences      3\n",
       "5       Environmental Sciences      3\n",
       "6               Anesthesiology      3\n",
       "7                   Microscopy      3\n",
       "8  General & Internal Medicine      3\n",
       "9                    Economics      3"
      ]
     },
     "execution_count": 53,
     "metadata": {},
     "output_type": "execute_result"
    }
   ],
   "source": [
    "largest_component = wosCategory_graph_components.loc[wosCategory_graph_components['setId'] == 3, :]\n",
    "largest_component.head(10)"
   ]
  },
  {
   "cell_type": "markdown",
   "metadata": {},
   "source": [
    "View other components:"
   ]
  },
  {
   "cell_type": "code",
   "execution_count": 54,
   "metadata": {},
   "outputs": [
    {
     "data": {
      "text/html": [
       "<div>\n",
       "<style scoped>\n",
       "    .dataframe tbody tr th:only-of-type {\n",
       "        vertical-align: middle;\n",
       "    }\n",
       "\n",
       "    .dataframe tbody tr th {\n",
       "        vertical-align: top;\n",
       "    }\n",
       "\n",
       "    .dataframe thead th {\n",
       "        text-align: right;\n",
       "    }\n",
       "</style>\n",
       "<table border=\"1\" class=\"dataframe\">\n",
       "  <thead>\n",
       "    <tr style=\"text-align: right;\">\n",
       "      <th></th>\n",
       "      <th>wosCategory</th>\n",
       "      <th>setId</th>\n",
       "    </tr>\n",
       "  </thead>\n",
       "  <tbody>\n",
       "    <tr>\n",
       "      <th>240</th>\n",
       "      <td>Ornithology</td>\n",
       "      <td>240</td>\n",
       "    </tr>\n",
       "    <tr>\n",
       "      <th>245</th>\n",
       "      <td>Characterization &amp; Testing</td>\n",
       "      <td>245</td>\n",
       "    </tr>\n",
       "    <tr>\n",
       "      <th>283</th>\n",
       "      <td>Dance</td>\n",
       "      <td>283</td>\n",
       "    </tr>\n",
       "    <tr>\n",
       "      <th>350</th>\n",
       "      <td>Poetry</td>\n",
       "      <td>350</td>\n",
       "    </tr>\n",
       "    <tr>\n",
       "      <th>358</th>\n",
       "      <td>Paper &amp; Wood</td>\n",
       "      <td>358</td>\n",
       "    </tr>\n",
       "  </tbody>\n",
       "</table>\n",
       "</div>"
      ],
      "text/plain": [
       "                    wosCategory  setId\n",
       "240                 Ornithology    240\n",
       "245  Characterization & Testing    245\n",
       "283                       Dance    283\n",
       "350                      Poetry    350\n",
       "358                Paper & Wood    358"
      ]
     },
     "execution_count": 54,
     "metadata": {},
     "output_type": "execute_result"
    }
   ],
   "source": [
    "disconnected_components = wosCategory_graph_components.loc[wosCategory_graph_components['setId'] != 3, :]\n",
    "disconnected_components.head(15)"
   ]
  },
  {
   "cell_type": "markdown",
   "metadata": {},
   "source": [
    "Compare the **size of the largest component and other components**:"
   ]
  },
  {
   "cell_type": "code",
   "execution_count": 55,
   "metadata": {},
   "outputs": [
    {
     "data": {
      "text/plain": [
       "360"
      ]
     },
     "execution_count": 55,
     "metadata": {},
     "output_type": "execute_result"
    }
   ],
   "source": [
    "number_of_nodes_in_largest_component = largest_component.count()['wosCategory']\n",
    "number_of_nodes_in_largest_component"
   ]
  },
  {
   "cell_type": "code",
   "execution_count": 56,
   "metadata": {},
   "outputs": [
    {
     "data": {
      "text/plain": [
       "5"
      ]
     },
     "execution_count": 56,
     "metadata": {},
     "output_type": "execute_result"
    }
   ],
   "source": [
    "number_of_nodes_in_other_components = disconnected_components.count()['wosCategory']\n",
    "number_of_nodes_in_other_components"
   ]
  },
  {
   "cell_type": "code",
   "execution_count": 57,
   "metadata": {},
   "outputs": [
    {
     "data": {
      "image/png": "[encoded data removed]",
      "text/plain": [
       "<Figure size 432x288 with 1 Axes>"
      ]
     },
     "metadata": {
      "needs_background": "light"
     },
     "output_type": "display_data"
    }
   ],
   "source": [
    "df = pd.DataFrame({'labels':['Nodes in the largest component', 'Nodes in other components'], 'values':[number_of_nodes_in_largest_component, number_of_nodes_in_other_components]})\n",
    "ax = df.plot.bar(x='labels', y='values', rot=0)"
   ]
  },
  {
   "cell_type": "markdown",
   "metadata": {},
   "source": [
    "# Betweenness Centrality"
   ]
  },
  {
   "cell_type": "markdown",
   "metadata": {},
   "source": [
    "## Keywords plus"
   ]
  },
  {
   "cell_type": "markdown",
   "metadata": {},
   "source": [
    "### Import and view centrality data"
   ]
  },
  {
   "cell_type": "code",
   "execution_count": 8,
   "metadata": {},
   "outputs": [],
   "source": [
    "keywordPlus_centralities = pd.read_csv('/home/clokman/Projects/KFIR/notebooks/data/betweenness-centralities-vs-keywords-plus.csv')"
   ]
  },
  {
   "cell_type": "code",
   "execution_count": 9,
   "metadata": {},
   "outputs": [
    {
     "data": {
      "text/html": [
       "<div>\n",
       "<style scoped>\n",
       "    .dataframe tbody tr th:only-of-type {\n",
       "        vertical-align: middle;\n",
       "    }\n",
       "\n",
       "    .dataframe tbody tr th {\n",
       "        vertical-align: top;\n",
       "    }\n",
       "\n",
       "    .dataframe thead th {\n",
       "        text-align: right;\n",
       "    }\n",
       "</style>\n",
       "<table border=\"1\" class=\"dataframe\">\n",
       "  <thead>\n",
       "    <tr style=\"text-align: right;\">\n",
       "      <th></th>\n",
       "      <th>keywordPlus</th>\n",
       "      <th>normalizedUnweightedBetweennessCentrality</th>\n",
       "    </tr>\n",
       "  </thead>\n",
       "  <tbody>\n",
       "    <tr>\n",
       "      <th>0</th>\n",
       "      <td>Model</td>\n",
       "      <td>1.000000</td>\n",
       "    </tr>\n",
       "    <tr>\n",
       "      <th>1</th>\n",
       "      <td>Expression</td>\n",
       "      <td>0.751894</td>\n",
       "    </tr>\n",
       "    <tr>\n",
       "      <th>2</th>\n",
       "      <td>Identification</td>\n",
       "      <td>0.535731</td>\n",
       "    </tr>\n",
       "    <tr>\n",
       "      <th>3</th>\n",
       "      <td>Disease</td>\n",
       "      <td>0.484785</td>\n",
       "    </tr>\n",
       "    <tr>\n",
       "      <th>4</th>\n",
       "      <td>In-vivo</td>\n",
       "      <td>0.451802</td>\n",
       "    </tr>\n",
       "    <tr>\n",
       "      <th>5</th>\n",
       "      <td>Evolution</td>\n",
       "      <td>0.437320</td>\n",
       "    </tr>\n",
       "    <tr>\n",
       "      <th>6</th>\n",
       "      <td>Management</td>\n",
       "      <td>0.402740</td>\n",
       "    </tr>\n",
       "    <tr>\n",
       "      <th>7</th>\n",
       "      <td>Behavior</td>\n",
       "      <td>0.393728</td>\n",
       "    </tr>\n",
       "    <tr>\n",
       "      <th>8</th>\n",
       "      <td>Dynamics</td>\n",
       "      <td>0.382349</td>\n",
       "    </tr>\n",
       "    <tr>\n",
       "      <th>9</th>\n",
       "      <td>System</td>\n",
       "      <td>0.380156</td>\n",
       "    </tr>\n",
       "    <tr>\n",
       "      <th>10</th>\n",
       "      <td>Children</td>\n",
       "      <td>0.375243</td>\n",
       "    </tr>\n",
       "    <tr>\n",
       "      <th>11</th>\n",
       "      <td>Performance</td>\n",
       "      <td>0.372662</td>\n",
       "    </tr>\n",
       "    <tr>\n",
       "      <th>12</th>\n",
       "      <td>In-vitro</td>\n",
       "      <td>0.347197</td>\n",
       "    </tr>\n",
       "    <tr>\n",
       "      <th>13</th>\n",
       "      <td>Risk</td>\n",
       "      <td>0.336859</td>\n",
       "    </tr>\n",
       "    <tr>\n",
       "      <th>14</th>\n",
       "      <td>Systems</td>\n",
       "      <td>0.326421</td>\n",
       "    </tr>\n",
       "    <tr>\n",
       "      <th>15</th>\n",
       "      <td>Activation</td>\n",
       "      <td>0.323949</td>\n",
       "    </tr>\n",
       "    <tr>\n",
       "      <th>16</th>\n",
       "      <td>Gene-expression</td>\n",
       "      <td>0.292701</td>\n",
       "    </tr>\n",
       "    <tr>\n",
       "      <th>17</th>\n",
       "      <td>Cells</td>\n",
       "      <td>0.290721</td>\n",
       "    </tr>\n",
       "    <tr>\n",
       "      <th>18</th>\n",
       "      <td>Growth</td>\n",
       "      <td>0.289772</td>\n",
       "    </tr>\n",
       "    <tr>\n",
       "      <th>19</th>\n",
       "      <td>Models</td>\n",
       "      <td>0.263714</td>\n",
       "    </tr>\n",
       "    <tr>\n",
       "      <th>20</th>\n",
       "      <td>Gene</td>\n",
       "      <td>0.262541</td>\n",
       "    </tr>\n",
       "    <tr>\n",
       "      <th>21</th>\n",
       "      <td>Therapy</td>\n",
       "      <td>0.259757</td>\n",
       "    </tr>\n",
       "    <tr>\n",
       "      <th>22</th>\n",
       "      <td>Metaanalysis</td>\n",
       "      <td>0.252278</td>\n",
       "    </tr>\n",
       "    <tr>\n",
       "      <th>23</th>\n",
       "      <td>Cancer</td>\n",
       "      <td>0.232377</td>\n",
       "    </tr>\n",
       "    <tr>\n",
       "      <th>24</th>\n",
       "      <td>Protein</td>\n",
       "      <td>0.230964</td>\n",
       "    </tr>\n",
       "    <tr>\n",
       "      <th>25</th>\n",
       "      <td>Impact</td>\n",
       "      <td>0.230934</td>\n",
       "    </tr>\n",
       "    <tr>\n",
       "      <th>26</th>\n",
       "      <td>Spectroscopy</td>\n",
       "      <td>0.223999</td>\n",
       "    </tr>\n",
       "    <tr>\n",
       "      <th>27</th>\n",
       "      <td>Follow-up</td>\n",
       "      <td>0.211838</td>\n",
       "    </tr>\n",
       "    <tr>\n",
       "      <th>28</th>\n",
       "      <td>Diagnosis</td>\n",
       "      <td>0.209462</td>\n",
       "    </tr>\n",
       "    <tr>\n",
       "      <th>29</th>\n",
       "      <td>Crystal-structure</td>\n",
       "      <td>0.207468</td>\n",
       "    </tr>\n",
       "    <tr>\n",
       "      <th>...</th>\n",
       "      <td>...</td>\n",
       "      <td>...</td>\n",
       "    </tr>\n",
       "    <tr>\n",
       "      <th>970</th>\n",
       "      <td>Ultrasonography</td>\n",
       "      <td>0.005606</td>\n",
       "    </tr>\n",
       "    <tr>\n",
       "      <th>971</th>\n",
       "      <td>Genotype</td>\n",
       "      <td>0.005601</td>\n",
       "    </tr>\n",
       "    <tr>\n",
       "      <th>972</th>\n",
       "      <td>Stratigraphy</td>\n",
       "      <td>0.005595</td>\n",
       "    </tr>\n",
       "    <tr>\n",
       "      <th>973</th>\n",
       "      <td>Near-infrared spectroscopy</td>\n",
       "      <td>0.005594</td>\n",
       "    </tr>\n",
       "    <tr>\n",
       "      <th>974</th>\n",
       "      <td>Sub-saharan africa</td>\n",
       "      <td>0.005584</td>\n",
       "    </tr>\n",
       "    <tr>\n",
       "      <th>975</th>\n",
       "      <td>Mass-transfer</td>\n",
       "      <td>0.005574</td>\n",
       "    </tr>\n",
       "    <tr>\n",
       "      <th>976</th>\n",
       "      <td>Randomized trial</td>\n",
       "      <td>0.005570</td>\n",
       "    </tr>\n",
       "    <tr>\n",
       "      <th>977</th>\n",
       "      <td>Surgical-treatment</td>\n",
       "      <td>0.005569</td>\n",
       "    </tr>\n",
       "    <tr>\n",
       "      <th>978</th>\n",
       "      <td>Globular-clusters</td>\n",
       "      <td>0.005568</td>\n",
       "    </tr>\n",
       "    <tr>\n",
       "      <th>979</th>\n",
       "      <td>Metal</td>\n",
       "      <td>0.005563</td>\n",
       "    </tr>\n",
       "    <tr>\n",
       "      <th>980</th>\n",
       "      <td>Selective attention</td>\n",
       "      <td>0.005555</td>\n",
       "    </tr>\n",
       "    <tr>\n",
       "      <th>981</th>\n",
       "      <td>Bioavailability</td>\n",
       "      <td>0.005547</td>\n",
       "    </tr>\n",
       "    <tr>\n",
       "      <th>982</th>\n",
       "      <td>Psychopathology</td>\n",
       "      <td>0.005537</td>\n",
       "    </tr>\n",
       "    <tr>\n",
       "      <th>983</th>\n",
       "      <td>Continental-crust</td>\n",
       "      <td>0.005521</td>\n",
       "    </tr>\n",
       "    <tr>\n",
       "      <th>984</th>\n",
       "      <td>Binding protein</td>\n",
       "      <td>0.005508</td>\n",
       "    </tr>\n",
       "    <tr>\n",
       "      <th>985</th>\n",
       "      <td>Cystic-fibrosis</td>\n",
       "      <td>0.005503</td>\n",
       "    </tr>\n",
       "    <tr>\n",
       "      <th>986</th>\n",
       "      <td>Real-time pcr</td>\n",
       "      <td>0.005501</td>\n",
       "    </tr>\n",
       "    <tr>\n",
       "      <th>987</th>\n",
       "      <td>Heat</td>\n",
       "      <td>0.005495</td>\n",
       "    </tr>\n",
       "    <tr>\n",
       "      <th>988</th>\n",
       "      <td>Deficient mice</td>\n",
       "      <td>0.005490</td>\n",
       "    </tr>\n",
       "    <tr>\n",
       "      <th>989</th>\n",
       "      <td>Insights</td>\n",
       "      <td>0.005480</td>\n",
       "    </tr>\n",
       "    <tr>\n",
       "      <th>990</th>\n",
       "      <td>Stiffness</td>\n",
       "      <td>0.005470</td>\n",
       "    </tr>\n",
       "    <tr>\n",
       "      <th>991</th>\n",
       "      <td>Asymmetry</td>\n",
       "      <td>0.005467</td>\n",
       "    </tr>\n",
       "    <tr>\n",
       "      <th>992</th>\n",
       "      <td>Synaptic plasticity</td>\n",
       "      <td>0.005440</td>\n",
       "    </tr>\n",
       "    <tr>\n",
       "      <th>993</th>\n",
       "      <td>Ratio</td>\n",
       "      <td>0.005439</td>\n",
       "    </tr>\n",
       "    <tr>\n",
       "      <th>994</th>\n",
       "      <td>Nuclear magnetic-resonance</td>\n",
       "      <td>0.005407</td>\n",
       "    </tr>\n",
       "    <tr>\n",
       "      <th>995</th>\n",
       "      <td>Collagen</td>\n",
       "      <td>0.005388</td>\n",
       "    </tr>\n",
       "    <tr>\n",
       "      <th>996</th>\n",
       "      <td>Profile</td>\n",
       "      <td>0.005374</td>\n",
       "    </tr>\n",
       "    <tr>\n",
       "      <th>997</th>\n",
       "      <td>Labor</td>\n",
       "      <td>0.005373</td>\n",
       "    </tr>\n",
       "    <tr>\n",
       "      <th>998</th>\n",
       "      <td>Growth-factor receptor</td>\n",
       "      <td>0.005363</td>\n",
       "    </tr>\n",
       "    <tr>\n",
       "      <th>999</th>\n",
       "      <td>Success</td>\n",
       "      <td>0.005356</td>\n",
       "    </tr>\n",
       "  </tbody>\n",
       "</table>\n",
       "<p>1000 rows × 2 columns</p>\n",
       "</div>"
      ],
      "text/plain": [
       "                    keywordPlus  normalizedUnweightedBetweennessCentrality\n",
       "0                         Model                                   1.000000\n",
       "1                    Expression                                   0.751894\n",
       "2                Identification                                   0.535731\n",
       "3                       Disease                                   0.484785\n",
       "4                       In-vivo                                   0.451802\n",
       "5                     Evolution                                   0.437320\n",
       "6                    Management                                   0.402740\n",
       "7                      Behavior                                   0.393728\n",
       "8                      Dynamics                                   0.382349\n",
       "9                        System                                   0.380156\n",
       "10                     Children                                   0.375243\n",
       "11                  Performance                                   0.372662\n",
       "12                     In-vitro                                   0.347197\n",
       "13                         Risk                                   0.336859\n",
       "14                      Systems                                   0.326421\n",
       "15                   Activation                                   0.323949\n",
       "16              Gene-expression                                   0.292701\n",
       "17                        Cells                                   0.290721\n",
       "18                       Growth                                   0.289772\n",
       "19                       Models                                   0.263714\n",
       "20                         Gene                                   0.262541\n",
       "21                      Therapy                                   0.259757\n",
       "22                 Metaanalysis                                   0.252278\n",
       "23                       Cancer                                   0.232377\n",
       "24                      Protein                                   0.230964\n",
       "25                       Impact                                   0.230934\n",
       "26                 Spectroscopy                                   0.223999\n",
       "27                    Follow-up                                   0.211838\n",
       "28                    Diagnosis                                   0.209462\n",
       "29            Crystal-structure                                   0.207468\n",
       "..                          ...                                        ...\n",
       "970             Ultrasonography                                   0.005606\n",
       "971                    Genotype                                   0.005601\n",
       "972                Stratigraphy                                   0.005595\n",
       "973  Near-infrared spectroscopy                                   0.005594\n",
       "974          Sub-saharan africa                                   0.005584\n",
       "975               Mass-transfer                                   0.005574\n",
       "976            Randomized trial                                   0.005570\n",
       "977          Surgical-treatment                                   0.005569\n",
       "978           Globular-clusters                                   0.005568\n",
       "979                       Metal                                   0.005563\n",
       "980         Selective attention                                   0.005555\n",
       "981             Bioavailability                                   0.005547\n",
       "982             Psychopathology                                   0.005537\n",
       "983           Continental-crust                                   0.005521\n",
       "984             Binding protein                                   0.005508\n",
       "985             Cystic-fibrosis                                   0.005503\n",
       "986               Real-time pcr                                   0.005501\n",
       "987                        Heat                                   0.005495\n",
       "988              Deficient mice                                   0.005490\n",
       "989                    Insights                                   0.005480\n",
       "990                   Stiffness                                   0.005470\n",
       "991                   Asymmetry                                   0.005467\n",
       "992         Synaptic plasticity                                   0.005440\n",
       "993                       Ratio                                   0.005439\n",
       "994  Nuclear magnetic-resonance                                   0.005407\n",
       "995                    Collagen                                   0.005388\n",
       "996                     Profile                                   0.005374\n",
       "997                       Labor                                   0.005373\n",
       "998      Growth-factor receptor                                   0.005363\n",
       "999                     Success                                   0.005356\n",
       "\n",
       "[1000 rows x 2 columns]"
      ]
     },
     "execution_count": 9,
     "metadata": {},
     "output_type": "execute_result"
    }
   ],
   "source": [
    "keywordPlus_centralities.head(1000)"
   ]
  },
  {
   "cell_type": "code",
   "execution_count": 29,
   "metadata": {
    "scrolled": true
   },
   "outputs": [
    {
     "data": {
      "text/html": [
       "<div>\n",
       "<style scoped>\n",
       "    .dataframe tbody tr th:only-of-type {\n",
       "        vertical-align: middle;\n",
       "    }\n",
       "\n",
       "    .dataframe tbody tr th {\n",
       "        vertical-align: top;\n",
       "    }\n",
       "\n",
       "    .dataframe thead th {\n",
       "        text-align: right;\n",
       "    }\n",
       "</style>\n",
       "<table border=\"1\" class=\"dataframe\">\n",
       "  <thead>\n",
       "    <tr style=\"text-align: right;\">\n",
       "      <th></th>\n",
       "      <th>keywordPlus</th>\n",
       "      <th>normalizedUnweightedBetweennessCentrality</th>\n",
       "    </tr>\n",
       "  </thead>\n",
       "  <tbody>\n",
       "    <tr>\n",
       "      <th>155746</th>\n",
       "      <td>Sub-mitochondrial particles</td>\n",
       "      <td>0.0</td>\n",
       "    </tr>\n",
       "    <tr>\n",
       "      <th>155747</th>\n",
       "      <td>Pms</td>\n",
       "      <td>0.0</td>\n",
       "    </tr>\n",
       "    <tr>\n",
       "      <th>155748</th>\n",
       "      <td>Atomic-collisions</td>\n",
       "      <td>0.0</td>\n",
       "    </tr>\n",
       "    <tr>\n",
       "      <th>155749</th>\n",
       "      <td>Eubacterium-aerofaciens</td>\n",
       "      <td>0.0</td>\n",
       "    </tr>\n",
       "    <tr>\n",
       "      <th>155750</th>\n",
       "      <td>Immunogold</td>\n",
       "      <td>0.0</td>\n",
       "    </tr>\n",
       "    <tr>\n",
       "      <th>155751</th>\n",
       "      <td>Dependent immune damage</td>\n",
       "      <td>0.0</td>\n",
       "    </tr>\n",
       "    <tr>\n",
       "      <th>155752</th>\n",
       "      <td>Monosialoganglioside gm-1</td>\n",
       "      <td>0.0</td>\n",
       "    </tr>\n",
       "    <tr>\n",
       "      <th>155753</th>\n",
       "      <td>Processed form</td>\n",
       "      <td>0.0</td>\n",
       "    </tr>\n",
       "    <tr>\n",
       "      <th>155754</th>\n",
       "      <td>Mass isotopomer</td>\n",
       "      <td>0.0</td>\n",
       "    </tr>\n",
       "    <tr>\n",
       "      <th>155755</th>\n",
       "      <td>Guinea-pig hippocampus</td>\n",
       "      <td>0.0</td>\n",
       "    </tr>\n",
       "    <tr>\n",
       "      <th>155756</th>\n",
       "      <td>Root-s=546</td>\n",
       "      <td>0.0</td>\n",
       "    </tr>\n",
       "    <tr>\n",
       "      <th>155757</th>\n",
       "      <td>7-dehydrocholesterol</td>\n",
       "      <td>0.0</td>\n",
       "    </tr>\n",
       "    <tr>\n",
       "      <th>155758</th>\n",
       "      <td>Carboxyl-terminal domain</td>\n",
       "      <td>0.0</td>\n",
       "    </tr>\n",
       "    <tr>\n",
       "      <th>155759</th>\n",
       "      <td>Accessory signal</td>\n",
       "      <td>0.0</td>\n",
       "    </tr>\n",
       "    <tr>\n",
       "      <th>155760</th>\n",
       "      <td>Anti-b7 monoclonal-antibody</td>\n",
       "      <td>0.0</td>\n",
       "    </tr>\n",
       "    <tr>\n",
       "      <th>155761</th>\n",
       "      <td>Tissue protein-binding</td>\n",
       "      <td>0.0</td>\n",
       "    </tr>\n",
       "    <tr>\n",
       "      <th>155762</th>\n",
       "      <td>Natriuretic factor gene</td>\n",
       "      <td>0.0</td>\n",
       "    </tr>\n",
       "    <tr>\n",
       "      <th>155763</th>\n",
       "      <td>Adrenal neuroblastoma</td>\n",
       "      <td>0.0</td>\n",
       "    </tr>\n",
       "    <tr>\n",
       "      <th>155764</th>\n",
       "      <td>Neural crest tumors</td>\n",
       "      <td>0.0</td>\n",
       "    </tr>\n",
       "    <tr>\n",
       "      <th>155765</th>\n",
       "      <td>Invasion plasmid antigens</td>\n",
       "      <td>0.0</td>\n",
       "    </tr>\n",
       "    <tr>\n",
       "      <th>155766</th>\n",
       "      <td>Low-calcium-response</td>\n",
       "      <td>0.0</td>\n",
       "    </tr>\n",
       "    <tr>\n",
       "      <th>155767</th>\n",
       "      <td>Yop secretion</td>\n",
       "      <td>0.0</td>\n",
       "    </tr>\n",
       "    <tr>\n",
       "      <th>155768</th>\n",
       "      <td>Aarskog syndrome</td>\n",
       "      <td>0.0</td>\n",
       "    </tr>\n",
       "    <tr>\n",
       "      <th>155769</th>\n",
       "      <td>Brachmann-delange-syndrome</td>\n",
       "      <td>0.0</td>\n",
       "    </tr>\n",
       "    <tr>\n",
       "      <th>155770</th>\n",
       "      <td>Changing phenotype</td>\n",
       "      <td>0.0</td>\n",
       "    </tr>\n",
       "    <tr>\n",
       "      <th>155771</th>\n",
       "      <td>Mechanistic importance</td>\n",
       "      <td>0.0</td>\n",
       "    </tr>\n",
       "    <tr>\n",
       "      <th>155772</th>\n",
       "      <td>Reaction system</td>\n",
       "      <td>0.0</td>\n",
       "    </tr>\n",
       "    <tr>\n",
       "      <th>155773</th>\n",
       "      <td>Beta-glucoside utilization</td>\n",
       "      <td>0.0</td>\n",
       "    </tr>\n",
       "    <tr>\n",
       "      <th>155774</th>\n",
       "      <td>Levanase operon</td>\n",
       "      <td>0.0</td>\n",
       "    </tr>\n",
       "    <tr>\n",
       "      <th>155775</th>\n",
       "      <td>Transcriptional antiterminator</td>\n",
       "      <td>0.0</td>\n",
       "    </tr>\n",
       "    <tr>\n",
       "      <th>155776</th>\n",
       "      <td>Picea-abies forest</td>\n",
       "      <td>0.0</td>\n",
       "    </tr>\n",
       "    <tr>\n",
       "      <th>155777</th>\n",
       "      <td>Line strengths</td>\n",
       "      <td>0.0</td>\n",
       "    </tr>\n",
       "    <tr>\n",
       "      <th>155778</th>\n",
       "      <td>= y</td>\n",
       "      <td>0.0</td>\n",
       "    </tr>\n",
       "    <tr>\n",
       "      <th>155779</th>\n",
       "      <td>Al-substitution</td>\n",
       "      <td>0.0</td>\n",
       "    </tr>\n",
       "    <tr>\n",
       "      <th>155780</th>\n",
       "      <td>Pseudoternary compounds</td>\n",
       "      <td>0.0</td>\n",
       "    </tr>\n",
       "    <tr>\n",
       "      <th>155781</th>\n",
       "      <td>Polyacrylate stationary phases</td>\n",
       "      <td>0.0</td>\n",
       "    </tr>\n",
       "    <tr>\n",
       "      <th>155782</th>\n",
       "      <td>Micellar solutions</td>\n",
       "      <td>0.0</td>\n",
       "    </tr>\n",
       "    <tr>\n",
       "      <th>155783</th>\n",
       "      <td>Component fluid</td>\n",
       "      <td>0.0</td>\n",
       "    </tr>\n",
       "    <tr>\n",
       "      <th>155784</th>\n",
       "      <td>Myocardial reactive hyperemia</td>\n",
       "      <td>0.0</td>\n",
       "    </tr>\n",
       "    <tr>\n",
       "      <th>155785</th>\n",
       "      <td>Cefuroxime axetil</td>\n",
       "      <td>0.0</td>\n",
       "    </tr>\n",
       "    <tr>\n",
       "      <th>155786</th>\n",
       "      <td>Nonlinear scatchard plots</td>\n",
       "      <td>0.0</td>\n",
       "    </tr>\n",
       "    <tr>\n",
       "      <th>155787</th>\n",
       "      <td>Receptor-sites</td>\n",
       "      <td>0.0</td>\n",
       "    </tr>\n",
       "    <tr>\n",
       "      <th>155788</th>\n",
       "      <td>Atomic parameters</td>\n",
       "      <td>0.0</td>\n",
       "    </tr>\n",
       "    <tr>\n",
       "      <th>155789</th>\n",
       "      <td>Hiv-antibody</td>\n",
       "      <td>0.0</td>\n",
       "    </tr>\n",
       "    <tr>\n",
       "      <th>155790</th>\n",
       "      <td>Mwanza region</td>\n",
       "      <td>0.0</td>\n",
       "    </tr>\n",
       "    <tr>\n",
       "      <th>155791</th>\n",
       "      <td>Hourglass</td>\n",
       "      <td>0.0</td>\n",
       "    </tr>\n",
       "    <tr>\n",
       "      <th>155792</th>\n",
       "      <td>Atmospheric nitrogen deposition</td>\n",
       "      <td>0.0</td>\n",
       "    </tr>\n",
       "    <tr>\n",
       "      <th>155793</th>\n",
       "      <td>Technetium 99m sestamibi</td>\n",
       "      <td>0.0</td>\n",
       "    </tr>\n",
       "    <tr>\n",
       "      <th>155794</th>\n",
       "      <td>Pine tar</td>\n",
       "      <td>0.0</td>\n",
       "    </tr>\n",
       "    <tr>\n",
       "      <th>155795</th>\n",
       "      <td>Sea turtle</td>\n",
       "      <td>0.0</td>\n",
       "    </tr>\n",
       "  </tbody>\n",
       "</table>\n",
       "</div>"
      ],
      "text/plain": [
       "                            keywordPlus  \\\n",
       "155746      Sub-mitochondrial particles   \n",
       "155747                              Pms   \n",
       "155748                Atomic-collisions   \n",
       "155749          Eubacterium-aerofaciens   \n",
       "155750                       Immunogold   \n",
       "155751          Dependent immune damage   \n",
       "155752        Monosialoganglioside gm-1   \n",
       "155753                   Processed form   \n",
       "155754                  Mass isotopomer   \n",
       "155755           Guinea-pig hippocampus   \n",
       "155756                       Root-s=546   \n",
       "155757             7-dehydrocholesterol   \n",
       "155758         Carboxyl-terminal domain   \n",
       "155759                 Accessory signal   \n",
       "155760      Anti-b7 monoclonal-antibody   \n",
       "155761           Tissue protein-binding   \n",
       "155762          Natriuretic factor gene   \n",
       "155763            Adrenal neuroblastoma   \n",
       "155764              Neural crest tumors   \n",
       "155765        Invasion plasmid antigens   \n",
       "155766             Low-calcium-response   \n",
       "155767                    Yop secretion   \n",
       "155768                 Aarskog syndrome   \n",
       "155769       Brachmann-delange-syndrome   \n",
       "155770               Changing phenotype   \n",
       "155771           Mechanistic importance   \n",
       "155772                  Reaction system   \n",
       "155773       Beta-glucoside utilization   \n",
       "155774                  Levanase operon   \n",
       "155775   Transcriptional antiterminator   \n",
       "155776               Picea-abies forest   \n",
       "155777                   Line strengths   \n",
       "155778                              = y   \n",
       "155779                  Al-substitution   \n",
       "155780          Pseudoternary compounds   \n",
       "155781   Polyacrylate stationary phases   \n",
       "155782               Micellar solutions   \n",
       "155783                  Component fluid   \n",
       "155784    Myocardial reactive hyperemia   \n",
       "155785                Cefuroxime axetil   \n",
       "155786        Nonlinear scatchard plots   \n",
       "155787                   Receptor-sites   \n",
       "155788                Atomic parameters   \n",
       "155789                     Hiv-antibody   \n",
       "155790                    Mwanza region   \n",
       "155791                        Hourglass   \n",
       "155792  Atmospheric nitrogen deposition   \n",
       "155793         Technetium 99m sestamibi   \n",
       "155794                         Pine tar   \n",
       "155795                       Sea turtle   \n",
       "\n",
       "        normalizedUnweightedBetweennessCentrality  \n",
       "155746                                        0.0  \n",
       "155747                                        0.0  \n",
       "155748                                        0.0  \n",
       "155749                                        0.0  \n",
       "155750                                        0.0  \n",
       "155751                                        0.0  \n",
       "155752                                        0.0  \n",
       "155753                                        0.0  \n",
       "155754                                        0.0  \n",
       "155755                                        0.0  \n",
       "155756                                        0.0  \n",
       "155757                                        0.0  \n",
       "155758                                        0.0  \n",
       "155759                                        0.0  \n",
       "155760                                        0.0  \n",
       "155761                                        0.0  \n",
       "155762                                        0.0  \n",
       "155763                                        0.0  \n",
       "155764                                        0.0  \n",
       "155765                                        0.0  \n",
       "155766                                        0.0  \n",
       "155767                                        0.0  \n",
       "155768                                        0.0  \n",
       "155769                                        0.0  \n",
       "155770                                        0.0  \n",
       "155771                                        0.0  \n",
       "155772                                        0.0  \n",
       "155773                                        0.0  \n",
       "155774                                        0.0  \n",
       "155775                                        0.0  \n",
       "155776                                        0.0  \n",
       "155777                                        0.0  \n",
       "155778                                        0.0  \n",
       "155779                                        0.0  \n",
       "155780                                        0.0  \n",
       "155781                                        0.0  \n",
       "155782                                        0.0  \n",
       "155783                                        0.0  \n",
       "155784                                        0.0  \n",
       "155785                                        0.0  \n",
       "155786                                        0.0  \n",
       "155787                                        0.0  \n",
       "155788                                        0.0  \n",
       "155789                                        0.0  \n",
       "155790                                        0.0  \n",
       "155791                                        0.0  \n",
       "155792                                        0.0  \n",
       "155793                                        0.0  \n",
       "155794                                        0.0  \n",
       "155795                                        0.0  "
      ]
     },
     "execution_count": 29,
     "metadata": {},
     "output_type": "execute_result"
    }
   ],
   "source": [
    "keywordPlus_centralities.tail(50)"
   ]
  },
  {
   "cell_type": "code",
   "execution_count": 11,
   "metadata": {
    "scrolled": true
   },
   "outputs": [
    {
     "data": {
      "text/plain": [
       "count    155796.000000\n",
       "mean          0.000279\n",
       "std           0.006255\n",
       "min           0.000000\n",
       "25%           0.000000\n",
       "50%           0.000000\n",
       "75%           0.000004\n",
       "max           1.000000\n",
       "Name: normalizedUnweightedBetweennessCentrality, dtype: float64"
      ]
     },
     "execution_count": 11,
     "metadata": {},
     "output_type": "execute_result"
    }
   ],
   "source": [
    "keywordPlus_centralities['normalizedUnweightedBetweennessCentrality'].describe()"
   ]
  },
  {
   "cell_type": "markdown",
   "metadata": {},
   "source": [
    "### Detect and treat outliers"
   ]
  },
  {
   "cell_type": "code",
   "execution_count": 13,
   "metadata": {
    "scrolled": true
   },
   "outputs": [
    {
     "data": {
      "text/plain": [
       "array([[<matplotlib.axes._subplots.AxesSubplot object at 0x7fb4cbb30fd0>]],\n",
       "      dtype=object)"
      ]
     },
     "execution_count": 13,
     "metadata": {},
     "output_type": "execute_result"
    },
    {
     "data": {
      "image/png": "[encoded data removed]",
      "text/plain": [
       "<Figure size 432x288 with 1 Axes>"
      ]
     },
     "metadata": {
      "needs_background": "light"
     },
     "output_type": "display_data"
    }
   ],
   "source": [
    "keywordPlus_centralities.hist()"
   ]
  },
  {
   "cell_type": "markdown",
   "metadata": {},
   "source": [
    "Histogram of the first three quartiles:"
   ]
  },
  {
   "cell_type": "code",
   "execution_count": 18,
   "metadata": {
    "scrolled": false
   },
   "outputs": [
    {
     "data": {
      "image/png": "[encoded data removed]",
      "text/plain": [
       "<Figure size 432x288 with 1 Axes>"
      ]
     },
     "metadata": {
      "needs_background": "light"
     },
     "output_type": "display_data"
    }
   ],
   "source": [
    "keywordPlus_centralities_three_quartiles = keywordPlus_centralities.loc[keywordPlus_centralities['normalizedUnweightedBetweennessCentrality'] < 0.000004, :]\n",
    "ax = keywordPlus_centralities_three_quartiles.hist(bins=100, grid=False)"
   ]
  },
  {
   "cell_type": "markdown",
   "metadata": {},
   "source": [
    "Histogram of the first three quartiles without zeroes:"
   ]
  },
  {
   "cell_type": "code",
   "execution_count": 19,
   "metadata": {
    "scrolled": false
   },
   "outputs": [
    {
     "data": {
      "image/png": "[encoded data removed]",
      "text/plain": [
       "<Figure size 432x288 with 1 Axes>"
      ]
     },
     "metadata": {
      "needs_background": "light"
     },
     "output_type": "display_data"
    }
   ],
   "source": [
    "keywordPlus_centralities_three_quartiles_without_zeroes = keywordPlus_centralities_three_quartiles.loc[keywordPlus_centralities_three_quartiles['normalizedUnweightedBetweennessCentrality'] > 0, :]\n",
    "ax = keywordPlus_centralities_three_quartiles_without_zeroes.hist(bins=200, grid=False)\n"
   ]
  },
  {
   "cell_type": "markdown",
   "metadata": {},
   "source": [
    "## Author keywords"
   ]
  },
  {
   "cell_type": "markdown",
   "metadata": {},
   "source": [
    "### Import and view centrality data"
   ]
  },
  {
   "cell_type": "code",
   "execution_count": 20,
   "metadata": {},
   "outputs": [],
   "source": [
    "authorKeyword_centralities = pd.read_csv('/home/clokman/Projects/KFIR/notebooks/data/betweenness-centralities-vs-author-keywords.csv')"
   ]
  },
  {
   "cell_type": "code",
   "execution_count": 21,
   "metadata": {
    "scrolled": true
   },
   "outputs": [
    {
     "data": {
      "text/html": [
       "<div>\n",
       "<style scoped>\n",
       "    .dataframe tbody tr th:only-of-type {\n",
       "        vertical-align: middle;\n",
       "    }\n",
       "\n",
       "    .dataframe tbody tr th {\n",
       "        vertical-align: top;\n",
       "    }\n",
       "\n",
       "    .dataframe thead th {\n",
       "        text-align: right;\n",
       "    }\n",
       "</style>\n",
       "<table border=\"1\" class=\"dataframe\">\n",
       "  <thead>\n",
       "    <tr style=\"text-align: right;\">\n",
       "      <th></th>\n",
       "      <th>authorKeyword</th>\n",
       "      <th>normalizedUnweightedBetweennessCentrality</th>\n",
       "    </tr>\n",
       "  </thead>\n",
       "  <tbody>\n",
       "    <tr>\n",
       "      <th>0</th>\n",
       "      <td>analysis</td>\n",
       "      <td>1.000000</td>\n",
       "    </tr>\n",
       "    <tr>\n",
       "      <th>1</th>\n",
       "      <td>children</td>\n",
       "      <td>0.606355</td>\n",
       "    </tr>\n",
       "    <tr>\n",
       "      <th>2</th>\n",
       "      <td>MRI</td>\n",
       "      <td>0.606088</td>\n",
       "    </tr>\n",
       "    <tr>\n",
       "      <th>3</th>\n",
       "      <td>HIV</td>\n",
       "      <td>0.541383</td>\n",
       "    </tr>\n",
       "    <tr>\n",
       "      <th>4</th>\n",
       "      <td>Netherlands</td>\n",
       "      <td>0.464022</td>\n",
       "    </tr>\n",
       "    <tr>\n",
       "      <th>5</th>\n",
       "      <td>human</td>\n",
       "      <td>0.447297</td>\n",
       "    </tr>\n",
       "    <tr>\n",
       "      <th>6</th>\n",
       "      <td>Alzheimers disease</td>\n",
       "      <td>0.441246</td>\n",
       "    </tr>\n",
       "    <tr>\n",
       "      <th>7</th>\n",
       "      <td>EEG</td>\n",
       "      <td>0.437659</td>\n",
       "    </tr>\n",
       "    <tr>\n",
       "      <th>8</th>\n",
       "      <td>model</td>\n",
       "      <td>0.406135</td>\n",
       "    </tr>\n",
       "    <tr>\n",
       "      <th>9</th>\n",
       "      <td>development</td>\n",
       "      <td>0.405585</td>\n",
       "    </tr>\n",
       "    <tr>\n",
       "      <th>10</th>\n",
       "      <td>Europe</td>\n",
       "      <td>0.401026</td>\n",
       "    </tr>\n",
       "    <tr>\n",
       "      <th>11</th>\n",
       "      <td>cancer</td>\n",
       "      <td>0.388430</td>\n",
       "    </tr>\n",
       "    <tr>\n",
       "      <th>12</th>\n",
       "      <td>The Netherlands</td>\n",
       "      <td>0.368139</td>\n",
       "    </tr>\n",
       "    <tr>\n",
       "      <th>13</th>\n",
       "      <td>epidemiology</td>\n",
       "      <td>0.363291</td>\n",
       "    </tr>\n",
       "    <tr>\n",
       "      <th>14</th>\n",
       "      <td>treatment</td>\n",
       "      <td>0.318511</td>\n",
       "    </tr>\n",
       "    <tr>\n",
       "      <th>15</th>\n",
       "      <td>diagnosis</td>\n",
       "      <td>0.316913</td>\n",
       "    </tr>\n",
       "    <tr>\n",
       "      <th>16</th>\n",
       "      <td>HIV-1</td>\n",
       "      <td>0.303846</td>\n",
       "    </tr>\n",
       "    <tr>\n",
       "      <th>17</th>\n",
       "      <td>depression</td>\n",
       "      <td>0.295163</td>\n",
       "    </tr>\n",
       "    <tr>\n",
       "      <th>18</th>\n",
       "      <td>inflammation</td>\n",
       "      <td>0.288941</td>\n",
       "    </tr>\n",
       "    <tr>\n",
       "      <th>19</th>\n",
       "      <td>AIDS</td>\n",
       "      <td>0.283674</td>\n",
       "    </tr>\n",
       "    <tr>\n",
       "      <th>20</th>\n",
       "      <td>RAT</td>\n",
       "      <td>0.260433</td>\n",
       "    </tr>\n",
       "    <tr>\n",
       "      <th>21</th>\n",
       "      <td>Depression</td>\n",
       "      <td>0.258736</td>\n",
       "    </tr>\n",
       "    <tr>\n",
       "      <th>22</th>\n",
       "      <td>stress</td>\n",
       "      <td>0.258462</td>\n",
       "    </tr>\n",
       "    <tr>\n",
       "      <th>23</th>\n",
       "      <td>quality of life</td>\n",
       "      <td>0.254819</td>\n",
       "    </tr>\n",
       "    <tr>\n",
       "      <th>24</th>\n",
       "      <td>disease</td>\n",
       "      <td>0.248955</td>\n",
       "    </tr>\n",
       "    <tr>\n",
       "      <th>25</th>\n",
       "      <td>meta-analysis</td>\n",
       "      <td>0.244049</td>\n",
       "    </tr>\n",
       "    <tr>\n",
       "      <th>26</th>\n",
       "      <td>Children</td>\n",
       "      <td>0.242553</td>\n",
       "    </tr>\n",
       "    <tr>\n",
       "      <th>27</th>\n",
       "      <td>genetics</td>\n",
       "      <td>0.238225</td>\n",
       "    </tr>\n",
       "    <tr>\n",
       "      <th>28</th>\n",
       "      <td>climate change</td>\n",
       "      <td>0.233978</td>\n",
       "    </tr>\n",
       "    <tr>\n",
       "      <th>29</th>\n",
       "      <td>education</td>\n",
       "      <td>0.231150</td>\n",
       "    </tr>\n",
       "    <tr>\n",
       "      <th>...</th>\n",
       "      <td>...</td>\n",
       "      <td>...</td>\n",
       "    </tr>\n",
       "    <tr>\n",
       "      <th>970</th>\n",
       "      <td>stars</td>\n",
       "      <td>0.016830</td>\n",
       "    </tr>\n",
       "    <tr>\n",
       "      <th>971</th>\n",
       "      <td>D-branes</td>\n",
       "      <td>0.016794</td>\n",
       "    </tr>\n",
       "    <tr>\n",
       "      <th>972</th>\n",
       "      <td>TRANSFUSION</td>\n",
       "      <td>0.016793</td>\n",
       "    </tr>\n",
       "    <tr>\n",
       "      <th>973</th>\n",
       "      <td>Lung cancer</td>\n",
       "      <td>0.016770</td>\n",
       "    </tr>\n",
       "    <tr>\n",
       "      <th>974</th>\n",
       "      <td>accuracy</td>\n",
       "      <td>0.016769</td>\n",
       "    </tr>\n",
       "    <tr>\n",
       "      <th>975</th>\n",
       "      <td>Addiction</td>\n",
       "      <td>0.016745</td>\n",
       "    </tr>\n",
       "    <tr>\n",
       "      <th>976</th>\n",
       "      <td>process algebra</td>\n",
       "      <td>0.016736</td>\n",
       "    </tr>\n",
       "    <tr>\n",
       "      <th>977</th>\n",
       "      <td>ischemia</td>\n",
       "      <td>0.016705</td>\n",
       "    </tr>\n",
       "    <tr>\n",
       "      <th>978</th>\n",
       "      <td>CT</td>\n",
       "      <td>0.016701</td>\n",
       "    </tr>\n",
       "    <tr>\n",
       "      <th>979</th>\n",
       "      <td>quality assurance</td>\n",
       "      <td>0.016692</td>\n",
       "    </tr>\n",
       "    <tr>\n",
       "      <th>980</th>\n",
       "      <td>variables</td>\n",
       "      <td>0.016616</td>\n",
       "    </tr>\n",
       "    <tr>\n",
       "      <th>981</th>\n",
       "      <td>constraints</td>\n",
       "      <td>0.016596</td>\n",
       "    </tr>\n",
       "    <tr>\n",
       "      <th>982</th>\n",
       "      <td>Asia</td>\n",
       "      <td>0.016593</td>\n",
       "    </tr>\n",
       "    <tr>\n",
       "      <th>983</th>\n",
       "      <td>services</td>\n",
       "      <td>0.016589</td>\n",
       "    </tr>\n",
       "    <tr>\n",
       "      <th>984</th>\n",
       "      <td>carbohydrates</td>\n",
       "      <td>0.016560</td>\n",
       "    </tr>\n",
       "    <tr>\n",
       "      <th>985</th>\n",
       "      <td>immigrants</td>\n",
       "      <td>0.016543</td>\n",
       "    </tr>\n",
       "    <tr>\n",
       "      <th>986</th>\n",
       "      <td>immigration</td>\n",
       "      <td>0.016539</td>\n",
       "    </tr>\n",
       "    <tr>\n",
       "      <th>987</th>\n",
       "      <td>convergence</td>\n",
       "      <td>0.016529</td>\n",
       "    </tr>\n",
       "    <tr>\n",
       "      <th>988</th>\n",
       "      <td>awareness</td>\n",
       "      <td>0.016522</td>\n",
       "    </tr>\n",
       "    <tr>\n",
       "      <th>989</th>\n",
       "      <td>cerebral palsy</td>\n",
       "      <td>0.016519</td>\n",
       "    </tr>\n",
       "    <tr>\n",
       "      <th>990</th>\n",
       "      <td>P-glycoprotein</td>\n",
       "      <td>0.016494</td>\n",
       "    </tr>\n",
       "    <tr>\n",
       "      <th>991</th>\n",
       "      <td>attachment</td>\n",
       "      <td>0.016477</td>\n",
       "    </tr>\n",
       "    <tr>\n",
       "      <th>992</th>\n",
       "      <td>Autism</td>\n",
       "      <td>0.016473</td>\n",
       "    </tr>\n",
       "    <tr>\n",
       "      <th>993</th>\n",
       "      <td>radiative transfer</td>\n",
       "      <td>0.016467</td>\n",
       "    </tr>\n",
       "    <tr>\n",
       "      <th>994</th>\n",
       "      <td>work</td>\n",
       "      <td>0.016463</td>\n",
       "    </tr>\n",
       "    <tr>\n",
       "      <th>995</th>\n",
       "      <td>Brazil</td>\n",
       "      <td>0.016459</td>\n",
       "    </tr>\n",
       "    <tr>\n",
       "      <th>996</th>\n",
       "      <td>Psychosis</td>\n",
       "      <td>0.016456</td>\n",
       "    </tr>\n",
       "    <tr>\n",
       "      <th>997</th>\n",
       "      <td>peptides</td>\n",
       "      <td>0.016446</td>\n",
       "    </tr>\n",
       "    <tr>\n",
       "      <th>998</th>\n",
       "      <td>experience</td>\n",
       "      <td>0.016442</td>\n",
       "    </tr>\n",
       "    <tr>\n",
       "      <th>999</th>\n",
       "      <td>Sepsis</td>\n",
       "      <td>0.016433</td>\n",
       "    </tr>\n",
       "  </tbody>\n",
       "</table>\n",
       "<p>1000 rows × 2 columns</p>\n",
       "</div>"
      ],
      "text/plain": [
       "          authorKeyword  normalizedUnweightedBetweennessCentrality\n",
       "0              analysis                                   1.000000\n",
       "1              children                                   0.606355\n",
       "2                   MRI                                   0.606088\n",
       "3                   HIV                                   0.541383\n",
       "4           Netherlands                                   0.464022\n",
       "5                 human                                   0.447297\n",
       "6    Alzheimers disease                                   0.441246\n",
       "7                   EEG                                   0.437659\n",
       "8                 model                                   0.406135\n",
       "9           development                                   0.405585\n",
       "10               Europe                                   0.401026\n",
       "11               cancer                                   0.388430\n",
       "12      The Netherlands                                   0.368139\n",
       "13         epidemiology                                   0.363291\n",
       "14            treatment                                   0.318511\n",
       "15            diagnosis                                   0.316913\n",
       "16                HIV-1                                   0.303846\n",
       "17           depression                                   0.295163\n",
       "18         inflammation                                   0.288941\n",
       "19                 AIDS                                   0.283674\n",
       "20                  RAT                                   0.260433\n",
       "21           Depression                                   0.258736\n",
       "22               stress                                   0.258462\n",
       "23      quality of life                                   0.254819\n",
       "24              disease                                   0.248955\n",
       "25        meta-analysis                                   0.244049\n",
       "26             Children                                   0.242553\n",
       "27             genetics                                   0.238225\n",
       "28       climate change                                   0.233978\n",
       "29            education                                   0.231150\n",
       "..                  ...                                        ...\n",
       "970               stars                                   0.016830\n",
       "971            D-branes                                   0.016794\n",
       "972         TRANSFUSION                                   0.016793\n",
       "973         Lung cancer                                   0.016770\n",
       "974            accuracy                                   0.016769\n",
       "975           Addiction                                   0.016745\n",
       "976     process algebra                                   0.016736\n",
       "977            ischemia                                   0.016705\n",
       "978                  CT                                   0.016701\n",
       "979   quality assurance                                   0.016692\n",
       "980           variables                                   0.016616\n",
       "981         constraints                                   0.016596\n",
       "982                Asia                                   0.016593\n",
       "983            services                                   0.016589\n",
       "984       carbohydrates                                   0.016560\n",
       "985          immigrants                                   0.016543\n",
       "986         immigration                                   0.016539\n",
       "987         convergence                                   0.016529\n",
       "988           awareness                                   0.016522\n",
       "989      cerebral palsy                                   0.016519\n",
       "990      P-glycoprotein                                   0.016494\n",
       "991          attachment                                   0.016477\n",
       "992              Autism                                   0.016473\n",
       "993  radiative transfer                                   0.016467\n",
       "994                work                                   0.016463\n",
       "995              Brazil                                   0.016459\n",
       "996           Psychosis                                   0.016456\n",
       "997            peptides                                   0.016446\n",
       "998          experience                                   0.016442\n",
       "999              Sepsis                                   0.016433\n",
       "\n",
       "[1000 rows x 2 columns]"
      ]
     },
     "execution_count": 21,
     "metadata": {},
     "output_type": "execute_result"
    }
   ],
   "source": [
    "authorKeyword_centralities.head(1000)"
   ]
  },
  {
   "cell_type": "code",
   "execution_count": 22,
   "metadata": {},
   "outputs": [
    {
     "data": {
      "text/html": [
       "<div>\n",
       "<style scoped>\n",
       "    .dataframe tbody tr th:only-of-type {\n",
       "        vertical-align: middle;\n",
       "    }\n",
       "\n",
       "    .dataframe tbody tr th {\n",
       "        vertical-align: top;\n",
       "    }\n",
       "\n",
       "    .dataframe thead th {\n",
       "        text-align: right;\n",
       "    }\n",
       "</style>\n",
       "<table border=\"1\" class=\"dataframe\">\n",
       "  <thead>\n",
       "    <tr style=\"text-align: right;\">\n",
       "      <th></th>\n",
       "      <th>authorKeyword</th>\n",
       "      <th>normalizedUnweightedBetweennessCentrality</th>\n",
       "    </tr>\n",
       "  </thead>\n",
       "  <tbody>\n",
       "    <tr>\n",
       "      <th>167349</th>\n",
       "      <td>worker heterogeneity</td>\n",
       "      <td>0.0</td>\n",
       "    </tr>\n",
       "    <tr>\n",
       "      <th>167350</th>\n",
       "      <td>basal ganglia disease</td>\n",
       "      <td>0.0</td>\n",
       "    </tr>\n",
       "    <tr>\n",
       "      <th>167351</th>\n",
       "      <td>visuospatial impairment</td>\n",
       "      <td>0.0</td>\n",
       "    </tr>\n",
       "    <tr>\n",
       "      <th>167352</th>\n",
       "      <td>Five-Minute Speech Sample FMSS</td>\n",
       "      <td>0.0</td>\n",
       "    </tr>\n",
       "    <tr>\n",
       "      <th>167353</th>\n",
       "      <td>behavioral family treatment</td>\n",
       "      <td>0.0</td>\n",
       "    </tr>\n",
       "  </tbody>\n",
       "</table>\n",
       "</div>"
      ],
      "text/plain": [
       "                         authorKeyword  \\\n",
       "167349            worker heterogeneity   \n",
       "167350           basal ganglia disease   \n",
       "167351         visuospatial impairment   \n",
       "167352  Five-Minute Speech Sample FMSS   \n",
       "167353     behavioral family treatment   \n",
       "\n",
       "        normalizedUnweightedBetweennessCentrality  \n",
       "167349                                        0.0  \n",
       "167350                                        0.0  \n",
       "167351                                        0.0  \n",
       "167352                                        0.0  \n",
       "167353                                        0.0  "
      ]
     },
     "execution_count": 22,
     "metadata": {},
     "output_type": "execute_result"
    }
   ],
   "source": [
    "authorKeyword_centralities.tail()"
   ]
  },
  {
   "cell_type": "code",
   "execution_count": 23,
   "metadata": {
    "scrolled": true
   },
   "outputs": [
    {
     "data": {
      "text/plain": [
       "count    167354.000000\n",
       "mean          0.000585\n",
       "std           0.007077\n",
       "min           0.000000\n",
       "25%           0.000000\n",
       "50%           0.000000\n",
       "75%           0.000011\n",
       "max           1.000000\n",
       "Name: normalizedUnweightedBetweennessCentrality, dtype: float64"
      ]
     },
     "execution_count": 23,
     "metadata": {},
     "output_type": "execute_result"
    }
   ],
   "source": [
    "authorKeyword_centralities['normalizedUnweightedBetweennessCentrality'].describe()"
   ]
  },
  {
   "cell_type": "markdown",
   "metadata": {},
   "source": [
    "### Detect and treat outliers"
   ]
  },
  {
   "cell_type": "code",
   "execution_count": 24,
   "metadata": {
    "scrolled": false
   },
   "outputs": [
    {
     "data": {
      "text/plain": [
       "array([[<matplotlib.axes._subplots.AxesSubplot object at 0x7fb4c85e4a90>]],\n",
       "      dtype=object)"
      ]
     },
     "execution_count": 24,
     "metadata": {},
     "output_type": "execute_result"
    },
    {
     "data": {
      "image/png": "[encoded data removed]",
      "text/plain": [
       "<Figure size 432x288 with 1 Axes>"
      ]
     },
     "metadata": {
      "needs_background": "light"
     },
     "output_type": "display_data"
    }
   ],
   "source": [
    "authorKeyword_centralities.hist()"
   ]
  },
  {
   "cell_type": "markdown",
   "metadata": {},
   "source": [
    "Histogram of the first three quartiles:"
   ]
  },
  {
   "cell_type": "code",
   "execution_count": 27,
   "metadata": {
    "scrolled": true
   },
   "outputs": [
    {
     "data": {
      "image/png": "[encoded data removed]",
      "text/plain": [
       "<Figure size 432x288 with 1 Axes>"
      ]
     },
     "metadata": {
      "needs_background": "light"
     },
     "output_type": "display_data"
    }
   ],
   "source": [
    "authorKeyword_centralities_three_quartiles = authorKeyword_centralities.loc[authorKeyword_centralities['normalizedUnweightedBetweennessCentrality'] < 0.000011, :]\n",
    "ax = authorKeyword_centralities_three_quartiles.hist(bins=100, grid=False)"
   ]
  },
  {
   "cell_type": "markdown",
   "metadata": {},
   "source": [
    "Histogram of the first three quartiles without zeroes:"
   ]
  },
  {
   "cell_type": "code",
   "execution_count": 28,
   "metadata": {
    "scrolled": true
   },
   "outputs": [
    {
     "data": {
      "image/png": "[encoded data removed]",
      "text/plain": [
       "<Figure size 432x288 with 1 Axes>"
      ]
     },
     "metadata": {
      "needs_background": "light"
     },
     "output_type": "display_data"
    }
   ],
   "source": [
    "authorKeyword_centralities_three_quartiles_without_zeroes = authorKeyword_centralities_three_quartiles.loc[authorKeyword_centralities_three_quartiles['normalizedUnweightedBetweennessCentrality'] > 0, :]\n",
    "ax = authorKeyword_centralities_three_quartiles_without_zeroes.hist(bins=200, grid=False)\n"
   ]
  },
  {
   "cell_type": "markdown",
   "metadata": {},
   "source": [
    "## Annotations"
   ]
  },
  {
   "cell_type": "markdown",
   "metadata": {},
   "source": [
    "### Import and view centrality data"
   ]
  },
  {
   "cell_type": "code",
   "execution_count": 28,
   "metadata": {},
   "outputs": [],
   "source": [
    "annotation_centralities = pd.read_csv('/home/clokman/Projects/KFIR/notebooks/data/betweenness-centralities-vs-annotations.csv')"
   ]
  },
  {
   "cell_type": "code",
   "execution_count": 30,
   "metadata": {
    "scrolled": true
   },
   "outputs": [
    {
     "data": {
      "text/html": [
       "<div>\n",
       "<style scoped>\n",
       "    .dataframe tbody tr th:only-of-type {\n",
       "        vertical-align: middle;\n",
       "    }\n",
       "\n",
       "    .dataframe tbody tr th {\n",
       "        vertical-align: top;\n",
       "    }\n",
       "\n",
       "    .dataframe thead th {\n",
       "        text-align: right;\n",
       "    }\n",
       "</style>\n",
       "<table border=\"1\" class=\"dataframe\">\n",
       "  <thead>\n",
       "    <tr style=\"text-align: right;\">\n",
       "      <th></th>\n",
       "      <th>annotation</th>\n",
       "      <th>normalizedUnweightedBetweennessCentrality</th>\n",
       "    </tr>\n",
       "  </thead>\n",
       "  <tbody>\n",
       "    <tr>\n",
       "      <th>0</th>\n",
       "      <td>expression</td>\n",
       "      <td>1.000000</td>\n",
       "    </tr>\n",
       "    <tr>\n",
       "      <th>1</th>\n",
       "      <td>Netherlands</td>\n",
       "      <td>0.995445</td>\n",
       "    </tr>\n",
       "    <tr>\n",
       "      <th>2</th>\n",
       "      <td>Dutch</td>\n",
       "      <td>0.766756</td>\n",
       "    </tr>\n",
       "    <tr>\n",
       "      <th>3</th>\n",
       "      <td>gene</td>\n",
       "      <td>0.733496</td>\n",
       "    </tr>\n",
       "    <tr>\n",
       "      <th>4</th>\n",
       "      <td>protein</td>\n",
       "      <td>0.710218</td>\n",
       "    </tr>\n",
       "    <tr>\n",
       "      <th>5</th>\n",
       "      <td>acid</td>\n",
       "      <td>0.491827</td>\n",
       "    </tr>\n",
       "    <tr>\n",
       "      <th>6</th>\n",
       "      <td>evolution</td>\n",
       "      <td>0.361949</td>\n",
       "    </tr>\n",
       "    <tr>\n",
       "      <th>7</th>\n",
       "      <td>brain</td>\n",
       "      <td>0.258947</td>\n",
       "    </tr>\n",
       "    <tr>\n",
       "      <th>8</th>\n",
       "      <td>plasma</td>\n",
       "      <td>0.251262</td>\n",
       "    </tr>\n",
       "    <tr>\n",
       "      <th>9</th>\n",
       "      <td>international</td>\n",
       "      <td>0.241406</td>\n",
       "    </tr>\n",
       "    <tr>\n",
       "      <th>10</th>\n",
       "      <td>syndrome</td>\n",
       "      <td>0.239787</td>\n",
       "    </tr>\n",
       "    <tr>\n",
       "      <th>11</th>\n",
       "      <td>magnitude</td>\n",
       "      <td>0.220708</td>\n",
       "    </tr>\n",
       "    <tr>\n",
       "      <th>12</th>\n",
       "      <td>Europe</td>\n",
       "      <td>0.218324</td>\n",
       "    </tr>\n",
       "    <tr>\n",
       "      <th>13</th>\n",
       "      <td>American</td>\n",
       "      <td>0.213645</td>\n",
       "    </tr>\n",
       "    <tr>\n",
       "      <th>14</th>\n",
       "      <td>classical</td>\n",
       "      <td>0.199937</td>\n",
       "    </tr>\n",
       "    <tr>\n",
       "      <th>15</th>\n",
       "      <td>Amsterdam</td>\n",
       "      <td>0.190069</td>\n",
       "    </tr>\n",
       "    <tr>\n",
       "      <th>16</th>\n",
       "      <td>DNA</td>\n",
       "      <td>0.182464</td>\n",
       "    </tr>\n",
       "    <tr>\n",
       "      <th>17</th>\n",
       "      <td>mortality</td>\n",
       "      <td>0.181149</td>\n",
       "    </tr>\n",
       "    <tr>\n",
       "      <th>18</th>\n",
       "      <td>cognitive</td>\n",
       "      <td>0.175284</td>\n",
       "    </tr>\n",
       "    <tr>\n",
       "      <th>19</th>\n",
       "      <td>algorithm</td>\n",
       "      <td>0.165363</td>\n",
       "    </tr>\n",
       "    <tr>\n",
       "      <th>20</th>\n",
       "      <td>protocol</td>\n",
       "      <td>0.165138</td>\n",
       "    </tr>\n",
       "    <tr>\n",
       "      <th>21</th>\n",
       "      <td>receptor</td>\n",
       "      <td>0.160387</td>\n",
       "    </tr>\n",
       "    <tr>\n",
       "      <th>22</th>\n",
       "      <td>dependence</td>\n",
       "      <td>0.156227</td>\n",
       "    </tr>\n",
       "    <tr>\n",
       "      <th>23</th>\n",
       "      <td>confidence interval</td>\n",
       "      <td>0.155950</td>\n",
       "    </tr>\n",
       "    <tr>\n",
       "      <th>24</th>\n",
       "      <td>matrix</td>\n",
       "      <td>0.150115</td>\n",
       "    </tr>\n",
       "    <tr>\n",
       "      <th>25</th>\n",
       "      <td>probability</td>\n",
       "      <td>0.149921</td>\n",
       "    </tr>\n",
       "    <tr>\n",
       "      <th>26</th>\n",
       "      <td>screening</td>\n",
       "      <td>0.149270</td>\n",
       "    </tr>\n",
       "    <tr>\n",
       "      <th>27</th>\n",
       "      <td>morphology</td>\n",
       "      <td>0.145014</td>\n",
       "    </tr>\n",
       "    <tr>\n",
       "      <th>28</th>\n",
       "      <td>simulation</td>\n",
       "      <td>0.137143</td>\n",
       "    </tr>\n",
       "    <tr>\n",
       "      <th>29</th>\n",
       "      <td>variance</td>\n",
       "      <td>0.136678</td>\n",
       "    </tr>\n",
       "    <tr>\n",
       "      <th>...</th>\n",
       "      <td>...</td>\n",
       "      <td>...</td>\n",
       "    </tr>\n",
       "    <tr>\n",
       "      <th>970</th>\n",
       "      <td>animal model</td>\n",
       "      <td>0.004148</td>\n",
       "    </tr>\n",
       "    <tr>\n",
       "      <th>971</th>\n",
       "      <td>ecosystem services</td>\n",
       "      <td>0.004138</td>\n",
       "    </tr>\n",
       "    <tr>\n",
       "      <th>972</th>\n",
       "      <td>serotonin</td>\n",
       "      <td>0.004129</td>\n",
       "    </tr>\n",
       "    <tr>\n",
       "      <th>973</th>\n",
       "      <td>field experiment</td>\n",
       "      <td>0.004127</td>\n",
       "    </tr>\n",
       "    <tr>\n",
       "      <th>974</th>\n",
       "      <td>aureus</td>\n",
       "      <td>0.004121</td>\n",
       "    </tr>\n",
       "    <tr>\n",
       "      <th>975</th>\n",
       "      <td>reflectance</td>\n",
       "      <td>0.004121</td>\n",
       "    </tr>\n",
       "    <tr>\n",
       "      <th>976</th>\n",
       "      <td>fibroblast</td>\n",
       "      <td>0.004116</td>\n",
       "    </tr>\n",
       "    <tr>\n",
       "      <th>977</th>\n",
       "      <td>Tanzania</td>\n",
       "      <td>0.004108</td>\n",
       "    </tr>\n",
       "    <tr>\n",
       "      <th>978</th>\n",
       "      <td>lipopolysaccharide</td>\n",
       "      <td>0.004092</td>\n",
       "    </tr>\n",
       "    <tr>\n",
       "      <th>979</th>\n",
       "      <td>workflow</td>\n",
       "      <td>0.004089</td>\n",
       "    </tr>\n",
       "    <tr>\n",
       "      <th>980</th>\n",
       "      <td>density functional theory</td>\n",
       "      <td>0.004072</td>\n",
       "    </tr>\n",
       "    <tr>\n",
       "      <th>981</th>\n",
       "      <td>pipeline</td>\n",
       "      <td>0.004064</td>\n",
       "    </tr>\n",
       "    <tr>\n",
       "      <th>982</th>\n",
       "      <td>autopsy</td>\n",
       "      <td>0.004061</td>\n",
       "    </tr>\n",
       "    <tr>\n",
       "      <th>983</th>\n",
       "      <td>conceptual model</td>\n",
       "      <td>0.004058</td>\n",
       "    </tr>\n",
       "    <tr>\n",
       "      <th>984</th>\n",
       "      <td>pulsar</td>\n",
       "      <td>0.004054</td>\n",
       "    </tr>\n",
       "    <tr>\n",
       "      <th>985</th>\n",
       "      <td>histopathology</td>\n",
       "      <td>0.004052</td>\n",
       "    </tr>\n",
       "    <tr>\n",
       "      <th>986</th>\n",
       "      <td>16S rRNA</td>\n",
       "      <td>0.004047</td>\n",
       "    </tr>\n",
       "    <tr>\n",
       "      <th>987</th>\n",
       "      <td>OECD</td>\n",
       "      <td>0.004047</td>\n",
       "    </tr>\n",
       "    <tr>\n",
       "      <th>988</th>\n",
       "      <td>Rhine</td>\n",
       "      <td>0.004037</td>\n",
       "    </tr>\n",
       "    <tr>\n",
       "      <th>989</th>\n",
       "      <td>physical examination</td>\n",
       "      <td>0.004036</td>\n",
       "    </tr>\n",
       "    <tr>\n",
       "      <th>990</th>\n",
       "      <td>entanglement</td>\n",
       "      <td>0.004028</td>\n",
       "    </tr>\n",
       "    <tr>\n",
       "      <th>991</th>\n",
       "      <td>metastasis</td>\n",
       "      <td>0.004024</td>\n",
       "    </tr>\n",
       "    <tr>\n",
       "      <th>992</th>\n",
       "      <td>electrostatic</td>\n",
       "      <td>0.004023</td>\n",
       "    </tr>\n",
       "    <tr>\n",
       "      <th>993</th>\n",
       "      <td>Peru</td>\n",
       "      <td>0.004007</td>\n",
       "    </tr>\n",
       "    <tr>\n",
       "      <th>994</th>\n",
       "      <td>ISO</td>\n",
       "      <td>0.003998</td>\n",
       "    </tr>\n",
       "    <tr>\n",
       "      <th>995</th>\n",
       "      <td>CD8</td>\n",
       "      <td>0.003997</td>\n",
       "    </tr>\n",
       "    <tr>\n",
       "      <th>996</th>\n",
       "      <td>Swedish</td>\n",
       "      <td>0.003991</td>\n",
       "    </tr>\n",
       "    <tr>\n",
       "      <th>997</th>\n",
       "      <td>PubMed</td>\n",
       "      <td>0.003971</td>\n",
       "    </tr>\n",
       "    <tr>\n",
       "      <th>998</th>\n",
       "      <td>arthritis</td>\n",
       "      <td>0.003960</td>\n",
       "    </tr>\n",
       "    <tr>\n",
       "      <th>999</th>\n",
       "      <td>colitis</td>\n",
       "      <td>0.003959</td>\n",
       "    </tr>\n",
       "  </tbody>\n",
       "</table>\n",
       "<p>1000 rows × 2 columns</p>\n",
       "</div>"
      ],
      "text/plain": [
       "                    annotation  normalizedUnweightedBetweennessCentrality\n",
       "0                   expression                                   1.000000\n",
       "1                  Netherlands                                   0.995445\n",
       "2                        Dutch                                   0.766756\n",
       "3                         gene                                   0.733496\n",
       "4                      protein                                   0.710218\n",
       "5                         acid                                   0.491827\n",
       "6                    evolution                                   0.361949\n",
       "7                        brain                                   0.258947\n",
       "8                       plasma                                   0.251262\n",
       "9                international                                   0.241406\n",
       "10                    syndrome                                   0.239787\n",
       "11                   magnitude                                   0.220708\n",
       "12                      Europe                                   0.218324\n",
       "13                    American                                   0.213645\n",
       "14                   classical                                   0.199937\n",
       "15                   Amsterdam                                   0.190069\n",
       "16                         DNA                                   0.182464\n",
       "17                   mortality                                   0.181149\n",
       "18                   cognitive                                   0.175284\n",
       "19                   algorithm                                   0.165363\n",
       "20                    protocol                                   0.165138\n",
       "21                    receptor                                   0.160387\n",
       "22                  dependence                                   0.156227\n",
       "23         confidence interval                                   0.155950\n",
       "24                      matrix                                   0.150115\n",
       "25                 probability                                   0.149921\n",
       "26                   screening                                   0.149270\n",
       "27                  morphology                                   0.145014\n",
       "28                  simulation                                   0.137143\n",
       "29                    variance                                   0.136678\n",
       "..                         ...                                        ...\n",
       "970               animal model                                   0.004148\n",
       "971         ecosystem services                                   0.004138\n",
       "972                  serotonin                                   0.004129\n",
       "973           field experiment                                   0.004127\n",
       "974                     aureus                                   0.004121\n",
       "975                reflectance                                   0.004121\n",
       "976                 fibroblast                                   0.004116\n",
       "977                   Tanzania                                   0.004108\n",
       "978         lipopolysaccharide                                   0.004092\n",
       "979                   workflow                                   0.004089\n",
       "980  density functional theory                                   0.004072\n",
       "981                   pipeline                                   0.004064\n",
       "982                    autopsy                                   0.004061\n",
       "983           conceptual model                                   0.004058\n",
       "984                     pulsar                                   0.004054\n",
       "985             histopathology                                   0.004052\n",
       "986                   16S rRNA                                   0.004047\n",
       "987                       OECD                                   0.004047\n",
       "988                      Rhine                                   0.004037\n",
       "989       physical examination                                   0.004036\n",
       "990               entanglement                                   0.004028\n",
       "991                 metastasis                                   0.004024\n",
       "992              electrostatic                                   0.004023\n",
       "993                       Peru                                   0.004007\n",
       "994                        ISO                                   0.003998\n",
       "995                        CD8                                   0.003997\n",
       "996                    Swedish                                   0.003991\n",
       "997                     PubMed                                   0.003971\n",
       "998                  arthritis                                   0.003960\n",
       "999                    colitis                                   0.003959\n",
       "\n",
       "[1000 rows x 2 columns]"
      ]
     },
     "execution_count": 30,
     "metadata": {},
     "output_type": "execute_result"
    }
   ],
   "source": [
    "annotation_centralities.head(1000)"
   ]
  },
  {
   "cell_type": "code",
   "execution_count": 34,
   "metadata": {
    "scrolled": false
   },
   "outputs": [
    {
     "data": {
      "text/html": [
       "<div>\n",
       "<style scoped>\n",
       "    .dataframe tbody tr th:only-of-type {\n",
       "        vertical-align: middle;\n",
       "    }\n",
       "\n",
       "    .dataframe tbody tr th {\n",
       "        vertical-align: top;\n",
       "    }\n",
       "\n",
       "    .dataframe thead th {\n",
       "        text-align: right;\n",
       "    }\n",
       "</style>\n",
       "<table border=\"1\" class=\"dataframe\">\n",
       "  <thead>\n",
       "    <tr style=\"text-align: right;\">\n",
       "      <th></th>\n",
       "      <th>annotation</th>\n",
       "      <th>normalizedUnweightedBetweennessCentrality</th>\n",
       "    </tr>\n",
       "  </thead>\n",
       "  <tbody>\n",
       "    <tr>\n",
       "      <th>100148</th>\n",
       "      <td>CAD software</td>\n",
       "      <td>0.0</td>\n",
       "    </tr>\n",
       "    <tr>\n",
       "      <th>100149</th>\n",
       "      <td>modern method</td>\n",
       "      <td>0.0</td>\n",
       "    </tr>\n",
       "    <tr>\n",
       "      <th>100150</th>\n",
       "      <td>Keck Interferometer</td>\n",
       "      <td>0.0</td>\n",
       "    </tr>\n",
       "    <tr>\n",
       "      <th>100151</th>\n",
       "      <td>octinoxate</td>\n",
       "      <td>0.0</td>\n",
       "    </tr>\n",
       "    <tr>\n",
       "      <th>100152</th>\n",
       "      <td>Mesenteric lymph nodes</td>\n",
       "      <td>0.0</td>\n",
       "    </tr>\n",
       "  </tbody>\n",
       "</table>\n",
       "</div>"
      ],
      "text/plain": [
       "                    annotation  normalizedUnweightedBetweennessCentrality\n",
       "100148            CAD software                                        0.0\n",
       "100149           modern method                                        0.0\n",
       "100150     Keck Interferometer                                        0.0\n",
       "100151              octinoxate                                        0.0\n",
       "100152  Mesenteric lymph nodes                                        0.0"
      ]
     },
     "execution_count": 34,
     "metadata": {},
     "output_type": "execute_result"
    }
   ],
   "source": [
    "annotation_centralities.tail()"
   ]
  },
  {
   "cell_type": "code",
   "execution_count": 33,
   "metadata": {
    "scrolled": false
   },
   "outputs": [
    {
     "data": {
      "text/plain": [
       "count    1.001530e+05\n",
       "mean     3.173453e-04\n",
       "std      7.386615e-03\n",
       "min      0.000000e+00\n",
       "25%      0.000000e+00\n",
       "50%      3.383392e-07\n",
       "75%      8.650315e-06\n",
       "max      1.000000e+00\n",
       "Name: normalizedUnweightedBetweennessCentrality, dtype: float64"
      ]
     },
     "execution_count": 33,
     "metadata": {},
     "output_type": "execute_result"
    }
   ],
   "source": [
    "annotation_centralities['normalizedUnweightedBetweennessCentrality'].describe()"
   ]
  },
  {
   "cell_type": "markdown",
   "metadata": {},
   "source": [
    "### Detect and treat outliers"
   ]
  },
  {
   "cell_type": "markdown",
   "metadata": {},
   "source": [
    "Histogram of all values:"
   ]
  },
  {
   "cell_type": "code",
   "execution_count": 107,
   "metadata": {
    "scrolled": true
   },
   "outputs": [
    {
     "data": {
      "text/plain": [
       "<matplotlib.axes._subplots.AxesSubplot at 0x7f7641fc0a58>"
      ]
     },
     "execution_count": 107,
     "metadata": {},
     "output_type": "execute_result"
    },
    {
     "data": {
      "image/png": "[encoded data removed]",
      "text/plain": [
       "<Figure size 432x288 with 1 Axes>"
      ]
     },
     "metadata": {
      "needs_background": "light"
     },
     "output_type": "display_data"
    }
   ],
   "source": [
    "annotation_centralities['normalizedUnweightedBetweennessCentrality'].hist(bins=200, grid=False)\n"
   ]
  },
  {
   "cell_type": "markdown",
   "metadata": {},
   "source": [
    "Histogram of the first three quartiles:"
   ]
  },
  {
   "cell_type": "code",
   "execution_count": 99,
   "metadata": {
    "scrolled": true
   },
   "outputs": [
    {
     "data": {
      "image/png": "[encoded data removed]",
      "text/plain": [
       "<Figure size 432x288 with 1 Axes>"
      ]
     },
     "metadata": {
      "needs_background": "light"
     },
     "output_type": "display_data"
    }
   ],
   "source": [
    "annotation_centralities_three_quartiles = annotation_centralities.loc[annotation_centralities['normalizedUnweightedBetweennessCentrality'] < 8.650315e-06, :]\n",
    "ax = annotation_centralities_three_quartiles.hist(bins=200, grid=False)\n"
   ]
  },
  {
   "cell_type": "markdown",
   "metadata": {},
   "source": [
    "Histogram of the first three quartiles without zeroes:"
   ]
  },
  {
   "cell_type": "code",
   "execution_count": 100,
   "metadata": {
    "scrolled": true
   },
   "outputs": [
    {
     "data": {
      "image/png": "[encoded data removed]",
      "text/plain": [
       "<Figure size 432x288 with 1 Axes>"
      ]
     },
     "metadata": {
      "needs_background": "light"
     },
     "output_type": "display_data"
    }
   ],
   "source": [
    "annotation_centralities_three_quartiles_without_zeroes = annotation_centralities_three_quartiles.loc[annotation_centralities_three_quartiles['normalizedUnweightedBetweennessCentrality'] > 0, :]\n",
    "ax = annotation_centralities_three_quartiles_without_zeroes.hist(bins=200, grid=False)\n"
   ]
  },
  {
   "cell_type": "markdown",
   "metadata": {},
   "source": [
    "## Subject categories"
   ]
  },
  {
   "cell_type": "markdown",
   "metadata": {},
   "source": [
    "### Import and view centrality data"
   ]
  },
  {
   "cell_type": "code",
   "execution_count": 39,
   "metadata": {},
   "outputs": [],
   "source": [
    "subjectCategory_centralities = pd.read_csv('/home/clokman/Projects/KFIR/notebooks/data/betweenness-centralities-vs-subject-categories.csv')"
   ]
  },
  {
   "cell_type": "code",
   "execution_count": 41,
   "metadata": {},
   "outputs": [
    {
     "data": {
      "text/html": [
       "<div>\n",
       "<style scoped>\n",
       "    .dataframe tbody tr th:only-of-type {\n",
       "        vertical-align: middle;\n",
       "    }\n",
       "\n",
       "    .dataframe tbody tr th {\n",
       "        vertical-align: top;\n",
       "    }\n",
       "\n",
       "    .dataframe thead th {\n",
       "        text-align: right;\n",
       "    }\n",
       "</style>\n",
       "<table border=\"1\" class=\"dataframe\">\n",
       "  <thead>\n",
       "    <tr style=\"text-align: right;\">\n",
       "      <th></th>\n",
       "      <th>subjectCategory</th>\n",
       "      <th>normalizedUnweightedBetweennessCentrality</th>\n",
       "    </tr>\n",
       "  </thead>\n",
       "  <tbody>\n",
       "    <tr>\n",
       "      <th>0</th>\n",
       "      <td>Engineering</td>\n",
       "      <td>1.000000</td>\n",
       "    </tr>\n",
       "    <tr>\n",
       "      <th>1</th>\n",
       "      <td>Environmental Sciences &amp; Ecology</td>\n",
       "      <td>0.815512</td>\n",
       "    </tr>\n",
       "    <tr>\n",
       "      <th>2</th>\n",
       "      <td>Psychology</td>\n",
       "      <td>0.501189</td>\n",
       "    </tr>\n",
       "    <tr>\n",
       "      <th>3</th>\n",
       "      <td>Public, Environmental &amp; Occupational Health</td>\n",
       "      <td>0.496478</td>\n",
       "    </tr>\n",
       "    <tr>\n",
       "      <th>4</th>\n",
       "      <td>Neurosciences &amp; Neurology</td>\n",
       "      <td>0.445072</td>\n",
       "    </tr>\n",
       "    <tr>\n",
       "      <th>5</th>\n",
       "      <td>Biochemistry &amp; Molecular Biology</td>\n",
       "      <td>0.440183</td>\n",
       "    </tr>\n",
       "    <tr>\n",
       "      <th>6</th>\n",
       "      <td>Chemistry</td>\n",
       "      <td>0.436664</td>\n",
       "    </tr>\n",
       "    <tr>\n",
       "      <th>7</th>\n",
       "      <td>Computer Science</td>\n",
       "      <td>0.406177</td>\n",
       "    </tr>\n",
       "    <tr>\n",
       "      <th>8</th>\n",
       "      <td>Education &amp; Educational Research</td>\n",
       "      <td>0.291551</td>\n",
       "    </tr>\n",
       "    <tr>\n",
       "      <th>9</th>\n",
       "      <td>Genetics &amp; Heredity</td>\n",
       "      <td>0.244632</td>\n",
       "    </tr>\n",
       "    <tr>\n",
       "      <th>10</th>\n",
       "      <td>Business &amp; Economics</td>\n",
       "      <td>0.234101</td>\n",
       "    </tr>\n",
       "    <tr>\n",
       "      <th>11</th>\n",
       "      <td>Social Sciences - Other Topics</td>\n",
       "      <td>0.197385</td>\n",
       "    </tr>\n",
       "    <tr>\n",
       "      <th>12</th>\n",
       "      <td>Pharmacology &amp; Pharmacy</td>\n",
       "      <td>0.190082</td>\n",
       "    </tr>\n",
       "    <tr>\n",
       "      <th>13</th>\n",
       "      <td>Mathematics</td>\n",
       "      <td>0.180046</td>\n",
       "    </tr>\n",
       "    <tr>\n",
       "      <th>14</th>\n",
       "      <td>Arts &amp; Humanities - Other Topics</td>\n",
       "      <td>0.179327</td>\n",
       "    </tr>\n",
       "    <tr>\n",
       "      <th>15</th>\n",
       "      <td>Materials Science</td>\n",
       "      <td>0.173446</td>\n",
       "    </tr>\n",
       "    <tr>\n",
       "      <th>16</th>\n",
       "      <td>Science &amp; Technology - Other Topics</td>\n",
       "      <td>0.165067</td>\n",
       "    </tr>\n",
       "    <tr>\n",
       "      <th>17</th>\n",
       "      <td>Pediatrics</td>\n",
       "      <td>0.148577</td>\n",
       "    </tr>\n",
       "    <tr>\n",
       "      <th>18</th>\n",
       "      <td>Biotechnology &amp; Applied Microbiology</td>\n",
       "      <td>0.141558</td>\n",
       "    </tr>\n",
       "    <tr>\n",
       "      <th>19</th>\n",
       "      <td>Life Sciences &amp; Biomedicine - Other Topics</td>\n",
       "      <td>0.131600</td>\n",
       "    </tr>\n",
       "    <tr>\n",
       "      <th>20</th>\n",
       "      <td>Immunology</td>\n",
       "      <td>0.121713</td>\n",
       "    </tr>\n",
       "    <tr>\n",
       "      <th>21</th>\n",
       "      <td>Anthropology</td>\n",
       "      <td>0.118568</td>\n",
       "    </tr>\n",
       "    <tr>\n",
       "      <th>22</th>\n",
       "      <td>Psychiatry</td>\n",
       "      <td>0.110296</td>\n",
       "    </tr>\n",
       "    <tr>\n",
       "      <th>23</th>\n",
       "      <td>Sociology</td>\n",
       "      <td>0.106093</td>\n",
       "    </tr>\n",
       "    <tr>\n",
       "      <th>24</th>\n",
       "      <td>Rehabilitation</td>\n",
       "      <td>0.096963</td>\n",
       "    </tr>\n",
       "    <tr>\n",
       "      <th>25</th>\n",
       "      <td>Radiology, Nuclear Medicine &amp; Medical Imaging</td>\n",
       "      <td>0.093286</td>\n",
       "    </tr>\n",
       "    <tr>\n",
       "      <th>26</th>\n",
       "      <td>Government &amp; Law</td>\n",
       "      <td>0.093260</td>\n",
       "    </tr>\n",
       "    <tr>\n",
       "      <th>27</th>\n",
       "      <td>Research &amp; Experimental Medicine</td>\n",
       "      <td>0.091142</td>\n",
       "    </tr>\n",
       "    <tr>\n",
       "      <th>28</th>\n",
       "      <td>General &amp; Internal Medicine</td>\n",
       "      <td>0.090584</td>\n",
       "    </tr>\n",
       "    <tr>\n",
       "      <th>29</th>\n",
       "      <td>Health Care Sciences &amp; Services</td>\n",
       "      <td>0.087948</td>\n",
       "    </tr>\n",
       "    <tr>\n",
       "      <th>...</th>\n",
       "      <td>...</td>\n",
       "      <td>...</td>\n",
       "    </tr>\n",
       "    <tr>\n",
       "      <th>120</th>\n",
       "      <td>Legal Medicine</td>\n",
       "      <td>0.001461</td>\n",
       "    </tr>\n",
       "    <tr>\n",
       "      <th>121</th>\n",
       "      <td>Emergency Medicine</td>\n",
       "      <td>0.001447</td>\n",
       "    </tr>\n",
       "    <tr>\n",
       "      <th>122</th>\n",
       "      <td>Virology</td>\n",
       "      <td>0.001387</td>\n",
       "    </tr>\n",
       "    <tr>\n",
       "      <th>123</th>\n",
       "      <td>Criminology &amp; Penology</td>\n",
       "      <td>0.001345</td>\n",
       "    </tr>\n",
       "    <tr>\n",
       "      <th>124</th>\n",
       "      <td>Demography</td>\n",
       "      <td>0.001276</td>\n",
       "    </tr>\n",
       "    <tr>\n",
       "      <th>125</th>\n",
       "      <td>Medical Ethics</td>\n",
       "      <td>0.001253</td>\n",
       "    </tr>\n",
       "    <tr>\n",
       "      <th>126</th>\n",
       "      <td>Forestry</td>\n",
       "      <td>0.001229</td>\n",
       "    </tr>\n",
       "    <tr>\n",
       "      <th>127</th>\n",
       "      <td>Substance Abuse</td>\n",
       "      <td>0.001195</td>\n",
       "    </tr>\n",
       "    <tr>\n",
       "      <th>128</th>\n",
       "      <td>Automation &amp; Control Systems</td>\n",
       "      <td>0.001067</td>\n",
       "    </tr>\n",
       "    <tr>\n",
       "      <th>129</th>\n",
       "      <td>Construction &amp; Building Technology</td>\n",
       "      <td>0.001064</td>\n",
       "    </tr>\n",
       "    <tr>\n",
       "      <th>130</th>\n",
       "      <td>Paleontology</td>\n",
       "      <td>0.000847</td>\n",
       "    </tr>\n",
       "    <tr>\n",
       "      <th>131</th>\n",
       "      <td>International Relations</td>\n",
       "      <td>0.000720</td>\n",
       "    </tr>\n",
       "    <tr>\n",
       "      <th>132</th>\n",
       "      <td>Remote Sensing</td>\n",
       "      <td>0.000662</td>\n",
       "    </tr>\n",
       "    <tr>\n",
       "      <th>133</th>\n",
       "      <td>Mineralogy</td>\n",
       "      <td>0.000533</td>\n",
       "    </tr>\n",
       "    <tr>\n",
       "      <th>134</th>\n",
       "      <td>Film, Radio &amp; Television</td>\n",
       "      <td>0.000527</td>\n",
       "    </tr>\n",
       "    <tr>\n",
       "      <th>135</th>\n",
       "      <td>Otorhinolaryngology</td>\n",
       "      <td>0.000471</td>\n",
       "    </tr>\n",
       "    <tr>\n",
       "      <th>136</th>\n",
       "      <td>Anesthesiology</td>\n",
       "      <td>0.000409</td>\n",
       "    </tr>\n",
       "    <tr>\n",
       "      <th>137</th>\n",
       "      <td>Music</td>\n",
       "      <td>0.000216</td>\n",
       "    </tr>\n",
       "    <tr>\n",
       "      <th>138</th>\n",
       "      <td>Electrochemistry</td>\n",
       "      <td>0.000157</td>\n",
       "    </tr>\n",
       "    <tr>\n",
       "      <th>139</th>\n",
       "      <td>Crystallography</td>\n",
       "      <td>0.000152</td>\n",
       "    </tr>\n",
       "    <tr>\n",
       "      <th>140</th>\n",
       "      <td>Allergy</td>\n",
       "      <td>0.000146</td>\n",
       "    </tr>\n",
       "    <tr>\n",
       "      <th>141</th>\n",
       "      <td>Ophthalmology</td>\n",
       "      <td>0.000071</td>\n",
       "    </tr>\n",
       "    <tr>\n",
       "      <th>142</th>\n",
       "      <td>Rheumatology</td>\n",
       "      <td>0.000000</td>\n",
       "    </tr>\n",
       "    <tr>\n",
       "      <th>143</th>\n",
       "      <td>Classics</td>\n",
       "      <td>0.000000</td>\n",
       "    </tr>\n",
       "    <tr>\n",
       "      <th>144</th>\n",
       "      <td>Polymer Science</td>\n",
       "      <td>0.000000</td>\n",
       "    </tr>\n",
       "    <tr>\n",
       "      <th>145</th>\n",
       "      <td>Thermodynamics</td>\n",
       "      <td>0.000000</td>\n",
       "    </tr>\n",
       "    <tr>\n",
       "      <th>146</th>\n",
       "      <td>Architecture</td>\n",
       "      <td>0.000000</td>\n",
       "    </tr>\n",
       "    <tr>\n",
       "      <th>147</th>\n",
       "      <td>Theater</td>\n",
       "      <td>0.000000</td>\n",
       "    </tr>\n",
       "    <tr>\n",
       "      <th>148</th>\n",
       "      <td>Robotics</td>\n",
       "      <td>0.000000</td>\n",
       "    </tr>\n",
       "    <tr>\n",
       "      <th>149</th>\n",
       "      <td>Mining &amp; Mineral Processing</td>\n",
       "      <td>0.000000</td>\n",
       "    </tr>\n",
       "  </tbody>\n",
       "</table>\n",
       "<p>150 rows × 2 columns</p>\n",
       "</div>"
      ],
      "text/plain": [
       "                                   subjectCategory  \\\n",
       "0                                      Engineering   \n",
       "1                 Environmental Sciences & Ecology   \n",
       "2                                       Psychology   \n",
       "3      Public, Environmental & Occupational Health   \n",
       "4                        Neurosciences & Neurology   \n",
       "5                 Biochemistry & Molecular Biology   \n",
       "6                                        Chemistry   \n",
       "7                                 Computer Science   \n",
       "8                 Education & Educational Research   \n",
       "9                              Genetics & Heredity   \n",
       "10                            Business & Economics   \n",
       "11                  Social Sciences - Other Topics   \n",
       "12                         Pharmacology & Pharmacy   \n",
       "13                                     Mathematics   \n",
       "14                Arts & Humanities - Other Topics   \n",
       "15                               Materials Science   \n",
       "16             Science & Technology - Other Topics   \n",
       "17                                      Pediatrics   \n",
       "18            Biotechnology & Applied Microbiology   \n",
       "19      Life Sciences & Biomedicine - Other Topics   \n",
       "20                                      Immunology   \n",
       "21                                    Anthropology   \n",
       "22                                      Psychiatry   \n",
       "23                                       Sociology   \n",
       "24                                  Rehabilitation   \n",
       "25   Radiology, Nuclear Medicine & Medical Imaging   \n",
       "26                                Government & Law   \n",
       "27                Research & Experimental Medicine   \n",
       "28                     General & Internal Medicine   \n",
       "29                 Health Care Sciences & Services   \n",
       "..                                             ...   \n",
       "120                                 Legal Medicine   \n",
       "121                             Emergency Medicine   \n",
       "122                                       Virology   \n",
       "123                         Criminology & Penology   \n",
       "124                                     Demography   \n",
       "125                                 Medical Ethics   \n",
       "126                                       Forestry   \n",
       "127                                Substance Abuse   \n",
       "128                   Automation & Control Systems   \n",
       "129             Construction & Building Technology   \n",
       "130                                   Paleontology   \n",
       "131                        International Relations   \n",
       "132                                 Remote Sensing   \n",
       "133                                     Mineralogy   \n",
       "134                       Film, Radio & Television   \n",
       "135                            Otorhinolaryngology   \n",
       "136                                 Anesthesiology   \n",
       "137                                          Music   \n",
       "138                               Electrochemistry   \n",
       "139                                Crystallography   \n",
       "140                                        Allergy   \n",
       "141                                  Ophthalmology   \n",
       "142                                   Rheumatology   \n",
       "143                                       Classics   \n",
       "144                                Polymer Science   \n",
       "145                                 Thermodynamics   \n",
       "146                                   Architecture   \n",
       "147                                        Theater   \n",
       "148                                       Robotics   \n",
       "149                    Mining & Mineral Processing   \n",
       "\n",
       "     normalizedUnweightedBetweennessCentrality  \n",
       "0                                     1.000000  \n",
       "1                                     0.815512  \n",
       "2                                     0.501189  \n",
       "3                                     0.496478  \n",
       "4                                     0.445072  \n",
       "5                                     0.440183  \n",
       "6                                     0.436664  \n",
       "7                                     0.406177  \n",
       "8                                     0.291551  \n",
       "9                                     0.244632  \n",
       "10                                    0.234101  \n",
       "11                                    0.197385  \n",
       "12                                    0.190082  \n",
       "13                                    0.180046  \n",
       "14                                    0.179327  \n",
       "15                                    0.173446  \n",
       "16                                    0.165067  \n",
       "17                                    0.148577  \n",
       "18                                    0.141558  \n",
       "19                                    0.131600  \n",
       "20                                    0.121713  \n",
       "21                                    0.118568  \n",
       "22                                    0.110296  \n",
       "23                                    0.106093  \n",
       "24                                    0.096963  \n",
       "25                                    0.093286  \n",
       "26                                    0.093260  \n",
       "27                                    0.091142  \n",
       "28                                    0.090584  \n",
       "29                                    0.087948  \n",
       "..                                         ...  \n",
       "120                                   0.001461  \n",
       "121                                   0.001447  \n",
       "122                                   0.001387  \n",
       "123                                   0.001345  \n",
       "124                                   0.001276  \n",
       "125                                   0.001253  \n",
       "126                                   0.001229  \n",
       "127                                   0.001195  \n",
       "128                                   0.001067  \n",
       "129                                   0.001064  \n",
       "130                                   0.000847  \n",
       "131                                   0.000720  \n",
       "132                                   0.000662  \n",
       "133                                   0.000533  \n",
       "134                                   0.000527  \n",
       "135                                   0.000471  \n",
       "136                                   0.000409  \n",
       "137                                   0.000216  \n",
       "138                                   0.000157  \n",
       "139                                   0.000152  \n",
       "140                                   0.000146  \n",
       "141                                   0.000071  \n",
       "142                                   0.000000  \n",
       "143                                   0.000000  \n",
       "144                                   0.000000  \n",
       "145                                   0.000000  \n",
       "146                                   0.000000  \n",
       "147                                   0.000000  \n",
       "148                                   0.000000  \n",
       "149                                   0.000000  \n",
       "\n",
       "[150 rows x 2 columns]"
      ]
     },
     "execution_count": 41,
     "metadata": {},
     "output_type": "execute_result"
    }
   ],
   "source": [
    "subjectCategory_centralities.head(1000)"
   ]
  },
  {
   "cell_type": "code",
   "execution_count": 42,
   "metadata": {},
   "outputs": [
    {
     "data": {
      "text/html": [
       "<div>\n",
       "<style scoped>\n",
       "    .dataframe tbody tr th:only-of-type {\n",
       "        vertical-align: middle;\n",
       "    }\n",
       "\n",
       "    .dataframe tbody tr th {\n",
       "        vertical-align: top;\n",
       "    }\n",
       "\n",
       "    .dataframe thead th {\n",
       "        text-align: right;\n",
       "    }\n",
       "</style>\n",
       "<table border=\"1\" class=\"dataframe\">\n",
       "  <thead>\n",
       "    <tr style=\"text-align: right;\">\n",
       "      <th></th>\n",
       "      <th>subjectCategory</th>\n",
       "      <th>normalizedUnweightedBetweennessCentrality</th>\n",
       "    </tr>\n",
       "  </thead>\n",
       "  <tbody>\n",
       "    <tr>\n",
       "      <th>145</th>\n",
       "      <td>Thermodynamics</td>\n",
       "      <td>0.0</td>\n",
       "    </tr>\n",
       "    <tr>\n",
       "      <th>146</th>\n",
       "      <td>Architecture</td>\n",
       "      <td>0.0</td>\n",
       "    </tr>\n",
       "    <tr>\n",
       "      <th>147</th>\n",
       "      <td>Theater</td>\n",
       "      <td>0.0</td>\n",
       "    </tr>\n",
       "    <tr>\n",
       "      <th>148</th>\n",
       "      <td>Robotics</td>\n",
       "      <td>0.0</td>\n",
       "    </tr>\n",
       "    <tr>\n",
       "      <th>149</th>\n",
       "      <td>Mining &amp; Mineral Processing</td>\n",
       "      <td>0.0</td>\n",
       "    </tr>\n",
       "  </tbody>\n",
       "</table>\n",
       "</div>"
      ],
      "text/plain": [
       "                 subjectCategory  normalizedUnweightedBetweennessCentrality\n",
       "145               Thermodynamics                                        0.0\n",
       "146                 Architecture                                        0.0\n",
       "147                      Theater                                        0.0\n",
       "148                     Robotics                                        0.0\n",
       "149  Mining & Mineral Processing                                        0.0"
      ]
     },
     "execution_count": 42,
     "metadata": {},
     "output_type": "execute_result"
    }
   ],
   "source": [
    "subjectCategory_centralities.tail()"
   ]
  },
  {
   "cell_type": "code",
   "execution_count": 43,
   "metadata": {},
   "outputs": [
    {
     "data": {
      "text/plain": [
       "count    150.000000\n",
       "mean       0.066094\n",
       "std        0.139857\n",
       "min        0.000000\n",
       "25%        0.002213\n",
       "50%        0.012771\n",
       "75%        0.071969\n",
       "max        1.000000\n",
       "Name: normalizedUnweightedBetweennessCentrality, dtype: float64"
      ]
     },
     "execution_count": 43,
     "metadata": {},
     "output_type": "execute_result"
    }
   ],
   "source": [
    "subjectCategory_centralities['normalizedUnweightedBetweennessCentrality'].describe()"
   ]
  },
  {
   "cell_type": "markdown",
   "metadata": {},
   "source": [
    "### Detect and treat outliers"
   ]
  },
  {
   "cell_type": "markdown",
   "metadata": {},
   "source": [
    "Histogram of all values:"
   ]
  },
  {
   "cell_type": "code",
   "execution_count": 51,
   "metadata": {},
   "outputs": [
    {
     "data": {
      "text/plain": [
       "array([[<matplotlib.axes._subplots.AxesSubplot object at 0x7f76455a0c88>]],\n",
       "      dtype=object)"
      ]
     },
     "execution_count": 51,
     "metadata": {},
     "output_type": "execute_result"
    },
    {
     "data": {
      "image/png": "[encoded data removed]",
      "text/plain": [
       "<Figure size 432x288 with 1 Axes>"
      ]
     },
     "metadata": {
      "needs_background": "light"
     },
     "output_type": "display_data"
    }
   ],
   "source": [
    "subjectCategory_centralities.hist(bins=200)"
   ]
  },
  {
   "cell_type": "markdown",
   "metadata": {},
   "source": [
    "Histogram of the first three quartiles:"
   ]
  },
  {
   "cell_type": "code",
   "execution_count": 101,
   "metadata": {
    "scrolled": true
   },
   "outputs": [
    {
     "data": {
      "image/png": "[encoded data removed]",
      "text/plain": [
       "<Figure size 432x288 with 1 Axes>"
      ]
     },
     "metadata": {
      "needs_background": "light"
     },
     "output_type": "display_data"
    }
   ],
   "source": [
    "subjectCategory_centralities_three_quartiles = subjectCategory_centralities.loc[subjectCategory_centralities['normalizedUnweightedBetweennessCentrality'] < 0.071969, :]\n",
    "ax = subjectCategory_centralities_three_quartiles.hist(bins=200, grid=False)\n"
   ]
  },
  {
   "cell_type": "markdown",
   "metadata": {},
   "source": [
    "## Web of Science categories"
   ]
  },
  {
   "cell_type": "markdown",
   "metadata": {},
   "source": [
    "### Import and view centrality data"
   ]
  },
  {
   "cell_type": "code",
   "execution_count": 37,
   "metadata": {},
   "outputs": [],
   "source": [
    "wosCategory_centralities = pd.read_csv('/home/clokman/Projects/KFIR/notebooks/data/betweenness-centralities-vs-wos-categories.csv')"
   ]
  },
  {
   "cell_type": "code",
   "execution_count": 28,
   "metadata": {},
   "outputs": [
    {
     "data": {
      "text/html": [
       "<div>\n",
       "<style scoped>\n",
       "    .dataframe tbody tr th:only-of-type {\n",
       "        vertical-align: middle;\n",
       "    }\n",
       "\n",
       "    .dataframe tbody tr th {\n",
       "        vertical-align: top;\n",
       "    }\n",
       "\n",
       "    .dataframe thead th {\n",
       "        text-align: right;\n",
       "    }\n",
       "</style>\n",
       "<table border=\"1\" class=\"dataframe\">\n",
       "  <thead>\n",
       "    <tr style=\"text-align: right;\">\n",
       "      <th></th>\n",
       "      <th>wosCategory</th>\n",
       "      <th>normalizedUnweightedBetweennessCentrality</th>\n",
       "    </tr>\n",
       "  </thead>\n",
       "  <tbody>\n",
       "    <tr>\n",
       "      <th>0</th>\n",
       "      <td>Environmental Sciences</td>\n",
       "      <td>1.000000</td>\n",
       "    </tr>\n",
       "    <tr>\n",
       "      <th>1</th>\n",
       "      <td>Public, Environmental &amp; Occupational Health</td>\n",
       "      <td>0.830046</td>\n",
       "    </tr>\n",
       "    <tr>\n",
       "      <th>2</th>\n",
       "      <td>Neurosciences</td>\n",
       "      <td>0.566751</td>\n",
       "    </tr>\n",
       "    <tr>\n",
       "      <th>3</th>\n",
       "      <td>Biochemistry &amp; Molecular Biology</td>\n",
       "      <td>0.516594</td>\n",
       "    </tr>\n",
       "    <tr>\n",
       "      <th>4</th>\n",
       "      <td>Economics</td>\n",
       "      <td>0.513198</td>\n",
       "    </tr>\n",
       "  </tbody>\n",
       "</table>\n",
       "</div>"
      ],
      "text/plain": [
       "                                   wosCategory  \\\n",
       "0                       Environmental Sciences   \n",
       "1  Public, Environmental & Occupational Health   \n",
       "2                                Neurosciences   \n",
       "3             Biochemistry & Molecular Biology   \n",
       "4                                    Economics   \n",
       "\n",
       "   normalizedUnweightedBetweennessCentrality  \n",
       "0                                   1.000000  \n",
       "1                                   0.830046  \n",
       "2                                   0.566751  \n",
       "3                                   0.516594  \n",
       "4                                   0.513198  "
      ]
     },
     "execution_count": 28,
     "metadata": {},
     "output_type": "execute_result"
    }
   ],
   "source": [
    "wosCategory_centralities.head()"
   ]
  },
  {
   "cell_type": "code",
   "execution_count": 29,
   "metadata": {},
   "outputs": [
    {
     "data": {
      "text/html": [
       "<div>\n",
       "<style scoped>\n",
       "    .dataframe tbody tr th:only-of-type {\n",
       "        vertical-align: middle;\n",
       "    }\n",
       "\n",
       "    .dataframe tbody tr th {\n",
       "        vertical-align: top;\n",
       "    }\n",
       "\n",
       "    .dataframe thead th {\n",
       "        text-align: right;\n",
       "    }\n",
       "</style>\n",
       "<table border=\"1\" class=\"dataframe\">\n",
       "  <thead>\n",
       "    <tr style=\"text-align: right;\">\n",
       "      <th></th>\n",
       "      <th>wosCategory</th>\n",
       "      <th>normalizedUnweightedBetweennessCentrality</th>\n",
       "    </tr>\n",
       "  </thead>\n",
       "  <tbody>\n",
       "    <tr>\n",
       "      <th>355</th>\n",
       "      <td>Science, Biomaterials</td>\n",
       "      <td>0.0</td>\n",
       "    </tr>\n",
       "    <tr>\n",
       "      <th>356</th>\n",
       "      <td>Science &amp; Library Science</td>\n",
       "      <td>0.0</td>\n",
       "    </tr>\n",
       "    <tr>\n",
       "      <th>357</th>\n",
       "      <td>Information</td>\n",
       "      <td>0.0</td>\n",
       "    </tr>\n",
       "    <tr>\n",
       "      <th>358</th>\n",
       "      <td>Molecular &amp; Chemical</td>\n",
       "      <td>0.0</td>\n",
       "    </tr>\n",
       "    <tr>\n",
       "      <th>359</th>\n",
       "      <td>Physics, Atomic,</td>\n",
       "      <td>0.0</td>\n",
       "    </tr>\n",
       "  </tbody>\n",
       "</table>\n",
       "</div>"
      ],
      "text/plain": [
       "                   wosCategory  normalizedUnweightedBetweennessCentrality\n",
       "355      Science, Biomaterials                                        0.0\n",
       "356  Science & Library Science                                        0.0\n",
       "357                Information                                        0.0\n",
       "358       Molecular & Chemical                                        0.0\n",
       "359           Physics, Atomic,                                        0.0"
      ]
     },
     "execution_count": 29,
     "metadata": {},
     "output_type": "execute_result"
    }
   ],
   "source": [
    "wosCategory_centralities.tail()"
   ]
  },
  {
   "cell_type": "code",
   "execution_count": 41,
   "metadata": {},
   "outputs": [
    {
     "data": {
      "text/plain": [
       "count    360.000000\n",
       "mean       0.058351\n",
       "std        0.117789\n",
       "min        0.000000\n",
       "25%        0.000303\n",
       "50%        0.008245\n",
       "75%        0.062241\n",
       "max        1.000000\n",
       "Name: normalizedUnweightedBetweennessCentrality, dtype: float64"
      ]
     },
     "execution_count": 41,
     "metadata": {},
     "output_type": "execute_result"
    }
   ],
   "source": [
    "wosCategory_centralities['normalizedUnweightedBetweennessCentrality'].describe()"
   ]
  },
  {
   "cell_type": "markdown",
   "metadata": {},
   "source": [
    "### Detect and treat outliers"
   ]
  },
  {
   "cell_type": "code",
   "execution_count": 50,
   "metadata": {
    "scrolled": true
   },
   "outputs": [
    {
     "data": {
      "text/plain": [
       "array([[<matplotlib.axes._subplots.AxesSubplot object at 0x7f7646411f60>]],\n",
       "      dtype=object)"
      ]
     },
     "execution_count": 50,
     "metadata": {},
     "output_type": "execute_result"
    },
    {
     "data": {
      "image/png": "[encoded data removed]",
      "text/plain": [
       "<Figure size 432x288 with 1 Axes>"
      ]
     },
     "metadata": {
      "needs_background": "light"
     },
     "output_type": "display_data"
    }
   ],
   "source": [
    "wosCategory_centralities.hist(bins=200)"
   ]
  },
  {
   "cell_type": "markdown",
   "metadata": {},
   "source": [
    "Histogram of the first three quartiles:"
   ]
  },
  {
   "cell_type": "code",
   "execution_count": 108,
   "metadata": {
    "scrolled": true
   },
   "outputs": [
    {
     "data": {
      "image/png": "[encoded data removed]",
      "text/plain": [
       "<Figure size 432x288 with 1 Axes>"
      ]
     },
     "metadata": {
      "needs_background": "light"
     },
     "output_type": "display_data"
    }
   ],
   "source": [
    "wosCategory_centralities_three_quartiles = wosCategory_centralities.loc[wosCategory_centralities['normalizedUnweightedBetweennessCentrality'] < 0.062241, :]\n",
    "ax = wosCategory_centralities_three_quartiles.hist(bins=200, grid=False)"
   ]
  },
  {
   "cell_type": "markdown",
   "metadata": {},
   "source": [
    "Histogram of the first three quartiles without zeroes:"
   ]
  },
  {
   "cell_type": "code",
   "execution_count": 109,
   "metadata": {
    "scrolled": true
   },
   "outputs": [
    {
     "data": {
      "image/png": "[encoded data removed]",
      "text/plain": [
       "<Figure size 432x288 with 1 Axes>"
      ]
     },
     "metadata": {
      "needs_background": "light"
     },
     "output_type": "display_data"
    }
   ],
   "source": [
    "wosCategory_centralities_three_quartiles_without_zeroes = wosCategory_centralities_three_quartiles.loc[wosCategory_centralities_three_quartiles['normalizedUnweightedBetweennessCentrality'] > 0, :]\n",
    "ax = wosCategory_centralities_three_quartiles_without_zeroes.hist(bins=200, grid=False)"
   ]
  },
  {
   "cell_type": "markdown",
   "metadata": {},
   "source": [
    "# Appendix"
   ]
  },
  {
   "cell_type": "markdown",
   "metadata": {},
   "source": [
    "## Normalization"
   ]
  },
  {
   "cell_type": "code",
   "execution_count": 32,
   "metadata": {},
   "outputs": [],
   "source": [
    "bc = wosCategory_centralities['normalizedUnweightedBetweennessCentrality']\n",
    "normalized_betweenness_centralities = (bc - bc.min()) / (bc.max() - bc.min())"
   ]
  }
 ],
 "metadata": {
  "kernelspec": {
   "display_name": "Python 3",
   "language": "python",
   "name": "python3"
  },
  "language_info": {
   "codemirror_mode": {
    "name": "ipython",
    "version": 3
   },
   "file_extension": ".py",
   "mimetype": "text/x-python",
   "name": "python",
   "nbconvert_exporter": "python",
   "pygments_lexer": "ipython3",
   "version": "3.6.6"
  },
  "toc": {
   "base_numbering": 1,
   "nav_menu": {},
   "number_sections": true,
   "sideBar": true,
   "skip_h1_title": false,
   "title_cell": "Table of Contents",
   "title_sidebar": "Contents",
   "toc_cell": true,
   "toc_position": {
    "height": "calc(100% - 180px)",
    "left": "10px",
    "top": "150px",
    "width": "292.734px"
   },
   "toc_section_display": true,
   "toc_window_display": true
  }
 },
 "nbformat": 4,
 "nbformat_minor": 2
}
