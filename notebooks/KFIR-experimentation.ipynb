{
 "cells": [
  {
   "cell_type": "markdown",
   "metadata": {},
   "source": [
    "# KFIR EXPERIMENTATION"
   ]
  },
  {
   "cell_type": "markdown",
   "metadata": {},
   "source": [
    "# SETUP: DEPENDENCIES AND CREDENTIALS"
   ]
  },
  {
   "cell_type": "markdown",
   "metadata": {},
   "source": [
    "## Working Directory"
   ]
  },
  {
   "cell_type": "markdown",
   "metadata": {},
   "source": [
    "What is the current working directory?:"
   ]
  },
  {
   "cell_type": "code",
   "execution_count": 5,
   "metadata": {
    "scrolled": false
   },
   "outputs": [
    {
     "data": {
      "text/plain": [
       "'C:\\\\Users\\\\Clokman\\\\Google Drive\\\\__Projects__\\\\Code\\\\KFIR\\\\notebooks'"
      ]
     },
     "execution_count": 5,
     "metadata": {},
     "output_type": "execute_result"
    }
   ],
   "source": [
    "import os\n",
    "os.getcwd()"
   ]
  },
  {
   "cell_type": "markdown",
   "metadata": {},
   "source": [
    "Add parent directory to path if necessary:"
   ]
  },
  {
   "cell_type": "code",
   "execution_count": 6,
   "metadata": {
    "scrolled": true
   },
   "outputs": [
    {
     "data": {
      "text/plain": [
       "['',\n",
       " 'C:\\\\ProgramData\\\\Anaconda3\\\\python36.zip',\n",
       " 'C:\\\\ProgramData\\\\Anaconda3\\\\DLLs',\n",
       " 'C:\\\\ProgramData\\\\Anaconda3\\\\lib',\n",
       " 'C:\\\\ProgramData\\\\Anaconda3',\n",
       " 'C:\\\\ProgramData\\\\Anaconda3\\\\lib\\\\site-packages',\n",
       " 'C:\\\\ProgramData\\\\Anaconda3\\\\lib\\\\site-packages\\\\Sphinx-1.5.1-py3.6.egg',\n",
       " 'C:\\\\ProgramData\\\\Anaconda3\\\\lib\\\\site-packages\\\\win32',\n",
       " 'C:\\\\ProgramData\\\\Anaconda3\\\\lib\\\\site-packages\\\\win32\\\\lib',\n",
       " 'C:\\\\ProgramData\\\\Anaconda3\\\\lib\\\\site-packages\\\\Pythonwin',\n",
       " 'C:\\\\ProgramData\\\\Anaconda3\\\\lib\\\\site-packages\\\\setuptools-27.2.0-py3.6.egg',\n",
       " 'C:\\\\ProgramData\\\\Anaconda3\\\\lib\\\\site-packages\\\\IPython\\\\extensions',\n",
       " 'C:\\\\Users\\\\Clokman\\\\.ipython',\n",
       " 'C:\\\\Users\\\\Clokman\\\\Google Drive\\\\__Projects__\\\\Code\\\\KFIR']"
      ]
     },
     "execution_count": 6,
     "metadata": {},
     "output_type": "execute_result"
    }
   ],
   "source": [
    "import sys, os, re\n",
    "\n",
    "working_directory = os.getcwd()\n",
    "if re.search('\\\\\\\\notebooks$', working_directory):\n",
    "    one_directory_up = re.sub('\\\\\\\\notebooks$', '', working_directory)\n",
    "    sys.path.append(one_directory_up)\n",
    "    \n",
    "sys.path"
   ]
  },
  {
   "cell_type": "markdown",
   "metadata": {},
   "source": [
    "## Plotly"
   ]
  },
  {
   "cell_type": "markdown",
   "metadata": {},
   "source": [
    "For a comprehensive list of example graphs, see: https://plot.ly/python/"
   ]
  },
  {
   "cell_type": "markdown",
   "metadata": {},
   "source": [
    "Check current version:"
   ]
  },
  {
   "cell_type": "code",
   "execution_count": 7,
   "metadata": {},
   "outputs": [
    {
     "data": {
      "text/plain": [
       "'2.5.1'"
      ]
     },
     "execution_count": 7,
     "metadata": {},
     "output_type": "execute_result"
    }
   ],
   "source": [
    "from plotly import __version__ as plotly_version\n",
    "plotly_version\n"
   ]
  },
  {
   "cell_type": "markdown",
   "metadata": {},
   "source": [
    "### Online Plotly"
   ]
  },
  {
   "cell_type": "markdown",
   "metadata": {},
   "source": [
    "Read plotly credentials from file:"
   ]
  },
  {
   "cell_type": "code",
   "execution_count": 8,
   "metadata": {
    "collapsed": true
   },
   "outputs": [],
   "source": [
    "from preprocessor.Text_File import Text_File\n",
    "\n",
    "plotly_file = Text_File('..//private//plotly_credentials')\n",
    "plotly_file = plotly_file.return_content()\n",
    "plotly_credentials = plotly_file.splitlines()\n",
    "\n",
    "plotly_username = plotly_credentials[0]\n",
    "plotly_key = plotly_credentials[1]"
   ]
  },
  {
   "cell_type": "markdown",
   "metadata": {},
   "source": [
    "Set parameters for online usage:"
   ]
  },
  {
   "cell_type": "code",
   "execution_count": 9,
   "metadata": {},
   "outputs": [],
   "source": [
    "import plotly.plotly as plotly_online\n",
    "iplot_online = plotly_online.iplot\n",
    "import plotly.graph_objs as graph_objects\n",
    "from plotly.tools import set_credentials_file\n",
    "\n",
    "set_credentials_file(username=plotly_username, api_key=plotly_key)  # put your own plotly username and api key here "
   ]
  },
  {
   "cell_type": "markdown",
   "metadata": {},
   "source": [
    "Online example:"
   ]
  },
  {
   "cell_type": "markdown",
   "metadata": {},
   "source": [
    "List input:"
   ]
  },
  {
   "cell_type": "code",
   "execution_count": 10,
   "metadata": {},
   "outputs": [
    {
     "data": {
      "text/html": [
       "<iframe id=\"igraph\" scrolling=\"no\" style=\"border:none;\" seamless=\"seamless\" src=\"https://plot.ly/~Clokman/69.embed\" height=\"525px\" width=\"100%\"></iframe>"
      ],
      "text/plain": [
       "<plotly.tools.PlotlyDisplay object>"
      ]
     },
     "execution_count": 10,
     "metadata": {},
     "output_type": "execute_result"
    }
   ],
   "source": [
    "data = [graph_objects.Bar(x=['A','B','C'],\n",
    "                          y=[1,2,3])]\n",
    "\n",
    "iplot_online(data, filename='wos_stats')"
   ]
  },
  {
   "cell_type": "markdown",
   "metadata": {},
   "source": [
    "Dictionary input (line chart by default):"
   ]
  },
  {
   "cell_type": "code",
   "execution_count": 11,
   "metadata": {},
   "outputs": [
    {
     "data": {
      "text/html": [
       "<iframe id=\"igraph\" scrolling=\"no\" style=\"border:none;\" seamless=\"seamless\" src=\"https://plot.ly/~Clokman/69.embed\" height=\"525px\" width=\"100%\"></iframe>"
      ],
      "text/plain": [
       "<plotly.tools.PlotlyDisplay object>"
      ]
     },
     "execution_count": 11,
     "metadata": {},
     "output_type": "execute_result"
    }
   ],
   "source": [
    "iplot_online([{\"x\": ['A', 'B', 'C'], \"y\":[1, 2, 3] }], filename='wos_stats')"
   ]
  },
  {
   "cell_type": "markdown",
   "metadata": {},
   "source": [
    "### Offline Plotly"
   ]
  },
  {
   "cell_type": "markdown",
   "metadata": {},
   "source": [
    "Setup for offline usage:"
   ]
  },
  {
   "cell_type": "code",
   "execution_count": 12,
   "metadata": {},
   "outputs": [
    {
     "data": {
      "text/html": [
       "<script>requirejs.config({paths: { 'plotly': ['https://cdn.plot.ly/plotly-latest.min']},});if(!window.Plotly) {{require(['plotly'],function(plotly) {window.Plotly=plotly;});}}</script>"
      ],
      "text/vnd.plotly.v1+html": [
       "<script>requirejs.config({paths: { 'plotly': ['https://cdn.plot.ly/plotly-latest.min']},});if(!window.Plotly) {{require(['plotly'],function(plotly) {window.Plotly=plotly;});}}</script>"
      ]
     },
     "metadata": {},
     "output_type": "display_data"
    }
   ],
   "source": [
    "from plotly.offline import download_plotlyjs, init_notebook_mode, plot\n",
    "from plotly.offline import iplot as iplot_offline\n",
    "init_notebook_mode(connected=True)"
   ]
  },
  {
   "cell_type": "markdown",
   "metadata": {},
   "source": [
    "Example usage:"
   ]
  },
  {
   "cell_type": "code",
   "execution_count": 13,
   "metadata": {
    "scrolled": true
   },
   "outputs": [
    {
     "data": {
      "application/vnd.plotly.v1+json": {
       "data": [
        {
         "x": [
          1,
          2,
          3
         ],
         "y": [
          3,
          1,
          6
         ]
        }
       ],
       "layout": {}
      },
      "text/html": [
       "<div id=\"de376471-edb5-428e-9215-fb5d90e58407\" style=\"height: 525px; width: 100%;\" class=\"plotly-graph-div\"></div><script type=\"text/javascript\">require([\"plotly\"], function(Plotly) { window.PLOTLYENV=window.PLOTLYENV || {};window.PLOTLYENV.BASE_URL=\"https://plot.ly\";Plotly.newPlot(\"de376471-edb5-428e-9215-fb5d90e58407\", [{\"x\": [1, 2, 3], \"y\": [3, 1, 6]}], {}, {\"showLink\": true, \"linkText\": \"Export to plot.ly\"})});</script>"
      ],
      "text/vnd.plotly.v1+html": [
       "<div id=\"de376471-edb5-428e-9215-fb5d90e58407\" style=\"height: 525px; width: 100%;\" class=\"plotly-graph-div\"></div><script type=\"text/javascript\">require([\"plotly\"], function(Plotly) { window.PLOTLYENV=window.PLOTLYENV || {};window.PLOTLYENV.BASE_URL=\"https://plot.ly\";Plotly.newPlot(\"de376471-edb5-428e-9215-fb5d90e58407\", [{\"x\": [1, 2, 3], \"y\": [3, 1, 6]}], {}, {\"showLink\": true, \"linkText\": \"Export to plot.ly\"})});</script>"
      ]
     },
     "metadata": {},
     "output_type": "display_data"
    }
   ],
   "source": [
    "iplot_offline([{\"x\": [1, 2, 3], \"y\": [3, 1, 6]}])"
   ]
  },
  {
   "cell_type": "markdown",
   "metadata": {},
   "source": [
    "## Triplicator: Sparql_Query"
   ]
  },
  {
   "cell_type": "markdown",
   "metadata": {},
   "source": [
    "This is a generic module for returning SPARQL query results, but not as a Pandas DataFrame as Gastrodon does."
   ]
  },
  {
   "cell_type": "code",
   "execution_count": 14,
   "metadata": {
    "collapsed": true
   },
   "outputs": [],
   "source": [
    "from retriever.sparql_tools import Sparql_Query"
   ]
  },
  {
   "cell_type": "markdown",
   "metadata": {},
   "source": [
    "Read endpoint from file:"
   ]
  },
  {
   "cell_type": "code",
   "execution_count": 15,
   "metadata": {
    "collapsed": true
   },
   "outputs": [],
   "source": [
    "from preprocessor.Text_File import Text_File\n",
    "\n",
    "# Get endpoint address from file\n",
    "eculture_endpoint_url_file = Text_File('..//private//eculture_virtuoso_endpoint_address')\n",
    "eculture_endpoint_url = eculture_endpoint_url_file.return_content()"
   ]
  },
  {
   "cell_type": "code",
   "execution_count": 16,
   "metadata": {},
   "outputs": [
    {
     "data": {
      "text/plain": [
       "<retriever.sparql_tools.Sparql_Query at 0x2546f142cf8>"
      ]
     },
     "execution_count": 16,
     "metadata": {},
     "output_type": "execute_result"
    }
   ],
   "source": [
    "query = Sparql_Query()\n",
    "query.set_endpoint(eculture_endpoint_url)"
   ]
  },
  {
   "cell_type": "code",
   "execution_count": 17,
   "metadata": {
    "scrolled": true
   },
   "outputs": [
    {
     "data": {
      "text/plain": [
       "{1: {'o': 'http://www.openlinksw.com/schemas/virtrdf#QuadMapFormat',\n",
       "  'p': 'http://www.w3.org/1999/02/22-rdf-syntax-ns#type',\n",
       "  's': 'http://www.openlinksw.com/virtrdf-data-formats#default-iid'},\n",
       " 2: {'o': 'http://www.openlinksw.com/schemas/virtrdf#QuadMapFormat',\n",
       "  'p': 'http://www.w3.org/1999/02/22-rdf-syntax-ns#type',\n",
       "  's': 'http://www.openlinksw.com/virtrdf-data-formats#default-iid-nullable'},\n",
       " 3: {'o': 'http://www.openlinksw.com/schemas/virtrdf#QuadMapFormat',\n",
       "  'p': 'http://www.w3.org/1999/02/22-rdf-syntax-ns#type',\n",
       "  's': 'http://www.openlinksw.com/virtrdf-data-formats#default-iid-nonblank'},\n",
       " 4: {'o': 'http://www.openlinksw.com/schemas/virtrdf#QuadMapFormat',\n",
       "  'p': 'http://www.w3.org/1999/02/22-rdf-syntax-ns#type',\n",
       "  's': 'http://www.openlinksw.com/virtrdf-data-formats#default-iid-nonblank-nullable'},\n",
       " 5: {'o': 'http://www.openlinksw.com/schemas/virtrdf#QuadMapFormat',\n",
       "  'p': 'http://www.w3.org/1999/02/22-rdf-syntax-ns#type',\n",
       "  's': 'http://www.openlinksw.com/virtrdf-data-formats#default'}}"
      ]
     },
     "execution_count": 17,
     "metadata": {},
     "output_type": "execute_result"
    }
   ],
   "source": [
    "query.set_query(\"SELECT ?s ?p ?o WHERE {?s ?p ?o} LIMIT 5\")\n",
    "query.retrieve_results_from_endpoint()"
   ]
  },
  {
   "cell_type": "markdown",
   "metadata": {},
   "source": [
    "## Gastrodon"
   ]
  },
  {
   "cell_type": "markdown",
   "metadata": {},
   "source": [
    "- [Documentation](https://paulhoule.github.io/gastrodon/api.html)\n",
    "- [Usage examples](https://github.com/paulhoule/gastrodon/blob/master/notebooks/remote/Querying%20DBpedia.ipynb)"
   ]
  },
  {
   "cell_type": "markdown",
   "metadata": {},
   "source": [
    "Import gastrodon (for running SPARQL queries in Jupyter):"
   ]
  },
  {
   "cell_type": "code",
   "execution_count": 18,
   "metadata": {
    "collapsed": true
   },
   "outputs": [],
   "source": [
    "from gastrodon import RemoteEndpoint,QName,ttl,URIRef,inline\n",
    "import pandas as pd\n",
    "pd.options.display.width=120\n",
    "pd.options.display.max_colwidth=100"
   ]
  },
  {
   "cell_type": "markdown",
   "metadata": {},
   "source": [
    "Define prefixes:"
   ]
  },
  {
   "cell_type": "code",
   "execution_count": 19,
   "metadata": {
    "collapsed": true
   },
   "outputs": [],
   "source": [
    "prefixes=inline(\"\"\"\n",
    "    @prefix wos: <http://wos.risis.eu/vocabulary/> .\n",
    "    @prefix kfir: <http://clokman.com/kfir/ontology#> .\n",
    "    @prefix ldr: <https://github.com/ali1k/ld-reactor/blob/master/vocabulary/index.ttl#> .\n",
    "    @prefix rdfs: <http://www.w3.org/2000/01/rdf-schema#> .\n",
    "    @prefix wosGraph: <http://clokman.com/wos> .\n",
    "    @prefix kfirGraph: <http://clokman.com/kfir> .\n",
    "    @prefix testGraph: <http://clokman.com/test> .\n",
    "    \n",
    "    @prefix dbo: <http://dbpedia.org/ontology/> .\n",
    "\"\"\").graph"
   ]
  },
  {
   "cell_type": "markdown",
   "metadata": {},
   "source": [
    "Define endpoint:"
   ]
  },
  {
   "cell_type": "code",
   "execution_count": 20,
   "metadata": {
    "collapsed": true
   },
   "outputs": [],
   "source": [
    "eculture=RemoteEndpoint(\n",
    "    url=eculture_endpoint_url,\n",
    "    default_graph=None,\n",
    "    prefixes=prefixes\n",
    ")"
   ]
  },
  {
   "cell_type": "markdown",
   "metadata": {},
   "source": [
    "Example count query:"
   ]
  },
  {
   "cell_type": "code",
   "execution_count": 21,
   "metadata": {},
   "outputs": [
    {
     "data": {
      "text/plain": [
       "59980082"
      ]
     },
     "execution_count": 21,
     "metadata": {},
     "output_type": "execute_result"
    }
   ],
   "source": [
    "count=eculture.select(\"\"\"\n",
    "    SELECT (COUNT(*) AS ?count) { ?s ?p ?o .}\n",
    "\"\"\").at[0,\"count\"]\n",
    "count"
   ]
  },
  {
   "cell_type": "markdown",
   "metadata": {},
   "source": [
    "Another example count query:"
   ]
  },
  {
   "cell_type": "code",
   "execution_count": 22,
   "metadata": {},
   "outputs": [
    {
     "data": {
      "text/plain": [
       "136125"
      ]
     },
     "execution_count": 22,
     "metadata": {},
     "output_type": "execute_result"
    }
   ],
   "source": [
    "count=eculture.select(\"\"\"\n",
    "SELECT (COUNT(DISTINCT ?article) as ?articles) \n",
    "WHERE{\n",
    "    GRAPH wosGraph: {\n",
    "        ?article a wos:Article .\n",
    "    }\n",
    "}\n",
    "\"\"\").at[0,\"articles\"]\n",
    "count"
   ]
  },
  {
   "cell_type": "markdown",
   "metadata": {},
   "source": [
    "Example select query:"
   ]
  },
  {
   "cell_type": "code",
   "execution_count": 23,
   "metadata": {},
   "outputs": [
    {
     "data": {
      "text/html": [
       "<div>\n",
       "<table border=\"1\" class=\"dataframe\">\n",
       "  <thead>\n",
       "    <tr style=\"text-align: right;\">\n",
       "      <th></th>\n",
       "      <th>count</th>\n",
       "    </tr>\n",
       "    <tr>\n",
       "      <th>p</th>\n",
       "      <th></th>\n",
       "    </tr>\n",
       "  </thead>\n",
       "  <tbody>\n",
       "    <tr>\n",
       "      <th>rdf:type</th>\n",
       "      <td>10059030</td>\n",
       "    </tr>\n",
       "    <tr>\n",
       "      <th>rdfs:label</th>\n",
       "      <td>9528801</td>\n",
       "    </tr>\n",
       "    <tr>\n",
       "      <th>wos:CR</th>\n",
       "      <td>6672631</td>\n",
       "    </tr>\n",
       "    <tr>\n",
       "      <th>http://www.w3.org/2004/02/skos/core#altLabel</th>\n",
       "      <td>3876744</td>\n",
       "    </tr>\n",
       "    <tr>\n",
       "      <th>wos:AF</th>\n",
       "      <td>3876692</td>\n",
       "    </tr>\n",
       "    <tr>\n",
       "      <th>wos:DOI</th>\n",
       "      <td>2317751</td>\n",
       "    </tr>\n",
       "    <tr>\n",
       "      <th>ldr:annotationDetail</th>\n",
       "      <td>2162839</td>\n",
       "    </tr>\n",
       "    <tr>\n",
       "      <th>ldr:uri</th>\n",
       "      <td>2162837</td>\n",
       "    </tr>\n",
       "    <tr>\n",
       "      <th>ldr:surfaceForm</th>\n",
       "      <td>2162835</td>\n",
       "    </tr>\n",
       "    <tr>\n",
       "      <th>ldr:offset</th>\n",
       "      <td>2162827</td>\n",
       "    </tr>\n",
       "  </tbody>\n",
       "</table>\n",
       "</div>"
      ],
      "text/plain": [
       "                                                 count\n",
       "p                                                     \n",
       "rdf:type                                      10059030\n",
       "rdfs:label                                     9528801\n",
       "wos:CR                                         6672631\n",
       "http://www.w3.org/2004/02/skos/core#altLabel   3876744\n",
       "wos:AF                                         3876692\n",
       "wos:DOI                                        2317751\n",
       "ldr:annotationDetail                           2162839\n",
       "ldr:uri                                        2162837\n",
       "ldr:surfaceForm                                2162835\n",
       "ldr:offset                                     2162827"
      ]
     },
     "execution_count": 23,
     "metadata": {},
     "output_type": "execute_result"
    }
   ],
   "source": [
    "eculture.select(\"\"\"\n",
    "    SELECT ?p (COUNT(*) AS ?count) { ?s ?p ?o .} GROUP BY ?p ORDER BY DESC(?count) LIMIT 10\n",
    "\"\"\")"
   ]
  },
  {
   "cell_type": "markdown",
   "metadata": {},
   "source": [
    "## NEO4s"
   ]
  },
  {
   "cell_type": "markdown",
   "metadata": {},
   "source": [
    "This package is a wrapper around Gastrodon"
   ]
  },
  {
   "cell_type": "markdown",
   "metadata": {},
   "source": [
    "Import:"
   ]
  },
  {
   "cell_type": "code",
   "execution_count": 21,
   "metadata": {
    "collapsed": true
   },
   "outputs": [],
   "source": [
    "from retriever.sparql_tools import Gastrodon_Query"
   ]
  },
  {
   "cell_type": "markdown",
   "metadata": {},
   "source": [
    "Read eculture endpoint from file:"
   ]
  },
  {
   "cell_type": "code",
   "execution_count": 22,
   "metadata": {
    "collapsed": true
   },
   "outputs": [],
   "source": [
    "from preprocessor.Text_File import Text_File\n",
    "\n",
    "# Get endpoint address from file\n",
    "eculture_endpoint_url_file = Text_File('..//private//eculture_virtuoso_endpoint_address')\n",
    "eculture_endpoint_url = eculture_endpoint_url_file.return_content()"
   ]
  },
  {
   "cell_type": "markdown",
   "metadata": {},
   "source": [
    "Set query parameters:"
   ]
  },
  {
   "cell_type": "code",
   "execution_count": 23,
   "metadata": {},
   "outputs": [
    {
     "data": {
      "text/plain": [
       "<retriever.sparql_tools.Gastrodon_Query at 0x20ab4fe0f60>"
      ]
     },
     "execution_count": 23,
     "metadata": {},
     "output_type": "execute_result"
    }
   ],
   "source": [
    "eculture_query = Gastrodon_Query()\n",
    "eculture_query.set_prefixes(\"\"\"\n",
    "    @prefix rdfs: <http://www.w3.org/2000/01/rdf-schema#> .\n",
    "    @prefix skos: <http://www.w3.org/2004/02/skos/core#> .\n",
    "    \n",
    "    @prefix wos: <http://wos.risis.eu/vocabulary/> .\n",
    "    @prefix wosres: <http://wos.risis.eu/resource/> .\n",
    "    @prefix kfir: <http://clokman.com/kfir/ontology#> .\n",
    "    @prefix ldr: <https://github.com/ali1k/ld-reactor/blob/master/vocabulary/index.ttl#> .\n",
    "\n",
    "    @prefix wosGraph: <http://clokman.com/wos> .\n",
    "    @prefix kfirGraph: <http://clokman.com/kfir> .\n",
    "    @prefix testGraph: <http://clokman.com/test> .\n",
    "\n",
    "    @prefix dbo: <http://dbpedia.org/ontology/> .\n",
    "    @prefix vdf: <http://www.openlinksw.com/virtrdf-data-formats#> .\n",
    "    @prefix vrdf: <http://www.openlinksw.com/schemas/virtrdf#> .\n",
    "\"\"\").set_endpoint(eculture_endpoint_url)"
   ]
  },
  {
   "cell_type": "code",
   "execution_count": 24,
   "metadata": {},
   "outputs": [
    {
     "data": {
      "text/plain": [
       "{rdflib.term.URIRef('http://clokman.com/kfir'): 'kfirGraph',\n",
       " rdflib.term.URIRef('http://clokman.com/kfir/ontology#'): 'kfir',\n",
       " rdflib.term.URIRef('http://clokman.com/test'): 'testGraph',\n",
       " rdflib.term.URIRef('http://clokman.com/wos'): 'wosGraph',\n",
       " rdflib.term.URIRef('http://dbpedia.org/ontology/'): 'dbo',\n",
       " rdflib.term.URIRef('http://wos.risis.eu/resource/'): 'wosres',\n",
       " rdflib.term.URIRef('http://wos.risis.eu/vocabulary/'): 'wos',\n",
       " rdflib.term.URIRef('http://www.openlinksw.com/schemas/virtrdf#'): 'vrdf',\n",
       " rdflib.term.URIRef('http://www.openlinksw.com/virtrdf-data-formats#'): 'vdf',\n",
       " rdflib.term.URIRef('http://www.w3.org/1999/02/22-rdf-syntax-ns#'): 'rdf',\n",
       " rdflib.term.URIRef('http://www.w3.org/2000/01/rdf-schema#'): 'rdfs',\n",
       " rdflib.term.URIRef('http://www.w3.org/2001/XMLSchema#'): 'xsd',\n",
       " rdflib.term.URIRef('http://www.w3.org/2004/02/skos/core#'): 'skos',\n",
       " rdflib.term.URIRef('http://www.w3.org/XML/1998/namespace'): 'xml',\n",
       " rdflib.term.URIRef('https://github.com/ali1k/ld-reactor/blob/master/vocabulary/index.ttl#'): 'ldr'}"
      ]
     },
     "execution_count": 24,
     "metadata": {},
     "output_type": "execute_result"
    }
   ],
   "source": [
    "eculture_query._get_prefixes()"
   ]
  },
  {
   "cell_type": "markdown",
   "metadata": {},
   "source": [
    "### SELECT Query"
   ]
  },
  {
   "cell_type": "code",
   "execution_count": 28,
   "metadata": {},
   "outputs": [
    {
     "data": {
      "text/html": [
       "<div>\n",
       "<table border=\"1\" class=\"dataframe\">\n",
       "  <thead>\n",
       "    <tr style=\"text-align: right;\">\n",
       "      <th></th>\n",
       "      <th>s</th>\n",
       "      <th>p</th>\n",
       "      <th>o</th>\n",
       "    </tr>\n",
       "  </thead>\n",
       "  <tbody>\n",
       "    <tr>\n",
       "      <th>0</th>\n",
       "      <td>vdf:default-iid</td>\n",
       "      <td>rdf:type</td>\n",
       "      <td>vrdf:QuadMapFormat</td>\n",
       "    </tr>\n",
       "    <tr>\n",
       "      <th>1</th>\n",
       "      <td>vdf:default-iid-nullable</td>\n",
       "      <td>rdf:type</td>\n",
       "      <td>vrdf:QuadMapFormat</td>\n",
       "    </tr>\n",
       "    <tr>\n",
       "      <th>2</th>\n",
       "      <td>vdf:default-iid-nonblank</td>\n",
       "      <td>rdf:type</td>\n",
       "      <td>vrdf:QuadMapFormat</td>\n",
       "    </tr>\n",
       "    <tr>\n",
       "      <th>3</th>\n",
       "      <td>vdf:default-iid-nonblank-nullable</td>\n",
       "      <td>rdf:type</td>\n",
       "      <td>vrdf:QuadMapFormat</td>\n",
       "    </tr>\n",
       "    <tr>\n",
       "      <th>4</th>\n",
       "      <td>vdf:default</td>\n",
       "      <td>rdf:type</td>\n",
       "      <td>vrdf:QuadMapFormat</td>\n",
       "    </tr>\n",
       "    <tr>\n",
       "      <th>5</th>\n",
       "      <td>vdf:default-nullable</td>\n",
       "      <td>rdf:type</td>\n",
       "      <td>vrdf:QuadMapFormat</td>\n",
       "    </tr>\n",
       "    <tr>\n",
       "      <th>6</th>\n",
       "      <td>vdf:sql-varchar</td>\n",
       "      <td>rdf:type</td>\n",
       "      <td>vrdf:QuadMapFormat</td>\n",
       "    </tr>\n",
       "    <tr>\n",
       "      <th>7</th>\n",
       "      <td>vdf:sql-varchar-nullable</td>\n",
       "      <td>rdf:type</td>\n",
       "      <td>vrdf:QuadMapFormat</td>\n",
       "    </tr>\n",
       "    <tr>\n",
       "      <th>8</th>\n",
       "      <td>vdf:sql-varchar-dt</td>\n",
       "      <td>rdf:type</td>\n",
       "      <td>vrdf:QuadMapFormat</td>\n",
       "    </tr>\n",
       "    <tr>\n",
       "      <th>9</th>\n",
       "      <td>vdf:sql-varchar-dt-nullable</td>\n",
       "      <td>rdf:type</td>\n",
       "      <td>vrdf:QuadMapFormat</td>\n",
       "    </tr>\n",
       "  </tbody>\n",
       "</table>\n",
       "</div>"
      ],
      "text/plain": [
       "                                   s         p                   o\n",
       "0                    vdf:default-iid  rdf:type  vrdf:QuadMapFormat\n",
       "1           vdf:default-iid-nullable  rdf:type  vrdf:QuadMapFormat\n",
       "2           vdf:default-iid-nonblank  rdf:type  vrdf:QuadMapFormat\n",
       "3  vdf:default-iid-nonblank-nullable  rdf:type  vrdf:QuadMapFormat\n",
       "4                        vdf:default  rdf:type  vrdf:QuadMapFormat\n",
       "5               vdf:default-nullable  rdf:type  vrdf:QuadMapFormat\n",
       "6                    vdf:sql-varchar  rdf:type  vrdf:QuadMapFormat\n",
       "7           vdf:sql-varchar-nullable  rdf:type  vrdf:QuadMapFormat\n",
       "8                 vdf:sql-varchar-dt  rdf:type  vrdf:QuadMapFormat\n",
       "9        vdf:sql-varchar-dt-nullable  rdf:type  vrdf:QuadMapFormat"
      ]
     },
     "execution_count": 28,
     "metadata": {},
     "output_type": "execute_result"
    }
   ],
   "source": [
    "eculture_query.send_select_query(\"\"\"\n",
    "    SELECT ?s ?p ?o\n",
    "    WHERE {\n",
    "        ?s ?p ?o .\n",
    "    }\n",
    "    LIMIT 10\n",
    "\"\"\")"
   ]
  },
  {
   "cell_type": "markdown",
   "metadata": {},
   "source": [
    "### 'Count' Query"
   ]
  },
  {
   "cell_type": "code",
   "execution_count": 89,
   "metadata": {},
   "outputs": [
    {
     "data": {
      "text/plain": [
       "136125"
      ]
     },
     "execution_count": 89,
     "metadata": {},
     "output_type": "execute_result"
    }
   ],
   "source": [
    "eculture_query.send_count_query(variable_that_holds_count_results = 'articles', query=\"\"\"\n",
    "    SELECT (COUNT(DISTINCT ?s) AS ?articles)   \n",
    "    WHERE{\n",
    "        GRAPH wosGraph: {\n",
    "            ?s ?p wos:Article .\n",
    "        }\n",
    "    }\n",
    "    LIMIT 100\n",
    "\"\"\"\n",
    ")"
   ]
  },
  {
   "cell_type": "markdown",
   "metadata": {},
   "source": [
    "### CONSTRUCT Query"
   ]
  },
  {
   "cell_type": "code",
   "execution_count": 90,
   "metadata": {},
   "outputs": [
    {
     "name": "stderr",
     "output_type": "stream",
     "text": [
      "C:\\ProgramData\\Anaconda3\\lib\\site-packages\\SPARQLWrapper\\Wrapper.py:585: RuntimeWarning:\n",
      "\n",
      "Sending Accept header '*/*' because unexpected returned format 'json' in a 'CONSTRUCT' SPARQL query form\n",
      "\n"
     ]
    },
    {
     "data": {
      "text/html": [
       "<div>\n",
       "<table border=\"1\" class=\"dataframe\">\n",
       "  <thead>\n",
       "    <tr style=\"text-align: right;\">\n",
       "      <th></th>\n",
       "      <th>Subject</th>\n",
       "      <th>Predicate</th>\n",
       "      <th>Object</th>\n",
       "    </tr>\n",
       "  </thead>\n",
       "  <tbody>\n",
       "    <tr>\n",
       "      <th>0</th>\n",
       "      <td>wosres:WOS_000070998100010</td>\n",
       "      <td>rdf:type</td>\n",
       "      <td>wos:Article</td>\n",
       "    </tr>\n",
       "    <tr>\n",
       "      <th>1</th>\n",
       "      <td>wosres:WOS_000070998900007</td>\n",
       "      <td>rdf:type</td>\n",
       "      <td>wos:Article</td>\n",
       "    </tr>\n",
       "    <tr>\n",
       "      <th>2</th>\n",
       "      <td>wosres:WOS_000060208200006</td>\n",
       "      <td>rdf:type</td>\n",
       "      <td>wos:Article</td>\n",
       "    </tr>\n",
       "    <tr>\n",
       "      <th>3</th>\n",
       "      <td>wosres:WOS_000070961600033</td>\n",
       "      <td>rdf:type</td>\n",
       "      <td>wos:Article</td>\n",
       "    </tr>\n",
       "    <tr>\n",
       "      <th>4</th>\n",
       "      <td>wosres:WOS_000070935900005</td>\n",
       "      <td>rdf:type</td>\n",
       "      <td>wos:Article</td>\n",
       "    </tr>\n",
       "    <tr>\n",
       "      <th>5</th>\n",
       "      <td>wosres:WOS_000070970500011</td>\n",
       "      <td>rdf:type</td>\n",
       "      <td>wos:Article</td>\n",
       "    </tr>\n",
       "    <tr>\n",
       "      <th>6</th>\n",
       "      <td>wosres:WOS_000070948900005</td>\n",
       "      <td>rdf:type</td>\n",
       "      <td>wos:Article</td>\n",
       "    </tr>\n",
       "    <tr>\n",
       "      <th>7</th>\n",
       "      <td>wosres:WOS_000070969600003</td>\n",
       "      <td>rdf:type</td>\n",
       "      <td>wos:Article</td>\n",
       "    </tr>\n",
       "    <tr>\n",
       "      <th>8</th>\n",
       "      <td>wosres:WOS_000071006900008</td>\n",
       "      <td>rdf:type</td>\n",
       "      <td>wos:Article</td>\n",
       "    </tr>\n",
       "    <tr>\n",
       "      <th>9</th>\n",
       "      <td>wosres:WOS_000070961600011</td>\n",
       "      <td>rdf:type</td>\n",
       "      <td>wos:Article</td>\n",
       "    </tr>\n",
       "  </tbody>\n",
       "</table>\n",
       "</div>"
      ],
      "text/plain": [
       "                      Subject Predicate       Object\n",
       "0  wosres:WOS_000070998100010  rdf:type  wos:Article\n",
       "1  wosres:WOS_000070998900007  rdf:type  wos:Article\n",
       "2  wosres:WOS_000060208200006  rdf:type  wos:Article\n",
       "3  wosres:WOS_000070961600033  rdf:type  wos:Article\n",
       "4  wosres:WOS_000070935900005  rdf:type  wos:Article\n",
       "5  wosres:WOS_000070970500011  rdf:type  wos:Article\n",
       "6  wosres:WOS_000070948900005  rdf:type  wos:Article\n",
       "7  wosres:WOS_000070969600003  rdf:type  wos:Article\n",
       "8  wosres:WOS_000071006900008  rdf:type  wos:Article\n",
       "9  wosres:WOS_000070961600011  rdf:type  wos:Article"
      ]
     },
     "execution_count": 90,
     "metadata": {},
     "output_type": "execute_result"
    }
   ],
   "source": [
    "eculture_query.send_construct_query(query=\"\"\"\n",
    "    CONSTRUCT {?s a wos:Article}\n",
    "    WHERE{\n",
    "        GRAPH wosGraph: {\n",
    "            ?s ?p wos:Article .\n",
    "        }\n",
    "    }\n",
    "    LIMIT 10\n",
    "\"\"\"\n",
    ")"
   ]
  },
  {
   "cell_type": "markdown",
   "metadata": {},
   "source": [
    "### 'Update' Query (INSERT, DELETE)"
   ]
  },
  {
   "cell_type": "markdown",
   "metadata": {},
   "source": [
    "View the testGraph (is empty):"
   ]
  },
  {
   "cell_type": "code",
   "execution_count": 76,
   "metadata": {},
   "outputs": [
    {
     "data": {
      "text/html": [
       "<div>\n",
       "<table border=\"1\" class=\"dataframe\">\n",
       "  <thead>\n",
       "    <tr style=\"text-align: right;\">\n",
       "      <th></th>\n",
       "      <th>s</th>\n",
       "      <th>p</th>\n",
       "      <th>o</th>\n",
       "    </tr>\n",
       "  </thead>\n",
       "  <tbody>\n",
       "    <tr>\n",
       "      <th>0</th>\n",
       "      <td>wosres:WOS_000070970500011</td>\n",
       "      <td>kfir:hasAuthorKeyword</td>\n",
       "      <td>photosynthesis</td>\n",
       "    </tr>\n",
       "    <tr>\n",
       "      <th>1</th>\n",
       "      <td>wosres:WOS_000070970500011</td>\n",
       "      <td>kfir:hasAuthorKeyword</td>\n",
       "      <td>ozone</td>\n",
       "    </tr>\n",
       "    <tr>\n",
       "      <th>2</th>\n",
       "      <td>wosres:WOS_000070970500011</td>\n",
       "      <td>kfir:hasAuthorKeyword</td>\n",
       "      <td>UV-B radiation</td>\n",
       "    </tr>\n",
       "    <tr>\n",
       "      <th>3</th>\n",
       "      <td>wosres:WOS_000070970500011</td>\n",
       "      <td>kfir:hasAuthorKeyword</td>\n",
       "      <td>growth</td>\n",
       "    </tr>\n",
       "    <tr>\n",
       "      <th>4</th>\n",
       "      <td>wosres:WOS_000070970500011</td>\n",
       "      <td>kfir:hasAuthorKeyword</td>\n",
       "      <td>Elymus athericus</td>\n",
       "    </tr>\n",
       "    <tr>\n",
       "      <th>5</th>\n",
       "      <td>wosres:WOS_000070998100010</td>\n",
       "      <td>kfir:hasAuthorKeyword</td>\n",
       "      <td>pain postoperative</td>\n",
       "    </tr>\n",
       "    <tr>\n",
       "      <th>6</th>\n",
       "      <td>wosres:WOS_000070998100010</td>\n",
       "      <td>kfir:hasAuthorKeyword</td>\n",
       "      <td>analgesics prescribing</td>\n",
       "    </tr>\n",
       "    <tr>\n",
       "      <th>7</th>\n",
       "      <td>wosres:WOS_000070998900007</td>\n",
       "      <td>kfir:hasAuthorKeyword</td>\n",
       "      <td>analysis</td>\n",
       "    </tr>\n",
       "    <tr>\n",
       "      <th>8</th>\n",
       "      <td>wosres:WOS_000070998900007</td>\n",
       "      <td>kfir:hasAuthorKeyword</td>\n",
       "      <td>living</td>\n",
       "    </tr>\n",
       "    <tr>\n",
       "      <th>9</th>\n",
       "      <td>wosres:WOS_000070998900007</td>\n",
       "      <td>kfir:hasAuthorKeyword</td>\n",
       "      <td>reconstruction</td>\n",
       "    </tr>\n",
       "  </tbody>\n",
       "</table>\n",
       "</div>"
      ],
      "text/plain": [
       "                            s                      p                       o\n",
       "0  wosres:WOS_000070970500011  kfir:hasAuthorKeyword          photosynthesis\n",
       "1  wosres:WOS_000070970500011  kfir:hasAuthorKeyword                   ozone\n",
       "2  wosres:WOS_000070970500011  kfir:hasAuthorKeyword          UV-B radiation\n",
       "3  wosres:WOS_000070970500011  kfir:hasAuthorKeyword                  growth\n",
       "4  wosres:WOS_000070970500011  kfir:hasAuthorKeyword        Elymus athericus\n",
       "5  wosres:WOS_000070998100010  kfir:hasAuthorKeyword      pain postoperative\n",
       "6  wosres:WOS_000070998100010  kfir:hasAuthorKeyword  analgesics prescribing\n",
       "7  wosres:WOS_000070998900007  kfir:hasAuthorKeyword                analysis\n",
       "8  wosres:WOS_000070998900007  kfir:hasAuthorKeyword                  living\n",
       "9  wosres:WOS_000070998900007  kfir:hasAuthorKeyword          reconstruction"
      ]
     },
     "execution_count": 76,
     "metadata": {},
     "output_type": "execute_result"
    }
   ],
   "source": [
    "eculture_query.send_select_query(query=\"\"\"\n",
    "    SELECT * {\n",
    "        GRAPH testGraph:{\n",
    "            ?s ?p ?o .\n",
    "        }\n",
    "    }\n",
    "    LIMIT 10\n",
    "\"\"\")"
   ]
  },
  {
   "cell_type": "markdown",
   "metadata": {},
   "source": [
    "Update testGraph with static, dummy triples:"
   ]
  },
  {
   "cell_type": "code",
   "execution_count": 77,
   "metadata": {},
   "outputs": [],
   "source": [
    "eculture_query.send_update_query(query=\"\"\"\n",
    "    INSERT DATA {\n",
    "        GRAPH testGraph: {\n",
    "            <a> <b> <c> .\n",
    "        }\n",
    "    }\n",
    "   \n",
    "\"\"\"\n",
    ")"
   ]
  },
  {
   "cell_type": "markdown",
   "metadata": {},
   "source": [
    "Check if triples are added:"
   ]
  },
  {
   "cell_type": "code",
   "execution_count": 78,
   "metadata": {},
   "outputs": [
    {
     "data": {
      "text/html": [
       "<div>\n",
       "<table border=\"1\" class=\"dataframe\">\n",
       "  <thead>\n",
       "    <tr style=\"text-align: right;\">\n",
       "      <th></th>\n",
       "      <th>s</th>\n",
       "      <th>p</th>\n",
       "      <th>o</th>\n",
       "    </tr>\n",
       "  </thead>\n",
       "  <tbody>\n",
       "    <tr>\n",
       "      <th>0</th>\n",
       "      <td>wosres:WOS_000070970500011</td>\n",
       "      <td>kfir:hasAuthorKeyword</td>\n",
       "      <td>photosynthesis</td>\n",
       "    </tr>\n",
       "    <tr>\n",
       "      <th>1</th>\n",
       "      <td>wosres:WOS_000070970500011</td>\n",
       "      <td>kfir:hasAuthorKeyword</td>\n",
       "      <td>ozone</td>\n",
       "    </tr>\n",
       "    <tr>\n",
       "      <th>2</th>\n",
       "      <td>wosres:WOS_000070970500011</td>\n",
       "      <td>kfir:hasAuthorKeyword</td>\n",
       "      <td>UV-B radiation</td>\n",
       "    </tr>\n",
       "    <tr>\n",
       "      <th>3</th>\n",
       "      <td>wosres:WOS_000070970500011</td>\n",
       "      <td>kfir:hasAuthorKeyword</td>\n",
       "      <td>growth</td>\n",
       "    </tr>\n",
       "    <tr>\n",
       "      <th>4</th>\n",
       "      <td>wosres:WOS_000070970500011</td>\n",
       "      <td>kfir:hasAuthorKeyword</td>\n",
       "      <td>Elymus athericus</td>\n",
       "    </tr>\n",
       "    <tr>\n",
       "      <th>5</th>\n",
       "      <td>wosres:WOS_000070998100010</td>\n",
       "      <td>kfir:hasAuthorKeyword</td>\n",
       "      <td>pain postoperative</td>\n",
       "    </tr>\n",
       "    <tr>\n",
       "      <th>6</th>\n",
       "      <td>wosres:WOS_000070998100010</td>\n",
       "      <td>kfir:hasAuthorKeyword</td>\n",
       "      <td>analgesics prescribing</td>\n",
       "    </tr>\n",
       "    <tr>\n",
       "      <th>7</th>\n",
       "      <td>wosres:WOS_000070998900007</td>\n",
       "      <td>kfir:hasAuthorKeyword</td>\n",
       "      <td>analysis</td>\n",
       "    </tr>\n",
       "    <tr>\n",
       "      <th>8</th>\n",
       "      <td>wosres:WOS_000070998900007</td>\n",
       "      <td>kfir:hasAuthorKeyword</td>\n",
       "      <td>living</td>\n",
       "    </tr>\n",
       "    <tr>\n",
       "      <th>9</th>\n",
       "      <td>wosres:WOS_000070998900007</td>\n",
       "      <td>kfir:hasAuthorKeyword</td>\n",
       "      <td>reconstruction</td>\n",
       "    </tr>\n",
       "  </tbody>\n",
       "</table>\n",
       "</div>"
      ],
      "text/plain": [
       "                            s                      p                       o\n",
       "0  wosres:WOS_000070970500011  kfir:hasAuthorKeyword          photosynthesis\n",
       "1  wosres:WOS_000070970500011  kfir:hasAuthorKeyword                   ozone\n",
       "2  wosres:WOS_000070970500011  kfir:hasAuthorKeyword          UV-B radiation\n",
       "3  wosres:WOS_000070970500011  kfir:hasAuthorKeyword                  growth\n",
       "4  wosres:WOS_000070970500011  kfir:hasAuthorKeyword        Elymus athericus\n",
       "5  wosres:WOS_000070998100010  kfir:hasAuthorKeyword      pain postoperative\n",
       "6  wosres:WOS_000070998100010  kfir:hasAuthorKeyword  analgesics prescribing\n",
       "7  wosres:WOS_000070998900007  kfir:hasAuthorKeyword                analysis\n",
       "8  wosres:WOS_000070998900007  kfir:hasAuthorKeyword                  living\n",
       "9  wosres:WOS_000070998900007  kfir:hasAuthorKeyword          reconstruction"
      ]
     },
     "execution_count": 78,
     "metadata": {},
     "output_type": "execute_result"
    }
   ],
   "source": [
    "eculture_query.send_select_query(query=\"\"\"\n",
    "    SELECT * {\n",
    "        GRAPH testGraph:{\n",
    "            ?s ?p ?o .\n",
    "        }\n",
    "    }\n",
    "    LIMIT 10\n",
    "\"\"\")"
   ]
  },
  {
   "cell_type": "markdown",
   "metadata": {},
   "source": [
    "Add entries dynamically to testGraph:"
   ]
  },
  {
   "cell_type": "code",
   "execution_count": 79,
   "metadata": {},
   "outputs": [],
   "source": [
    "eculture_query.send_update_query(\"\"\"\n",
    "    INSERT {\n",
    "        GRAPH testGraph: {\n",
    "            ?s a <match> .\n",
    "        }\n",
    "    }\n",
    "    WHERE {\n",
    "        GRAPH wosGraph: {\n",
    "            ?s a wos:Article .\n",
    "        }\n",
    "    \n",
    "    }   \n",
    "\"\"\"\n",
    ")"
   ]
  },
  {
   "cell_type": "markdown",
   "metadata": {},
   "source": [
    "View the updated testGraph:"
   ]
  },
  {
   "cell_type": "code",
   "execution_count": 80,
   "metadata": {},
   "outputs": [
    {
     "data": {
      "text/html": [
       "<div>\n",
       "<table border=\"1\" class=\"dataframe\">\n",
       "  <thead>\n",
       "    <tr style=\"text-align: right;\">\n",
       "      <th></th>\n",
       "      <th>s</th>\n",
       "      <th>p</th>\n",
       "      <th>o</th>\n",
       "    </tr>\n",
       "  </thead>\n",
       "  <tbody>\n",
       "    <tr>\n",
       "      <th>0</th>\n",
       "      <td>wosres:WOS_000060208200006</td>\n",
       "      <td>rdf:type</td>\n",
       "      <td>match</td>\n",
       "    </tr>\n",
       "    <tr>\n",
       "      <th>1</th>\n",
       "      <td>wosres:WOS_000070935900005</td>\n",
       "      <td>rdf:type</td>\n",
       "      <td>match</td>\n",
       "    </tr>\n",
       "    <tr>\n",
       "      <th>2</th>\n",
       "      <td>wosres:WOS_000070948900005</td>\n",
       "      <td>rdf:type</td>\n",
       "      <td>match</td>\n",
       "    </tr>\n",
       "    <tr>\n",
       "      <th>3</th>\n",
       "      <td>wosres:WOS_000070961600011</td>\n",
       "      <td>rdf:type</td>\n",
       "      <td>match</td>\n",
       "    </tr>\n",
       "    <tr>\n",
       "      <th>4</th>\n",
       "      <td>wosres:WOS_000070961600033</td>\n",
       "      <td>rdf:type</td>\n",
       "      <td>match</td>\n",
       "    </tr>\n",
       "    <tr>\n",
       "      <th>5</th>\n",
       "      <td>wosres:WOS_000070969600003</td>\n",
       "      <td>rdf:type</td>\n",
       "      <td>match</td>\n",
       "    </tr>\n",
       "    <tr>\n",
       "      <th>6</th>\n",
       "      <td>wosres:WOS_000070970500011</td>\n",
       "      <td>rdf:type</td>\n",
       "      <td>match</td>\n",
       "    </tr>\n",
       "    <tr>\n",
       "      <th>7</th>\n",
       "      <td>wosres:WOS_000070998100010</td>\n",
       "      <td>rdf:type</td>\n",
       "      <td>match</td>\n",
       "    </tr>\n",
       "    <tr>\n",
       "      <th>8</th>\n",
       "      <td>wosres:WOS_000070998900007</td>\n",
       "      <td>rdf:type</td>\n",
       "      <td>match</td>\n",
       "    </tr>\n",
       "    <tr>\n",
       "      <th>9</th>\n",
       "      <td>wosres:WOS_000071006900008</td>\n",
       "      <td>rdf:type</td>\n",
       "      <td>match</td>\n",
       "    </tr>\n",
       "  </tbody>\n",
       "</table>\n",
       "</div>"
      ],
      "text/plain": [
       "                            s         p      o\n",
       "0  wosres:WOS_000060208200006  rdf:type  match\n",
       "1  wosres:WOS_000070935900005  rdf:type  match\n",
       "2  wosres:WOS_000070948900005  rdf:type  match\n",
       "3  wosres:WOS_000070961600011  rdf:type  match\n",
       "4  wosres:WOS_000070961600033  rdf:type  match\n",
       "5  wosres:WOS_000070969600003  rdf:type  match\n",
       "6  wosres:WOS_000070970500011  rdf:type  match\n",
       "7  wosres:WOS_000070998100010  rdf:type  match\n",
       "8  wosres:WOS_000070998900007  rdf:type  match\n",
       "9  wosres:WOS_000071006900008  rdf:type  match"
      ]
     },
     "execution_count": 80,
     "metadata": {},
     "output_type": "execute_result"
    }
   ],
   "source": [
    "eculture_query.send_select_query(query=\"\"\"\n",
    "    SELECT * {\n",
    "        GRAPH testGraph:{\n",
    "            ?s ?p ?o .\n",
    "        }\n",
    "    }\n",
    "    LIMIT 10\n",
    "\"\"\")"
   ]
  },
  {
   "cell_type": "markdown",
   "metadata": {},
   "source": [
    "Delete all triples in the testGraph:"
   ]
  },
  {
   "cell_type": "code",
   "execution_count": 81,
   "metadata": {},
   "outputs": [],
   "source": [
    "# CLEAR GRAPH testGraph: causes timeout errors, hence the explicit style this query\n",
    "eculture_query.send_update_query(\"\"\"\n",
    "    DELETE {\n",
    "        GRAPH testGraph: {\n",
    "          ?s ?p ?o .\n",
    "        }\n",
    "    }\n",
    "    WHERE {\n",
    "        GRAPH testGraph: {\n",
    "            ?s ?p ?o .\n",
    "        }\n",
    "    }\n",
    "\"\"\"\n",
    ")"
   ]
  },
  {
   "cell_type": "markdown",
   "metadata": {},
   "source": [
    "Confirm deletions:"
   ]
  },
  {
   "cell_type": "code",
   "execution_count": null,
   "metadata": {},
   "outputs": [],
   "source": [
    "eculture_query.send_select_query(query=\"\"\"\n",
    "    SELECT * {\n",
    "        GRAPH testGraph:{\n",
    "            ?s ?p ?o .\n",
    "        }\n",
    "    }\n",
    " \n",
    "\"\"\")"
   ]
  }
 ],
 "metadata": {
  "kernelspec": {
   "display_name": "Python 3",
   "language": "python",
   "name": "python3"
  },
  "language_info": {
   "codemirror_mode": {
    "name": "ipython",
    "version": 3
   },
   "file_extension": ".py",
   "mimetype": "text/x-python",
   "name": "python",
   "nbconvert_exporter": "python",
   "pygments_lexer": "ipython3",
   "version": "3.6.5"
  }
 },
 "nbformat": 4,
 "nbformat_minor": 2
}
