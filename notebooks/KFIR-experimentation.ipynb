{
 "cells": [
  {
   "cell_type": "markdown",
   "metadata": {},
   "source": [
    "# KFIR EXPERIMENTATION"
   ]
  },
  {
   "cell_type": "markdown",
   "metadata": {},
   "source": [
    "## SETUP: DEPENDENCIES AND CREDENTIALS"
   ]
  },
  {
   "cell_type": "markdown",
   "metadata": {},
   "source": [
    "### Working Directory"
   ]
  },
  {
   "cell_type": "markdown",
   "metadata": {},
   "source": [
    "What is the current working directory?:"
   ]
  },
  {
   "cell_type": "code",
   "execution_count": 3,
   "metadata": {
    "scrolled": false
   },
   "outputs": [
    {
     "data": {
      "text/plain": [
       "'U:\\\\PortableApps\\\\WinPython-32bit-3.6.1.0Qt5\\\\notebooks\\\\KFIR\\\\notebooks'"
      ]
     },
     "execution_count": 3,
     "metadata": {},
     "output_type": "execute_result"
    }
   ],
   "source": [
    "import os\n",
    "os.getcwd()"
   ]
  },
  {
   "cell_type": "markdown",
   "metadata": {},
   "source": [
    "Add parent directory to path if necessary:"
   ]
  },
  {
   "cell_type": "code",
   "execution_count": 4,
   "metadata": {
    "scrolled": true
   },
   "outputs": [
    {
     "data": {
      "text/plain": [
       "['',\n",
       " 'U:\\\\PortableApps\\\\WinPython-32bit-3.6.1.0Qt5\\\\python-3.6.1\\\\python36.zip',\n",
       " 'U:\\\\PortableApps\\\\WinPython-32bit-3.6.1.0Qt5\\\\python-3.6.1\\\\DLLs',\n",
       " 'U:\\\\PortableApps\\\\WinPython-32bit-3.6.1.0Qt5\\\\python-3.6.1\\\\lib',\n",
       " 'U:\\\\PortableApps\\\\WinPython-32bit-3.6.1.0Qt5\\\\python-3.6.1',\n",
       " 'U:\\\\PortableApps\\\\WinPython-32bit-3.6.1.0Qt5\\\\python-3.6.1\\\\lib\\\\site-packages',\n",
       " 'U:\\\\PortableApps\\\\WinPython-32bit-3.6.1.0Qt5\\\\python-3.6.1\\\\lib\\\\site-packages\\\\win32',\n",
       " 'U:\\\\PortableApps\\\\WinPython-32bit-3.6.1.0Qt5\\\\python-3.6.1\\\\lib\\\\site-packages\\\\win32\\\\lib',\n",
       " 'U:\\\\PortableApps\\\\WinPython-32bit-3.6.1.0Qt5\\\\python-3.6.1\\\\lib\\\\site-packages\\\\Pythonwin',\n",
       " 'U:\\\\PortableApps\\\\WinPython-32bit-3.6.1.0Qt5\\\\python-3.6.1\\\\lib\\\\site-packages\\\\IPython\\\\extensions',\n",
       " 'U:\\\\PortableApps\\\\WinPython-32bit-3.6.1.0Qt5\\\\settings\\\\.ipython',\n",
       " 'U:\\\\PortableApps\\\\WinPython-32bit-3.6.1.0Qt5\\\\notebooks\\\\KFIR']"
      ]
     },
     "execution_count": 4,
     "metadata": {},
     "output_type": "execute_result"
    }
   ],
   "source": [
    "import sys, os, re\n",
    "\n",
    "working_directory = os.getcwd()\n",
    "if re.search('\\\\\\\\notebooks$', working_directory):\n",
    "    one_directory_up = re.sub('\\\\\\\\notebooks$', '', working_directory)\n",
    "    sys.path.append(one_directory_up)\n",
    "    \n",
    "sys.path"
   ]
  },
  {
   "cell_type": "markdown",
   "metadata": {},
   "source": [
    "### Plotly"
   ]
  },
  {
   "cell_type": "markdown",
   "metadata": {},
   "source": [
    "Read plotly credentials from file:"
   ]
  },
  {
   "cell_type": "code",
   "execution_count": 5,
   "metadata": {
    "collapsed": true
   },
   "outputs": [],
   "source": [
    "from preprocessor.Text_File import Text_File\n",
    "\n",
    "plotly_file = Text_File('..//private//plotly_credentials')\n",
    "plotly_file = plotly_file.return_content()\n",
    "plotly_credentials = plotly_file.splitlines()\n",
    "\n",
    "plotly_username = plotly_credentials[0]\n",
    "plotly_key = plotly_credentials[1]"
   ]
  },
  {
   "cell_type": "markdown",
   "metadata": {},
   "source": [
    "Import plotly:"
   ]
  },
  {
   "cell_type": "code",
   "execution_count": 6,
   "metadata": {
    "collapsed": true
   },
   "outputs": [],
   "source": [
    "import plotly.plotly as py\n",
    "from plotly.graph_objs import *\n",
    "from plotly.tools import set_credentials_file\n",
    "\n",
    "set_credentials_file(username=plotly_username, api_key=plotly_key)  # put your own plotly username and api key here "
   ]
  },
  {
   "cell_type": "markdown",
   "metadata": {},
   "source": [
    "### Gastrodon"
   ]
  },
  {
   "cell_type": "markdown",
   "metadata": {},
   "source": [
    "For usage examples of Gastrodon, see [example dbpedia notebook](https://github.com/paulhoule/gastrodon/blob/master/notebooks/remote/Querying%20DBpedia.ipynb)."
   ]
  },
  {
   "cell_type": "markdown",
   "metadata": {},
   "source": [
    "Import gastrodon (for running SPARQL queries in Jupyter):"
   ]
  },
  {
   "cell_type": "code",
   "execution_count": 7,
   "metadata": {
    "collapsed": true
   },
   "outputs": [],
   "source": [
    "from gastrodon import RemoteEndpoint,QName,ttl,URIRef,inline\n",
    "import pandas as pd\n",
    "pd.options.display.width=120\n",
    "pd.options.display.max_colwidth=100"
   ]
  },
  {
   "cell_type": "markdown",
   "metadata": {},
   "source": [
    "Define prefixes:"
   ]
  },
  {
   "cell_type": "code",
   "execution_count": 8,
   "metadata": {
    "collapsed": true
   },
   "outputs": [],
   "source": [
    "prefixes=inline(\"\"\"\n",
    "    @prefix wos: <http://wos.risis.eu/vocabulary/> .\n",
    "    @prefix kfir: <http://clokman.com/kfir/ontology#> .\n",
    "    @prefix ldr: <https://github.com/ali1k/ld-reactor/blob/master/vocabulary/index.ttl#> .\n",
    "    @prefix rdfs: <http://www.w3.org/2000/01/rdf-schema#> .\n",
    "    @prefix wosGraph: <http://clokman.com/wos> .\n",
    "    @prefix kfirGraph: <http://clokman.com/kfir> .\n",
    "    \n",
    "    @prefix dbo: <http://dbpedia.org/ontology/> .\n",
    "\"\"\").graph"
   ]
  },
  {
   "cell_type": "markdown",
   "metadata": {},
   "source": [
    "Read endpoint from file:"
   ]
  },
  {
   "cell_type": "code",
   "execution_count": 15,
   "metadata": {
    "collapsed": true
   },
   "outputs": [],
   "source": [
    "from preprocessor.Text_File import Text_File\n",
    "\n",
    "# Get endpoint address from file\n",
    "eculture_endpoint_url_file = Text_File('..//private//eculture_virtuoso_endpoint_address')\n",
    "eculture_endpoint_url = eculture_endpoint_url_file.return_content()"
   ]
  },
  {
   "cell_type": "markdown",
   "metadata": {},
   "source": [
    "Define endpoint:"
   ]
  },
  {
   "cell_type": "code",
   "execution_count": 16,
   "metadata": {
    "collapsed": true
   },
   "outputs": [],
   "source": [
    "eculture=RemoteEndpoint(\n",
    "    url=eculture_endpoint_url,\n",
    "    default_graph=None,\n",
    "    prefixes=prefixes\n",
    ")"
   ]
  },
  {
   "cell_type": "markdown",
   "metadata": {},
   "source": [
    "### Triplicator"
   ]
  },
  {
   "cell_type": "code",
   "execution_count": 11,
   "metadata": {},
   "outputs": [],
   "source": [
    "from retriever.sparql_tools import Sparql_Query"
   ]
  },
  {
   "cell_type": "code",
   "execution_count": 17,
   "metadata": {},
   "outputs": [
    {
     "data": {
      "text/plain": [
       "<retriever.sparql_tools.Sparql_Query at 0x2ceb630>"
      ]
     },
     "execution_count": 17,
     "metadata": {},
     "output_type": "execute_result"
    }
   ],
   "source": [
    "query = Sparql_Query()\n",
    "query.set_endpoint(eculture_endpoint_url)"
   ]
  },
  {
   "cell_type": "code",
   "execution_count": 20,
   "metadata": {
    "collapsed": true
   },
   "outputs": [],
   "source": [
    "eculture=RemoteEndpoint(\n",
    "    url=eculture_endpoint_url,\n",
    "    default_graph=None,\n",
    "    prefixes=prefixes,\n",
    ")"
   ]
  },
  {
   "cell_type": "markdown",
   "metadata": {},
   "source": [
    "## QUERIES"
   ]
  },
  {
   "cell_type": "code",
   "execution_count": 19,
   "metadata": {
    "scrolled": true
   },
   "outputs": [
    {
     "data": {
      "text/plain": [
       "{1: {'o': 'http://www.openlinksw.com/schemas/virtrdf#QuadMapFormat',\n",
       "  'p': 'http://www.w3.org/1999/02/22-rdf-syntax-ns#type',\n",
       "  's': 'http://www.openlinksw.com/virtrdf-data-formats#default-iid'},\n",
       " 2: {'o': 'http://www.openlinksw.com/schemas/virtrdf#QuadMapFormat',\n",
       "  'p': 'http://www.w3.org/1999/02/22-rdf-syntax-ns#type',\n",
       "  's': 'http://www.openlinksw.com/virtrdf-data-formats#default-iid-nullable'},\n",
       " 3: {'o': 'http://www.openlinksw.com/schemas/virtrdf#QuadMapFormat',\n",
       "  'p': 'http://www.w3.org/1999/02/22-rdf-syntax-ns#type',\n",
       "  's': 'http://www.openlinksw.com/virtrdf-data-formats#default-iid-nonblank'},\n",
       " 4: {'o': 'http://www.openlinksw.com/schemas/virtrdf#QuadMapFormat',\n",
       "  'p': 'http://www.w3.org/1999/02/22-rdf-syntax-ns#type',\n",
       "  's': 'http://www.openlinksw.com/virtrdf-data-formats#default-iid-nonblank-nullable'},\n",
       " 5: {'o': 'http://www.openlinksw.com/schemas/virtrdf#QuadMapFormat',\n",
       "  'p': 'http://www.w3.org/1999/02/22-rdf-syntax-ns#type',\n",
       "  's': 'http://www.openlinksw.com/virtrdf-data-formats#default'}}"
      ]
     },
     "execution_count": 19,
     "metadata": {},
     "output_type": "execute_result"
    }
   ],
   "source": [
    "query.set_query(\"SELECT ?s ?p ?o WHERE {?s ?p ?o} LIMIT 5\")\n",
    "query.retrieve_results_from_endpoint()"
   ]
  },
  {
   "cell_type": "code",
   "execution_count": 21,
   "metadata": {},
   "outputs": [
    {
     "data": {
      "text/plain": [
       "71636021"
      ]
     },
     "execution_count": 21,
     "metadata": {},
     "output_type": "execute_result"
    }
   ],
   "source": [
    "count=eculture.select(\"\"\"\n",
    "    SELECT (COUNT(*) AS ?count) { ?s ?p ?o .}\n",
    "\"\"\").at[0,\"count\"]\n",
    "count"
   ]
  },
  {
   "cell_type": "code",
   "execution_count": 22,
   "metadata": {},
   "outputs": [
    {
     "data": {
      "text/plain": [
       "136125"
      ]
     },
     "execution_count": 22,
     "metadata": {},
     "output_type": "execute_result"
    }
   ],
   "source": [
    "count=eculture.select(\"\"\"\n",
    "SELECT (COUNT(DISTINCT ?article) as ?articles) \n",
    "WHERE{\n",
    "    GRAPH wosGraph: {\n",
    "        ?article a wos:Article .\n",
    "    }\n",
    "}\n",
    "\"\"\").at[0,\"articles\"]\n",
    "count"
   ]
  },
  {
   "cell_type": "code",
   "execution_count": 26,
   "metadata": {},
   "outputs": [
    {
     "data": {
      "text/html": [
       "<div>\n",
       "<table border=\"1\" class=\"dataframe\">\n",
       "  <thead>\n",
       "    <tr style=\"text-align: right;\">\n",
       "      <th></th>\n",
       "      <th>count</th>\n",
       "    </tr>\n",
       "    <tr>\n",
       "      <th>p</th>\n",
       "      <th></th>\n",
       "    </tr>\n",
       "  </thead>\n",
       "  <tbody>\n",
       "    <tr>\n",
       "      <th>rdf:type</th>\n",
       "      <td>10059030</td>\n",
       "    </tr>\n",
       "    <tr>\n",
       "      <th>rdfs:label</th>\n",
       "      <td>9664925</td>\n",
       "    </tr>\n",
       "    <tr>\n",
       "      <th>wos:CR</th>\n",
       "      <td>6672631</td>\n",
       "    </tr>\n",
       "    <tr>\n",
       "      <th>kfir:hasCited</th>\n",
       "      <td>5221917</td>\n",
       "    </tr>\n",
       "    <tr>\n",
       "      <th>http://www.w3.org/2004/02/skos/core#altLabel</th>\n",
       "      <td>3876744</td>\n",
       "    </tr>\n",
       "    <tr>\n",
       "      <th>wos:AF</th>\n",
       "      <td>3876692</td>\n",
       "    </tr>\n",
       "    <tr>\n",
       "      <th>kfir:hasAuthor</th>\n",
       "      <td>3485320</td>\n",
       "    </tr>\n",
       "    <tr>\n",
       "      <th>wos:DOI</th>\n",
       "      <td>2317751</td>\n",
       "    </tr>\n",
       "    <tr>\n",
       "      <th>ldr:annotations</th>\n",
       "      <td>2181336</td>\n",
       "    </tr>\n",
       "    <tr>\n",
       "      <th>ldr:annotationDetail</th>\n",
       "      <td>2162839</td>\n",
       "    </tr>\n",
       "    <tr>\n",
       "      <th>ldr:uri</th>\n",
       "      <td>2162837</td>\n",
       "    </tr>\n",
       "    <tr>\n",
       "      <th>ldr:surfaceForm</th>\n",
       "      <td>2162835</td>\n",
       "    </tr>\n",
       "    <tr>\n",
       "      <th>ldr:offset</th>\n",
       "      <td>2162827</td>\n",
       "    </tr>\n",
       "    <tr>\n",
       "      <th>ldr:percentageOfSecondRank</th>\n",
       "      <td>2161951</td>\n",
       "    </tr>\n",
       "    <tr>\n",
       "      <th>ldr:similarityScore</th>\n",
       "      <td>2160825</td>\n",
       "    </tr>\n",
       "    <tr>\n",
       "      <th>wos:ID</th>\n",
       "      <td>1079567</td>\n",
       "    </tr>\n",
       "    <tr>\n",
       "      <th>kfir:hasTopicPlus</th>\n",
       "      <td>916109</td>\n",
       "    </tr>\n",
       "    <tr>\n",
       "      <th>wos:SC</th>\n",
       "      <td>297189</td>\n",
       "    </tr>\n",
       "    <tr>\n",
       "      <th>kfir:hasDOI</th>\n",
       "      <td>280686</td>\n",
       "    </tr>\n",
       "    <tr>\n",
       "      <th>wos:WC</th>\n",
       "      <td>211476</td>\n",
       "    </tr>\n",
       "    <tr>\n",
       "      <th>wos:DA</th>\n",
       "      <td>206779</td>\n",
       "    </tr>\n",
       "    <tr>\n",
       "      <th>kfir:hasSubjectCategory</th>\n",
       "      <td>204926</td>\n",
       "    </tr>\n",
       "    <tr>\n",
       "      <th>wos:U1</th>\n",
       "      <td>198532</td>\n",
       "    </tr>\n",
       "    <tr>\n",
       "      <th>wos:Z9</th>\n",
       "      <td>198526</td>\n",
       "    </tr>\n",
       "    <tr>\n",
       "      <th>wos:TC</th>\n",
       "      <td>198523</td>\n",
       "    </tr>\n",
       "    <tr>\n",
       "      <th>wos:U2</th>\n",
       "      <td>198508</td>\n",
       "    </tr>\n",
       "    <tr>\n",
       "      <th>wos:PU</th>\n",
       "      <td>198443</td>\n",
       "    </tr>\n",
       "    <tr>\n",
       "      <th>wos:PG</th>\n",
       "      <td>198442</td>\n",
       "    </tr>\n",
       "    <tr>\n",
       "      <th>wos:J9</th>\n",
       "      <td>198442</td>\n",
       "    </tr>\n",
       "    <tr>\n",
       "      <th>wos:affiliatedWith</th>\n",
       "      <td>198442</td>\n",
       "    </tr>\n",
       "    <tr>\n",
       "      <th>...</th>\n",
       "      <td>...</td>\n",
       "    </tr>\n",
       "    <tr>\n",
       "      <th>http://www.openlinksw.com/schemas/virtrdf#qmfExistingShortOfLongTmpl</th>\n",
       "      <td>2</td>\n",
       "    </tr>\n",
       "    <tr>\n",
       "      <th>http://www.openlinksw.com/schemas/virtrdf#qmfWrapDistinct</th>\n",
       "      <td>2</td>\n",
       "    </tr>\n",
       "    <tr>\n",
       "      <th>http://www.openlinksw.com/schemas/virtrdf#qmfSubFormatForRefs</th>\n",
       "      <td>2</td>\n",
       "    </tr>\n",
       "    <tr>\n",
       "      <th>http://www.openlinksw.com/schemas/virtrdf#qmObjectMap</th>\n",
       "      <td>2</td>\n",
       "    </tr>\n",
       "    <tr>\n",
       "      <th>http://www.openlinksw.com/schemas/virtrdf#qmMatchingFlags</th>\n",
       "      <td>2</td>\n",
       "    </tr>\n",
       "    <tr>\n",
       "      <th>http://www.openlinksw.com/schemas/virtrdf#qmvaTableName</th>\n",
       "      <td>2</td>\n",
       "    </tr>\n",
       "    <tr>\n",
       "      <th>http://www.openlinksw.com/schemas/virtrdf#qmvftAlias</th>\n",
       "      <td>2</td>\n",
       "    </tr>\n",
       "    <tr>\n",
       "      <th>http://www.openlinksw.com/schemas/virtrdf#qmvftConds</th>\n",
       "      <td>2</td>\n",
       "    </tr>\n",
       "    <tr>\n",
       "      <th>http://www.openlinksw.com/schemas/virtrdf#qmvftTableName</th>\n",
       "      <td>2</td>\n",
       "    </tr>\n",
       "    <tr>\n",
       "      <th>http://www.openlinksw.com/schemas/virtrdf#qsMatchingFlags</th>\n",
       "      <td>2</td>\n",
       "    </tr>\n",
       "    <tr>\n",
       "      <th>rdf:first</th>\n",
       "      <td>2</td>\n",
       "    </tr>\n",
       "    <tr>\n",
       "      <th>http://www.openlinksw.com/schemas/virtrdf#isGcResistantType</th>\n",
       "      <td>2</td>\n",
       "    </tr>\n",
       "    <tr>\n",
       "      <th>http://www.openlinksw.com/schemas/virtrdf#qmf01blankOfShortTmpl</th>\n",
       "      <td>2</td>\n",
       "    </tr>\n",
       "    <tr>\n",
       "      <th>http://www.openlinksw.com/schemas/virtrdf#qmfExistingShortOfTypedsqlvalTmpl</th>\n",
       "      <td>2</td>\n",
       "    </tr>\n",
       "    <tr>\n",
       "      <th>http://www.openlinksw.com/schemas/virtrdf#qmfExistingShortOfUriTmpl</th>\n",
       "      <td>2</td>\n",
       "    </tr>\n",
       "    <tr>\n",
       "      <th>http://www.openlinksw.com/schemas/virtrdf#qmfDatatypeTmpl</th>\n",
       "      <td>2</td>\n",
       "    </tr>\n",
       "    <tr>\n",
       "      <th>http://www.openlinksw.com/schemas/virtrdf#qmTableName</th>\n",
       "      <td>2</td>\n",
       "    </tr>\n",
       "    <tr>\n",
       "      <th>http://www.openlinksw.com/schemas/virtrdf#qmvFText</th>\n",
       "      <td>2</td>\n",
       "    </tr>\n",
       "    <tr>\n",
       "      <th>http://www.openlinksw.com/schemas/virtrdf#qmvGeo</th>\n",
       "      <td>2</td>\n",
       "    </tr>\n",
       "    <tr>\n",
       "      <th>http://www.openlinksw.com/schemas/virtrdf#qsDefaultMap</th>\n",
       "      <td>2</td>\n",
       "    </tr>\n",
       "    <tr>\n",
       "      <th>rdf:rest</th>\n",
       "      <td>2</td>\n",
       "    </tr>\n",
       "    <tr>\n",
       "      <th>http://www.openlinksw.com/schemas/virtrdf#version</th>\n",
       "      <td>1</td>\n",
       "    </tr>\n",
       "    <tr>\n",
       "      <th>http://www.openlinksw.com/schemas/virtrdf#qmfValRange-rvrLanguage</th>\n",
       "      <td>1</td>\n",
       "    </tr>\n",
       "    <tr>\n",
       "      <th>http://www.w3.org/2002/07/owl#unionOf</th>\n",
       "      <td>1</td>\n",
       "    </tr>\n",
       "    <tr>\n",
       "      <th>http://www.w3.org/2002/07/owl#imports</th>\n",
       "      <td>1</td>\n",
       "    </tr>\n",
       "    <tr>\n",
       "      <th>http://www.w3.org/ns/sparql-service-description#supportedLanguage</th>\n",
       "      <td>1</td>\n",
       "    </tr>\n",
       "    <tr>\n",
       "      <th>http://www.w3.org/ns/sparql-service-description#url</th>\n",
       "      <td>1</td>\n",
       "    </tr>\n",
       "    <tr>\n",
       "      <th>http://www.w3.org/2002/07/owl#versionInfo</th>\n",
       "      <td>1</td>\n",
       "    </tr>\n",
       "    <tr>\n",
       "      <th>http://www.w3.org/2002/07/owl#priorVersion</th>\n",
       "      <td>1</td>\n",
       "    </tr>\n",
       "    <tr>\n",
       "      <th>http://www.w3.org/ns/sparql-service-description#endpoint</th>\n",
       "      <td>1</td>\n",
       "    </tr>\n",
       "  </tbody>\n",
       "</table>\n",
       "<p>210 rows × 1 columns</p>\n",
       "</div>"
      ],
      "text/plain": [
       "                                                                                count\n",
       "p                                                                                    \n",
       "rdf:type                                                                     10059030\n",
       "rdfs:label                                                                    9664925\n",
       "wos:CR                                                                        6672631\n",
       "kfir:hasCited                                                                 5221917\n",
       "http://www.w3.org/2004/02/skos/core#altLabel                                  3876744\n",
       "wos:AF                                                                        3876692\n",
       "kfir:hasAuthor                                                                3485320\n",
       "wos:DOI                                                                       2317751\n",
       "ldr:annotations                                                               2181336\n",
       "ldr:annotationDetail                                                          2162839\n",
       "ldr:uri                                                                       2162837\n",
       "ldr:surfaceForm                                                               2162835\n",
       "ldr:offset                                                                    2162827\n",
       "ldr:percentageOfSecondRank                                                    2161951\n",
       "ldr:similarityScore                                                           2160825\n",
       "wos:ID                                                                        1079567\n",
       "kfir:hasTopicPlus                                                              916109\n",
       "wos:SC                                                                         297189\n",
       "kfir:hasDOI                                                                    280686\n",
       "wos:WC                                                                         211476\n",
       "wos:DA                                                                         206779\n",
       "kfir:hasSubjectCategory                                                        204926\n",
       "wos:U1                                                                         198532\n",
       "wos:Z9                                                                         198526\n",
       "wos:TC                                                                         198523\n",
       "wos:U2                                                                         198508\n",
       "wos:PU                                                                         198443\n",
       "wos:PG                                                                         198442\n",
       "wos:J9                                                                         198442\n",
       "wos:affiliatedWith                                                             198442\n",
       "...                                                                               ...\n",
       "http://www.openlinksw.com/schemas/virtrdf#qmfExistingShortOfLongTmpl                2\n",
       "http://www.openlinksw.com/schemas/virtrdf#qmfWrapDistinct                           2\n",
       "http://www.openlinksw.com/schemas/virtrdf#qmfSubFormatForRefs                       2\n",
       "http://www.openlinksw.com/schemas/virtrdf#qmObjectMap                               2\n",
       "http://www.openlinksw.com/schemas/virtrdf#qmMatchingFlags                           2\n",
       "http://www.openlinksw.com/schemas/virtrdf#qmvaTableName                             2\n",
       "http://www.openlinksw.com/schemas/virtrdf#qmvftAlias                                2\n",
       "http://www.openlinksw.com/schemas/virtrdf#qmvftConds                                2\n",
       "http://www.openlinksw.com/schemas/virtrdf#qmvftTableName                            2\n",
       "http://www.openlinksw.com/schemas/virtrdf#qsMatchingFlags                           2\n",
       "rdf:first                                                                           2\n",
       "http://www.openlinksw.com/schemas/virtrdf#isGcResistantType                         2\n",
       "http://www.openlinksw.com/schemas/virtrdf#qmf01blankOfShortTmpl                     2\n",
       "http://www.openlinksw.com/schemas/virtrdf#qmfExistingShortOfTypedsqlvalTmpl         2\n",
       "http://www.openlinksw.com/schemas/virtrdf#qmfExistingShortOfUriTmpl                 2\n",
       "http://www.openlinksw.com/schemas/virtrdf#qmfDatatypeTmpl                           2\n",
       "http://www.openlinksw.com/schemas/virtrdf#qmTableName                               2\n",
       "http://www.openlinksw.com/schemas/virtrdf#qmvFText                                  2\n",
       "http://www.openlinksw.com/schemas/virtrdf#qmvGeo                                    2\n",
       "http://www.openlinksw.com/schemas/virtrdf#qsDefaultMap                              2\n",
       "rdf:rest                                                                            2\n",
       "http://www.openlinksw.com/schemas/virtrdf#version                                   1\n",
       "http://www.openlinksw.com/schemas/virtrdf#qmfValRange-rvrLanguage                   1\n",
       "http://www.w3.org/2002/07/owl#unionOf                                               1\n",
       "http://www.w3.org/2002/07/owl#imports                                               1\n",
       "http://www.w3.org/ns/sparql-service-description#supportedLanguage                   1\n",
       "http://www.w3.org/ns/sparql-service-description#url                                 1\n",
       "http://www.w3.org/2002/07/owl#versionInfo                                           1\n",
       "http://www.w3.org/2002/07/owl#priorVersion                                          1\n",
       "http://www.w3.org/ns/sparql-service-description#endpoint                            1\n",
       "\n",
       "[210 rows x 1 columns]"
      ]
     },
     "execution_count": 26,
     "metadata": {},
     "output_type": "execute_result"
    }
   ],
   "source": [
    "from preprocessor.Text_File import Text_File\n",
    "\n",
    "# Get endpoint address from file\n",
    "eculture.select(\"\"\"\n",
    "    SELECT ?p (COUNT(*) AS ?count) { ?s ?p ?o .} GROUP BY ?p ORDER BY DESC(?count)\n",
    "\"\"\")"
   ]
  }
 ],
 "metadata": {
  "kernelspec": {
   "display_name": "Python 3",
   "language": "python",
   "name": "python3"
  },
  "language_info": {
   "codemirror_mode": {
    "name": "ipython",
    "version": 3
   },
   "file_extension": ".py",
   "mimetype": "text/x-python",
   "name": "python",
   "nbconvert_exporter": "python",
   "pygments_lexer": "ipython3",
   "version": "3.6.1"
  }
 },
 "nbformat": 4,
 "nbformat_minor": 2
}
